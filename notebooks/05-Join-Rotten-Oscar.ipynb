{
 "cells": [
  {
   "cell_type": "code",
   "execution_count": 24,
   "id": "55d833c7-ecb6-4fdf-b790-41b222536631",
   "metadata": {},
   "outputs": [],
   "source": [
    "import os\n",
    "import kaggle #conda install -c kaggle \n",
    "import pandas as pd\n",
    "import numpy as np\n",
    "import seaborn as sns\n",
    "import matplotlib.pyplot as plt\n",
    "import plotly.express as px\n",
    "import pickle\n",
    "\n",
    "%matplotlib inline"
   ]
  },
  {
   "cell_type": "code",
   "execution_count": 25,
   "id": "47c318e5-5fb3-43a1-ac34-a0cf6530d478",
   "metadata": {},
   "outputs": [
    {
     "data": {
      "text/plain": [
       "'/home/antero/Documentos/tcc/tratados'"
      ]
     },
     "execution_count": 25,
     "metadata": {},
     "output_type": "execute_result"
    }
   ],
   "source": [
    "os.chdir(\"../tratados\")\n",
    "os.getcwd()"
   ]
  },
  {
   "cell_type": "code",
   "execution_count": 26,
   "id": "d53ab978-07e9-4539-ac22-47f55bc2cde6",
   "metadata": {},
   "outputs": [],
   "source": [
    "with open('rotten.pkl', 'rb') as f:\n",
    "    df_rotten_tomatoes=pickle.load(f)"
   ]
  },
  {
   "cell_type": "code",
   "execution_count": 27,
   "id": "5f5799f8-753a-41c5-801e-7579e7c0c7da",
   "metadata": {},
   "outputs": [
    {
     "name": "stdout",
     "output_type": "stream",
     "text": [
      "<class 'pandas.core.frame.DataFrame'>\n",
      "Int64Index: 16370 entries, 0 to 17711\n",
      "Data columns (total 16 columns):\n",
      " #   Column                            Non-Null Count  Dtype  \n",
      "---  ------                            --------------  -----  \n",
      " 0   movie_title                       16370 non-null  object \n",
      " 1   content_rating                    16370 non-null  object \n",
      " 2   genres                            16363 non-null  object \n",
      " 3   directors                         16219 non-null  object \n",
      " 4   original_release_date             16370 non-null  object \n",
      " 5   production_company                16061 non-null  object \n",
      " 6   tomatometer_status                16370 non-null  object \n",
      " 7   tomatometer_rating                16370 non-null  float64\n",
      " 8   tomatometer_count                 16370 non-null  float64\n",
      " 9   audience_status                   16219 non-null  object \n",
      " 10  audience_rating                   16370 non-null  float64\n",
      " 11  audience_count                    16370 non-null  float64\n",
      " 12  tomatometer_top_critics_count     16370 non-null  int64  \n",
      " 13  tomatometer_fresh_critics_count   16370 non-null  int64  \n",
      " 14  tomatometer_rotten_critics_count  16370 non-null  int64  \n",
      " 15  year                              16370 non-null  int64  \n",
      "dtypes: float64(4), int64(4), object(8)\n",
      "memory usage: 2.1+ MB\n"
     ]
    }
   ],
   "source": [
    "df_rotten_tomatoes.info()"
   ]
  },
  {
   "cell_type": "code",
   "execution_count": 28,
   "id": "3d07aae3-b7b6-446f-a6b7-545ffba32f4e",
   "metadata": {},
   "outputs": [],
   "source": [
    "df_rotten_tomatoes.movie_title=df_rotten_tomatoes.movie_title.str.lower()"
   ]
  },
  {
   "cell_type": "code",
   "execution_count": 29,
   "id": "4d233015-9b4d-4184-afe2-4630cb88e5c7",
   "metadata": {},
   "outputs": [],
   "source": [
    "df_rotten_tomatoes.movie_title=df_rotten_tomatoes.movie_title.str.replace('&', 'and')"
   ]
  },
  {
   "cell_type": "code",
   "execution_count": 30,
   "id": "897c63c2-b1f2-4eab-85ee-0714c446eba5",
   "metadata": {},
   "outputs": [],
   "source": [
    "with open('oscar.pkl', 'rb') as f:\n",
    "    df_oscars=pickle.load(f)"
   ]
  },
  {
   "cell_type": "code",
   "execution_count": 31,
   "id": "6252a7f4-8a49-470c-bc9d-d3a4ab7ccae9",
   "metadata": {},
   "outputs": [
    {
     "name": "stdout",
     "output_type": "stream",
     "text": [
      "<class 'pandas.core.frame.DataFrame'>\n",
      "RangeIndex: 10395 entries, 0 to 10394\n",
      "Data columns (total 8 columns):\n",
      " #   Column         Non-Null Count  Dtype \n",
      "---  ------         --------------  ----- \n",
      " 0   year_film      10395 non-null  int64 \n",
      " 1   year_ceremony  10395 non-null  int64 \n",
      " 2   ceremony       10395 non-null  int64 \n",
      " 3   category       10395 non-null  object\n",
      " 4   name           10395 non-null  object\n",
      " 5   film           10091 non-null  object\n",
      " 6   winner         10395 non-null  bool  \n",
      " 7   nominee        10395 non-null  bool  \n",
      "dtypes: bool(2), int64(3), object(3)\n",
      "memory usage: 507.7+ KB\n"
     ]
    }
   ],
   "source": [
    "df_oscars.info()"
   ]
  },
  {
   "cell_type": "code",
   "execution_count": 32,
   "id": "c6518084-2810-4e5b-ac37-24cff65a6d1d",
   "metadata": {},
   "outputs": [],
   "source": [
    "df_oscars.film=df_oscars.film.str.lower()"
   ]
  },
  {
   "cell_type": "code",
   "execution_count": 33,
   "id": "2d50e915-a7b2-4f7d-9b10-994493aa4bb5",
   "metadata": {},
   "outputs": [],
   "source": [
    "df_oscars.film=df_oscars.film.str.replace('&', 'and')"
   ]
  },
  {
   "cell_type": "code",
   "execution_count": 34,
   "id": "c47c7f7a-c8fd-4c87-9e36-a59d43dd551e",
   "metadata": {},
   "outputs": [],
   "source": [
    "drop_cols=['year_ceremony', 'ceremony', 'category', 'name', 'winner']\n",
    "df_nominee=df_oscars.drop(columns=drop_cols)"
   ]
  },
  {
   "cell_type": "code",
   "execution_count": 35,
   "id": "042480bd-c95a-49b7-9382-4544d4c769b9",
   "metadata": {},
   "outputs": [
    {
     "data": {
      "text/plain": [
       "True    4833\n",
       "Name: nominee, dtype: int64"
      ]
     },
     "execution_count": 35,
     "metadata": {},
     "output_type": "execute_result"
    }
   ],
   "source": [
    "df_nominee = df_nominee.drop_duplicates(subset=['film','nominee'])\n",
    "df_nominee.nominee.value_counts()"
   ]
  },
  {
   "cell_type": "code",
   "execution_count": 36,
   "id": "2c8d138f-8e4d-4edf-92f6-b21faa4b9748",
   "metadata": {},
   "outputs": [
    {
     "name": "stdout",
     "output_type": "stream",
     "text": [
      "<class 'pandas.core.frame.DataFrame'>\n",
      "Int64Index: 4833 entries, 0 to 10386\n",
      "Data columns (total 3 columns):\n",
      " #   Column     Non-Null Count  Dtype \n",
      "---  ------     --------------  ----- \n",
      " 0   year_film  4833 non-null   int64 \n",
      " 1   film       4832 non-null   object\n",
      " 2   nominee    4833 non-null   bool  \n",
      "dtypes: bool(1), int64(1), object(1)\n",
      "memory usage: 118.0+ KB\n"
     ]
    }
   ],
   "source": [
    "df_nominee.info()"
   ]
  },
  {
   "cell_type": "code",
   "execution_count": 37,
   "id": "730b1be2-c5fb-44ab-b493-545b2bf2e50e",
   "metadata": {},
   "outputs": [
    {
     "data": {
      "text/plain": [
       "True    1274\n",
       "Name: winner, dtype: int64"
      ]
     },
     "execution_count": 37,
     "metadata": {},
     "output_type": "execute_result"
    }
   ],
   "source": [
    "drop_cols=['year_ceremony', 'ceremony', 'category', 'name', 'nominee']\n",
    "df_winner=df_oscars.drop(columns=drop_cols)\n",
    "\n",
    "df_winner = df_winner.drop_duplicates(subset=['film','winner'])\n",
    "df_winner=df_winner[df_winner.winner.isin([True])]\n",
    "df_winner.winner.value_counts()"
   ]
  },
  {
   "cell_type": "code",
   "execution_count": 38,
   "id": "43697aef-3672-4623-8127-e6dcf52f10a6",
   "metadata": {},
   "outputs": [
    {
     "name": "stdout",
     "output_type": "stream",
     "text": [
      "<class 'pandas.core.frame.DataFrame'>\n",
      "Int64Index: 1274 entries, 1 to 10382\n",
      "Data columns (total 3 columns):\n",
      " #   Column     Non-Null Count  Dtype \n",
      "---  ------     --------------  ----- \n",
      " 0   year_film  1274 non-null   int64 \n",
      " 1   film       1273 non-null   object\n",
      " 2   winner     1274 non-null   bool  \n",
      "dtypes: bool(1), int64(1), object(1)\n",
      "memory usage: 31.1+ KB\n"
     ]
    }
   ],
   "source": [
    "df_winner.info()"
   ]
  },
  {
   "cell_type": "code",
   "execution_count": 39,
   "id": "e7c1f955-da93-4971-ad71-cdb952bf2d96",
   "metadata": {},
   "outputs": [],
   "source": [
    "df_rotten_tomatoes_oscars = df_rotten_tomatoes.merge(df_nominee, left_on=['movie_title'],right_on=['film'], how='left')"
   ]
  },
  {
   "cell_type": "code",
   "execution_count": 40,
   "id": "e7aa4692-23ed-4726-9d4b-d04fa2435845",
   "metadata": {},
   "outputs": [
    {
     "name": "stdout",
     "output_type": "stream",
     "text": [
      "<class 'pandas.core.frame.DataFrame'>\n",
      "Int64Index: 16370 entries, 0 to 16369\n",
      "Data columns (total 19 columns):\n",
      " #   Column                            Non-Null Count  Dtype  \n",
      "---  ------                            --------------  -----  \n",
      " 0   movie_title                       16370 non-null  object \n",
      " 1   content_rating                    16370 non-null  object \n",
      " 2   genres                            16363 non-null  object \n",
      " 3   directors                         16219 non-null  object \n",
      " 4   original_release_date             16370 non-null  object \n",
      " 5   production_company                16061 non-null  object \n",
      " 6   tomatometer_status                16370 non-null  object \n",
      " 7   tomatometer_rating                16370 non-null  float64\n",
      " 8   tomatometer_count                 16370 non-null  float64\n",
      " 9   audience_status                   16219 non-null  object \n",
      " 10  audience_rating                   16370 non-null  float64\n",
      " 11  audience_count                    16370 non-null  float64\n",
      " 12  tomatometer_top_critics_count     16370 non-null  int64  \n",
      " 13  tomatometer_fresh_critics_count   16370 non-null  int64  \n",
      " 14  tomatometer_rotten_critics_count  16370 non-null  int64  \n",
      " 15  year                              16370 non-null  int64  \n",
      " 16  year_film                         2276 non-null   float64\n",
      " 17  film                              2276 non-null   object \n",
      " 18  nominee                           2276 non-null   object \n",
      "dtypes: float64(5), int64(4), object(10)\n",
      "memory usage: 2.5+ MB\n"
     ]
    }
   ],
   "source": [
    "df_rotten_tomatoes_oscars.info()"
   ]
  },
  {
   "cell_type": "code",
   "execution_count": 41,
   "id": "8fa35b19-dc72-48ab-938d-7d6a49a8cbca",
   "metadata": {},
   "outputs": [],
   "source": [
    "df_rotten_tomatoes_oscars = df_rotten_tomatoes_oscars.merge(df_winner, left_on=['movie_title'],right_on=['film'], how='left')"
   ]
  },
  {
   "cell_type": "code",
   "execution_count": 42,
   "id": "c351c786-cd6e-46e8-bdc6-346b3b4f8899",
   "metadata": {},
   "outputs": [
    {
     "name": "stdout",
     "output_type": "stream",
     "text": [
      "<class 'pandas.core.frame.DataFrame'>\n",
      "Int64Index: 16370 entries, 0 to 16369\n",
      "Data columns (total 22 columns):\n",
      " #   Column                            Non-Null Count  Dtype  \n",
      "---  ------                            --------------  -----  \n",
      " 0   movie_title                       16370 non-null  object \n",
      " 1   content_rating                    16370 non-null  object \n",
      " 2   genres                            16363 non-null  object \n",
      " 3   directors                         16219 non-null  object \n",
      " 4   original_release_date             16370 non-null  object \n",
      " 5   production_company                16061 non-null  object \n",
      " 6   tomatometer_status                16370 non-null  object \n",
      " 7   tomatometer_rating                16370 non-null  float64\n",
      " 8   tomatometer_count                 16370 non-null  float64\n",
      " 9   audience_status                   16219 non-null  object \n",
      " 10  audience_rating                   16370 non-null  float64\n",
      " 11  audience_count                    16370 non-null  float64\n",
      " 12  tomatometer_top_critics_count     16370 non-null  int64  \n",
      " 13  tomatometer_fresh_critics_count   16370 non-null  int64  \n",
      " 14  tomatometer_rotten_critics_count  16370 non-null  int64  \n",
      " 15  year                              16370 non-null  int64  \n",
      " 16  year_film_x                       2276 non-null   float64\n",
      " 17  film_x                            2276 non-null   object \n",
      " 18  nominee                           2276 non-null   object \n",
      " 19  year_film_y                       823 non-null    float64\n",
      " 20  film_y                            823 non-null    object \n",
      " 21  winner                            823 non-null    object \n",
      "dtypes: float64(6), int64(4), object(12)\n",
      "memory usage: 2.9+ MB\n"
     ]
    }
   ],
   "source": [
    "df_rotten_tomatoes_oscars.info()"
   ]
  },
  {
   "cell_type": "code",
   "execution_count": 48,
   "id": "3920b0a4-d902-4f99-a253-ecb1f3f75cbf",
   "metadata": {},
   "outputs": [],
   "source": [
    "drop_cols=['year_film_x','year_film_y','film_x','film_y' ]\n",
    "df_rotten_tomatoes_oscars=df_rotten_tomatoes_oscars.drop(columns=drop_cols)"
   ]
  },
  {
   "cell_type": "code",
   "execution_count": 49,
   "id": "fad8c4e8-b0ec-4ea6-b0fe-f23aa23f58fd",
   "metadata": {},
   "outputs": [],
   "source": [
    "df_rotten_tomatoes_oscars.loc[df_rotten_tomatoes_oscars['nominee'].isnull(),'nominee']=False"
   ]
  },
  {
   "cell_type": "code",
   "execution_count": 50,
   "id": "32324533-c57c-44ec-a4d4-5d9e5cecde1d",
   "metadata": {},
   "outputs": [],
   "source": [
    "df_rotten_tomatoes_oscars.loc[df_rotten_tomatoes_oscars['winner'].isnull(),'winner']=False"
   ]
  },
  {
   "cell_type": "code",
   "execution_count": 51,
   "id": "56f32727-5b16-4ed8-b818-9bbfbca684df",
   "metadata": {},
   "outputs": [
    {
     "name": "stdout",
     "output_type": "stream",
     "text": [
      "<class 'pandas.core.frame.DataFrame'>\n",
      "Int64Index: 16370 entries, 0 to 16369\n",
      "Data columns (total 18 columns):\n",
      " #   Column                            Non-Null Count  Dtype  \n",
      "---  ------                            --------------  -----  \n",
      " 0   movie_title                       16370 non-null  object \n",
      " 1   content_rating                    16370 non-null  object \n",
      " 2   genres                            16363 non-null  object \n",
      " 3   directors                         16219 non-null  object \n",
      " 4   original_release_date             16370 non-null  object \n",
      " 5   production_company                16061 non-null  object \n",
      " 6   tomatometer_status                16370 non-null  object \n",
      " 7   tomatometer_rating                16370 non-null  float64\n",
      " 8   tomatometer_count                 16370 non-null  float64\n",
      " 9   audience_status                   16219 non-null  object \n",
      " 10  audience_rating                   16370 non-null  float64\n",
      " 11  audience_count                    16370 non-null  float64\n",
      " 12  tomatometer_top_critics_count     16370 non-null  int64  \n",
      " 13  tomatometer_fresh_critics_count   16370 non-null  int64  \n",
      " 14  tomatometer_rotten_critics_count  16370 non-null  int64  \n",
      " 15  year                              16370 non-null  int64  \n",
      " 16  nominee                           16370 non-null  object \n",
      " 17  winner                            16370 non-null  object \n",
      "dtypes: float64(4), int64(4), object(10)\n",
      "memory usage: 2.4+ MB\n"
     ]
    }
   ],
   "source": [
    "df_rotten_tomatoes_oscars.info()"
   ]
  },
  {
   "cell_type": "code",
   "execution_count": 52,
   "id": "47a12713-fe6a-48f6-b761-f6efddc1ccee",
   "metadata": {},
   "outputs": [
    {
     "data": {
      "image/png": "[encoded data removed]",
      "text/plain": [
       "<Figure size 720x432 with 1 Axes>"
      ]
     },
     "metadata": {
      "needs_background": "light"
     },
     "output_type": "display_data"
    }
   ],
   "source": [
    "plt.figure(figsize=(10, 6))\n",
    "sns.heatmap(df_rotten_tomatoes_oscars.isnull(), yticklabels=False, cbar=False, cmap='viridis').set(title='Gráfico 5 - Mapa de calor de dados ausentes - Junção Rotten Tomatoes e Oscar');"
   ]
  },
  {
   "cell_type": "code",
   "execution_count": 54,
   "id": "ed89875f-31dc-479d-b765-481feda5ee8c",
   "metadata": {},
   "outputs": [],
   "source": [
    " with open('oscar_rotten.pkl', mode = 'wb') as f:\n",
    "  pickle.dump(df_rotten_tomatoes_oscars, f)"
   ]
  }
 ],
 "metadata": {
  "kernelspec": {
   "display_name": "Python 3 (ipykernel)",
   "language": "python",
   "name": "python3"
  },
  "language_info": {
   "codemirror_mode": {
    "name": "ipython",
    "version": 3
   },
   "file_extension": ".py",
   "mimetype": "text/x-python",
   "name": "python",
   "nbconvert_exporter": "python",
   "pygments_lexer": "ipython3",
   "version": "3.9.12"
  }
 },
 "nbformat": 4,
 "nbformat_minor": 5
}
