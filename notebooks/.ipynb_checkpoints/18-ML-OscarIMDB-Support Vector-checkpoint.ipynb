{
 "cells": [
  {
   "cell_type": "markdown",
   "id": "113f97ec-9562-4b1e-94ff-dd1714763a97",
   "metadata": {},
   "source": [
    "# Machine learning - Support Vector Classifier - Oscar Rotten"
   ]
  },
  {
   "cell_type": "code",
   "execution_count": 1,
   "id": "ae939f44-4082-47df-b930-65f2b16c43e0",
   "metadata": {},
   "outputs": [],
   "source": [
    "import os\n",
    "import pandas as pd\n",
    "import pickle\n",
    "\n",
    "from sklearn.preprocessing import StandardScaler\n",
    "from sklearn.preprocessing import LabelEncoder\n",
    "from sklearn.model_selection import GridSearchCV\n",
    "from sklearn.model_selection import train_test_split\n",
    "from sklearn.svm import SVC\n",
    "from sklearn.metrics import accuracy_score, confusion_matrix, classification_report\n",
    "from yellowbrick.classifier import ConfusionMatrix"
   ]
  },
  {
   "cell_type": "code",
   "execution_count": 2,
   "id": "50016d9a-39ba-4731-be05-f54a56871a6b",
   "metadata": {},
   "outputs": [
    {
     "data": {
      "text/plain": [
       "'/home/antero/Documentos/tcc/tratados'"
      ]
     },
     "execution_count": 2,
     "metadata": {},
     "output_type": "execute_result"
    }
   ],
   "source": [
    "os.chdir(\"../tratados\")\n",
    "os.getcwd()"
   ]
  },
  {
   "cell_type": "markdown",
   "id": "cc36d7b2-1a07-40a2-ba6b-9d3323f570fc",
   "metadata": {},
   "source": [
    "## Importando Dataframe"
   ]
  },
  {
   "cell_type": "code",
   "execution_count": 3,
   "id": "48f0d0dc-b076-47e2-aef8-87e3be182e69",
   "metadata": {},
   "outputs": [],
   "source": [
    "with open('oscar_imdb.pkl', 'rb') as f:\n",
    "    df_imdb_oscar=pickle.load(f)"
   ]
  },
  {
   "cell_type": "code",
   "execution_count": 4,
   "id": "0904b8d0-6737-43cf-8b56-c95566acea20",
   "metadata": {},
   "outputs": [
    {
     "name": "stdout",
     "output_type": "stream",
     "text": [
      "<class 'pandas.core.frame.DataFrame'>\n",
      "Int64Index: 444329 entries, 0 to 447056\n",
      "Data columns (total 9 columns):\n",
      " #   Column         Non-Null Count   Dtype  \n",
      "---  ------         --------------   -----  \n",
      " 0   titleType      444329 non-null  object \n",
      " 1   primaryTitle   444329 non-null  object \n",
      " 2   originalTitle  444329 non-null  object \n",
      " 3   startYear      444329 non-null  int64  \n",
      " 4   genres         432835 non-null  object \n",
      " 5   averageRating  444329 non-null  float64\n",
      " 6   numVotes       444329 non-null  int64  \n",
      " 7   nominee        444329 non-null  object \n",
      " 8   winner         444329 non-null  object \n",
      "dtypes: float64(1), int64(2), object(6)\n",
      "memory usage: 33.9+ MB\n"
     ]
    }
   ],
   "source": [
    "df_imdb_oscar.info()"
   ]
  },
  {
   "cell_type": "markdown",
   "id": "f8ce0c55-061c-437f-bc71-ccbac7c40f12",
   "metadata": {},
   "source": [
    "### Divisão entre previsores e classe"
   ]
  },
  {
   "cell_type": "code",
   "execution_count": 5,
   "id": "6e5d809a-6888-4026-a815-92371b3d0b5a",
   "metadata": {},
   "outputs": [],
   "source": [
    "X_imdb_oscar = df_imdb_oscar.iloc[:, 5:7]"
   ]
  },
  {
   "cell_type": "code",
   "execution_count": 6,
   "id": "8bde981f-ac21-498f-80f0-a70b9f28b118",
   "metadata": {},
   "outputs": [],
   "source": [
    "Y_imdb_oscar_nominee = df_imdb_oscar.iloc[:, 7]"
   ]
  },
  {
   "cell_type": "code",
   "execution_count": 7,
   "id": "5364b5aa-ea7f-4b8b-bf74-126d5f8930da",
   "metadata": {},
   "outputs": [],
   "source": [
    "Y_imdb_oscar_winner = df_imdb_oscar.iloc[:, 8]"
   ]
  },
  {
   "cell_type": "markdown",
   "id": "74d3fb1d-16d8-47ba-84b2-046910a1a1a6",
   "metadata": {},
   "source": [
    "### Escalonamento dos valores"
   ]
  },
  {
   "cell_type": "code",
   "execution_count": 8,
   "id": "332e966c-95f3-41e2-b12f-eb806bf0fcc1",
   "metadata": {
    "tags": []
   },
   "outputs": [],
   "source": [
    "scaler = StandardScaler()\n",
    "X_imdb_oscar = scaler.fit_transform(X_imdb_oscar)"
   ]
  },
  {
   "cell_type": "markdown",
   "id": "3a4bd6f4-164d-45ab-9d71-452fb03d3f4f",
   "metadata": {},
   "source": [
    "### Tratamento de atributos categóricos"
   ]
  },
  {
   "cell_type": "code",
   "execution_count": 9,
   "id": "830606ba-45c0-4c3c-8a1b-2ce32acb1d85",
   "metadata": {},
   "outputs": [],
   "source": [
    "label_encoder = LabelEncoder()\n",
    "Y_imdb_oscar_nominee = label_encoder.fit_transform(Y_imdb_oscar_nominee)\n",
    "Y_imdb_oscar_winner = label_encoder.fit_transform(Y_imdb_oscar_winner)"
   ]
  },
  {
   "cell_type": "markdown",
   "id": "15c53865-9235-41c7-aa8e-79aa30c1799d",
   "metadata": {},
   "source": [
    "### Regressão Logiositca Nominee"
   ]
  },
  {
   "cell_type": "markdown",
   "id": "95c1a6d5-a8d2-4f01-a407-3dfa5e91bf1f",
   "metadata": {},
   "source": [
    "### Tuning dos parâmetros com GridSearch"
   ]
  },
  {
   "cell_type": "code",
   "execution_count": 10,
   "id": "4e389f5b-4aa1-4ba3-8d53-1a05ae5d3022",
   "metadata": {},
   "outputs": [
    {
     "ename": "KeyboardInterrupt",
     "evalue": "",
     "output_type": "error",
     "traceback": [
      "\u001b[0;31m---------------------------------------------------------------------------\u001b[0m",
      "\u001b[0;31mKeyboardInterrupt\u001b[0m                         Traceback (most recent call last)",
      "Input \u001b[0;32mIn [10]\u001b[0m, in \u001b[0;36m<cell line: 3>\u001b[0;34m()\u001b[0m\n\u001b[1;32m      1\u001b[0m parametros \u001b[38;5;241m=\u001b[39m {\u001b[38;5;124m\"\u001b[39m\u001b[38;5;124mkernel\u001b[39m\u001b[38;5;124m\"\u001b[39m: [\u001b[38;5;124m'\u001b[39m\u001b[38;5;124mlinear\u001b[39m\u001b[38;5;124m'\u001b[39m, \u001b[38;5;124m'\u001b[39m\u001b[38;5;124mpoly\u001b[39m\u001b[38;5;124m'\u001b[39m, \u001b[38;5;124m'\u001b[39m\u001b[38;5;124mrbf\u001b[39m\u001b[38;5;124m'\u001b[39m, \u001b[38;5;124m'\u001b[39m\u001b[38;5;124msigmoid\u001b[39m\u001b[38;5;124m'\u001b[39m, \u001b[38;5;124m'\u001b[39m\u001b[38;5;124mprecomputed\u001b[39m\u001b[38;5;124m'\u001b[39m]}\n\u001b[1;32m      2\u001b[0m grid_search \u001b[38;5;241m=\u001b[39m GridSearchCV(estimator\u001b[38;5;241m=\u001b[39mSVC(), param_grid\u001b[38;5;241m=\u001b[39mparametros, n_jobs\u001b[38;5;241m=\u001b[39m\u001b[38;5;241m16\u001b[39m)\n\u001b[0;32m----> 3\u001b[0m \u001b[43mgrid_search\u001b[49m\u001b[38;5;241;43m.\u001b[39;49m\u001b[43mfit\u001b[49m\u001b[43m(\u001b[49m\u001b[43mX_imdb_oscar\u001b[49m\u001b[43m,\u001b[49m\u001b[43m \u001b[49m\u001b[43mY_imdb_oscar_nominee\u001b[49m\u001b[43m)\u001b[49m\n\u001b[1;32m      4\u001b[0m \u001b[38;5;28mprint\u001b[39m(melhores_parametros)\n\u001b[1;32m      5\u001b[0m \u001b[38;5;28mprint\u001b[39m(melhor_resultado)\n",
      "File \u001b[0;32m/opt/anaconda3/lib/python3.9/site-packages/sklearn/model_selection/_search.py:891\u001b[0m, in \u001b[0;36mBaseSearchCV.fit\u001b[0;34m(self, X, y, groups, **fit_params)\u001b[0m\n\u001b[1;32m    885\u001b[0m     results \u001b[38;5;241m=\u001b[39m \u001b[38;5;28mself\u001b[39m\u001b[38;5;241m.\u001b[39m_format_results(\n\u001b[1;32m    886\u001b[0m         all_candidate_params, n_splits, all_out, all_more_results\n\u001b[1;32m    887\u001b[0m     )\n\u001b[1;32m    889\u001b[0m     \u001b[38;5;28;01mreturn\u001b[39;00m results\n\u001b[0;32m--> 891\u001b[0m \u001b[38;5;28;43mself\u001b[39;49m\u001b[38;5;241;43m.\u001b[39;49m\u001b[43m_run_search\u001b[49m\u001b[43m(\u001b[49m\u001b[43mevaluate_candidates\u001b[49m\u001b[43m)\u001b[49m\n\u001b[1;32m    893\u001b[0m \u001b[38;5;66;03m# multimetric is determined here because in the case of a callable\u001b[39;00m\n\u001b[1;32m    894\u001b[0m \u001b[38;5;66;03m# self.scoring the return type is only known after calling\u001b[39;00m\n\u001b[1;32m    895\u001b[0m first_test_score \u001b[38;5;241m=\u001b[39m all_out[\u001b[38;5;241m0\u001b[39m][\u001b[38;5;124m\"\u001b[39m\u001b[38;5;124mtest_scores\u001b[39m\u001b[38;5;124m\"\u001b[39m]\n",
      "File \u001b[0;32m/opt/anaconda3/lib/python3.9/site-packages/sklearn/model_selection/_search.py:1392\u001b[0m, in \u001b[0;36mGridSearchCV._run_search\u001b[0;34m(self, evaluate_candidates)\u001b[0m\n\u001b[1;32m   1390\u001b[0m \u001b[38;5;28;01mdef\u001b[39;00m \u001b[38;5;21m_run_search\u001b[39m(\u001b[38;5;28mself\u001b[39m, evaluate_candidates):\n\u001b[1;32m   1391\u001b[0m     \u001b[38;5;124;03m\"\"\"Search all candidates in param_grid\"\"\"\u001b[39;00m\n\u001b[0;32m-> 1392\u001b[0m     \u001b[43mevaluate_candidates\u001b[49m\u001b[43m(\u001b[49m\u001b[43mParameterGrid\u001b[49m\u001b[43m(\u001b[49m\u001b[38;5;28;43mself\u001b[39;49m\u001b[38;5;241;43m.\u001b[39;49m\u001b[43mparam_grid\u001b[49m\u001b[43m)\u001b[49m\u001b[43m)\u001b[49m\n",
      "File \u001b[0;32m/opt/anaconda3/lib/python3.9/site-packages/sklearn/model_selection/_search.py:838\u001b[0m, in \u001b[0;36mBaseSearchCV.fit.<locals>.evaluate_candidates\u001b[0;34m(candidate_params, cv, more_results)\u001b[0m\n\u001b[1;32m    830\u001b[0m \u001b[38;5;28;01mif\u001b[39;00m \u001b[38;5;28mself\u001b[39m\u001b[38;5;241m.\u001b[39mverbose \u001b[38;5;241m>\u001b[39m \u001b[38;5;241m0\u001b[39m:\n\u001b[1;32m    831\u001b[0m     \u001b[38;5;28mprint\u001b[39m(\n\u001b[1;32m    832\u001b[0m         \u001b[38;5;124m\"\u001b[39m\u001b[38;5;124mFitting \u001b[39m\u001b[38;5;132;01m{0}\u001b[39;00m\u001b[38;5;124m folds for each of \u001b[39m\u001b[38;5;132;01m{1}\u001b[39;00m\u001b[38;5;124m candidates,\u001b[39m\u001b[38;5;124m\"\u001b[39m\n\u001b[1;32m    833\u001b[0m         \u001b[38;5;124m\"\u001b[39m\u001b[38;5;124m totalling \u001b[39m\u001b[38;5;132;01m{2}\u001b[39;00m\u001b[38;5;124m fits\u001b[39m\u001b[38;5;124m\"\u001b[39m\u001b[38;5;241m.\u001b[39mformat(\n\u001b[1;32m    834\u001b[0m             n_splits, n_candidates, n_candidates \u001b[38;5;241m*\u001b[39m n_splits\n\u001b[1;32m    835\u001b[0m         )\n\u001b[1;32m    836\u001b[0m     )\n\u001b[0;32m--> 838\u001b[0m out \u001b[38;5;241m=\u001b[39m \u001b[43mparallel\u001b[49m\u001b[43m(\u001b[49m\n\u001b[1;32m    839\u001b[0m \u001b[43m    \u001b[49m\u001b[43mdelayed\u001b[49m\u001b[43m(\u001b[49m\u001b[43m_fit_and_score\u001b[49m\u001b[43m)\u001b[49m\u001b[43m(\u001b[49m\n\u001b[1;32m    840\u001b[0m \u001b[43m        \u001b[49m\u001b[43mclone\u001b[49m\u001b[43m(\u001b[49m\u001b[43mbase_estimator\u001b[49m\u001b[43m)\u001b[49m\u001b[43m,\u001b[49m\n\u001b[1;32m    841\u001b[0m \u001b[43m        \u001b[49m\u001b[43mX\u001b[49m\u001b[43m,\u001b[49m\n\u001b[1;32m    842\u001b[0m \u001b[43m        \u001b[49m\u001b[43my\u001b[49m\u001b[43m,\u001b[49m\n\u001b[1;32m    843\u001b[0m \u001b[43m        \u001b[49m\u001b[43mtrain\u001b[49m\u001b[38;5;241;43m=\u001b[39;49m\u001b[43mtrain\u001b[49m\u001b[43m,\u001b[49m\n\u001b[1;32m    844\u001b[0m \u001b[43m        \u001b[49m\u001b[43mtest\u001b[49m\u001b[38;5;241;43m=\u001b[39;49m\u001b[43mtest\u001b[49m\u001b[43m,\u001b[49m\n\u001b[1;32m    845\u001b[0m \u001b[43m        \u001b[49m\u001b[43mparameters\u001b[49m\u001b[38;5;241;43m=\u001b[39;49m\u001b[43mparameters\u001b[49m\u001b[43m,\u001b[49m\n\u001b[1;32m    846\u001b[0m \u001b[43m        \u001b[49m\u001b[43msplit_progress\u001b[49m\u001b[38;5;241;43m=\u001b[39;49m\u001b[43m(\u001b[49m\u001b[43msplit_idx\u001b[49m\u001b[43m,\u001b[49m\u001b[43m \u001b[49m\u001b[43mn_splits\u001b[49m\u001b[43m)\u001b[49m\u001b[43m,\u001b[49m\n\u001b[1;32m    847\u001b[0m \u001b[43m        \u001b[49m\u001b[43mcandidate_progress\u001b[49m\u001b[38;5;241;43m=\u001b[39;49m\u001b[43m(\u001b[49m\u001b[43mcand_idx\u001b[49m\u001b[43m,\u001b[49m\u001b[43m \u001b[49m\u001b[43mn_candidates\u001b[49m\u001b[43m)\u001b[49m\u001b[43m,\u001b[49m\n\u001b[1;32m    848\u001b[0m \u001b[43m        \u001b[49m\u001b[38;5;241;43m*\u001b[39;49m\u001b[38;5;241;43m*\u001b[39;49m\u001b[43mfit_and_score_kwargs\u001b[49m\u001b[43m,\u001b[49m\n\u001b[1;32m    849\u001b[0m \u001b[43m    \u001b[49m\u001b[43m)\u001b[49m\n\u001b[1;32m    850\u001b[0m \u001b[43m    \u001b[49m\u001b[38;5;28;43;01mfor\u001b[39;49;00m\u001b[43m \u001b[49m\u001b[43m(\u001b[49m\u001b[43mcand_idx\u001b[49m\u001b[43m,\u001b[49m\u001b[43m \u001b[49m\u001b[43mparameters\u001b[49m\u001b[43m)\u001b[49m\u001b[43m,\u001b[49m\u001b[43m \u001b[49m\u001b[43m(\u001b[49m\u001b[43msplit_idx\u001b[49m\u001b[43m,\u001b[49m\u001b[43m \u001b[49m\u001b[43m(\u001b[49m\u001b[43mtrain\u001b[49m\u001b[43m,\u001b[49m\u001b[43m \u001b[49m\u001b[43mtest\u001b[49m\u001b[43m)\u001b[49m\u001b[43m)\u001b[49m\u001b[43m \u001b[49m\u001b[38;5;129;43;01min\u001b[39;49;00m\u001b[43m \u001b[49m\u001b[43mproduct\u001b[49m\u001b[43m(\u001b[49m\n\u001b[1;32m    851\u001b[0m \u001b[43m        \u001b[49m\u001b[38;5;28;43menumerate\u001b[39;49m\u001b[43m(\u001b[49m\u001b[43mcandidate_params\u001b[49m\u001b[43m)\u001b[49m\u001b[43m,\u001b[49m\u001b[43m \u001b[49m\u001b[38;5;28;43menumerate\u001b[39;49m\u001b[43m(\u001b[49m\u001b[43mcv\u001b[49m\u001b[38;5;241;43m.\u001b[39;49m\u001b[43msplit\u001b[49m\u001b[43m(\u001b[49m\u001b[43mX\u001b[49m\u001b[43m,\u001b[49m\u001b[43m \u001b[49m\u001b[43my\u001b[49m\u001b[43m,\u001b[49m\u001b[43m \u001b[49m\u001b[43mgroups\u001b[49m\u001b[43m)\u001b[49m\u001b[43m)\u001b[49m\n\u001b[1;32m    852\u001b[0m \u001b[43m    \u001b[49m\u001b[43m)\u001b[49m\n\u001b[1;32m    853\u001b[0m \u001b[43m\u001b[49m\u001b[43m)\u001b[49m\n\u001b[1;32m    855\u001b[0m \u001b[38;5;28;01mif\u001b[39;00m \u001b[38;5;28mlen\u001b[39m(out) \u001b[38;5;241m<\u001b[39m \u001b[38;5;241m1\u001b[39m:\n\u001b[1;32m    856\u001b[0m     \u001b[38;5;28;01mraise\u001b[39;00m \u001b[38;5;167;01mValueError\u001b[39;00m(\n\u001b[1;32m    857\u001b[0m         \u001b[38;5;124m\"\u001b[39m\u001b[38;5;124mNo fits were performed. \u001b[39m\u001b[38;5;124m\"\u001b[39m\n\u001b[1;32m    858\u001b[0m         \u001b[38;5;124m\"\u001b[39m\u001b[38;5;124mWas the CV iterator empty? \u001b[39m\u001b[38;5;124m\"\u001b[39m\n\u001b[1;32m    859\u001b[0m         \u001b[38;5;124m\"\u001b[39m\u001b[38;5;124mWere there no candidates?\u001b[39m\u001b[38;5;124m\"\u001b[39m\n\u001b[1;32m    860\u001b[0m     )\n",
      "File \u001b[0;32m/opt/anaconda3/lib/python3.9/site-packages/joblib/parallel.py:1056\u001b[0m, in \u001b[0;36mParallel.__call__\u001b[0;34m(self, iterable)\u001b[0m\n\u001b[1;32m   1053\u001b[0m     \u001b[38;5;28mself\u001b[39m\u001b[38;5;241m.\u001b[39m_iterating \u001b[38;5;241m=\u001b[39m \u001b[38;5;28;01mFalse\u001b[39;00m\n\u001b[1;32m   1055\u001b[0m \u001b[38;5;28;01mwith\u001b[39;00m \u001b[38;5;28mself\u001b[39m\u001b[38;5;241m.\u001b[39m_backend\u001b[38;5;241m.\u001b[39mretrieval_context():\n\u001b[0;32m-> 1056\u001b[0m     \u001b[38;5;28;43mself\u001b[39;49m\u001b[38;5;241;43m.\u001b[39;49m\u001b[43mretrieve\u001b[49m\u001b[43m(\u001b[49m\u001b[43m)\u001b[49m\n\u001b[1;32m   1057\u001b[0m \u001b[38;5;66;03m# Make sure that we get a last message telling us we are done\u001b[39;00m\n\u001b[1;32m   1058\u001b[0m elapsed_time \u001b[38;5;241m=\u001b[39m time\u001b[38;5;241m.\u001b[39mtime() \u001b[38;5;241m-\u001b[39m \u001b[38;5;28mself\u001b[39m\u001b[38;5;241m.\u001b[39m_start_time\n",
      "File \u001b[0;32m/opt/anaconda3/lib/python3.9/site-packages/joblib/parallel.py:935\u001b[0m, in \u001b[0;36mParallel.retrieve\u001b[0;34m(self)\u001b[0m\n\u001b[1;32m    933\u001b[0m \u001b[38;5;28;01mtry\u001b[39;00m:\n\u001b[1;32m    934\u001b[0m     \u001b[38;5;28;01mif\u001b[39;00m \u001b[38;5;28mgetattr\u001b[39m(\u001b[38;5;28mself\u001b[39m\u001b[38;5;241m.\u001b[39m_backend, \u001b[38;5;124m'\u001b[39m\u001b[38;5;124msupports_timeout\u001b[39m\u001b[38;5;124m'\u001b[39m, \u001b[38;5;28;01mFalse\u001b[39;00m):\n\u001b[0;32m--> 935\u001b[0m         \u001b[38;5;28mself\u001b[39m\u001b[38;5;241m.\u001b[39m_output\u001b[38;5;241m.\u001b[39mextend(\u001b[43mjob\u001b[49m\u001b[38;5;241;43m.\u001b[39;49m\u001b[43mget\u001b[49m\u001b[43m(\u001b[49m\u001b[43mtimeout\u001b[49m\u001b[38;5;241;43m=\u001b[39;49m\u001b[38;5;28;43mself\u001b[39;49m\u001b[38;5;241;43m.\u001b[39;49m\u001b[43mtimeout\u001b[49m\u001b[43m)\u001b[49m)\n\u001b[1;32m    936\u001b[0m     \u001b[38;5;28;01melse\u001b[39;00m:\n\u001b[1;32m    937\u001b[0m         \u001b[38;5;28mself\u001b[39m\u001b[38;5;241m.\u001b[39m_output\u001b[38;5;241m.\u001b[39mextend(job\u001b[38;5;241m.\u001b[39mget())\n",
      "File \u001b[0;32m/opt/anaconda3/lib/python3.9/site-packages/joblib/_parallel_backends.py:542\u001b[0m, in \u001b[0;36mLokyBackend.wrap_future_result\u001b[0;34m(future, timeout)\u001b[0m\n\u001b[1;32m    539\u001b[0m \u001b[38;5;124;03m\"\"\"Wrapper for Future.result to implement the same behaviour as\u001b[39;00m\n\u001b[1;32m    540\u001b[0m \u001b[38;5;124;03mAsyncResults.get from multiprocessing.\"\"\"\u001b[39;00m\n\u001b[1;32m    541\u001b[0m \u001b[38;5;28;01mtry\u001b[39;00m:\n\u001b[0;32m--> 542\u001b[0m     \u001b[38;5;28;01mreturn\u001b[39;00m \u001b[43mfuture\u001b[49m\u001b[38;5;241;43m.\u001b[39;49m\u001b[43mresult\u001b[49m\u001b[43m(\u001b[49m\u001b[43mtimeout\u001b[49m\u001b[38;5;241;43m=\u001b[39;49m\u001b[43mtimeout\u001b[49m\u001b[43m)\u001b[49m\n\u001b[1;32m    543\u001b[0m \u001b[38;5;28;01mexcept\u001b[39;00m CfTimeoutError \u001b[38;5;28;01mas\u001b[39;00m e:\n\u001b[1;32m    544\u001b[0m     \u001b[38;5;28;01mraise\u001b[39;00m \u001b[38;5;167;01mTimeoutError\u001b[39;00m \u001b[38;5;28;01mfrom\u001b[39;00m \u001b[38;5;21;01me\u001b[39;00m\n",
      "File \u001b[0;32m/opt/anaconda3/lib/python3.9/concurrent/futures/_base.py:441\u001b[0m, in \u001b[0;36mFuture.result\u001b[0;34m(self, timeout)\u001b[0m\n\u001b[1;32m    438\u001b[0m \u001b[38;5;28;01melif\u001b[39;00m \u001b[38;5;28mself\u001b[39m\u001b[38;5;241m.\u001b[39m_state \u001b[38;5;241m==\u001b[39m FINISHED:\n\u001b[1;32m    439\u001b[0m     \u001b[38;5;28;01mreturn\u001b[39;00m \u001b[38;5;28mself\u001b[39m\u001b[38;5;241m.\u001b[39m__get_result()\n\u001b[0;32m--> 441\u001b[0m \u001b[38;5;28;43mself\u001b[39;49m\u001b[38;5;241;43m.\u001b[39;49m\u001b[43m_condition\u001b[49m\u001b[38;5;241;43m.\u001b[39;49m\u001b[43mwait\u001b[49m\u001b[43m(\u001b[49m\u001b[43mtimeout\u001b[49m\u001b[43m)\u001b[49m\n\u001b[1;32m    443\u001b[0m \u001b[38;5;28;01mif\u001b[39;00m \u001b[38;5;28mself\u001b[39m\u001b[38;5;241m.\u001b[39m_state \u001b[38;5;129;01min\u001b[39;00m [CANCELLED, CANCELLED_AND_NOTIFIED]:\n\u001b[1;32m    444\u001b[0m     \u001b[38;5;28;01mraise\u001b[39;00m CancelledError()\n",
      "File \u001b[0;32m/opt/anaconda3/lib/python3.9/threading.py:312\u001b[0m, in \u001b[0;36mCondition.wait\u001b[0;34m(self, timeout)\u001b[0m\n\u001b[1;32m    310\u001b[0m \u001b[38;5;28;01mtry\u001b[39;00m:    \u001b[38;5;66;03m# restore state no matter what (e.g., KeyboardInterrupt)\u001b[39;00m\n\u001b[1;32m    311\u001b[0m     \u001b[38;5;28;01mif\u001b[39;00m timeout \u001b[38;5;129;01mis\u001b[39;00m \u001b[38;5;28;01mNone\u001b[39;00m:\n\u001b[0;32m--> 312\u001b[0m         \u001b[43mwaiter\u001b[49m\u001b[38;5;241;43m.\u001b[39;49m\u001b[43macquire\u001b[49m\u001b[43m(\u001b[49m\u001b[43m)\u001b[49m\n\u001b[1;32m    313\u001b[0m         gotit \u001b[38;5;241m=\u001b[39m \u001b[38;5;28;01mTrue\u001b[39;00m\n\u001b[1;32m    314\u001b[0m     \u001b[38;5;28;01melse\u001b[39;00m:\n",
      "\u001b[0;31mKeyboardInterrupt\u001b[0m: "
     ]
    }
   ],
   "source": [
    "parametros = {\"kernel\": ['linear', 'poly', 'rbf', 'sigmoid', 'precomputed']}\n",
    "grid_search = GridSearchCV(estimator=SVC(), param_grid=parametros, n_jobs=16)\n",
    "grid_search.fit(X_imdb_oscar, Y_imdb_oscar_nominee)\n",
    "print(melhores_parametros)\n",
    "print(melhor_resultado)"
   ]
  },
  {
   "cell_type": "markdown",
   "id": "e00ea3f9-4976-4a2c-9fac-d2deabf55a0a",
   "metadata": {},
   "source": [
    "#### Divisão Treinamento e Teste"
   ]
  },
  {
   "cell_type": "code",
   "execution_count": 10,
   "id": "0d4fff03-2fd5-484c-996d-0465e615d4f9",
   "metadata": {},
   "outputs": [],
   "source": [
    "X_imdb_oscar_treinamento, X_imdb_oscar_teste, Y_imdb_oscar_nominee_treinamento, Y_imdb_oscar_nominee_teste = train_test_split(X_imdb_oscar, Y_imdb_oscar_nominee,test_size = 0.25, random_state = 0)"
   ]
  },
  {
   "cell_type": "markdown",
   "id": "431e62b3-42a8-4970-9da5-2835c6be9f1d",
   "metadata": {},
   "source": [
    "#### Previsões "
   ]
  },
  {
   "cell_type": "code",
   "execution_count": 11,
   "id": "ef307ff9-7edc-4e67-979d-cf948c86f3fd",
   "metadata": {},
   "outputs": [],
   "source": [
    "svc_imdb_oscar_nominee = SVC(kernel='linear')\n",
    "svc_imdb_oscar_nominee.fit(X_imdb_oscar_treinamento,Y_imdb_oscar_nominee_treinamento);\n",
    "previsoes_nominee = svc_imdb_oscar_nominee.predict(X_imdb_oscar_teste)"
   ]
  },
  {
   "cell_type": "markdown",
   "id": "6c3e0893-e546-4b38-9522-8d986acfce0a",
   "metadata": {},
   "source": [
    "#### Acurácia"
   ]
  },
  {
   "cell_type": "code",
   "execution_count": 12,
   "id": "c4d6c878-8b48-40c0-a03e-13df9c620527",
   "metadata": {},
   "outputs": [
    {
     "data": {
      "text/plain": [
       "0.9913308066940936"
      ]
     },
     "execution_count": 12,
     "metadata": {},
     "output_type": "execute_result"
    }
   ],
   "source": [
    "accuracy_score(Y_imdb_oscar_nominee_teste, previsoes_nominee)"
   ]
  },
  {
   "cell_type": "markdown",
   "id": "d08cbebc-2a16-4c7d-bca1-94a84f20cade",
   "metadata": {},
   "source": [
    "#### Matriz de Confusão "
   ]
  },
  {
   "cell_type": "code",
   "execution_count": 13,
   "id": "887e2e3b-ee2a-4d69-809e-5162eddca27d",
   "metadata": {},
   "outputs": [
    {
     "data": {
      "text/plain": [
       "array([[110120,      0],\n",
       "       [   963,      0]])"
      ]
     },
     "execution_count": 13,
     "metadata": {},
     "output_type": "execute_result"
    }
   ],
   "source": [
    "confusion_matrix(Y_imdb_oscar_nominee_teste, previsoes_nominee)"
   ]
  },
  {
   "cell_type": "code",
   "execution_count": 14,
   "id": "bd700121-e0e9-43cc-8131-4f1a160284cb",
   "metadata": {},
   "outputs": [
    {
     "data": {
      "image/png": "[encoded data removed]",
      "text/plain": [
       "<Figure size 576x396 with 1 Axes>"
      ]
     },
     "metadata": {},
     "output_type": "display_data"
    },
    {
     "data": {
      "text/plain": [
       "<AxesSubplot:title={'center':'SVC Confusion Matrix'}, xlabel='Predicted Class', ylabel='True Class'>"
      ]
     },
     "execution_count": 14,
     "metadata": {},
     "output_type": "execute_result"
    }
   ],
   "source": [
    "cm_nominee = ConfusionMatrix(svc_imdb_oscar_nominee)\n",
    "cm_nominee.fit(X_imdb_oscar_treinamento,Y_imdb_oscar_nominee_treinamento)\n",
    "cm_nominee.score(X_imdb_oscar_teste, Y_imdb_oscar_nominee_teste)\n",
    "cm_nominee.show()"
   ]
  },
  {
   "cell_type": "markdown",
   "id": "12cc1107-273f-409a-827c-748b782a9767",
   "metadata": {},
   "source": [
    "#### Claissification Report"
   ]
  },
  {
   "cell_type": "code",
   "execution_count": null,
   "id": "664eef37-2979-48aa-afae-381d6e5e8b7a",
   "metadata": {},
   "outputs": [],
   "source": [
    "print(classification_report(Y_imdb_oscar_nominee_teste, previsoes_nominee))"
   ]
  },
  {
   "cell_type": "markdown",
   "id": "a832dc08-b220-457e-8ba2-52c86afd4a1f",
   "metadata": {},
   "source": [
    "### Regressão Logiositca Winner"
   ]
  },
  {
   "cell_type": "markdown",
   "id": "998f7b7f-425d-4378-a6f4-51487f20d466",
   "metadata": {},
   "source": [
    "### Tuning dos parâmetros com GridSearch"
   ]
  },
  {
   "cell_type": "code",
   "execution_count": null,
   "id": "5c5229c7-7560-494a-b8af-e2b6d510f14c",
   "metadata": {},
   "outputs": [],
   "source": [
    "parametros = {\"kernel\": ['linear', 'poly', 'rbf', 'sigmoid', 'precomputed']}\n",
    "grid_search = GridSearchCV(estimator=SVC(), param_grid=parametros)\n",
    "grid_search.fit(X_imdb_oscar, Y_imdb_oscar_winner)\n",
    "melhores_parametros = grid_search.best_params_\n",
    "melhor_resultado = grid_search.best_score_\n",
    "print(melhores_parametros)\n",
    "print(melhor_resultado)"
   ]
  },
  {
   "cell_type": "markdown",
   "id": "9c6f2ba0-5b44-426b-87b2-2a4580794eac",
   "metadata": {},
   "source": [
    "#### Divisão Treinamento e Teste"
   ]
  },
  {
   "cell_type": "code",
   "execution_count": 15,
   "id": "bc778384-72a7-4ba9-b344-db0cc41fae40",
   "metadata": {},
   "outputs": [],
   "source": [
    "X_imdb_oscar_treinamento, X_imdb_oscar_teste, Y_imdb_oscar_winner_treinamento, Y_imdb_oscar_winner_teste = train_test_split(X_imdb_oscar, Y_imdb_oscar_winner,test_size = 0.25, random_state = 0)"
   ]
  },
  {
   "cell_type": "markdown",
   "id": "c3a49306-be94-4cd2-a3ce-e7a9b0b15792",
   "metadata": {},
   "source": [
    "#### Previsões "
   ]
  },
  {
   "cell_type": "code",
   "execution_count": 17,
   "id": "a01585b1-b36e-4ff5-9c15-6ff13e769839",
   "metadata": {},
   "outputs": [],
   "source": [
    "svc_imdb_oscar_winner = SVC(kernel='linear')\n",
    "svc_imdb_oscar_winner.fit(X_imdb_oscar_treinamento,Y_imdb_oscar_winner_treinamento);\n",
    "previsoes_winner = svc_imdb_oscar_winner.predict(X_imdb_oscar_teste)"
   ]
  },
  {
   "cell_type": "markdown",
   "id": "33bab03c-f404-4a76-b440-5e3e0a9f9593",
   "metadata": {},
   "source": [
    "#### Acurácia"
   ]
  },
  {
   "cell_type": "code",
   "execution_count": 18,
   "id": "8853cba7-cecb-4172-93b6-d13ee087bbc1",
   "metadata": {},
   "outputs": [
    {
     "data": {
      "text/plain": [
       "0.9974253486131991"
      ]
     },
     "execution_count": 18,
     "metadata": {},
     "output_type": "execute_result"
    }
   ],
   "source": [
    "accuracy_score(Y_imdb_oscar_winner_teste, previsoes_winner)"
   ]
  },
  {
   "cell_type": "markdown",
   "id": "f3d07188-ea1b-4813-bd37-2e0aea6c0445",
   "metadata": {},
   "source": [
    "#### Matriz de Confusão"
   ]
  },
  {
   "cell_type": "code",
   "execution_count": 19,
   "id": "09d19484-cbd8-41ea-a29c-5cae1e3648f4",
   "metadata": {},
   "outputs": [
    {
     "data": {
      "text/plain": [
       "array([[110797,      0],\n",
       "       [   286,      0]])"
      ]
     },
     "execution_count": 19,
     "metadata": {},
     "output_type": "execute_result"
    }
   ],
   "source": [
    "confusion_matrix(Y_imdb_oscar_winner_teste, previsoes_winner)"
   ]
  },
  {
   "cell_type": "code",
   "execution_count": 20,
   "id": "9a5df622-5639-4f91-9811-918dadc7dc6b",
   "metadata": {},
   "outputs": [
    {
     "data": {
      "image/png": "[encoded data removed]",
      "text/plain": [
       "<Figure size 576x396 with 1 Axes>"
      ]
     },
     "metadata": {},
     "output_type": "display_data"
    },
    {
     "data": {
      "text/plain": [
       "<AxesSubplot:title={'center':'SVC Confusion Matrix'}, xlabel='Predicted Class', ylabel='True Class'>"
      ]
     },
     "execution_count": 20,
     "metadata": {},
     "output_type": "execute_result"
    }
   ],
   "source": [
    "from yellowbrick.classifier import ConfusionMatrix\n",
    "cm_winner = ConfusionMatrix(svc_imdb_oscar_winner)\n",
    "cm_winner.fit(X_imdb_oscar_treinamento,Y_imdb_oscar_winner_treinamento)\n",
    "cm_winner.score(X_imdb_oscar_teste, Y_imdb_oscar_winner_teste)\n",
    "cm_winner.show()"
   ]
  },
  {
   "cell_type": "markdown",
   "id": "3fda4b18-20d1-4394-91f1-3141040a3fac",
   "metadata": {},
   "source": [
    "#### Claissification Report"
   ]
  },
  {
   "cell_type": "code",
   "execution_count": 21,
   "id": "462da26f-4b6c-4d4b-b23e-26747b4383d5",
   "metadata": {},
   "outputs": [
    {
     "name": "stdout",
     "output_type": "stream",
     "text": [
      "              precision    recall  f1-score   support\n",
      "\n",
      "           0       1.00      1.00      1.00    110797\n",
      "           1       0.00      0.00      0.00       286\n",
      "\n",
      "    accuracy                           1.00    111083\n",
      "   macro avg       0.50      0.50      0.50    111083\n",
      "weighted avg       0.99      1.00      1.00    111083\n",
      "\n"
     ]
    }
   ],
   "source": [
    "print(classification_report(Y_imdb_oscar_winner_teste, previsoes_winner))"
   ]
  },
  {
   "cell_type": "code",
   "execution_count": null,
   "id": "23b98005-4e00-41f5-b25d-4c69618411bf",
   "metadata": {},
   "outputs": [],
   "source": []
  }
 ],
 "metadata": {
  "kernelspec": {
   "display_name": "Python 3 (ipykernel)",
   "language": "python",
   "name": "python3"
  },
  "language_info": {
   "codemirror_mode": {
    "name": "ipython",
    "version": 3
   },
   "file_extension": ".py",
   "mimetype": "text/x-python",
   "name": "python",
   "nbconvert_exporter": "python",
   "pygments_lexer": "ipython3",
   "version": "3.9.12"
  }
 },
 "nbformat": 4,
 "nbformat_minor": 5
}
