{
 "cells": [
  {
   "cell_type": "markdown",
   "metadata": {},
   "source": [
    "# Tratamento de Dados do Rotten Tomatoes"
   ]
  },
  {
   "cell_type": "code",
   "execution_count": 10,
   "metadata": {},
   "outputs": [],
   "source": [
    "import os\n",
    "import pandas as pd\n",
    "#import pandas_profiling\n",
    "#conda install -c conda-forge pandas-profiling"
   ]
  },
  {
   "cell_type": "code",
   "execution_count": 11,
   "metadata": {},
   "outputs": [
    {
     "data": {
      "text/plain": [
       "'/home/antero/Documentos/TCC/microdados'"
      ]
     },
     "execution_count": 11,
     "metadata": {},
     "output_type": "execute_result"
    }
   ],
   "source": [
    "os.chdir(\"../microdados\")\n",
    "os.getcwd()"
   ]
  },
  {
   "cell_type": "markdown",
   "metadata": {},
   "source": [
    "### Lendo dados do arquivo CSV e importando para o DataFrame do Pandas"
   ]
  },
  {
   "cell_type": "code",
   "execution_count": 20,
   "metadata": {},
   "outputs": [],
   "source": [
    "df_rotten_tomatoes=pd.read_csv(\"rotten_tomatoes_movies.csv\")"
   ]
  },
  {
   "cell_type": "markdown",
   "metadata": {},
   "source": [
    "### Explorando o DataFrame"
   ]
  },
  {
   "cell_type": "code",
   "execution_count": 21,
   "metadata": {},
   "outputs": [
    {
     "data": {
      "text/plain": [
       "(17712, 22)"
      ]
     },
     "execution_count": 21,
     "metadata": {},
     "output_type": "execute_result"
    }
   ],
   "source": [
    "df_rotten_tomatoes.shape"
   ]
  },
  {
   "cell_type": "code",
   "execution_count": 22,
   "metadata": {},
   "outputs": [
    {
     "data": {
      "text/plain": [
       "rotten_tomatoes_link                   0\n",
       "movie_title                            0\n",
       "movie_info                           321\n",
       "critics_consensus                   8578\n",
       "content_rating                         0\n",
       "genres                                19\n",
       "directors                            194\n",
       "authors                             1542\n",
       "actors                               352\n",
       "original_release_date               1166\n",
       "streaming_release_date               384\n",
       "runtime                              314\n",
       "production_company                   499\n",
       "tomatometer_status                    44\n",
       "tomatometer_rating                    44\n",
       "tomatometer_count                     44\n",
       "audience_status                      448\n",
       "audience_rating                      296\n",
       "audience_count                       297\n",
       "tomatometer_top_critics_count          0\n",
       "tomatometer_fresh_critics_count        0\n",
       "tomatometer_rotten_critics_count       0\n",
       "dtype: int64"
      ]
     },
     "execution_count": 22,
     "metadata": {},
     "output_type": "execute_result"
    }
   ],
   "source": [
    "df_rotten_tomatoes.isnull().sum()"
   ]
  },
  {
   "cell_type": "code",
   "execution_count": 7,
   "metadata": {},
   "outputs": [
    {
     "data": {
      "text/plain": [
       "rotten_tomatoes_link                0.000000\n",
       "movie_title                         0.000000\n",
       "movie_info                          0.018123\n",
       "critics_consensus                   0.484304\n",
       "content_rating                      0.000000\n",
       "genres                              0.001073\n",
       "directors                           0.010953\n",
       "authors                             0.087060\n",
       "actors                              0.019874\n",
       "original_release_date               0.065831\n",
       "streaming_release_date              0.021680\n",
       "runtime                             0.017728\n",
       "production_company                  0.028173\n",
       "tomatometer_status                  0.002484\n",
       "tomatometer_rating                  0.002484\n",
       "tomatometer_count                   0.002484\n",
       "audience_status                     0.025294\n",
       "audience_rating                     0.016712\n",
       "audience_count                      0.016768\n",
       "tomatometer_top_critics_count       0.000000\n",
       "tomatometer_fresh_critics_count     0.000000\n",
       "tomatometer_rotten_critics_count    0.000000\n",
       "dtype: float64"
      ]
     },
     "execution_count": 7,
     "metadata": {},
     "output_type": "execute_result"
    }
   ],
   "source": [
    "df_rotten_tomatoes.isnull().mean()"
   ]
  },
  {
   "cell_type": "code",
   "execution_count": 21,
   "metadata": {
    "scrolled": true
   },
   "outputs": [
    {
     "name": "stdout",
     "output_type": "stream",
     "text": [
      "<class 'pandas.core.frame.DataFrame'>\n",
      "RangeIndex: 17712 entries, 0 to 17711\n",
      "Data columns (total 22 columns):\n",
      " #   Column                            Non-Null Count  Dtype  \n",
      "---  ------                            --------------  -----  \n",
      " 0   rotten_tomatoes_link              17712 non-null  object \n",
      " 1   movie_title                       17712 non-null  object \n",
      " 2   movie_info                        17391 non-null  object \n",
      " 3   critics_consensus                 9134 non-null   object \n",
      " 4   content_rating                    17712 non-null  object \n",
      " 5   genres                            17693 non-null  object \n",
      " 6   directors                         17518 non-null  object \n",
      " 7   authors                           16170 non-null  object \n",
      " 8   actors                            17360 non-null  object \n",
      " 9   original_release_date             16546 non-null  object \n",
      " 10  streaming_release_date            17328 non-null  object \n",
      " 11  runtime                           17398 non-null  float64\n",
      " 12  production_company                17213 non-null  object \n",
      " 13  tomatometer_status                17668 non-null  object \n",
      " 14  tomatometer_rating                17668 non-null  float64\n",
      " 15  tomatometer_count                 17668 non-null  float64\n",
      " 16  audience_status                   17264 non-null  object \n",
      " 17  audience_rating                   17416 non-null  float64\n",
      " 18  audience_count                    17415 non-null  float64\n",
      " 19  tomatometer_top_critics_count     17712 non-null  int64  \n",
      " 20  tomatometer_fresh_critics_count   17712 non-null  int64  \n",
      " 21  tomatometer_rotten_critics_count  17712 non-null  int64  \n",
      "dtypes: float64(5), int64(3), object(14)\n",
      "memory usage: 3.0+ MB\n"
     ]
    }
   ],
   "source": [
    "df_rotten_tomatoes.info()"
   ]
  },
  {
   "cell_type": "code",
   "execution_count": 22,
   "metadata": {},
   "outputs": [
    {
     "data": {
      "text/html": [
       "<div>\n",
       "<style scoped>\n",
       "    .dataframe tbody tr th:only-of-type {\n",
       "        vertical-align: middle;\n",
       "    }\n",
       "\n",
       "    .dataframe tbody tr th {\n",
       "        vertical-align: top;\n",
       "    }\n",
       "\n",
       "    .dataframe thead th {\n",
       "        text-align: right;\n",
       "    }\n",
       "</style>\n",
       "<table border=\"1\" class=\"dataframe\">\n",
       "  <thead>\n",
       "    <tr style=\"text-align: right;\">\n",
       "      <th></th>\n",
       "      <th>rotten_tomatoes_link</th>\n",
       "      <th>movie_title</th>\n",
       "      <th>movie_info</th>\n",
       "      <th>critics_consensus</th>\n",
       "      <th>content_rating</th>\n",
       "      <th>genres</th>\n",
       "      <th>directors</th>\n",
       "      <th>authors</th>\n",
       "      <th>actors</th>\n",
       "      <th>original_release_date</th>\n",
       "      <th>...</th>\n",
       "      <th>production_company</th>\n",
       "      <th>tomatometer_status</th>\n",
       "      <th>tomatometer_rating</th>\n",
       "      <th>tomatometer_count</th>\n",
       "      <th>audience_status</th>\n",
       "      <th>audience_rating</th>\n",
       "      <th>audience_count</th>\n",
       "      <th>tomatometer_top_critics_count</th>\n",
       "      <th>tomatometer_fresh_critics_count</th>\n",
       "      <th>tomatometer_rotten_critics_count</th>\n",
       "    </tr>\n",
       "  </thead>\n",
       "  <tbody>\n",
       "    <tr>\n",
       "      <th>0</th>\n",
       "      <td>m/0814255</td>\n",
       "      <td>Percy Jackson &amp; the Olympians: The Lightning T...</td>\n",
       "      <td>Always trouble-prone, the life of teenager Per...</td>\n",
       "      <td>Though it may seem like just another Harry Pot...</td>\n",
       "      <td>PG</td>\n",
       "      <td>Action &amp; Adventure, Comedy, Drama, Science Fic...</td>\n",
       "      <td>Chris Columbus</td>\n",
       "      <td>Craig Titley, Chris Columbus, Rick Riordan</td>\n",
       "      <td>Logan Lerman, Brandon T. Jackson, Alexandra Da...</td>\n",
       "      <td>2010-02-12</td>\n",
       "      <td>...</td>\n",
       "      <td>20th Century Fox</td>\n",
       "      <td>Rotten</td>\n",
       "      <td>49.0</td>\n",
       "      <td>149.0</td>\n",
       "      <td>Spilled</td>\n",
       "      <td>53.0</td>\n",
       "      <td>254421.0</td>\n",
       "      <td>43</td>\n",
       "      <td>73</td>\n",
       "      <td>76</td>\n",
       "    </tr>\n",
       "    <tr>\n",
       "      <th>1</th>\n",
       "      <td>m/0878835</td>\n",
       "      <td>Please Give</td>\n",
       "      <td>Kate (Catherine Keener) and her husband Alex (...</td>\n",
       "      <td>Nicole Holofcener's newest might seem slight i...</td>\n",
       "      <td>R</td>\n",
       "      <td>Comedy</td>\n",
       "      <td>Nicole Holofcener</td>\n",
       "      <td>Nicole Holofcener</td>\n",
       "      <td>Catherine Keener, Amanda Peet, Oliver Platt, R...</td>\n",
       "      <td>2010-04-30</td>\n",
       "      <td>...</td>\n",
       "      <td>Sony Pictures Classics</td>\n",
       "      <td>Certified-Fresh</td>\n",
       "      <td>87.0</td>\n",
       "      <td>142.0</td>\n",
       "      <td>Upright</td>\n",
       "      <td>64.0</td>\n",
       "      <td>11574.0</td>\n",
       "      <td>44</td>\n",
       "      <td>123</td>\n",
       "      <td>19</td>\n",
       "    </tr>\n",
       "    <tr>\n",
       "      <th>2</th>\n",
       "      <td>m/10</td>\n",
       "      <td>10</td>\n",
       "      <td>A successful, middle-aged Hollywood songwriter...</td>\n",
       "      <td>Blake Edwards' bawdy comedy may not score a pe...</td>\n",
       "      <td>R</td>\n",
       "      <td>Comedy, Romance</td>\n",
       "      <td>Blake Edwards</td>\n",
       "      <td>Blake Edwards</td>\n",
       "      <td>Dudley Moore, Bo Derek, Julie Andrews, Robert ...</td>\n",
       "      <td>1979-10-05</td>\n",
       "      <td>...</td>\n",
       "      <td>Waner Bros.</td>\n",
       "      <td>Fresh</td>\n",
       "      <td>67.0</td>\n",
       "      <td>24.0</td>\n",
       "      <td>Spilled</td>\n",
       "      <td>53.0</td>\n",
       "      <td>14684.0</td>\n",
       "      <td>2</td>\n",
       "      <td>16</td>\n",
       "      <td>8</td>\n",
       "    </tr>\n",
       "    <tr>\n",
       "      <th>3</th>\n",
       "      <td>m/1000013-12_angry_men</td>\n",
       "      <td>12 Angry Men (Twelve Angry Men)</td>\n",
       "      <td>Following the closing arguments in a murder tr...</td>\n",
       "      <td>Sidney Lumet's feature debut is a superbly wri...</td>\n",
       "      <td>NR</td>\n",
       "      <td>Classics, Drama</td>\n",
       "      <td>Sidney Lumet</td>\n",
       "      <td>Reginald Rose</td>\n",
       "      <td>Martin Balsam, John Fiedler, Lee J. Cobb, E.G....</td>\n",
       "      <td>1957-04-13</td>\n",
       "      <td>...</td>\n",
       "      <td>Criterion Collection</td>\n",
       "      <td>Certified-Fresh</td>\n",
       "      <td>100.0</td>\n",
       "      <td>54.0</td>\n",
       "      <td>Upright</td>\n",
       "      <td>97.0</td>\n",
       "      <td>105386.0</td>\n",
       "      <td>6</td>\n",
       "      <td>54</td>\n",
       "      <td>0</td>\n",
       "    </tr>\n",
       "    <tr>\n",
       "      <th>4</th>\n",
       "      <td>m/1000079-20000_leagues_under_the_sea</td>\n",
       "      <td>20,000 Leagues Under The Sea</td>\n",
       "      <td>In 1866, Professor Pierre M. Aronnax (Paul Luk...</td>\n",
       "      <td>One of Disney's finest live-action adventures,...</td>\n",
       "      <td>G</td>\n",
       "      <td>Action &amp; Adventure, Drama, Kids &amp; Family</td>\n",
       "      <td>Richard Fleischer</td>\n",
       "      <td>Earl Felton</td>\n",
       "      <td>James Mason, Kirk Douglas, Paul Lukas, Peter L...</td>\n",
       "      <td>1954-01-01</td>\n",
       "      <td>...</td>\n",
       "      <td>Disney</td>\n",
       "      <td>Fresh</td>\n",
       "      <td>89.0</td>\n",
       "      <td>27.0</td>\n",
       "      <td>Upright</td>\n",
       "      <td>74.0</td>\n",
       "      <td>68918.0</td>\n",
       "      <td>5</td>\n",
       "      <td>24</td>\n",
       "      <td>3</td>\n",
       "    </tr>\n",
       "  </tbody>\n",
       "</table>\n",
       "<p>5 rows × 22 columns</p>\n",
       "</div>"
      ],
      "text/plain": [
       "                    rotten_tomatoes_link  \\\n",
       "0                              m/0814255   \n",
       "1                              m/0878835   \n",
       "2                                   m/10   \n",
       "3                 m/1000013-12_angry_men   \n",
       "4  m/1000079-20000_leagues_under_the_sea   \n",
       "\n",
       "                                         movie_title  \\\n",
       "0  Percy Jackson & the Olympians: The Lightning T...   \n",
       "1                                        Please Give   \n",
       "2                                                 10   \n",
       "3                    12 Angry Men (Twelve Angry Men)   \n",
       "4                       20,000 Leagues Under The Sea   \n",
       "\n",
       "                                          movie_info  \\\n",
       "0  Always trouble-prone, the life of teenager Per...   \n",
       "1  Kate (Catherine Keener) and her husband Alex (...   \n",
       "2  A successful, middle-aged Hollywood songwriter...   \n",
       "3  Following the closing arguments in a murder tr...   \n",
       "4  In 1866, Professor Pierre M. Aronnax (Paul Luk...   \n",
       "\n",
       "                                   critics_consensus content_rating  \\\n",
       "0  Though it may seem like just another Harry Pot...             PG   \n",
       "1  Nicole Holofcener's newest might seem slight i...              R   \n",
       "2  Blake Edwards' bawdy comedy may not score a pe...              R   \n",
       "3  Sidney Lumet's feature debut is a superbly wri...             NR   \n",
       "4  One of Disney's finest live-action adventures,...              G   \n",
       "\n",
       "                                              genres          directors  \\\n",
       "0  Action & Adventure, Comedy, Drama, Science Fic...     Chris Columbus   \n",
       "1                                             Comedy  Nicole Holofcener   \n",
       "2                                    Comedy, Romance      Blake Edwards   \n",
       "3                                    Classics, Drama       Sidney Lumet   \n",
       "4           Action & Adventure, Drama, Kids & Family  Richard Fleischer   \n",
       "\n",
       "                                      authors  \\\n",
       "0  Craig Titley, Chris Columbus, Rick Riordan   \n",
       "1                           Nicole Holofcener   \n",
       "2                               Blake Edwards   \n",
       "3                               Reginald Rose   \n",
       "4                                 Earl Felton   \n",
       "\n",
       "                                              actors original_release_date  \\\n",
       "0  Logan Lerman, Brandon T. Jackson, Alexandra Da...            2010-02-12   \n",
       "1  Catherine Keener, Amanda Peet, Oliver Platt, R...            2010-04-30   \n",
       "2  Dudley Moore, Bo Derek, Julie Andrews, Robert ...            1979-10-05   \n",
       "3  Martin Balsam, John Fiedler, Lee J. Cobb, E.G....            1957-04-13   \n",
       "4  James Mason, Kirk Douglas, Paul Lukas, Peter L...            1954-01-01   \n",
       "\n",
       "   ...      production_company  tomatometer_status tomatometer_rating  \\\n",
       "0  ...        20th Century Fox              Rotten               49.0   \n",
       "1  ...  Sony Pictures Classics     Certified-Fresh               87.0   \n",
       "2  ...             Waner Bros.               Fresh               67.0   \n",
       "3  ...    Criterion Collection     Certified-Fresh              100.0   \n",
       "4  ...                  Disney               Fresh               89.0   \n",
       "\n",
       "  tomatometer_count  audience_status  audience_rating audience_count  \\\n",
       "0             149.0          Spilled             53.0       254421.0   \n",
       "1             142.0          Upright             64.0        11574.0   \n",
       "2              24.0          Spilled             53.0        14684.0   \n",
       "3              54.0          Upright             97.0       105386.0   \n",
       "4              27.0          Upright             74.0        68918.0   \n",
       "\n",
       "   tomatometer_top_critics_count  tomatometer_fresh_critics_count  \\\n",
       "0                             43                               73   \n",
       "1                             44                              123   \n",
       "2                              2                               16   \n",
       "3                              6                               54   \n",
       "4                              5                               24   \n",
       "\n",
       "   tomatometer_rotten_critics_count  \n",
       "0                                76  \n",
       "1                                19  \n",
       "2                                 8  \n",
       "3                                 0  \n",
       "4                                 3  \n",
       "\n",
       "[5 rows x 22 columns]"
      ]
     },
     "execution_count": 22,
     "metadata": {},
     "output_type": "execute_result"
    }
   ],
   "source": [
    "df_rotten_tomatoes.head()"
   ]
  },
  {
   "cell_type": "code",
   "execution_count": 23,
   "metadata": {},
   "outputs": [
    {
     "data": {
      "text/html": [
       "<div>\n",
       "<style scoped>\n",
       "    .dataframe tbody tr th:only-of-type {\n",
       "        vertical-align: middle;\n",
       "    }\n",
       "\n",
       "    .dataframe tbody tr th {\n",
       "        vertical-align: top;\n",
       "    }\n",
       "\n",
       "    .dataframe thead th {\n",
       "        text-align: right;\n",
       "    }\n",
       "</style>\n",
       "<table border=\"1\" class=\"dataframe\">\n",
       "  <thead>\n",
       "    <tr style=\"text-align: right;\">\n",
       "      <th></th>\n",
       "      <th>rotten_tomatoes_link</th>\n",
       "      <th>movie_title</th>\n",
       "      <th>movie_info</th>\n",
       "      <th>critics_consensus</th>\n",
       "      <th>content_rating</th>\n",
       "      <th>genres</th>\n",
       "      <th>directors</th>\n",
       "      <th>authors</th>\n",
       "      <th>actors</th>\n",
       "      <th>original_release_date</th>\n",
       "      <th>...</th>\n",
       "      <th>production_company</th>\n",
       "      <th>tomatometer_status</th>\n",
       "      <th>tomatometer_rating</th>\n",
       "      <th>tomatometer_count</th>\n",
       "      <th>audience_status</th>\n",
       "      <th>audience_rating</th>\n",
       "      <th>audience_count</th>\n",
       "      <th>tomatometer_top_critics_count</th>\n",
       "      <th>tomatometer_fresh_critics_count</th>\n",
       "      <th>tomatometer_rotten_critics_count</th>\n",
       "    </tr>\n",
       "  </thead>\n",
       "  <tbody>\n",
       "    <tr>\n",
       "      <th>17707</th>\n",
       "      <td>m/zoot_suit</td>\n",
       "      <td>Zoot Suit</td>\n",
       "      <td>Mexican-American gangster Henry Reyna (Daniel ...</td>\n",
       "      <td>NaN</td>\n",
       "      <td>R</td>\n",
       "      <td>Drama, Musical &amp; Performing Arts</td>\n",
       "      <td>Luis Valdez</td>\n",
       "      <td>Luis Valdez</td>\n",
       "      <td>Daniel Valdez, Edward James Olmos, Charles Aid...</td>\n",
       "      <td>1981-10-02</td>\n",
       "      <td>...</td>\n",
       "      <td>MCA Universal Home Video</td>\n",
       "      <td>Rotten</td>\n",
       "      <td>56.0</td>\n",
       "      <td>9.0</td>\n",
       "      <td>Upright</td>\n",
       "      <td>74.0</td>\n",
       "      <td>1195.0</td>\n",
       "      <td>2</td>\n",
       "      <td>5</td>\n",
       "      <td>4</td>\n",
       "    </tr>\n",
       "    <tr>\n",
       "      <th>17708</th>\n",
       "      <td>m/zootopia</td>\n",
       "      <td>Zootopia</td>\n",
       "      <td>From the largest elephant to the smallest shre...</td>\n",
       "      <td>The brilliantly well-rounded Zootopia offers a...</td>\n",
       "      <td>PG</td>\n",
       "      <td>Action &amp; Adventure, Animation, Comedy</td>\n",
       "      <td>Byron Howard, Rich Moore, Jared Bush</td>\n",
       "      <td>Jared Bush, Phil Johnston</td>\n",
       "      <td>J.K. Simmons, Kristen Bell, Octavia Spencer, A...</td>\n",
       "      <td>2016-03-04</td>\n",
       "      <td>...</td>\n",
       "      <td>Walt Disney Animation Studios</td>\n",
       "      <td>Certified-Fresh</td>\n",
       "      <td>98.0</td>\n",
       "      <td>291.0</td>\n",
       "      <td>Upright</td>\n",
       "      <td>92.0</td>\n",
       "      <td>101511.0</td>\n",
       "      <td>50</td>\n",
       "      <td>285</td>\n",
       "      <td>7</td>\n",
       "    </tr>\n",
       "    <tr>\n",
       "      <th>17709</th>\n",
       "      <td>m/zorba_the_greek</td>\n",
       "      <td>Zorba the Greek</td>\n",
       "      <td>Traveling to inspect an abandoned mine his fat...</td>\n",
       "      <td>NaN</td>\n",
       "      <td>NR</td>\n",
       "      <td>Action &amp; Adventure, Art House &amp; International,...</td>\n",
       "      <td>NaN</td>\n",
       "      <td>NaN</td>\n",
       "      <td>Anthony Quinn, Alan Bates, Irene Papas, Lila K...</td>\n",
       "      <td>1964-12-17</td>\n",
       "      <td>...</td>\n",
       "      <td>Fox</td>\n",
       "      <td>Fresh</td>\n",
       "      <td>80.0</td>\n",
       "      <td>10.0</td>\n",
       "      <td>Upright</td>\n",
       "      <td>86.0</td>\n",
       "      <td>7146.0</td>\n",
       "      <td>0</td>\n",
       "      <td>8</td>\n",
       "      <td>2</td>\n",
       "    </tr>\n",
       "    <tr>\n",
       "      <th>17710</th>\n",
       "      <td>m/zulu</td>\n",
       "      <td>Zulu</td>\n",
       "      <td>In 1879, the Zulu nation hands colonial Britis...</td>\n",
       "      <td>Zulu patiently establishes a cast of colorful ...</td>\n",
       "      <td>PG</td>\n",
       "      <td>Classics, Drama</td>\n",
       "      <td>Cy Endfield, Cyril Endfield</td>\n",
       "      <td>Cy Endfield, John Prebble</td>\n",
       "      <td>Stanley Baker, Jack Hawkins, Ulla Jacobsson, J...</td>\n",
       "      <td>1964-06-17</td>\n",
       "      <td>...</td>\n",
       "      <td>Paramount Pictures</td>\n",
       "      <td>Fresh</td>\n",
       "      <td>96.0</td>\n",
       "      <td>23.0</td>\n",
       "      <td>Upright</td>\n",
       "      <td>91.0</td>\n",
       "      <td>30193.0</td>\n",
       "      <td>6</td>\n",
       "      <td>22</td>\n",
       "      <td>1</td>\n",
       "    </tr>\n",
       "    <tr>\n",
       "      <th>17711</th>\n",
       "      <td>m/zulu_dawn</td>\n",
       "      <td>Zulu Dawn</td>\n",
       "      <td>Sir Henry Bartle Frere's (John Mills) vastly o...</td>\n",
       "      <td>NaN</td>\n",
       "      <td>PG</td>\n",
       "      <td>Action &amp; Adventure, Art House &amp; International,...</td>\n",
       "      <td>Douglas Hickox</td>\n",
       "      <td>Cy Endfield, Anthony Storey</td>\n",
       "      <td>Burt Lancaster, Peter O'Toole, Simon Ward, Joh...</td>\n",
       "      <td>1979-12-14</td>\n",
       "      <td>...</td>\n",
       "      <td>Tango Entertainment</td>\n",
       "      <td>Rotten</td>\n",
       "      <td>50.0</td>\n",
       "      <td>8.0</td>\n",
       "      <td>Upright</td>\n",
       "      <td>62.0</td>\n",
       "      <td>4469.0</td>\n",
       "      <td>0</td>\n",
       "      <td>4</td>\n",
       "      <td>4</td>\n",
       "    </tr>\n",
       "  </tbody>\n",
       "</table>\n",
       "<p>5 rows × 22 columns</p>\n",
       "</div>"
      ],
      "text/plain": [
       "      rotten_tomatoes_link      movie_title  \\\n",
       "17707          m/zoot_suit        Zoot Suit   \n",
       "17708           m/zootopia         Zootopia   \n",
       "17709    m/zorba_the_greek  Zorba the Greek   \n",
       "17710               m/zulu             Zulu   \n",
       "17711          m/zulu_dawn        Zulu Dawn   \n",
       "\n",
       "                                              movie_info  \\\n",
       "17707  Mexican-American gangster Henry Reyna (Daniel ...   \n",
       "17708  From the largest elephant to the smallest shre...   \n",
       "17709  Traveling to inspect an abandoned mine his fat...   \n",
       "17710  In 1879, the Zulu nation hands colonial Britis...   \n",
       "17711  Sir Henry Bartle Frere's (John Mills) vastly o...   \n",
       "\n",
       "                                       critics_consensus content_rating  \\\n",
       "17707                                                NaN              R   \n",
       "17708  The brilliantly well-rounded Zootopia offers a...             PG   \n",
       "17709                                                NaN             NR   \n",
       "17710  Zulu patiently establishes a cast of colorful ...             PG   \n",
       "17711                                                NaN             PG   \n",
       "\n",
       "                                                  genres  \\\n",
       "17707                   Drama, Musical & Performing Arts   \n",
       "17708              Action & Adventure, Animation, Comedy   \n",
       "17709  Action & Adventure, Art House & International,...   \n",
       "17710                                    Classics, Drama   \n",
       "17711  Action & Adventure, Art House & International,...   \n",
       "\n",
       "                                  directors                      authors  \\\n",
       "17707                           Luis Valdez                  Luis Valdez   \n",
       "17708  Byron Howard, Rich Moore, Jared Bush    Jared Bush, Phil Johnston   \n",
       "17709                                   NaN                          NaN   \n",
       "17710           Cy Endfield, Cyril Endfield    Cy Endfield, John Prebble   \n",
       "17711                        Douglas Hickox  Cy Endfield, Anthony Storey   \n",
       "\n",
       "                                                  actors  \\\n",
       "17707  Daniel Valdez, Edward James Olmos, Charles Aid...   \n",
       "17708  J.K. Simmons, Kristen Bell, Octavia Spencer, A...   \n",
       "17709  Anthony Quinn, Alan Bates, Irene Papas, Lila K...   \n",
       "17710  Stanley Baker, Jack Hawkins, Ulla Jacobsson, J...   \n",
       "17711  Burt Lancaster, Peter O'Toole, Simon Ward, Joh...   \n",
       "\n",
       "      original_release_date  ...             production_company  \\\n",
       "17707            1981-10-02  ...       MCA Universal Home Video   \n",
       "17708            2016-03-04  ...  Walt Disney Animation Studios   \n",
       "17709            1964-12-17  ...                            Fox   \n",
       "17710            1964-06-17  ...             Paramount Pictures   \n",
       "17711            1979-12-14  ...            Tango Entertainment   \n",
       "\n",
       "       tomatometer_status tomatometer_rating tomatometer_count  \\\n",
       "17707              Rotten               56.0               9.0   \n",
       "17708     Certified-Fresh               98.0             291.0   \n",
       "17709               Fresh               80.0              10.0   \n",
       "17710               Fresh               96.0              23.0   \n",
       "17711              Rotten               50.0               8.0   \n",
       "\n",
       "       audience_status  audience_rating audience_count  \\\n",
       "17707          Upright             74.0         1195.0   \n",
       "17708          Upright             92.0       101511.0   \n",
       "17709          Upright             86.0         7146.0   \n",
       "17710          Upright             91.0        30193.0   \n",
       "17711          Upright             62.0         4469.0   \n",
       "\n",
       "       tomatometer_top_critics_count  tomatometer_fresh_critics_count  \\\n",
       "17707                              2                                5   \n",
       "17708                             50                              285   \n",
       "17709                              0                                8   \n",
       "17710                              6                               22   \n",
       "17711                              0                                4   \n",
       "\n",
       "       tomatometer_rotten_critics_count  \n",
       "17707                                 4  \n",
       "17708                                 7  \n",
       "17709                                 2  \n",
       "17710                                 1  \n",
       "17711                                 4  \n",
       "\n",
       "[5 rows x 22 columns]"
      ]
     },
     "execution_count": 23,
     "metadata": {},
     "output_type": "execute_result"
    }
   ],
   "source": [
    "df_rotten_tomatoes.tail()"
   ]
  },
  {
   "cell_type": "markdown",
   "metadata": {},
   "source": [
    "### Filtrando Dados"
   ]
  },
  {
   "cell_type": "code",
   "execution_count": 24,
   "metadata": {},
   "outputs": [
    {
     "name": "stdout",
     "output_type": "stream",
     "text": [
      "<class 'pandas.core.frame.DataFrame'>\n",
      "RangeIndex: 17712 entries, 0 to 17711\n",
      "Data columns (total 11 columns):\n",
      " #   Column                            Non-Null Count  Dtype  \n",
      "---  ------                            --------------  -----  \n",
      " 0   movie_title                       17712 non-null  object \n",
      " 1   original_release_date             16546 non-null  object \n",
      " 2   tomatometer_status                17668 non-null  object \n",
      " 3   tomatometer_rating                17668 non-null  float64\n",
      " 4   tomatometer_count                 17668 non-null  float64\n",
      " 5   audience_status                   17264 non-null  object \n",
      " 6   audience_rating                   17416 non-null  float64\n",
      " 7   audience_count                    17415 non-null  float64\n",
      " 8   tomatometer_top_critics_count     17712 non-null  int64  \n",
      " 9   tomatometer_fresh_critics_count   17712 non-null  int64  \n",
      " 10  tomatometer_rotten_critics_count  17712 non-null  int64  \n",
      "dtypes: float64(4), int64(3), object(4)\n",
      "memory usage: 1.5+ MB\n"
     ]
    }
   ],
   "source": [
    "dropcols=['rotten_tomatoes_link','movie_info','critics_consensus','content_rating','genres','directors','authors','actors','streaming_release_date','runtime','production_company']\n",
    "df_rotten_tomatoes.drop(columns=dropcols, inplace=True)\n",
    "df_rotten_tomatoes.info()"
   ]
  },
  {
   "cell_type": "code",
   "execution_count": 25,
   "metadata": {},
   "outputs": [
    {
     "data": {
      "text/plain": [
       "movie_title                            0\n",
       "original_release_date               1166\n",
       "tomatometer_status                    44\n",
       "tomatometer_rating                    44\n",
       "tomatometer_count                     44\n",
       "audience_status                      448\n",
       "audience_rating                      296\n",
       "audience_count                       297\n",
       "tomatometer_top_critics_count          0\n",
       "tomatometer_fresh_critics_count        0\n",
       "tomatometer_rotten_critics_count       0\n",
       "dtype: int64"
      ]
     },
     "execution_count": 25,
     "metadata": {},
     "output_type": "execute_result"
    }
   ],
   "source": [
    "df_rotten_tomatoes.isnull().sum()"
   ]
  },
  {
   "cell_type": "code",
   "execution_count": 26,
   "metadata": {},
   "outputs": [
    {
     "data": {
      "text/plain": [
       "movie_title                         0.000000\n",
       "original_release_date               0.065831\n",
       "tomatometer_status                  0.002484\n",
       "tomatometer_rating                  0.002484\n",
       "tomatometer_count                   0.002484\n",
       "audience_status                     0.025294\n",
       "audience_rating                     0.016712\n",
       "audience_count                      0.016768\n",
       "tomatometer_top_critics_count       0.000000\n",
       "tomatometer_fresh_critics_count     0.000000\n",
       "tomatometer_rotten_critics_count    0.000000\n",
       "dtype: float64"
      ]
     },
     "execution_count": 26,
     "metadata": {},
     "output_type": "execute_result"
    }
   ],
   "source": [
    "df_rotten_tomatoes.isnull().mean()"
   ]
  },
  {
   "cell_type": "code",
   "execution_count": 27,
   "metadata": {},
   "outputs": [
    {
     "data": {
      "text/plain": [
       "2002-01-01    29\n",
       "1988-01-01    25\n",
       "2000-01-01    25\n",
       "2003-01-01    25\n",
       "2001-01-01    24\n",
       "              ..\n",
       "1999-10-19     1\n",
       "2000-02-29     1\n",
       "2007-05-16     1\n",
       "1975-02-26     1\n",
       "1944-01-12     1\n",
       "Name: original_release_date, Length: 5804, dtype: int64"
      ]
     },
     "execution_count": 27,
     "metadata": {},
     "output_type": "execute_result"
    }
   ],
   "source": [
    "df_rotten_tomatoes.original_release_date.value_counts()"
   ]
  },
  {
   "cell_type": "code",
   "execution_count": 28,
   "metadata": {},
   "outputs": [
    {
     "data": {
      "text/plain": [
       "array(['2010', '1979', '1957', '1954', '2008', '1935', '2002', '1930',\n",
       "       '1988', '2005', '1950', '1949', '1951', '2004', '1985', '1938',\n",
       "       '1941', '2003', '1997', '2006', '2007', '1952', '1960', '1956',\n",
       "       '1966', '1986', '1984', nan, '1973', '2009', '2011', '1990',\n",
       "       '1947', '1987', '2014', '1940', '2012', '1981', '1976', '1972',\n",
       "       '1958', '1980', '1961', '1946', '2015', '1962', '1963', '1974',\n",
       "       '1926', '1977', '1929', '1944', '1982', '1968', '1978', '1983',\n",
       "       '1970', '1945', '1919', '1975', '1969', '1953', '1967', '1936',\n",
       "       '1937', '1942', '1927', '1989', '1931', '1965', '1971', '1955',\n",
       "       '1964', '1933', '1939', '1948', '1959', '2013', '2000', '2017',\n",
       "       '1923', '1916', '1934', '1920', '1932', '1925', '1943', '1991',\n",
       "       '1992', '1993', '1928', '1999', '1994', '1921', '1924', '1922',\n",
       "       '1998', '1995', '1996', '2001', '2016', '2019', '2018', '2020',\n",
       "       '1915', '1914'], dtype=object)"
      ]
     },
     "execution_count": 28,
     "metadata": {},
     "output_type": "execute_result"
    }
   ],
   "source": [
    "df_rotten_parsed = df_rotten_tomatoes.original_release_date.str.split('-',expand=True)\n",
    "df_rotten_parsed.columns=['year', 'month', 'day']\n",
    "df_rotten_parsed.drop(columns=['month', 'day'], inplace=True)\n",
    "df_rotten_parsed.year.unique()"
   ]
  },
  {
   "cell_type": "markdown",
   "metadata": {},
   "source": [
    "## Percentual de Anos Faltantes"
   ]
  },
  {
   "cell_type": "code",
   "execution_count": 29,
   "metadata": {},
   "outputs": [
    {
     "data": {
      "text/plain": [
       "year    0.065831\n",
       "dtype: float64"
      ]
     },
     "execution_count": 29,
     "metadata": {},
     "output_type": "execute_result"
    }
   ],
   "source": [
    "df_rotten_parsed.isnull().sum()/len(df_rotten_parsed.year)"
   ]
  },
  {
   "cell_type": "code",
   "execution_count": 34,
   "metadata": {},
   "outputs": [
    {
     "data": {
      "text/html": [
       "<div>\n",
       "<style scoped>\n",
       "    .dataframe tbody tr th:only-of-type {\n",
       "        vertical-align: middle;\n",
       "    }\n",
       "\n",
       "    .dataframe tbody tr th {\n",
       "        vertical-align: top;\n",
       "    }\n",
       "\n",
       "    .dataframe thead th {\n",
       "        text-align: right;\n",
       "    }\n",
       "</style>\n",
       "<table border=\"1\" class=\"dataframe\">\n",
       "  <thead>\n",
       "    <tr style=\"text-align: right;\">\n",
       "      <th></th>\n",
       "      <th>movie_title</th>\n",
       "      <th>original_release_date</th>\n",
       "      <th>tomatometer_status</th>\n",
       "      <th>tomatometer_rating</th>\n",
       "      <th>tomatometer_count</th>\n",
       "      <th>audience_status</th>\n",
       "      <th>audience_rating</th>\n",
       "      <th>audience_count</th>\n",
       "      <th>tomatometer_top_critics_count</th>\n",
       "      <th>tomatometer_fresh_critics_count</th>\n",
       "      <th>tomatometer_rotten_critics_count</th>\n",
       "      <th>year</th>\n",
       "    </tr>\n",
       "  </thead>\n",
       "  <tbody>\n",
       "    <tr>\n",
       "      <th>0</th>\n",
       "      <td>Percy Jackson &amp; the Olympians: The Lightning T...</td>\n",
       "      <td>2010-02-12</td>\n",
       "      <td>Rotten</td>\n",
       "      <td>49.0</td>\n",
       "      <td>149.0</td>\n",
       "      <td>Spilled</td>\n",
       "      <td>53.0</td>\n",
       "      <td>254421.0</td>\n",
       "      <td>43</td>\n",
       "      <td>73</td>\n",
       "      <td>76</td>\n",
       "      <td>2010</td>\n",
       "    </tr>\n",
       "    <tr>\n",
       "      <th>1</th>\n",
       "      <td>Please Give</td>\n",
       "      <td>2010-04-30</td>\n",
       "      <td>Certified-Fresh</td>\n",
       "      <td>87.0</td>\n",
       "      <td>142.0</td>\n",
       "      <td>Upright</td>\n",
       "      <td>64.0</td>\n",
       "      <td>11574.0</td>\n",
       "      <td>44</td>\n",
       "      <td>123</td>\n",
       "      <td>19</td>\n",
       "      <td>2010</td>\n",
       "    </tr>\n",
       "    <tr>\n",
       "      <th>2</th>\n",
       "      <td>10</td>\n",
       "      <td>1979-10-05</td>\n",
       "      <td>Fresh</td>\n",
       "      <td>67.0</td>\n",
       "      <td>24.0</td>\n",
       "      <td>Spilled</td>\n",
       "      <td>53.0</td>\n",
       "      <td>14684.0</td>\n",
       "      <td>2</td>\n",
       "      <td>16</td>\n",
       "      <td>8</td>\n",
       "      <td>1979</td>\n",
       "    </tr>\n",
       "    <tr>\n",
       "      <th>3</th>\n",
       "      <td>12 Angry Men (Twelve Angry Men)</td>\n",
       "      <td>1957-04-13</td>\n",
       "      <td>Certified-Fresh</td>\n",
       "      <td>100.0</td>\n",
       "      <td>54.0</td>\n",
       "      <td>Upright</td>\n",
       "      <td>97.0</td>\n",
       "      <td>105386.0</td>\n",
       "      <td>6</td>\n",
       "      <td>54</td>\n",
       "      <td>0</td>\n",
       "      <td>1957</td>\n",
       "    </tr>\n",
       "    <tr>\n",
       "      <th>4</th>\n",
       "      <td>20,000 Leagues Under The Sea</td>\n",
       "      <td>1954-01-01</td>\n",
       "      <td>Fresh</td>\n",
       "      <td>89.0</td>\n",
       "      <td>27.0</td>\n",
       "      <td>Upright</td>\n",
       "      <td>74.0</td>\n",
       "      <td>68918.0</td>\n",
       "      <td>5</td>\n",
       "      <td>24</td>\n",
       "      <td>3</td>\n",
       "      <td>1954</td>\n",
       "    </tr>\n",
       "  </tbody>\n",
       "</table>\n",
       "</div>"
      ],
      "text/plain": [
       "                                         movie_title original_release_date  \\\n",
       "0  Percy Jackson & the Olympians: The Lightning T...            2010-02-12   \n",
       "1                                        Please Give            2010-04-30   \n",
       "2                                                 10            1979-10-05   \n",
       "3                    12 Angry Men (Twelve Angry Men)            1957-04-13   \n",
       "4                       20,000 Leagues Under The Sea            1954-01-01   \n",
       "\n",
       "  tomatometer_status  tomatometer_rating  tomatometer_count audience_status  \\\n",
       "0             Rotten                49.0              149.0         Spilled   \n",
       "1    Certified-Fresh                87.0              142.0         Upright   \n",
       "2              Fresh                67.0               24.0         Spilled   \n",
       "3    Certified-Fresh               100.0               54.0         Upright   \n",
       "4              Fresh                89.0               27.0         Upright   \n",
       "\n",
       "   audience_rating  audience_count  tomatometer_top_critics_count  \\\n",
       "0             53.0        254421.0                             43   \n",
       "1             64.0         11574.0                             44   \n",
       "2             53.0         14684.0                              2   \n",
       "3             97.0        105386.0                              6   \n",
       "4             74.0         68918.0                              5   \n",
       "\n",
       "   tomatometer_fresh_critics_count  tomatometer_rotten_critics_count  year  \n",
       "0                               73                                76  2010  \n",
       "1                              123                                19  2010  \n",
       "2                               16                                 8  1979  \n",
       "3                               54                                 0  1957  \n",
       "4                               24                                 3  1954  "
      ]
     },
     "execution_count": 34,
     "metadata": {},
     "output_type": "execute_result"
    }
   ],
   "source": [
    "df_rotten_tomatoes_parsed = pd.concat([df_rotten_tomatoes, df_rotten_parsed], axis=1)\n",
    "df_rotten_tomatoes_parsed.dropna(subset=['year'], inplace=True)\n",
    "df_rotten_tomatoes_parsed.head()"
   ]
  },
  {
   "cell_type": "code",
   "execution_count": 35,
   "metadata": {},
   "outputs": [
    {
     "data": {
      "text/plain": [
       "array(['2010', '1979', '1957', '1954', '2008', '1935', '2002', '1930',\n",
       "       '1988', '2005', '1950', '1949', '1951', '2004', '1985', '1938',\n",
       "       '1941', '2003', '1997', '2006', '2007', '1952', '1960', '1956',\n",
       "       '1966', '1986', '1984', nan, '1973', '2009', '2011', '1990',\n",
       "       '1947', '1987', '2014', '1940', '2012', '1981', '1976', '1972',\n",
       "       '1958', '1980', '1961', '1946', '2015', '1962', '1963', '1974',\n",
       "       '1926', '1977', '1929', '1944', '1982', '1968', '1978', '1983',\n",
       "       '1970', '1945', '1919', '1975', '1969', '1953', '1967', '1936',\n",
       "       '1937', '1942', '1927', '1989', '1931', '1965', '1971', '1955',\n",
       "       '1964', '1933', '1939', '1948', '1959', '2013', '2000', '2017',\n",
       "       '1923', '1916', '1934', '1920', '1932', '1925', '1943', '1991',\n",
       "       '1992', '1993', '1928', '1999', '1994', '1921', '1924', '1922',\n",
       "       '1998', '1995', '1996', '2001', '2016', '2019', '2018', '2020',\n",
       "       '1915', '1914'], dtype=object)"
      ]
     },
     "execution_count": 35,
     "metadata": {},
     "output_type": "execute_result"
    }
   ],
   "source": [
    "df_rotten_parsed.year.unique()"
   ]
  },
  {
   "cell_type": "code",
   "execution_count": 36,
   "metadata": {},
   "outputs": [
    {
     "data": {
      "text/plain": [
       "year    1166\n",
       "dtype: int64"
      ]
     },
     "execution_count": 36,
     "metadata": {},
     "output_type": "execute_result"
    }
   ],
   "source": [
    "df_rotten_parsed.isnull().sum()"
   ]
  },
  {
   "cell_type": "markdown",
   "metadata": {},
   "source": [
    "## Salvando Data Frame Tratado"
   ]
  },
  {
   "cell_type": "code",
   "execution_count": 37,
   "metadata": {},
   "outputs": [],
   "source": [
    "df_rotten_tomatoes_parsed.to_csv('../tratados/df_rotten_tomatoes_tratado.csv')"
   ]
  }
 ],
 "metadata": {
  "kernelspec": {
   "display_name": "Python 3",
   "language": "python",
   "name": "python3"
  },
  "language_info": {
   "codemirror_mode": {
    "name": "ipython",
    "version": 3
   },
   "file_extension": ".py",
   "mimetype": "text/x-python",
   "name": "python",
   "nbconvert_exporter": "python",
   "pygments_lexer": "ipython3",
   "version": "3.8.10"
  }
 },
 "nbformat": 4,
 "nbformat_minor": 4
}
