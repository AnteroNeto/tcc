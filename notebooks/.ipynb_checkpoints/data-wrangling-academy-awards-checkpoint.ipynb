{
 "cells": [
  {
   "cell_type": "markdown",
   "id": "a6c2b2ae",
   "metadata": {},
   "source": [
    "# Tratamento de Dados do Oscar"
   ]
  },
  {
   "cell_type": "code",
   "execution_count": 1,
   "id": "a3715d9f",
   "metadata": {},
   "outputs": [],
   "source": [
    "import os\n",
    "import pandas as pd\n",
    "import seaborn as sns\n",
    "import matplotlib.pyplot as plt\n",
    "\n",
    "%matplotlib inline\n",
    "\n",
    "#import pandas_profiling\n",
    "#conda install -c conda-forge pandas-profiling"
   ]
  },
  {
   "cell_type": "code",
   "execution_count": 2,
   "id": "6cbbb75b",
   "metadata": {},
   "outputs": [
    {
     "data": {
      "text/plain": [
       "'/home/antero/Documentos/TCC/microdados'"
      ]
     },
     "execution_count": 2,
     "metadata": {},
     "output_type": "execute_result"
    }
   ],
   "source": [
    "os.chdir(\"../microdados\")\n",
    "os.getcwd()"
   ]
  },
  {
   "cell_type": "markdown",
   "id": "a74239ec",
   "metadata": {},
   "source": [
    "### Lendo dados do arquivo CSV e importando para o DataFrame do Pandas"
   ]
  },
  {
   "cell_type": "code",
   "execution_count": 3,
   "id": "4aa5dd0d",
   "metadata": {},
   "outputs": [],
   "source": [
    "df_oscars=pd.read_csv(\"the_oscar_award.csv\")"
   ]
  },
  {
   "cell_type": "markdown",
   "id": "4b5cbc0c",
   "metadata": {},
   "source": [
    "### Explorando o DataFrame"
   ]
  },
  {
   "cell_type": "code",
   "execution_count": 7,
   "id": "2ca7bb21",
   "metadata": {},
   "outputs": [
    {
     "data": {
      "text/plain": [
       "(10395, 7)"
      ]
     },
     "execution_count": 7,
     "metadata": {},
     "output_type": "execute_result"
    }
   ],
   "source": [
    "df_oscars.shape"
   ]
  },
  {
   "cell_type": "code",
   "execution_count": 21,
   "id": "fbf414e4",
   "metadata": {},
   "outputs": [
    {
     "data": {
      "text/html": [
       "<div>\n",
       "<style scoped>\n",
       "    .dataframe tbody tr th:only-of-type {\n",
       "        vertical-align: middle;\n",
       "    }\n",
       "\n",
       "    .dataframe tbody tr th {\n",
       "        vertical-align: top;\n",
       "    }\n",
       "\n",
       "    .dataframe thead th {\n",
       "        text-align: right;\n",
       "    }\n",
       "</style>\n",
       "<table border=\"1\" class=\"dataframe\">\n",
       "  <thead>\n",
       "    <tr style=\"text-align: right;\">\n",
       "      <th></th>\n",
       "      <th>year_film</th>\n",
       "      <th>year_ceremony</th>\n",
       "      <th>ceremony</th>\n",
       "      <th>category</th>\n",
       "      <th>name</th>\n",
       "      <th>film</th>\n",
       "      <th>winner</th>\n",
       "    </tr>\n",
       "  </thead>\n",
       "  <tbody>\n",
       "    <tr>\n",
       "      <th>0</th>\n",
       "      <td>1927</td>\n",
       "      <td>1928</td>\n",
       "      <td>1</td>\n",
       "      <td>ACTOR</td>\n",
       "      <td>Richard Barthelmess</td>\n",
       "      <td>The Noose</td>\n",
       "      <td>False</td>\n",
       "    </tr>\n",
       "    <tr>\n",
       "      <th>1</th>\n",
       "      <td>1927</td>\n",
       "      <td>1928</td>\n",
       "      <td>1</td>\n",
       "      <td>ACTOR</td>\n",
       "      <td>Emil Jannings</td>\n",
       "      <td>The Last Command</td>\n",
       "      <td>True</td>\n",
       "    </tr>\n",
       "    <tr>\n",
       "      <th>2</th>\n",
       "      <td>1927</td>\n",
       "      <td>1928</td>\n",
       "      <td>1</td>\n",
       "      <td>ACTRESS</td>\n",
       "      <td>Louise Dresser</td>\n",
       "      <td>A Ship Comes In</td>\n",
       "      <td>False</td>\n",
       "    </tr>\n",
       "    <tr>\n",
       "      <th>3</th>\n",
       "      <td>1927</td>\n",
       "      <td>1928</td>\n",
       "      <td>1</td>\n",
       "      <td>ACTRESS</td>\n",
       "      <td>Janet Gaynor</td>\n",
       "      <td>7th Heaven</td>\n",
       "      <td>True</td>\n",
       "    </tr>\n",
       "    <tr>\n",
       "      <th>4</th>\n",
       "      <td>1927</td>\n",
       "      <td>1928</td>\n",
       "      <td>1</td>\n",
       "      <td>ACTRESS</td>\n",
       "      <td>Gloria Swanson</td>\n",
       "      <td>Sadie Thompson</td>\n",
       "      <td>False</td>\n",
       "    </tr>\n",
       "  </tbody>\n",
       "</table>\n",
       "</div>"
      ],
      "text/plain": [
       "   year_film  year_ceremony  ceremony category                 name  \\\n",
       "0       1927           1928         1    ACTOR  Richard Barthelmess   \n",
       "1       1927           1928         1    ACTOR        Emil Jannings   \n",
       "2       1927           1928         1  ACTRESS       Louise Dresser   \n",
       "3       1927           1928         1  ACTRESS         Janet Gaynor   \n",
       "4       1927           1928         1  ACTRESS       Gloria Swanson   \n",
       "\n",
       "               film  winner  \n",
       "0         The Noose   False  \n",
       "1  The Last Command    True  \n",
       "2   A Ship Comes In   False  \n",
       "3        7th Heaven    True  \n",
       "4    Sadie Thompson   False  "
      ]
     },
     "execution_count": 21,
     "metadata": {},
     "output_type": "execute_result"
    }
   ],
   "source": [
    "df_oscars.head()"
   ]
  },
  {
   "cell_type": "code",
   "execution_count": 22,
   "id": "eba9b72f",
   "metadata": {},
   "outputs": [
    {
     "name": "stdout",
     "output_type": "stream",
     "text": [
      "<class 'pandas.core.frame.DataFrame'>\n",
      "RangeIndex: 10395 entries, 0 to 10394\n",
      "Data columns (total 7 columns):\n",
      " #   Column         Non-Null Count  Dtype \n",
      "---  ------         --------------  ----- \n",
      " 0   year_film      10395 non-null  int64 \n",
      " 1   year_ceremony  10395 non-null  int64 \n",
      " 2   ceremony       10395 non-null  int64 \n",
      " 3   category       10395 non-null  object\n",
      " 4   name           10395 non-null  object\n",
      " 5   film           10091 non-null  object\n",
      " 6   winner         10395 non-null  bool  \n",
      "dtypes: bool(1), int64(3), object(3)\n",
      "memory usage: 497.5+ KB\n"
     ]
    }
   ],
   "source": [
    "df_oscars.info()"
   ]
  },
  {
   "cell_type": "code",
   "execution_count": 32,
   "id": "cd270374",
   "metadata": {},
   "outputs": [
    {
     "data": {
      "text/plain": [
       "<AxesSubplot:>"
      ]
     },
     "execution_count": 32,
     "metadata": {},
     "output_type": "execute_result"
    },
    {
     "data": {
      "image/png": "[encoded data removed]",
      "text/plain": [
       "<Figure size 720x432 with 1 Axes>"
      ]
     },
     "metadata": {
      "needs_background": "light"
     },
     "output_type": "display_data"
    }
   ],
   "source": [
    "plt.figure(figsize=(10, 6))\n",
    "sns.heatmap(df_oscars.isnull(), yticklabels=False, cbar=False, cmap='viridis')"
   ]
  },
  {
   "cell_type": "code",
   "execution_count": 33,
   "id": "79ec5f1a",
   "metadata": {},
   "outputs": [
    {
     "data": {
      "text/plain": [
       "year_film        0.000000\n",
       "year_ceremony    0.000000\n",
       "ceremony         0.000000\n",
       "category         0.000000\n",
       "name             0.000000\n",
       "film             0.029245\n",
       "winner           0.000000\n",
       "dtype: float64"
      ]
     },
     "execution_count": 33,
     "metadata": {},
     "output_type": "execute_result"
    }
   ],
   "source": [
    "df_oscars.isnull().mean()"
   ]
  },
  {
   "cell_type": "code",
   "execution_count": 8,
   "id": "f3dc9e75",
   "metadata": {},
   "outputs": [
    {
     "data": {
      "text/html": [
       "<div>\n",
       "<style scoped>\n",
       "    .dataframe tbody tr th:only-of-type {\n",
       "        vertical-align: middle;\n",
       "    }\n",
       "\n",
       "    .dataframe tbody tr th {\n",
       "        vertical-align: top;\n",
       "    }\n",
       "\n",
       "    .dataframe thead th {\n",
       "        text-align: right;\n",
       "    }\n",
       "</style>\n",
       "<table border=\"1\" class=\"dataframe\">\n",
       "  <thead>\n",
       "    <tr style=\"text-align: right;\">\n",
       "      <th></th>\n",
       "      <th>year_film</th>\n",
       "      <th>year_ceremony</th>\n",
       "      <th>ceremony</th>\n",
       "      <th>category</th>\n",
       "      <th>name</th>\n",
       "      <th>film</th>\n",
       "      <th>winner</th>\n",
       "    </tr>\n",
       "  </thead>\n",
       "  <tbody>\n",
       "    <tr>\n",
       "      <th>0</th>\n",
       "      <td>1927</td>\n",
       "      <td>1928</td>\n",
       "      <td>1</td>\n",
       "      <td>ACTOR</td>\n",
       "      <td>Richard Barthelmess</td>\n",
       "      <td>The Noose</td>\n",
       "      <td>False</td>\n",
       "    </tr>\n",
       "    <tr>\n",
       "      <th>1</th>\n",
       "      <td>1927</td>\n",
       "      <td>1928</td>\n",
       "      <td>1</td>\n",
       "      <td>ACTOR</td>\n",
       "      <td>Emil Jannings</td>\n",
       "      <td>The Last Command</td>\n",
       "      <td>True</td>\n",
       "    </tr>\n",
       "    <tr>\n",
       "      <th>2</th>\n",
       "      <td>1927</td>\n",
       "      <td>1928</td>\n",
       "      <td>1</td>\n",
       "      <td>ACTRESS</td>\n",
       "      <td>Louise Dresser</td>\n",
       "      <td>A Ship Comes In</td>\n",
       "      <td>False</td>\n",
       "    </tr>\n",
       "    <tr>\n",
       "      <th>3</th>\n",
       "      <td>1927</td>\n",
       "      <td>1928</td>\n",
       "      <td>1</td>\n",
       "      <td>ACTRESS</td>\n",
       "      <td>Janet Gaynor</td>\n",
       "      <td>7th Heaven</td>\n",
       "      <td>True</td>\n",
       "    </tr>\n",
       "    <tr>\n",
       "      <th>4</th>\n",
       "      <td>1927</td>\n",
       "      <td>1928</td>\n",
       "      <td>1</td>\n",
       "      <td>ACTRESS</td>\n",
       "      <td>Gloria Swanson</td>\n",
       "      <td>Sadie Thompson</td>\n",
       "      <td>False</td>\n",
       "    </tr>\n",
       "  </tbody>\n",
       "</table>\n",
       "</div>"
      ],
      "text/plain": [
       "   year_film  year_ceremony  ceremony category                 name  \\\n",
       "0       1927           1928         1    ACTOR  Richard Barthelmess   \n",
       "1       1927           1928         1    ACTOR        Emil Jannings   \n",
       "2       1927           1928         1  ACTRESS       Louise Dresser   \n",
       "3       1927           1928         1  ACTRESS         Janet Gaynor   \n",
       "4       1927           1928         1  ACTRESS       Gloria Swanson   \n",
       "\n",
       "               film  winner  \n",
       "0         The Noose   False  \n",
       "1  The Last Command    True  \n",
       "2   A Ship Comes In   False  \n",
       "3        7th Heaven    True  \n",
       "4    Sadie Thompson   False  "
      ]
     },
     "execution_count": 8,
     "metadata": {},
     "output_type": "execute_result"
    }
   ],
   "source": []
  },
  {
   "cell_type": "code",
   "execution_count": 4,
   "id": "978705f4",
   "metadata": {},
   "outputs": [
    {
     "data": {
      "text/plain": [
       "<seaborn.axisgrid.PairGrid at 0x7f88c03d4d30>"
      ]
     },
     "execution_count": 4,
     "metadata": {},
     "output_type": "execute_result"
    },
    {
     "data": {
      "image/png": "[encoded data removed]",
      "text/plain": [
       "<Figure size 601.25x540 with 12 Axes>"
      ]
     },
     "metadata": {
      "needs_background": "light"
     },
     "output_type": "display_data"
    }
   ],
   "source": [
    "sns.pairplot(df_oscars,hue='winner',palette='bwr')"
   ]
  },
  {
   "cell_type": "code",
   "execution_count": 34,
   "id": "14b56724",
   "metadata": {
    "scrolled": true
   },
   "outputs": [
    {
     "data": {
      "text/plain": [
       "False    8038\n",
       "True     2357\n",
       "Name: winner, dtype: int64"
      ]
     },
     "execution_count": 34,
     "metadata": {},
     "output_type": "execute_result"
    }
   ],
   "source": [
    "df_oscars.winner.value_counts()"
   ]
  },
  {
   "cell_type": "code",
   "execution_count": null,
   "id": "f3ca8645",
   "metadata": {},
   "outputs": [],
   "source": [
    "df_oscars"
   ]
  },
  {
   "cell_type": "code",
   "execution_count": 8,
   "id": "c9cdd9ac",
   "metadata": {},
   "outputs": [
    {
     "data": {
      "text/html": [
       "<div>\n",
       "<style scoped>\n",
       "    .dataframe tbody tr th:only-of-type {\n",
       "        vertical-align: middle;\n",
       "    }\n",
       "\n",
       "    .dataframe tbody tr th {\n",
       "        vertical-align: top;\n",
       "    }\n",
       "\n",
       "    .dataframe thead th {\n",
       "        text-align: right;\n",
       "    }\n",
       "</style>\n",
       "<table border=\"1\" class=\"dataframe\">\n",
       "  <thead>\n",
       "    <tr style=\"text-align: right;\">\n",
       "      <th></th>\n",
       "      <th>year_film</th>\n",
       "      <th>year_ceremony</th>\n",
       "      <th>ceremony</th>\n",
       "      <th>category</th>\n",
       "      <th>name</th>\n",
       "      <th>film</th>\n",
       "      <th>winner</th>\n",
       "      <th>nominee</th>\n",
       "    </tr>\n",
       "  </thead>\n",
       "  <tbody>\n",
       "    <tr>\n",
       "      <th>0</th>\n",
       "      <td>1927</td>\n",
       "      <td>1928</td>\n",
       "      <td>1</td>\n",
       "      <td>ACTOR</td>\n",
       "      <td>Richard Barthelmess</td>\n",
       "      <td>The Noose</td>\n",
       "      <td>False</td>\n",
       "      <td>True</td>\n",
       "    </tr>\n",
       "    <tr>\n",
       "      <th>1</th>\n",
       "      <td>1927</td>\n",
       "      <td>1928</td>\n",
       "      <td>1</td>\n",
       "      <td>ACTOR</td>\n",
       "      <td>Emil Jannings</td>\n",
       "      <td>The Last Command</td>\n",
       "      <td>True</td>\n",
       "      <td>True</td>\n",
       "    </tr>\n",
       "    <tr>\n",
       "      <th>2</th>\n",
       "      <td>1927</td>\n",
       "      <td>1928</td>\n",
       "      <td>1</td>\n",
       "      <td>ACTRESS</td>\n",
       "      <td>Louise Dresser</td>\n",
       "      <td>A Ship Comes In</td>\n",
       "      <td>False</td>\n",
       "      <td>True</td>\n",
       "    </tr>\n",
       "    <tr>\n",
       "      <th>3</th>\n",
       "      <td>1927</td>\n",
       "      <td>1928</td>\n",
       "      <td>1</td>\n",
       "      <td>ACTRESS</td>\n",
       "      <td>Janet Gaynor</td>\n",
       "      <td>7th Heaven</td>\n",
       "      <td>True</td>\n",
       "      <td>True</td>\n",
       "    </tr>\n",
       "    <tr>\n",
       "      <th>4</th>\n",
       "      <td>1927</td>\n",
       "      <td>1928</td>\n",
       "      <td>1</td>\n",
       "      <td>ACTRESS</td>\n",
       "      <td>Gloria Swanson</td>\n",
       "      <td>Sadie Thompson</td>\n",
       "      <td>False</td>\n",
       "      <td>True</td>\n",
       "    </tr>\n",
       "    <tr>\n",
       "      <th>...</th>\n",
       "      <td>...</td>\n",
       "      <td>...</td>\n",
       "      <td>...</td>\n",
       "      <td>...</td>\n",
       "      <td>...</td>\n",
       "      <td>...</td>\n",
       "      <td>...</td>\n",
       "      <td>...</td>\n",
       "    </tr>\n",
       "    <tr>\n",
       "      <th>10390</th>\n",
       "      <td>2019</td>\n",
       "      <td>2020</td>\n",
       "      <td>92</td>\n",
       "      <td>WRITING (Original Screenplay)</td>\n",
       "      <td>Screenplay by Bong Joon Ho, Han Jin Won; Story...</td>\n",
       "      <td>Parasite</td>\n",
       "      <td>True</td>\n",
       "      <td>True</td>\n",
       "    </tr>\n",
       "    <tr>\n",
       "      <th>10391</th>\n",
       "      <td>2019</td>\n",
       "      <td>2020</td>\n",
       "      <td>92</td>\n",
       "      <td>JEAN HERSHOLT HUMANITARIAN AWARD</td>\n",
       "      <td>Geena Davis</td>\n",
       "      <td>NaN</td>\n",
       "      <td>True</td>\n",
       "      <td>True</td>\n",
       "    </tr>\n",
       "    <tr>\n",
       "      <th>10392</th>\n",
       "      <td>2019</td>\n",
       "      <td>2020</td>\n",
       "      <td>92</td>\n",
       "      <td>HONORARY AWARD</td>\n",
       "      <td>David Lynch</td>\n",
       "      <td>NaN</td>\n",
       "      <td>True</td>\n",
       "      <td>True</td>\n",
       "    </tr>\n",
       "    <tr>\n",
       "      <th>10393</th>\n",
       "      <td>2019</td>\n",
       "      <td>2020</td>\n",
       "      <td>92</td>\n",
       "      <td>HONORARY AWARD</td>\n",
       "      <td>Wes Studi</td>\n",
       "      <td>NaN</td>\n",
       "      <td>True</td>\n",
       "      <td>True</td>\n",
       "    </tr>\n",
       "    <tr>\n",
       "      <th>10394</th>\n",
       "      <td>2019</td>\n",
       "      <td>2020</td>\n",
       "      <td>92</td>\n",
       "      <td>HONORARY AWARD</td>\n",
       "      <td>Lina Wertmüller</td>\n",
       "      <td>NaN</td>\n",
       "      <td>True</td>\n",
       "      <td>True</td>\n",
       "    </tr>\n",
       "  </tbody>\n",
       "</table>\n",
       "<p>10395 rows × 8 columns</p>\n",
       "</div>"
      ],
      "text/plain": [
       "       year_film  year_ceremony  ceremony                          category  \\\n",
       "0           1927           1928         1                             ACTOR   \n",
       "1           1927           1928         1                             ACTOR   \n",
       "2           1927           1928         1                           ACTRESS   \n",
       "3           1927           1928         1                           ACTRESS   \n",
       "4           1927           1928         1                           ACTRESS   \n",
       "...          ...            ...       ...                               ...   \n",
       "10390       2019           2020        92     WRITING (Original Screenplay)   \n",
       "10391       2019           2020        92  JEAN HERSHOLT HUMANITARIAN AWARD   \n",
       "10392       2019           2020        92                    HONORARY AWARD   \n",
       "10393       2019           2020        92                    HONORARY AWARD   \n",
       "10394       2019           2020        92                    HONORARY AWARD   \n",
       "\n",
       "                                                    name              film  \\\n",
       "0                                    Richard Barthelmess         The Noose   \n",
       "1                                          Emil Jannings  The Last Command   \n",
       "2                                         Louise Dresser   A Ship Comes In   \n",
       "3                                           Janet Gaynor        7th Heaven   \n",
       "4                                         Gloria Swanson    Sadie Thompson   \n",
       "...                                                  ...               ...   \n",
       "10390  Screenplay by Bong Joon Ho, Han Jin Won; Story...          Parasite   \n",
       "10391                                        Geena Davis               NaN   \n",
       "10392                                        David Lynch               NaN   \n",
       "10393                                          Wes Studi               NaN   \n",
       "10394                                    Lina Wertmüller               NaN   \n",
       "\n",
       "       winner  nominee  \n",
       "0       False     True  \n",
       "1        True     True  \n",
       "2       False     True  \n",
       "3        True     True  \n",
       "4       False     True  \n",
       "...       ...      ...  \n",
       "10390    True     True  \n",
       "10391    True     True  \n",
       "10392    True     True  \n",
       "10393    True     True  \n",
       "10394    True     True  \n",
       "\n",
       "[10395 rows x 8 columns]"
      ]
     },
     "execution_count": 8,
     "metadata": {},
     "output_type": "execute_result"
    }
   ],
   "source": [
    "df_oscars['nominee']=pd.Series([True for x in range(len(df_oscars.index))])\n",
    "df_oscars"
   ]
  },
  {
   "cell_type": "code",
   "execution_count": 149,
   "id": "96381de3",
   "metadata": {},
   "outputs": [
    {
     "data": {
      "text/plain": [
       "film\n",
       "Titanic                                          12\n",
       "The Lord of the Rings: The Return of the King    11\n",
       "Ben-Hur                                          11\n",
       "West Side Story                                  10\n",
       "The English Patient                               9\n",
       "Gigi                                              9\n",
       "The Last Emperor                                  9\n",
       "Slumdog Millionaire                               8\n",
       "On the Waterfront                                 8\n",
       "My Fair Lady                                      8\n",
       "Gone with the Wind                                8\n",
       "From Here to Eternity                             8\n",
       "Amadeus                                           8\n",
       "Gandhi                                            8\n",
       "Cabaret                                           8\n",
       "The Bridge on the River Kwai                      7\n",
       "Schindler's List                                  7\n",
       "Gravity                                           7\n",
       "The Sting                                         7\n",
       "Shakespeare in Love                               7\n",
       "Name: winner, dtype: int64"
      ]
     },
     "execution_count": 149,
     "metadata": {},
     "output_type": "execute_result"
    }
   ],
   "source": [
    "df_oscars_grp_film=df_oscars.groupby('film')\n",
    "df_oscars_grp_film.winner.sum().sort_values(ascending=False).head(20)"
   ]
  },
  {
   "cell_type": "code",
   "execution_count": 143,
   "id": "1793cc88",
   "metadata": {},
   "outputs": [
    {
     "data": {
      "text/plain": [
       "name\n",
       "John Ford                4\n",
       "Frank Capra              3\n",
       "William Wyler            3\n",
       "Joseph L. Mankiewicz     2\n",
       "Ang Lee                  2\n",
       "Clint Eastwood           2\n",
       "Oliver Stone             2\n",
       "Billy Wilder             2\n",
       "Elia Kazan               2\n",
       "Milos Forman             2\n",
       "Fred Zinnemann           2\n",
       "George Stevens           2\n",
       "David Lean               2\n",
       "Alfonso Cuarón           2\n",
       "Leo McCarey              2\n",
       "Frank Lloyd              2\n",
       "Alejandro G. Iñárritu    2\n",
       "Steven Spielberg         2\n",
       "George Roy Hill          1\n",
       "Robert Zemeckis          1\n",
       "Name: winner, dtype: int64"
      ]
     },
     "execution_count": 143,
     "metadata": {},
     "output_type": "execute_result"
    }
   ],
   "source": [
    "df_oscars_grp_name=df_oscars.groupby('category')\n",
    "df_set=pd.DataFrame(df_oscars_grp_name.get_group('DIRECTING'))\n",
    "df_set2=df_set.groupby('name')\n",
    "df_set2.winner.sum().sort_values(ascending=False).head(20)"
   ]
  },
  {
   "cell_type": "code",
   "execution_count": 144,
   "id": "cfb30809",
   "metadata": {},
   "outputs": [
    {
     "data": {
      "text/plain": [
       "name\n",
       "Gary Cooper         2\n",
       "Spencer Tracy       2\n",
       "Marlon Brando       2\n",
       "Fredric March       2\n",
       "George C. Scott     1\n",
       "Gregory Peck        1\n",
       "George Arliss       1\n",
       "Humphrey Bogart     1\n",
       "Gene Hackman        1\n",
       "Jack Nicholson      1\n",
       "James Cagney        1\n",
       "James Stewart       1\n",
       "John Wayne          1\n",
       "José Ferrer         1\n",
       "Lee Marvin          1\n",
       "Lionel Barrymore    1\n",
       "Jack Lemmon         1\n",
       "Laurence Olivier    1\n",
       "Paul Lukas          1\n",
       "Paul Muni           1\n",
       "Name: winner, dtype: int64"
      ]
     },
     "execution_count": 144,
     "metadata": {},
     "output_type": "execute_result"
    }
   ],
   "source": [
    "df_oscars_grp_name=df_oscars.groupby('category')\n",
    "df_set=pd.DataFrame(df_oscars_grp_name.get_group('ACTOR'))\n",
    "df_set2=df_set.groupby('name')\n",
    "df_set2.winner.sum().sort_values(ascending=False).head(20)"
   ]
  },
  {
   "cell_type": "code",
   "execution_count": 146,
   "id": "4c7b7125",
   "metadata": {},
   "outputs": [
    {
     "data": {
      "text/plain": [
       "name\n",
       "Katharine Hepburn      3\n",
       "Ingrid Bergman         2\n",
       "Vivien Leigh           2\n",
       "Olivia de Havilland    2\n",
       "Glenda Jackson         2\n",
       "Bette Davis            2\n",
       "Luise Rainer           2\n",
       "Elizabeth Taylor       2\n",
       "Mary Pickford          1\n",
       "Marie Dressler         1\n",
       "Ginger Rogers          1\n",
       "Maggie Smith           1\n",
       "Grace Kelly            1\n",
       "Greer Garson           1\n",
       "Helen Hayes            1\n",
       "Loretta Young          1\n",
       "Louise Fletcher        1\n",
       "Jane Fonda             1\n",
       "Jane Wyman             1\n",
       "Janet Gaynor           1\n",
       "Name: winner, dtype: int64"
      ]
     },
     "execution_count": 146,
     "metadata": {},
     "output_type": "execute_result"
    }
   ],
   "source": [
    "df_oscars_grp_name=df_oscars.groupby('category')\n",
    "df_set=pd.DataFrame(df_oscars_grp_name.get_group('ACTRESS'))\n",
    "df_set2=df_set.groupby('name')\n",
    "df_set2.winner.sum().sort_values(ascending=False).head(20)"
   ]
  },
  {
   "cell_type": "code",
   "execution_count": 151,
   "id": "7ebbb44c",
   "metadata": {},
   "outputs": [
    {
     "data": {
      "text/plain": [
       "DIRECTING                       449\n",
       "FILM EDITING                    430\n",
       "ACTRESS IN A SUPPORTING ROLE    420\n",
       "ACTOR IN A SUPPORTING ROLE      420\n",
       "DOCUMENTARY (Short Subject)     368\n",
       "DOCUMENTARY (Feature)           335\n",
       "BEST PICTURE                    333\n",
       "CINEMATOGRAPHY                  318\n",
       "FOREIGN LANGUAGE FILM           315\n",
       "ART DIRECTION                   307\n",
       "COSTUME DESIGN                  275\n",
       "MUSIC (Original Score)          250\n",
       "ACTRESS                         236\n",
       "ACTOR                           232\n",
       "SOUND                           225\n",
       "ACTOR IN A LEADING ROLE         220\n",
       "ACTRESS IN A LEADING ROLE       220\n",
       "MUSIC (Song)                    215\n",
       "MUSIC (Original Song)           215\n",
       "SHORT FILM (Live Action)        206\n",
       "Name: category, dtype: int64"
      ]
     },
     "execution_count": 151,
     "metadata": {},
     "output_type": "execute_result"
    }
   ],
   "source": [
    "df_oscars.category.value_counts(dropna=False).sort_values(ascending=False).head(20)"
   ]
  },
  {
   "cell_type": "code",
   "execution_count": 12,
   "id": "6ebb0f97",
   "metadata": {},
   "outputs": [
    {
     "data": {
      "text/plain": [
       "DIRECTING                                    0.043194\n",
       "FILM EDITING                                 0.041366\n",
       "ACTOR IN A SUPPORTING ROLE                   0.040404\n",
       "ACTRESS IN A SUPPORTING ROLE                 0.040404\n",
       "DOCUMENTARY (Short Subject)                  0.035402\n",
       "                                               ...   \n",
       "WRITING (Title Writing)                      0.000289\n",
       "DIRECTING (Comedy Picture)                   0.000192\n",
       "SPECIAL FOREIGN LANGUAGE FILM AWARD          0.000192\n",
       "SPECIAL ACHIEVEMENT AWARD (Sound Effects)    0.000096\n",
       "SPECIAL ACHIEVEMENT AWARD (Sound Editing)    0.000096\n",
       "Name: category, Length: 111, dtype: float64"
      ]
     },
     "execution_count": 12,
     "metadata": {},
     "output_type": "execute_result"
    }
   ],
   "source": [
    "df_oscar.category.value_counts(normalize=True, dropna=False)"
   ]
  },
  {
   "cell_type": "markdown",
   "id": "129683c5",
   "metadata": {},
   "source": [
    "## Salvando Data Frame Tratado"
   ]
  },
  {
   "cell_type": "code",
   "execution_count": 9,
   "id": "05c7f1f2",
   "metadata": {},
   "outputs": [],
   "source": [
    "df_oscars.to_csv('../tratados/df_oscar_tratado.csv',index=False)"
   ]
  },
  {
   "cell_type": "code",
   "execution_count": null,
   "id": "8d229624",
   "metadata": {},
   "outputs": [],
   "source": []
  }
 ],
 "metadata": {
  "kernelspec": {
   "display_name": "Python 3",
   "language": "python",
   "name": "python3"
  },
  "language_info": {
   "codemirror_mode": {
    "name": "ipython",
    "version": 3
   },
   "file_extension": ".py",
   "mimetype": "text/x-python",
   "name": "python",
   "nbconvert_exporter": "python",
   "pygments_lexer": "ipython3",
   "version": "3.8.8"
  }
 },
 "nbformat": 4,
 "nbformat_minor": 5
}
