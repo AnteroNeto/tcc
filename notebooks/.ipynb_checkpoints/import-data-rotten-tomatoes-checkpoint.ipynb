{
 "cells": [
  {
   "cell_type": "code",
   "execution_count": 1,
   "metadata": {},
   "outputs": [
    {
     "data": {
      "text/plain": [
       "'/home/antero/Documentos/TCC/microdados'"
      ]
     },
     "execution_count": 1,
     "metadata": {},
     "output_type": "execute_result"
    }
   ],
   "source": [
    "#conda install -c conda-forge kaggle\n",
    "import os\n",
    "os.chdir(\"../microdados\")\n",
    "os.getcwd()"
   ]
  },
  {
   "cell_type": "code",
   "execution_count": 4,
   "metadata": {},
   "outputs": [],
   "source": [
    "import kaggle"
   ]
  },
  {
   "cell_type": "code",
   "execution_count": 5,
   "metadata": {},
   "outputs": [],
   "source": [
    "from kaggle.api.kaggle_api_extended import KaggleApi\n",
    "api = KaggleApi()\n",
    "api.authenticate()"
   ]
  },
  {
   "cell_type": "code",
   "execution_count": 6,
   "metadata": {},
   "outputs": [
    {
     "data": {
      "text/plain": [
       "[rotten_tomatoes_critic_reviews.csv, rotten_tomatoes_movies.csv]"
      ]
     },
     "execution_count": 6,
     "metadata": {},
     "output_type": "execute_result"
    }
   ],
   "source": [
    "api.dataset_list_files('stefanoleone992/rotten-tomatoes-movies-and-critic-reviews-dataset').files"
   ]
  },
  {
   "cell_type": "code",
   "execution_count": 7,
   "metadata": {},
   "outputs": [],
   "source": [
    "api.dataset_download_files('stefanoleone992/rotten-tomatoes-movies-and-critic-reviews-dataset', unzip=True)"
   ]
  },
  {
   "cell_type": "code",
   "execution_count": 8,
   "metadata": {},
   "outputs": [
    {
     "name": "stdout",
     "output_type": "stream",
     "text": [
      "CannesPalmedor.xlsx\t\t    rotten_tomatoes_movies.csv\r\n",
      "collection_ids_02_20_2021.json\t    the_oscar_award.csv\r\n",
      "collection_ids_02_20_2021.json.gz   title.basics.tsv\r\n",
      "df_palmedor_tratado.csv\t\t    title.basics.tsv.gz\r\n",
      "movie_ids_02_20_2021.json\t    title.ratings.tsv\r\n",
      "movie_ids_02_20_2021.json.gz\t    title.ratings.tsv.gz\r\n",
      "rotten_tomatoes_critic_reviews.csv\r\n"
     ]
    }
   ],
   "source": []
  },
  {
   "cell_type": "code",
   "execution_count": null,
   "metadata": {},
   "outputs": [],
   "source": []
  }
 ],
 "metadata": {
  "kernelspec": {
   "display_name": "Python 3 (ipykernel)",
   "language": "python",
   "name": "python3"
  },
  "language_info": {
   "codemirror_mode": {
    "name": "ipython",
    "version": 3
   },
   "file_extension": ".py",
   "mimetype": "text/x-python",
   "name": "python",
   "nbconvert_exporter": "python",
   "pygments_lexer": "ipython3",
   "version": "3.8.12"
  }
 },
 "nbformat": 4,
 "nbformat_minor": 4
}
