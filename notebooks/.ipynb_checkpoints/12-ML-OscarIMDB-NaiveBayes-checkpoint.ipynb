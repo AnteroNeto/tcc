{
 "cells": [
  {
   "cell_type": "markdown",
   "id": "6a841b2d-f797-4021-874a-7740a3a47713",
   "metadata": {},
   "source": [
    "# Machine learning - Naive Bayes - IMDB Oscar"
   ]
  },
  {
   "cell_type": "code",
   "execution_count": 2,
   "id": "668a4770-93bd-4b34-bd66-5b82d518731c",
   "metadata": {},
   "outputs": [],
   "source": [
    "import os\n",
    "import pandas as pd\n",
    "import pickle\n",
    "\n",
    "from sklearn.preprocessing import StandardScaler\n",
    "from sklearn.preprocessing import LabelEncoder\n",
    "from sklearn.model_selection import train_test_split\n",
    "from sklearn.naive_bayes import GaussianNB\n",
    "from sklearn.metrics import accuracy_score, confusion_matrix, classification_report\n",
    "from yellowbrick.classifier import ConfusionMatrix"
   ]
  },
  {
   "cell_type": "code",
   "execution_count": 3,
   "id": "086e7a59-47cd-4787-a0cf-fb4ebd32f5ce",
   "metadata": {},
   "outputs": [
    {
     "data": {
      "text/plain": [
       "'/home/antero/Documentos/tcc/tratados'"
      ]
     },
     "execution_count": 3,
     "metadata": {},
     "output_type": "execute_result"
    }
   ],
   "source": [
    "os.chdir(\"../tratados\")\n",
    "os.getcwd()"
   ]
  },
  {
   "cell_type": "markdown",
   "id": "0cd588e8-62b1-4dbc-8a8b-f992e8ce3873",
   "metadata": {},
   "source": [
    "## Importando o Dataframe"
   ]
  },
  {
   "cell_type": "code",
   "execution_count": 4,
   "id": "f77aaa88-796c-4e5b-b172-7b2633f2f25f",
   "metadata": {},
   "outputs": [],
   "source": [
    "with open('oscar_imdb.pkl', 'rb') as f:\n",
    "    df_imdb_oscar=pickle.load(f)"
   ]
  },
  {
   "cell_type": "code",
   "execution_count": 5,
   "id": "b3962d86-25fc-4ab2-ba1a-9508759bb986",
   "metadata": {},
   "outputs": [
    {
     "name": "stdout",
     "output_type": "stream",
     "text": [
      "<class 'pandas.core.frame.DataFrame'>\n",
      "Int64Index: 444329 entries, 0 to 447056\n",
      "Data columns (total 9 columns):\n",
      " #   Column         Non-Null Count   Dtype  \n",
      "---  ------         --------------   -----  \n",
      " 0   titleType      444329 non-null  object \n",
      " 1   primaryTitle   444329 non-null  object \n",
      " 2   originalTitle  444329 non-null  object \n",
      " 3   startYear      444329 non-null  int64  \n",
      " 4   genres         432835 non-null  object \n",
      " 5   averageRating  444329 non-null  float64\n",
      " 6   numVotes       444329 non-null  int64  \n",
      " 7   nominee        444329 non-null  object \n",
      " 8   winner         444329 non-null  object \n",
      "dtypes: float64(1), int64(2), object(6)\n",
      "memory usage: 33.9+ MB\n"
     ]
    }
   ],
   "source": [
    "df_imdb_oscar.info()"
   ]
  },
  {
   "cell_type": "markdown",
   "id": "a806fa96-efae-4a18-b296-c4dbdfab3296",
   "metadata": {},
   "source": [
    "### Divisão entre previsores e classe"
   ]
  },
  {
   "cell_type": "code",
   "execution_count": 6,
   "id": "ea274d2f-0cdc-4518-9756-98e6d048293f",
   "metadata": {},
   "outputs": [],
   "source": [
    "X_imdb_oscar = df_imdb_oscar.iloc[:, 5:7]"
   ]
  },
  {
   "cell_type": "code",
   "execution_count": 7,
   "id": "0a12226f-61a5-4845-b307-9bcd0844cb9a",
   "metadata": {},
   "outputs": [],
   "source": [
    "Y_imdb_oscar_nominee = df_imdb_oscar.iloc[:, 7]"
   ]
  },
  {
   "cell_type": "code",
   "execution_count": 8,
   "id": "6336785d-d89a-4a0d-a81c-ba9d9d308ac9",
   "metadata": {},
   "outputs": [],
   "source": [
    "Y_imdb_oscar_winner = df_imdb_oscar.iloc[:, 8]"
   ]
  },
  {
   "cell_type": "markdown",
   "id": "ad09c974-950c-4247-8761-86ebeab26691",
   "metadata": {},
   "source": [
    "### Escalonamento dos valores"
   ]
  },
  {
   "cell_type": "code",
   "execution_count": 9,
   "id": "13b0b4e1-e617-4c75-81a2-34bb178c6c46",
   "metadata": {},
   "outputs": [],
   "source": [
    "scaler = StandardScaler()\n",
    "X_imdb_oscar = scaler.fit_transform(X_imdb_oscar)"
   ]
  },
  {
   "cell_type": "markdown",
   "id": "6d9ba800-9835-463a-a8d5-97aa7dcb3e78",
   "metadata": {},
   "source": [
    "### Tratamento de atributos categóricos"
   ]
  },
  {
   "cell_type": "code",
   "execution_count": 10,
   "id": "52a3c89f-c5ef-4197-8975-d8f0dde320a7",
   "metadata": {},
   "outputs": [],
   "source": [
    "label_encoder = LabelEncoder()\n",
    "Y_imdb_oscar_winner = label_encoder.fit_transform(Y_imdb_oscar_winner)\n",
    "Y_imdb_oscar_nominee = label_encoder.fit_transform(Y_imdb_oscar_nominee)"
   ]
  },
  {
   "cell_type": "markdown",
   "id": "2bd5a188-a480-4a03-be66-9169f5aa29d3",
   "metadata": {},
   "source": [
    "### Naive Bayes Nominee"
   ]
  },
  {
   "cell_type": "markdown",
   "id": "32d147b4-bc72-49e1-822d-ba5071e4a4de",
   "metadata": {},
   "source": [
    "#### Divisão Treinamento e Teste"
   ]
  },
  {
   "cell_type": "code",
   "execution_count": 11,
   "id": "3e76f7f5-d888-45c6-9f8b-19ae3a85099d",
   "metadata": {},
   "outputs": [],
   "source": [
    "X_imdb_oscar_treinamento, X_imdb_oscar_teste, Y_imdb_oscar_nominee_treinamento, Y_imdb_oscar_nominee_teste = train_test_split(X_imdb_oscar, Y_imdb_oscar_nominee,test_size = 0.25, random_state = 0)"
   ]
  },
  {
   "cell_type": "markdown",
   "id": "de1705d6-802b-4712-a645-baabf7a42ad6",
   "metadata": {},
   "source": [
    "#### Previsões "
   ]
  },
  {
   "cell_type": "code",
   "execution_count": 12,
   "id": "e7e5622d-2a68-402d-a1b1-de944a60849a",
   "metadata": {},
   "outputs": [],
   "source": [
    "naive_imdb_oscar_nominee = GaussianNB()\n",
    "naive_imdb_oscar_nominee.fit(X_imdb_oscar_treinamento, Y_imdb_oscar_nominee_treinamento);\n",
    "previsoes_nominee = naive_imdb_oscar_nominee.predict(X_imdb_oscar_teste)"
   ]
  },
  {
   "cell_type": "markdown",
   "id": "eafcd0d1-5160-4e9b-b0aa-9b1f024319de",
   "metadata": {},
   "source": [
    "#### Acurácia"
   ]
  },
  {
   "cell_type": "code",
   "execution_count": 13,
   "id": "2c216dac-93d7-4595-9599-9a4f1b7a97ee",
   "metadata": {},
   "outputs": [
    {
     "data": {
      "text/plain": [
       "0.9885941143109207"
      ]
     },
     "execution_count": 13,
     "metadata": {},
     "output_type": "execute_result"
    }
   ],
   "source": [
    "accuracy_score(Y_imdb_oscar_nominee_teste, previsoes_nominee)"
   ]
  },
  {
   "cell_type": "markdown",
   "id": "2971da36-ebba-4148-a49f-f0ce077ac4ea",
   "metadata": {},
   "source": [
    "#### Matriz de Confusão "
   ]
  },
  {
   "cell_type": "code",
   "execution_count": 14,
   "id": "bcf109a8-a7ca-40ee-bb44-6454d14713c6",
   "metadata": {},
   "outputs": [
    {
     "data": {
      "text/plain": [
       "array([[109588,    532],\n",
       "       [   735,    228]])"
      ]
     },
     "execution_count": 14,
     "metadata": {},
     "output_type": "execute_result"
    }
   ],
   "source": [
    "confusion_matrix(Y_imdb_oscar_nominee_teste, previsoes_nominee)"
   ]
  },
  {
   "cell_type": "code",
   "execution_count": 15,
   "id": "70c1f6c9-ed22-4528-8254-3b7e17832ef1",
   "metadata": {},
   "outputs": [
    {
     "data": {
      "image/png": "[encoded data removed]",
      "text/plain": [
       "<Figure size 576x396 with 1 Axes>"
      ]
     },
     "metadata": {},
     "output_type": "display_data"
    },
    {
     "data": {
      "text/plain": [
       "<AxesSubplot:title={'center':'GaussianNB Confusion Matrix'}, xlabel='Predicted Class', ylabel='True Class'>"
      ]
     },
     "execution_count": 15,
     "metadata": {},
     "output_type": "execute_result"
    }
   ],
   "source": [
    "cm_nominee = ConfusionMatrix(naive_imdb_oscar_nominee)\n",
    "cm_nominee.fit(X_imdb_oscar_treinamento, Y_imdb_oscar_nominee_treinamento)\n",
    "cm_nominee.score( X_imdb_oscar_teste, Y_imdb_oscar_nominee_teste)\n",
    "cm_nominee.show()"
   ]
  },
  {
   "cell_type": "markdown",
   "id": "3a8a4403-7a46-4d34-959b-a21865943acd",
   "metadata": {},
   "source": [
    "#### Claissification Report"
   ]
  },
  {
   "cell_type": "code",
   "execution_count": 16,
   "id": "76c183d7-a1f9-46ce-8503-86990967f9a7",
   "metadata": {},
   "outputs": [
    {
     "name": "stdout",
     "output_type": "stream",
     "text": [
      "              precision    recall  f1-score   support\n",
      "\n",
      "           0       0.99      1.00      0.99    110120\n",
      "           1       0.30      0.24      0.26       963\n",
      "\n",
      "    accuracy                           0.99    111083\n",
      "   macro avg       0.65      0.62      0.63    111083\n",
      "weighted avg       0.99      0.99      0.99    111083\n",
      "\n"
     ]
    }
   ],
   "source": [
    "print(classification_report(Y_imdb_oscar_nominee_teste, previsoes_nominee))"
   ]
  },
  {
   "cell_type": "markdown",
   "id": "7e8e3e93-a956-4791-b163-e18616b5b013",
   "metadata": {},
   "source": [
    "### Naive Bayes Winner"
   ]
  },
  {
   "cell_type": "markdown",
   "id": "6afd8a9f-d110-4771-90a4-924fac7a605b",
   "metadata": {},
   "source": [
    "#### Divisão Treinamento e Teste"
   ]
  },
  {
   "cell_type": "code",
   "execution_count": 19,
   "id": "3871b035-d99f-41b1-8138-03f9eb81332f",
   "metadata": {},
   "outputs": [],
   "source": [
    "X_imdb_oscar_treinamento, X_imdb_oscar_teste, Y_imdb_oscar_winner_treinamento, Y_imdb_oscar_winner_teste = train_test_split(X_imdb_oscar, Y_imdb_oscar_winner,test_size = 0.25, random_state = 0)"
   ]
  },
  {
   "cell_type": "markdown",
   "id": "b15de49f-7586-49a9-a205-58979906404f",
   "metadata": {},
   "source": [
    "#### Previsões "
   ]
  },
  {
   "cell_type": "code",
   "execution_count": 20,
   "id": "a5993b04-6810-4c3f-83fe-9365291b7e51",
   "metadata": {},
   "outputs": [],
   "source": [
    "naive_imdb_oscar_winner = GaussianNB()\n",
    "naive_imdb_oscar_winner.fit(X_imdb_oscar_treinamento, Y_imdb_oscar_winner_treinamento);\n",
    "previsoes_winner = naive_imdb_oscar_winner.predict(X_imdb_oscar_teste)"
   ]
  },
  {
   "cell_type": "markdown",
   "id": "9308aa8f-5c19-441c-bbcc-9963c8da7f55",
   "metadata": {},
   "source": [
    "#### Acurácia"
   ]
  },
  {
   "cell_type": "code",
   "execution_count": 21,
   "id": "7314dd33-4f87-4b5d-b453-0bd707977bbd",
   "metadata": {},
   "outputs": [
    {
     "data": {
      "text/plain": [
       "0.9939324649136232"
      ]
     },
     "execution_count": 21,
     "metadata": {},
     "output_type": "execute_result"
    }
   ],
   "source": [
    "accuracy_score(Y_imdb_oscar_winner_teste, previsoes_winner)"
   ]
  },
  {
   "cell_type": "markdown",
   "id": "07c233fa-bca0-4908-8a3d-f4fab2349381",
   "metadata": {},
   "source": [
    "#### Matriz de Confusão"
   ]
  },
  {
   "cell_type": "code",
   "execution_count": 22,
   "id": "0fab7ff8-c078-4f08-afb2-8a45646a9280",
   "metadata": {},
   "outputs": [
    {
     "data": {
      "text/plain": [
       "array([[110317,    480],\n",
       "       [   194,     92]])"
      ]
     },
     "execution_count": 22,
     "metadata": {},
     "output_type": "execute_result"
    }
   ],
   "source": [
    "confusion_matrix(Y_imdb_oscar_winner_teste, previsoes_winner)"
   ]
  },
  {
   "cell_type": "code",
   "execution_count": 23,
   "id": "bd9c0b08-a9e5-49d5-8bd7-80edffdcf550",
   "metadata": {},
   "outputs": [
    {
     "data": {
      "image/png": "[encoded data removed]",
      "text/plain": [
       "<Figure size 576x396 with 1 Axes>"
      ]
     },
     "metadata": {},
     "output_type": "display_data"
    },
    {
     "data": {
      "text/plain": [
       "<AxesSubplot:title={'center':'GaussianNB Confusion Matrix'}, xlabel='Predicted Class', ylabel='True Class'>"
      ]
     },
     "execution_count": 23,
     "metadata": {},
     "output_type": "execute_result"
    }
   ],
   "source": [
    "cm = ConfusionMatrix(naive_imdb_oscar_winner)\n",
    "cm.fit(X_imdb_oscar_treinamento, Y_imdb_oscar_winner_treinamento)\n",
    "cm.score( X_imdb_oscar_teste, Y_imdb_oscar_winner_teste)\n",
    "cm.show()"
   ]
  },
  {
   "cell_type": "markdown",
   "id": "70afc0f1-ec02-452b-bc14-5b223bec0a66",
   "metadata": {},
   "source": [
    "#### Claissification Report"
   ]
  },
  {
   "cell_type": "code",
   "execution_count": 24,
   "id": "872ad4cd-fe32-4f05-bdd5-8fee74a0cbb6",
   "metadata": {},
   "outputs": [
    {
     "name": "stdout",
     "output_type": "stream",
     "text": [
      "              precision    recall  f1-score   support\n",
      "\n",
      "           0       1.00      1.00      1.00    110797\n",
      "           1       0.16      0.32      0.21       286\n",
      "\n",
      "    accuracy                           0.99    111083\n",
      "   macro avg       0.58      0.66      0.61    111083\n",
      "weighted avg       1.00      0.99      0.99    111083\n",
      "\n"
     ]
    }
   ],
   "source": [
    "print(classification_report(Y_imdb_oscar_winner_teste, previsoes_winner))"
   ]
  },
  {
   "cell_type": "code",
   "execution_count": null,
   "id": "4852c0cd-486d-424b-9423-accdc5a31d05",
   "metadata": {},
   "outputs": [],
   "source": []
  },
  {
   "cell_type": "code",
   "execution_count": null,
   "id": "f01520a3-f7d6-4eff-91bc-a383bb4f3eef",
   "metadata": {},
   "outputs": [],
   "source": []
  },
  {
   "cell_type": "code",
   "execution_count": null,
   "id": "1d880ddb-5f3c-4d59-ac6d-cf1f108a21d3",
   "metadata": {},
   "outputs": [],
   "source": []
  }
 ],
 "metadata": {
  "kernelspec": {
   "display_name": "Python 3 (ipykernel)",
   "language": "python",
   "name": "python3"
  },
  "language_info": {
   "codemirror_mode": {
    "name": "ipython",
    "version": 3
   },
   "file_extension": ".py",
   "mimetype": "text/x-python",
   "name": "python",
   "nbconvert_exporter": "python",
   "pygments_lexer": "ipython3",
   "version": "3.9.12"
  }
 },
 "nbformat": 4,
 "nbformat_minor": 5
}
