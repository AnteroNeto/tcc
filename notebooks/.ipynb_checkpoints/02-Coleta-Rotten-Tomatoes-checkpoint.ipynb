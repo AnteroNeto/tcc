{
 "cells": [
  {
   "cell_type": "markdown",
   "id": "30ce0727-7092-4a43-96f4-e98e30349c6d",
   "metadata": {},
   "source": [
    "# Base de Dados do Rotten Tomatoes"
   ]
  },
  {
   "cell_type": "markdown",
   "id": "04fdbbe3-ee8e-43f5-b3ec-e234e9fbc9bd",
   "metadata": {},
   "source": [
    "## Download e descompressão dos arquivos:"
   ]
  },
  {
   "cell_type": "code",
   "execution_count": 1,
   "id": "0f43a9c1-dabd-4b90-a866-eb6e6c5f7ff1",
   "metadata": {},
   "outputs": [],
   "source": [
    "import os\n",
    "import kaggle #conda install -c kaggle \n",
    "import pandas as pd\n",
    "import numpy as np\n",
    "import seaborn as sns\n",
    "import matplotlib.pyplot as plt\n",
    "import plotly.express as px\n",
    "import pickle\n",
    "\n",
    "%matplotlib inline"
   ]
  },
  {
   "cell_type": "code",
   "execution_count": 2,
   "id": "66665939-bf11-4daf-b0e0-66a3cffe8f20",
   "metadata": {},
   "outputs": [
    {
     "data": {
      "text/plain": [
       "'/home/antero/Documentos/tcc/microdados'"
      ]
     },
     "execution_count": 2,
     "metadata": {},
     "output_type": "execute_result"
    }
   ],
   "source": [
    "os.chdir(\"../microdados\")\n",
    "os.getcwd()"
   ]
  },
  {
   "cell_type": "code",
   "execution_count": 32,
   "id": "70e2eaff-cbde-4688-9ea2-bf7492f06f90",
   "metadata": {},
   "outputs": [],
   "source": [
    "from kaggle.api.kaggle_api_extended import KaggleApi\n",
    "api = KaggleApi()\n",
    "api.authenticate()"
   ]
  },
  {
   "cell_type": "code",
   "execution_count": 33,
   "id": "9545ade7-a255-427a-9b45-aa4958661ed7",
   "metadata": {},
   "outputs": [
    {
     "data": {
      "text/plain": [
       "[rotten_tomatoes_critic_reviews.csv, rotten_tomatoes_movies.csv]"
      ]
     },
     "execution_count": 33,
     "metadata": {},
     "output_type": "execute_result"
    }
   ],
   "source": [
    "api.dataset_list_files('stefanoleone992/rotten-tomatoes-movies-and-critic-reviews-dataset').files"
   ]
  },
  {
   "cell_type": "code",
   "execution_count": 34,
   "id": "55d79e9e-d4ad-46dc-b316-f4c1d2410a4f",
   "metadata": {},
   "outputs": [],
   "source": [
    "api.dataset_download_files('stefanoleone992/rotten-tomatoes-movies-and-critic-reviews-dataset', unzip=True)"
   ]
  },
  {
   "cell_type": "markdown",
   "id": "b6c84fa2-9043-4c84-bcab-9804cdbab519",
   "metadata": {},
   "source": [
    "## Lendo dados dos arquivos csv e importando para DataFrame Pandas"
   ]
  },
  {
   "cell_type": "code",
   "execution_count": 3,
   "id": "694cad8e-79d9-4404-9644-6e2d6d3947f1",
   "metadata": {},
   "outputs": [],
   "source": [
    "df_rotten_tomatoes=pd.read_csv(\"rotten_tomatoes_movies.csv\")"
   ]
  },
  {
   "cell_type": "markdown",
   "id": "31661040-bddd-420c-b1d3-434ad48956c4",
   "metadata": {},
   "source": [
    "### Explorando os DataFrames"
   ]
  },
  {
   "cell_type": "code",
   "execution_count": 4,
   "id": "547f1913-d08b-41ef-84fc-72736de7bcdc",
   "metadata": {},
   "outputs": [
    {
     "data": {
      "text/plain": [
       "(17712, 22)"
      ]
     },
     "execution_count": 4,
     "metadata": {},
     "output_type": "execute_result"
    }
   ],
   "source": [
    "df_rotten_tomatoes.shape"
   ]
  },
  {
   "cell_type": "code",
   "execution_count": 5,
   "id": "e35835bf-dfb0-4b97-877e-6737b243dcc3",
   "metadata": {},
   "outputs": [
    {
     "name": "stdout",
     "output_type": "stream",
     "text": [
      "<class 'pandas.core.frame.DataFrame'>\n",
      "RangeIndex: 17712 entries, 0 to 17711\n",
      "Data columns (total 22 columns):\n",
      " #   Column                            Non-Null Count  Dtype  \n",
      "---  ------                            --------------  -----  \n",
      " 0   rotten_tomatoes_link              17712 non-null  object \n",
      " 1   movie_title                       17712 non-null  object \n",
      " 2   movie_info                        17391 non-null  object \n",
      " 3   critics_consensus                 9134 non-null   object \n",
      " 4   content_rating                    17712 non-null  object \n",
      " 5   genres                            17693 non-null  object \n",
      " 6   directors                         17518 non-null  object \n",
      " 7   authors                           16170 non-null  object \n",
      " 8   actors                            17360 non-null  object \n",
      " 9   original_release_date             16546 non-null  object \n",
      " 10  streaming_release_date            17328 non-null  object \n",
      " 11  runtime                           17398 non-null  float64\n",
      " 12  production_company                17213 non-null  object \n",
      " 13  tomatometer_status                17668 non-null  object \n",
      " 14  tomatometer_rating                17668 non-null  float64\n",
      " 15  tomatometer_count                 17668 non-null  float64\n",
      " 16  audience_status                   17264 non-null  object \n",
      " 17  audience_rating                   17416 non-null  float64\n",
      " 18  audience_count                    17415 non-null  float64\n",
      " 19  tomatometer_top_critics_count     17712 non-null  int64  \n",
      " 20  tomatometer_fresh_critics_count   17712 non-null  int64  \n",
      " 21  tomatometer_rotten_critics_count  17712 non-null  int64  \n",
      "dtypes: float64(5), int64(3), object(14)\n",
      "memory usage: 3.0+ MB\n"
     ]
    }
   ],
   "source": [
    "df_rotten_tomatoes.info()"
   ]
  },
  {
   "cell_type": "code",
   "execution_count": 6,
   "id": "54bc6c20-792d-4b68-bb2d-159519ba68d6",
   "metadata": {},
   "outputs": [
    {
     "data": {
      "text/html": [
       "<div>\n",
       "<style scoped>\n",
       "    .dataframe tbody tr th:only-of-type {\n",
       "        vertical-align: middle;\n",
       "    }\n",
       "\n",
       "    .dataframe tbody tr th {\n",
       "        vertical-align: top;\n",
       "    }\n",
       "\n",
       "    .dataframe thead th {\n",
       "        text-align: right;\n",
       "    }\n",
       "</style>\n",
       "<table border=\"1\" class=\"dataframe\">\n",
       "  <thead>\n",
       "    <tr style=\"text-align: right;\">\n",
       "      <th></th>\n",
       "      <th>rotten_tomatoes_link</th>\n",
       "      <th>movie_title</th>\n",
       "      <th>movie_info</th>\n",
       "      <th>critics_consensus</th>\n",
       "      <th>content_rating</th>\n",
       "      <th>genres</th>\n",
       "      <th>directors</th>\n",
       "      <th>authors</th>\n",
       "      <th>actors</th>\n",
       "      <th>original_release_date</th>\n",
       "      <th>...</th>\n",
       "      <th>production_company</th>\n",
       "      <th>tomatometer_status</th>\n",
       "      <th>tomatometer_rating</th>\n",
       "      <th>tomatometer_count</th>\n",
       "      <th>audience_status</th>\n",
       "      <th>audience_rating</th>\n",
       "      <th>audience_count</th>\n",
       "      <th>tomatometer_top_critics_count</th>\n",
       "      <th>tomatometer_fresh_critics_count</th>\n",
       "      <th>tomatometer_rotten_critics_count</th>\n",
       "    </tr>\n",
       "  </thead>\n",
       "  <tbody>\n",
       "    <tr>\n",
       "      <th>0</th>\n",
       "      <td>m/0814255</td>\n",
       "      <td>Percy Jackson &amp; the Olympians: The Lightning T...</td>\n",
       "      <td>Always trouble-prone, the life of teenager Per...</td>\n",
       "      <td>Though it may seem like just another Harry Pot...</td>\n",
       "      <td>PG</td>\n",
       "      <td>Action &amp; Adventure, Comedy, Drama, Science Fic...</td>\n",
       "      <td>Chris Columbus</td>\n",
       "      <td>Craig Titley, Chris Columbus, Rick Riordan</td>\n",
       "      <td>Logan Lerman, Brandon T. Jackson, Alexandra Da...</td>\n",
       "      <td>2010-02-12</td>\n",
       "      <td>...</td>\n",
       "      <td>20th Century Fox</td>\n",
       "      <td>Rotten</td>\n",
       "      <td>49.0</td>\n",
       "      <td>149.0</td>\n",
       "      <td>Spilled</td>\n",
       "      <td>53.0</td>\n",
       "      <td>254421.0</td>\n",
       "      <td>43</td>\n",
       "      <td>73</td>\n",
       "      <td>76</td>\n",
       "    </tr>\n",
       "    <tr>\n",
       "      <th>1</th>\n",
       "      <td>m/0878835</td>\n",
       "      <td>Please Give</td>\n",
       "      <td>Kate (Catherine Keener) and her husband Alex (...</td>\n",
       "      <td>Nicole Holofcener's newest might seem slight i...</td>\n",
       "      <td>R</td>\n",
       "      <td>Comedy</td>\n",
       "      <td>Nicole Holofcener</td>\n",
       "      <td>Nicole Holofcener</td>\n",
       "      <td>Catherine Keener, Amanda Peet, Oliver Platt, R...</td>\n",
       "      <td>2010-04-30</td>\n",
       "      <td>...</td>\n",
       "      <td>Sony Pictures Classics</td>\n",
       "      <td>Certified-Fresh</td>\n",
       "      <td>87.0</td>\n",
       "      <td>142.0</td>\n",
       "      <td>Upright</td>\n",
       "      <td>64.0</td>\n",
       "      <td>11574.0</td>\n",
       "      <td>44</td>\n",
       "      <td>123</td>\n",
       "      <td>19</td>\n",
       "    </tr>\n",
       "    <tr>\n",
       "      <th>2</th>\n",
       "      <td>m/10</td>\n",
       "      <td>10</td>\n",
       "      <td>A successful, middle-aged Hollywood songwriter...</td>\n",
       "      <td>Blake Edwards' bawdy comedy may not score a pe...</td>\n",
       "      <td>R</td>\n",
       "      <td>Comedy, Romance</td>\n",
       "      <td>Blake Edwards</td>\n",
       "      <td>Blake Edwards</td>\n",
       "      <td>Dudley Moore, Bo Derek, Julie Andrews, Robert ...</td>\n",
       "      <td>1979-10-05</td>\n",
       "      <td>...</td>\n",
       "      <td>Waner Bros.</td>\n",
       "      <td>Fresh</td>\n",
       "      <td>67.0</td>\n",
       "      <td>24.0</td>\n",
       "      <td>Spilled</td>\n",
       "      <td>53.0</td>\n",
       "      <td>14684.0</td>\n",
       "      <td>2</td>\n",
       "      <td>16</td>\n",
       "      <td>8</td>\n",
       "    </tr>\n",
       "    <tr>\n",
       "      <th>3</th>\n",
       "      <td>m/1000013-12_angry_men</td>\n",
       "      <td>12 Angry Men (Twelve Angry Men)</td>\n",
       "      <td>Following the closing arguments in a murder tr...</td>\n",
       "      <td>Sidney Lumet's feature debut is a superbly wri...</td>\n",
       "      <td>NR</td>\n",
       "      <td>Classics, Drama</td>\n",
       "      <td>Sidney Lumet</td>\n",
       "      <td>Reginald Rose</td>\n",
       "      <td>Martin Balsam, John Fiedler, Lee J. Cobb, E.G....</td>\n",
       "      <td>1957-04-13</td>\n",
       "      <td>...</td>\n",
       "      <td>Criterion Collection</td>\n",
       "      <td>Certified-Fresh</td>\n",
       "      <td>100.0</td>\n",
       "      <td>54.0</td>\n",
       "      <td>Upright</td>\n",
       "      <td>97.0</td>\n",
       "      <td>105386.0</td>\n",
       "      <td>6</td>\n",
       "      <td>54</td>\n",
       "      <td>0</td>\n",
       "    </tr>\n",
       "    <tr>\n",
       "      <th>4</th>\n",
       "      <td>m/1000079-20000_leagues_under_the_sea</td>\n",
       "      <td>20,000 Leagues Under The Sea</td>\n",
       "      <td>In 1866, Professor Pierre M. Aronnax (Paul Luk...</td>\n",
       "      <td>One of Disney's finest live-action adventures,...</td>\n",
       "      <td>G</td>\n",
       "      <td>Action &amp; Adventure, Drama, Kids &amp; Family</td>\n",
       "      <td>Richard Fleischer</td>\n",
       "      <td>Earl Felton</td>\n",
       "      <td>James Mason, Kirk Douglas, Paul Lukas, Peter L...</td>\n",
       "      <td>1954-01-01</td>\n",
       "      <td>...</td>\n",
       "      <td>Disney</td>\n",
       "      <td>Fresh</td>\n",
       "      <td>89.0</td>\n",
       "      <td>27.0</td>\n",
       "      <td>Upright</td>\n",
       "      <td>74.0</td>\n",
       "      <td>68918.0</td>\n",
       "      <td>5</td>\n",
       "      <td>24</td>\n",
       "      <td>3</td>\n",
       "    </tr>\n",
       "  </tbody>\n",
       "</table>\n",
       "<p>5 rows × 22 columns</p>\n",
       "</div>"
      ],
      "text/plain": [
       "                    rotten_tomatoes_link  \\\n",
       "0                              m/0814255   \n",
       "1                              m/0878835   \n",
       "2                                   m/10   \n",
       "3                 m/1000013-12_angry_men   \n",
       "4  m/1000079-20000_leagues_under_the_sea   \n",
       "\n",
       "                                         movie_title  \\\n",
       "0  Percy Jackson & the Olympians: The Lightning T...   \n",
       "1                                        Please Give   \n",
       "2                                                 10   \n",
       "3                    12 Angry Men (Twelve Angry Men)   \n",
       "4                       20,000 Leagues Under The Sea   \n",
       "\n",
       "                                          movie_info  \\\n",
       "0  Always trouble-prone, the life of teenager Per...   \n",
       "1  Kate (Catherine Keener) and her husband Alex (...   \n",
       "2  A successful, middle-aged Hollywood songwriter...   \n",
       "3  Following the closing arguments in a murder tr...   \n",
       "4  In 1866, Professor Pierre M. Aronnax (Paul Luk...   \n",
       "\n",
       "                                   critics_consensus content_rating  \\\n",
       "0  Though it may seem like just another Harry Pot...             PG   \n",
       "1  Nicole Holofcener's newest might seem slight i...              R   \n",
       "2  Blake Edwards' bawdy comedy may not score a pe...              R   \n",
       "3  Sidney Lumet's feature debut is a superbly wri...             NR   \n",
       "4  One of Disney's finest live-action adventures,...              G   \n",
       "\n",
       "                                              genres          directors  \\\n",
       "0  Action & Adventure, Comedy, Drama, Science Fic...     Chris Columbus   \n",
       "1                                             Comedy  Nicole Holofcener   \n",
       "2                                    Comedy, Romance      Blake Edwards   \n",
       "3                                    Classics, Drama       Sidney Lumet   \n",
       "4           Action & Adventure, Drama, Kids & Family  Richard Fleischer   \n",
       "\n",
       "                                      authors  \\\n",
       "0  Craig Titley, Chris Columbus, Rick Riordan   \n",
       "1                           Nicole Holofcener   \n",
       "2                               Blake Edwards   \n",
       "3                               Reginald Rose   \n",
       "4                                 Earl Felton   \n",
       "\n",
       "                                              actors original_release_date  \\\n",
       "0  Logan Lerman, Brandon T. Jackson, Alexandra Da...            2010-02-12   \n",
       "1  Catherine Keener, Amanda Peet, Oliver Platt, R...            2010-04-30   \n",
       "2  Dudley Moore, Bo Derek, Julie Andrews, Robert ...            1979-10-05   \n",
       "3  Martin Balsam, John Fiedler, Lee J. Cobb, E.G....            1957-04-13   \n",
       "4  James Mason, Kirk Douglas, Paul Lukas, Peter L...            1954-01-01   \n",
       "\n",
       "   ...      production_company  tomatometer_status tomatometer_rating  \\\n",
       "0  ...        20th Century Fox              Rotten               49.0   \n",
       "1  ...  Sony Pictures Classics     Certified-Fresh               87.0   \n",
       "2  ...             Waner Bros.               Fresh               67.0   \n",
       "3  ...    Criterion Collection     Certified-Fresh              100.0   \n",
       "4  ...                  Disney               Fresh               89.0   \n",
       "\n",
       "  tomatometer_count  audience_status  audience_rating audience_count  \\\n",
       "0             149.0          Spilled             53.0       254421.0   \n",
       "1             142.0          Upright             64.0        11574.0   \n",
       "2              24.0          Spilled             53.0        14684.0   \n",
       "3              54.0          Upright             97.0       105386.0   \n",
       "4              27.0          Upright             74.0        68918.0   \n",
       "\n",
       "   tomatometer_top_critics_count  tomatometer_fresh_critics_count  \\\n",
       "0                             43                               73   \n",
       "1                             44                              123   \n",
       "2                              2                               16   \n",
       "3                              6                               54   \n",
       "4                              5                               24   \n",
       "\n",
       "   tomatometer_rotten_critics_count  \n",
       "0                                76  \n",
       "1                                19  \n",
       "2                                 8  \n",
       "3                                 0  \n",
       "4                                 3  \n",
       "\n",
       "[5 rows x 22 columns]"
      ]
     },
     "execution_count": 6,
     "metadata": {},
     "output_type": "execute_result"
    }
   ],
   "source": [
    "df_rotten_tomatoes.head()"
   ]
  },
  {
   "cell_type": "code",
   "execution_count": 7,
   "id": "4db50938-88c0-4531-b7b2-093b29a33c2c",
   "metadata": {},
   "outputs": [
    {
     "name": "stdout",
     "output_type": "stream",
     "text": [
      "<class 'pandas.core.frame.DataFrame'>\n",
      "RangeIndex: 17712 entries, 0 to 17711\n",
      "Data columns (total 15 columns):\n",
      " #   Column                            Non-Null Count  Dtype  \n",
      "---  ------                            --------------  -----  \n",
      " 0   movie_title                       17712 non-null  object \n",
      " 1   content_rating                    17712 non-null  object \n",
      " 2   genres                            17693 non-null  object \n",
      " 3   directors                         17518 non-null  object \n",
      " 4   original_release_date             16546 non-null  object \n",
      " 5   production_company                17213 non-null  object \n",
      " 6   tomatometer_status                17668 non-null  object \n",
      " 7   tomatometer_rating                17668 non-null  float64\n",
      " 8   tomatometer_count                 17668 non-null  float64\n",
      " 9   audience_status                   17264 non-null  object \n",
      " 10  audience_rating                   17416 non-null  float64\n",
      " 11  audience_count                    17415 non-null  float64\n",
      " 12  tomatometer_top_critics_count     17712 non-null  int64  \n",
      " 13  tomatometer_fresh_critics_count   17712 non-null  int64  \n",
      " 14  tomatometer_rotten_critics_count  17712 non-null  int64  \n",
      "dtypes: float64(4), int64(3), object(8)\n",
      "memory usage: 2.0+ MB\n"
     ]
    }
   ],
   "source": [
    "dropcols=['rotten_tomatoes_link','movie_info','critics_consensus','authors','actors','streaming_release_date','runtime']\n",
    "df_rotten_tomatoes.drop(columns=dropcols, inplace=True)\n",
    "df_rotten_tomatoes.info()"
   ]
  },
  {
   "cell_type": "code",
   "execution_count": 8,
   "id": "9621cd98-6455-47ae-b82e-250da2d1eeb7",
   "metadata": {},
   "outputs": [
    {
     "data": {
      "text/plain": [
       "array(['2010', '1979', '1957', '1954', '2008', '1935', '2002', '1930',\n",
       "       '1988', '2005', '1950', '1949', '1951', '2004', '1985', '1938',\n",
       "       '1941', '2003', '1997', '2006', '2007', '1952', '1960', '1956',\n",
       "       '1966', '1986', '1984', nan, '1973', '2009', '2011', '1990',\n",
       "       '1947', '1987', '2014', '1940', '2012', '1981', '1976', '1972',\n",
       "       '1958', '1980', '1961', '1946', '2015', '1962', '1963', '1974',\n",
       "       '1926', '1977', '1929', '1944', '1982', '1968', '1978', '1983',\n",
       "       '1970', '1945', '1919', '1975', '1969', '1953', '1967', '1936',\n",
       "       '1937', '1942', '1927', '1989', '1931', '1965', '1971', '1955',\n",
       "       '1964', '1933', '1939', '1948', '1959', '2013', '2000', '2017',\n",
       "       '1923', '1916', '1934', '1920', '1932', '1925', '1943', '1991',\n",
       "       '1992', '1993', '1928', '1999', '1994', '1921', '1924', '1922',\n",
       "       '1998', '1995', '1996', '2001', '2016', '2019', '2018', '2020',\n",
       "       '1915', '1914'], dtype=object)"
      ]
     },
     "execution_count": 8,
     "metadata": {},
     "output_type": "execute_result"
    }
   ],
   "source": [
    "df_rotten_parsed = df_rotten_tomatoes.original_release_date.str.split('-',expand=True)\n",
    "df_rotten_parsed.columns=['year', 'month', 'day']\n",
    "df_rotten_parsed.drop(columns=['month', 'day'], inplace=True)\n",
    "df_rotten_parsed.year.unique()"
   ]
  },
  {
   "cell_type": "markdown",
   "id": "c6308459-0ef1-4a2f-946a-29e898d520f0",
   "metadata": {},
   "source": [
    "### Percentual de Anos Faltantes"
   ]
  },
  {
   "cell_type": "code",
   "execution_count": 9,
   "id": "18d328b9-6573-4990-9b76-c1e9edb261c3",
   "metadata": {},
   "outputs": [
    {
     "data": {
      "text/plain": [
       "year    0.065831\n",
       "dtype: float64"
      ]
     },
     "execution_count": 9,
     "metadata": {},
     "output_type": "execute_result"
    }
   ],
   "source": [
    "df_rotten_parsed.isnull().sum()/len(df_rotten_parsed.year)"
   ]
  },
  {
   "cell_type": "code",
   "execution_count": 10,
   "id": "d7082795-ba33-4205-be4f-8f9dce8a6d2c",
   "metadata": {},
   "outputs": [
    {
     "data": {
      "text/html": [
       "<div>\n",
       "<style scoped>\n",
       "    .dataframe tbody tr th:only-of-type {\n",
       "        vertical-align: middle;\n",
       "    }\n",
       "\n",
       "    .dataframe tbody tr th {\n",
       "        vertical-align: top;\n",
       "    }\n",
       "\n",
       "    .dataframe thead th {\n",
       "        text-align: right;\n",
       "    }\n",
       "</style>\n",
       "<table border=\"1\" class=\"dataframe\">\n",
       "  <thead>\n",
       "    <tr style=\"text-align: right;\">\n",
       "      <th></th>\n",
       "      <th>movie_title</th>\n",
       "      <th>content_rating</th>\n",
       "      <th>genres</th>\n",
       "      <th>directors</th>\n",
       "      <th>original_release_date</th>\n",
       "      <th>production_company</th>\n",
       "      <th>tomatometer_status</th>\n",
       "      <th>tomatometer_rating</th>\n",
       "      <th>tomatometer_count</th>\n",
       "      <th>audience_status</th>\n",
       "      <th>audience_rating</th>\n",
       "      <th>audience_count</th>\n",
       "      <th>tomatometer_top_critics_count</th>\n",
       "      <th>tomatometer_fresh_critics_count</th>\n",
       "      <th>tomatometer_rotten_critics_count</th>\n",
       "      <th>year</th>\n",
       "    </tr>\n",
       "  </thead>\n",
       "  <tbody>\n",
       "    <tr>\n",
       "      <th>0</th>\n",
       "      <td>Percy Jackson &amp; the Olympians: The Lightning T...</td>\n",
       "      <td>PG</td>\n",
       "      <td>Action &amp; Adventure, Comedy, Drama, Science Fic...</td>\n",
       "      <td>Chris Columbus</td>\n",
       "      <td>2010-02-12</td>\n",
       "      <td>20th Century Fox</td>\n",
       "      <td>Rotten</td>\n",
       "      <td>49.0</td>\n",
       "      <td>149.0</td>\n",
       "      <td>Spilled</td>\n",
       "      <td>53.0</td>\n",
       "      <td>254421.0</td>\n",
       "      <td>43</td>\n",
       "      <td>73</td>\n",
       "      <td>76</td>\n",
       "      <td>2010</td>\n",
       "    </tr>\n",
       "    <tr>\n",
       "      <th>1</th>\n",
       "      <td>Please Give</td>\n",
       "      <td>R</td>\n",
       "      <td>Comedy</td>\n",
       "      <td>Nicole Holofcener</td>\n",
       "      <td>2010-04-30</td>\n",
       "      <td>Sony Pictures Classics</td>\n",
       "      <td>Certified-Fresh</td>\n",
       "      <td>87.0</td>\n",
       "      <td>142.0</td>\n",
       "      <td>Upright</td>\n",
       "      <td>64.0</td>\n",
       "      <td>11574.0</td>\n",
       "      <td>44</td>\n",
       "      <td>123</td>\n",
       "      <td>19</td>\n",
       "      <td>2010</td>\n",
       "    </tr>\n",
       "    <tr>\n",
       "      <th>2</th>\n",
       "      <td>10</td>\n",
       "      <td>R</td>\n",
       "      <td>Comedy, Romance</td>\n",
       "      <td>Blake Edwards</td>\n",
       "      <td>1979-10-05</td>\n",
       "      <td>Waner Bros.</td>\n",
       "      <td>Fresh</td>\n",
       "      <td>67.0</td>\n",
       "      <td>24.0</td>\n",
       "      <td>Spilled</td>\n",
       "      <td>53.0</td>\n",
       "      <td>14684.0</td>\n",
       "      <td>2</td>\n",
       "      <td>16</td>\n",
       "      <td>8</td>\n",
       "      <td>1979</td>\n",
       "    </tr>\n",
       "    <tr>\n",
       "      <th>3</th>\n",
       "      <td>12 Angry Men (Twelve Angry Men)</td>\n",
       "      <td>NR</td>\n",
       "      <td>Classics, Drama</td>\n",
       "      <td>Sidney Lumet</td>\n",
       "      <td>1957-04-13</td>\n",
       "      <td>Criterion Collection</td>\n",
       "      <td>Certified-Fresh</td>\n",
       "      <td>100.0</td>\n",
       "      <td>54.0</td>\n",
       "      <td>Upright</td>\n",
       "      <td>97.0</td>\n",
       "      <td>105386.0</td>\n",
       "      <td>6</td>\n",
       "      <td>54</td>\n",
       "      <td>0</td>\n",
       "      <td>1957</td>\n",
       "    </tr>\n",
       "    <tr>\n",
       "      <th>4</th>\n",
       "      <td>20,000 Leagues Under The Sea</td>\n",
       "      <td>G</td>\n",
       "      <td>Action &amp; Adventure, Drama, Kids &amp; Family</td>\n",
       "      <td>Richard Fleischer</td>\n",
       "      <td>1954-01-01</td>\n",
       "      <td>Disney</td>\n",
       "      <td>Fresh</td>\n",
       "      <td>89.0</td>\n",
       "      <td>27.0</td>\n",
       "      <td>Upright</td>\n",
       "      <td>74.0</td>\n",
       "      <td>68918.0</td>\n",
       "      <td>5</td>\n",
       "      <td>24</td>\n",
       "      <td>3</td>\n",
       "      <td>1954</td>\n",
       "    </tr>\n",
       "  </tbody>\n",
       "</table>\n",
       "</div>"
      ],
      "text/plain": [
       "                                         movie_title content_rating  \\\n",
       "0  Percy Jackson & the Olympians: The Lightning T...             PG   \n",
       "1                                        Please Give              R   \n",
       "2                                                 10              R   \n",
       "3                    12 Angry Men (Twelve Angry Men)             NR   \n",
       "4                       20,000 Leagues Under The Sea              G   \n",
       "\n",
       "                                              genres          directors  \\\n",
       "0  Action & Adventure, Comedy, Drama, Science Fic...     Chris Columbus   \n",
       "1                                             Comedy  Nicole Holofcener   \n",
       "2                                    Comedy, Romance      Blake Edwards   \n",
       "3                                    Classics, Drama       Sidney Lumet   \n",
       "4           Action & Adventure, Drama, Kids & Family  Richard Fleischer   \n",
       "\n",
       "  original_release_date      production_company tomatometer_status  \\\n",
       "0            2010-02-12        20th Century Fox             Rotten   \n",
       "1            2010-04-30  Sony Pictures Classics    Certified-Fresh   \n",
       "2            1979-10-05             Waner Bros.              Fresh   \n",
       "3            1957-04-13    Criterion Collection    Certified-Fresh   \n",
       "4            1954-01-01                  Disney              Fresh   \n",
       "\n",
       "   tomatometer_rating  tomatometer_count audience_status  audience_rating  \\\n",
       "0                49.0              149.0         Spilled             53.0   \n",
       "1                87.0              142.0         Upright             64.0   \n",
       "2                67.0               24.0         Spilled             53.0   \n",
       "3               100.0               54.0         Upright             97.0   \n",
       "4                89.0               27.0         Upright             74.0   \n",
       "\n",
       "   audience_count  tomatometer_top_critics_count  \\\n",
       "0        254421.0                             43   \n",
       "1         11574.0                             44   \n",
       "2         14684.0                              2   \n",
       "3        105386.0                              6   \n",
       "4         68918.0                              5   \n",
       "\n",
       "   tomatometer_fresh_critics_count  tomatometer_rotten_critics_count  year  \n",
       "0                               73                                76  2010  \n",
       "1                              123                                19  2010  \n",
       "2                               16                                 8  1979  \n",
       "3                               54                                 0  1957  \n",
       "4                               24                                 3  1954  "
      ]
     },
     "execution_count": 10,
     "metadata": {},
     "output_type": "execute_result"
    }
   ],
   "source": [
    "df_rotten_tomatoes_parsed = pd.concat([df_rotten_tomatoes, df_rotten_parsed], axis=1)\n",
    "df_rotten_tomatoes_parsed.dropna(subset=['year'], inplace=True)\n",
    "df_rotten_tomatoes_parsed.head()"
   ]
  },
  {
   "cell_type": "code",
   "execution_count": 11,
   "id": "af40ce5c-50ac-41fc-b8c0-45668ecaee35",
   "metadata": {},
   "outputs": [
    {
     "name": "stdout",
     "output_type": "stream",
     "text": [
      "<class 'pandas.core.frame.DataFrame'>\n",
      "Int64Index: 16546 entries, 0 to 17711\n",
      "Data columns (total 16 columns):\n",
      " #   Column                            Non-Null Count  Dtype  \n",
      "---  ------                            --------------  -----  \n",
      " 0   movie_title                       16546 non-null  object \n",
      " 1   content_rating                    16546 non-null  object \n",
      " 2   genres                            16539 non-null  object \n",
      " 3   directors                         16390 non-null  object \n",
      " 4   original_release_date             16546 non-null  object \n",
      " 5   production_company                16210 non-null  object \n",
      " 6   tomatometer_status                16514 non-null  object \n",
      " 7   tomatometer_rating                16514 non-null  float64\n",
      " 8   tomatometer_count                 16514 non-null  float64\n",
      " 9   audience_status                   16228 non-null  object \n",
      " 10  audience_rating                   16379 non-null  float64\n",
      " 11  audience_count                    16378 non-null  float64\n",
      " 12  tomatometer_top_critics_count     16546 non-null  int64  \n",
      " 13  tomatometer_fresh_critics_count   16546 non-null  int64  \n",
      " 14  tomatometer_rotten_critics_count  16546 non-null  int64  \n",
      " 15  year                              16546 non-null  object \n",
      "dtypes: float64(4), int64(3), object(9)\n",
      "memory usage: 2.1+ MB\n"
     ]
    }
   ],
   "source": [
    "df_rotten_tomatoes_parsed.info()"
   ]
  },
  {
   "cell_type": "code",
   "execution_count": 12,
   "id": "2ce746c1-bea5-4c0f-bfc5-1ae0b86d32fc",
   "metadata": {},
   "outputs": [],
   "source": [
    "df_rotten_tomatoes_parsed.year = df_rotten_tomatoes_parsed.year.astype(int)"
   ]
  },
  {
   "cell_type": "code",
   "execution_count": 13,
   "id": "9167c6ee-0a57-4bb7-9e06-ce0f4f733450",
   "metadata": {},
   "outputs": [
    {
     "name": "stdout",
     "output_type": "stream",
     "text": [
      "<class 'pandas.core.frame.DataFrame'>\n",
      "Int64Index: 16546 entries, 0 to 17711\n",
      "Data columns (total 16 columns):\n",
      " #   Column                            Non-Null Count  Dtype  \n",
      "---  ------                            --------------  -----  \n",
      " 0   movie_title                       16546 non-null  object \n",
      " 1   content_rating                    16546 non-null  object \n",
      " 2   genres                            16539 non-null  object \n",
      " 3   directors                         16390 non-null  object \n",
      " 4   original_release_date             16546 non-null  object \n",
      " 5   production_company                16210 non-null  object \n",
      " 6   tomatometer_status                16514 non-null  object \n",
      " 7   tomatometer_rating                16514 non-null  float64\n",
      " 8   tomatometer_count                 16514 non-null  float64\n",
      " 9   audience_status                   16228 non-null  object \n",
      " 10  audience_rating                   16379 non-null  float64\n",
      " 11  audience_count                    16378 non-null  float64\n",
      " 12  tomatometer_top_critics_count     16546 non-null  int64  \n",
      " 13  tomatometer_fresh_critics_count   16546 non-null  int64  \n",
      " 14  tomatometer_rotten_critics_count  16546 non-null  int64  \n",
      " 15  year                              16546 non-null  int64  \n",
      "dtypes: float64(4), int64(4), object(8)\n",
      "memory usage: 2.1+ MB\n"
     ]
    }
   ],
   "source": [
    "df_rotten_tomatoes_parsed.info()"
   ]
  },
  {
   "cell_type": "code",
   "execution_count": 14,
   "id": "316c6fd5-1b77-4393-8e84-ebf07dc89a41",
   "metadata": {},
   "outputs": [
    {
     "data": {
      "text/plain": [
       "array([2010, 1979, 1957, 1954, 2008, 1935, 2002, 1930, 1988, 2005, 1950,\n",
       "       1949, 1951, 2004, 1985, 1938, 1941, 2003, 1997, 2006, 2007, 1952,\n",
       "       1960, 1956, 1966, 1986, 1984, 1973, 2009, 2011, 1990, 1947, 1987,\n",
       "       2014, 1940, 2012, 1981, 1976, 1972, 1958, 1980, 1961, 1946, 2015,\n",
       "       1962, 1963, 1974, 1926, 1977, 1929, 1944, 1982, 1968, 1978, 1983,\n",
       "       1970, 1945, 1919, 1975, 1969, 1953, 1967, 1936, 1937, 1942, 1927,\n",
       "       1989, 1931, 1965, 1971, 1955, 1964, 1933, 1939, 1948, 1959, 2013,\n",
       "       2000, 2017, 1923, 1916, 1934, 1920, 1932, 1925, 1943, 1991, 1992,\n",
       "       1993, 1928, 1999, 1994, 1921, 1924, 1922, 1998, 1995, 1996, 2001,\n",
       "       2016, 2019, 2018, 2020, 1915, 1914])"
      ]
     },
     "execution_count": 14,
     "metadata": {},
     "output_type": "execute_result"
    }
   ],
   "source": [
    "df_rotten_tomatoes_parsed.year.unique()"
   ]
  },
  {
   "cell_type": "code",
   "execution_count": 15,
   "id": "05a4ee20-1264-4bb6-993b-59356ae47005",
   "metadata": {},
   "outputs": [
    {
     "data": {
      "text/plain": [
       "movie_title                           0\n",
       "content_rating                        0\n",
       "genres                                7\n",
       "directors                           156\n",
       "original_release_date                 0\n",
       "production_company                  336\n",
       "tomatometer_status                   32\n",
       "tomatometer_rating                   32\n",
       "tomatometer_count                    32\n",
       "audience_status                     318\n",
       "audience_rating                     167\n",
       "audience_count                      168\n",
       "tomatometer_top_critics_count         0\n",
       "tomatometer_fresh_critics_count       0\n",
       "tomatometer_rotten_critics_count      0\n",
       "year                                  0\n",
       "dtype: int64"
      ]
     },
     "execution_count": 15,
     "metadata": {},
     "output_type": "execute_result"
    }
   ],
   "source": [
    "df_rotten_tomatoes_parsed.isnull().sum()"
   ]
  },
  {
   "cell_type": "code",
   "execution_count": 16,
   "id": "49c318e1-44e1-40cd-b080-0a828fc0cf7d",
   "metadata": {},
   "outputs": [],
   "source": [
    "df_rotten_tomatoes_parsed.dropna(subset=['tomatometer_rating','tomatometer_count', 'audience_rating', 'audience_count'], inplace=True)"
   ]
  },
  {
   "cell_type": "code",
   "execution_count": 17,
   "id": "3c9e14be-29e6-45b8-88c7-b4ef3e048b7b",
   "metadata": {},
   "outputs": [
    {
     "data": {
      "text/plain": [
       "movie_title                           0\n",
       "content_rating                        0\n",
       "genres                                7\n",
       "directors                           151\n",
       "original_release_date                 0\n",
       "production_company                  309\n",
       "tomatometer_status                    0\n",
       "tomatometer_rating                    0\n",
       "tomatometer_count                     0\n",
       "audience_status                     151\n",
       "audience_rating                       0\n",
       "audience_count                        0\n",
       "tomatometer_top_critics_count         0\n",
       "tomatometer_fresh_critics_count       0\n",
       "tomatometer_rotten_critics_count      0\n",
       "year                                  0\n",
       "dtype: int64"
      ]
     },
     "execution_count": 17,
     "metadata": {},
     "output_type": "execute_result"
    }
   ],
   "source": [
    "df_rotten_tomatoes_parsed.isnull().sum()"
   ]
  },
  {
   "cell_type": "code",
   "execution_count": 18,
   "id": "d87f5731-f5c3-4b78-ab7c-1ee9f0b3555d",
   "metadata": {},
   "outputs": [
    {
     "data": {
      "image/png": "[encoded data removed]",
      "text/plain": [
       "<Figure size 720x432 with 1 Axes>"
      ]
     },
     "metadata": {
      "needs_background": "light"
     },
     "output_type": "display_data"
    }
   ],
   "source": [
    "plt.figure(figsize=(10, 6))\n",
    "sns.heatmap(df_rotten_tomatoes_parsed.isnull(), yticklabels=False, cbar=False, cmap='viridis').set(title='Gráfico 2 - Mapa de calor de dados ausentes - Dados Rotten Tomatoes');"
   ]
  },
  {
   "cell_type": "code",
   "execution_count": 19,
   "id": "84c13abc-f48b-4676-a96d-20123a77b77e",
   "metadata": {},
   "outputs": [
    {
     "data": {
      "text/plain": [
       "0.9199999999999999"
      ]
     },
     "execution_count": 19,
     "metadata": {},
     "output_type": "execute_result"
    }
   ],
   "source": [
    "df_rotten_tomatoes_parsed.audience_status.isna().mean().round(4) * 100"
   ]
  },
  {
   "cell_type": "code",
   "execution_count": 20,
   "id": "eb705ed5-3b85-4912-afef-1ccfa470a464",
   "metadata": {},
   "outputs": [
    {
     "data": {
      "text/plain": [
       "1.8900000000000001"
      ]
     },
     "execution_count": 20,
     "metadata": {},
     "output_type": "execute_result"
    }
   ],
   "source": [
    "df_rotten_tomatoes_parsed.production_company.isna().mean().round(4) * 100"
   ]
  },
  {
   "cell_type": "code",
   "execution_count": 21,
   "id": "35b10169-4507-4ddc-a894-51b7a6d2615f",
   "metadata": {},
   "outputs": [
    {
     "data": {
      "text/plain": [
       "0.9199999999999999"
      ]
     },
     "execution_count": 21,
     "metadata": {},
     "output_type": "execute_result"
    }
   ],
   "source": [
    "df_rotten_tomatoes_parsed. .isna().mean().round(4) * 100"
   ]
  },
  {
   "cell_type": "markdown",
   "id": "66c48f8d-6278-4ac1-bea5-93366a3f1f86",
   "metadata": {},
   "source": [
    "#### Salvando Variáveis em Arquivo"
   ]
  },
  {
   "cell_type": "code",
   "execution_count": 57,
   "id": "a2144427-b049-4c30-8352-f022b0fd91a4",
   "metadata": {},
   "outputs": [
    {
     "data": {
      "text/plain": [
       "'/home/antero/Documentos/tcc/tratados'"
      ]
     },
     "execution_count": 57,
     "metadata": {},
     "output_type": "execute_result"
    }
   ],
   "source": [
    "os.chdir(\"../tratados\")\n",
    "os.getcwd()"
   ]
  },
  {
   "cell_type": "code",
   "execution_count": 58,
   "id": "c91159e2-c610-4d31-b5ac-3a8f5fa13873",
   "metadata": {},
   "outputs": [],
   "source": [
    "with open('rotten.pkl', mode = 'wb') as f:\n",
    "  pickle.dump(df_rotten_tomatoes_parsed, f)"
   ]
  }
 ],
 "metadata": {
  "kernelspec": {
   "display_name": "Python 3 (ipykernel)",
   "language": "python",
   "name": "python3"
  },
  "language_info": {
   "codemirror_mode": {
    "name": "ipython",
    "version": 3
   },
   "file_extension": ".py",
   "mimetype": "text/x-python",
   "name": "python",
   "nbconvert_exporter": "python",
   "pygments_lexer": "ipython3",
   "version": "3.9.10"
  }
 },
 "nbformat": 4,
 "nbformat_minor": 5
}
