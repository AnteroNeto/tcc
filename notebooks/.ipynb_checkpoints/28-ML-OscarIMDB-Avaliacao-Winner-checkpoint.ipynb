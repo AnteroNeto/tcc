{
 "cells": [
  {
   "cell_type": "markdown",
   "id": "b6699e76-52b2-4ec6-83a8-d13903e6f14c",
   "metadata": {
    "papermill": {
     "duration": 0.003201,
     "end_time": "2022-04-13T14:09:59.931315",
     "exception": false,
     "start_time": "2022-04-13T14:09:59.928114",
     "status": "completed"
    },
    "tags": []
   },
   "source": [
    "# Avaliação dos Resultados - Oscar IMDB"
   ]
  },
  {
   "cell_type": "code",
   "execution_count": 1,
   "id": "bf307ff9-9af5-461a-bf0f-dee5447d89aa",
   "metadata": {
    "papermill": {
     "duration": 0.938423,
     "end_time": "2022-04-13T14:10:00.872452",
     "exception": false,
     "start_time": "2022-04-13T14:09:59.934029",
     "status": "completed"
    },
    "tags": []
   },
   "outputs": [],
   "source": [
    "import os\n",
    "import pandas as pd\n",
    "import pickle\n",
    "\n",
    "\n",
    "from sklearn.preprocessing import StandardScaler\n",
    "from sklearn.preprocessing import LabelEncoder\n",
    "from sklearn.model_selection import cross_val_score, KFold\n",
    "from sklearn.dummy import DummyClassifier\n",
    "from sklearn.naive_bayes import GaussianNB\n",
    "from sklearn.linear_model import LogisticRegression\n",
    "from sklearn.neighbors import KNeighborsClassifier\n",
    "from sklearn.ensemble import RandomForestClassifier\n",
    "from sklearn.neural_network import MLPClassifier\n",
    "from sklearn.linear_model import SGDClassifier\n",
    "from sklearn.svm import SVC"
   ]
  },
  {
   "cell_type": "code",
   "execution_count": 2,
   "id": "bfce66fb-9098-434a-8792-2a729eec1f98",
   "metadata": {
    "papermill": {
     "duration": 0.020401,
     "end_time": "2022-04-13T14:10:00.899648",
     "exception": false,
     "start_time": "2022-04-13T14:10:00.879247",
     "status": "completed"
    },
    "tags": []
   },
   "outputs": [
    {
     "data": {
      "text/plain": [
       "'/home/antero/Documentos/wrk/tratados'"
      ]
     },
     "execution_count": 2,
     "metadata": {},
     "output_type": "execute_result"
    }
   ],
   "source": [
    "os.chdir(\"../tratados\")\n",
    "os.getcwd()"
   ]
  },
  {
   "cell_type": "code",
   "execution_count": 3,
   "id": "e857a951-c805-4e33-8cd1-2bffdc823c0b",
   "metadata": {
    "execution": {
     "iopub.execute_input": "2022-04-13T14:10:00.907876Z",
     "iopub.status.busy": "2022-04-13T14:10:00.907708Z",
     "iopub.status.idle": "2022-04-13T14:10:01.059524Z",
     "shell.execute_reply": "2022-04-13T14:10:01.059063Z"
    },
    "papermill": {
     "duration": 0.15822,
     "end_time": "2022-04-13T14:10:01.061943",
     "exception": false,
     "start_time": "2022-04-13T14:10:00.903723",
     "status": "completed"
    },
    "tags": []
   },
   "outputs": [],
   "source": [
    "with open('oscar_imdb.pkl', 'rb') as f:\n",
    "    df_imdb_oscar=pickle.load(f)"
   ]
  },
  {
   "cell_type": "markdown",
   "id": "f9bf5421-6ff0-40a1-ae77-4764833f6fa8",
   "metadata": {
    "papermill": {
     "duration": 0.005036,
     "end_time": "2022-04-13T14:10:01.074179",
     "exception": false,
     "start_time": "2022-04-13T14:10:01.069143",
     "status": "completed"
    },
    "tags": []
   },
   "source": [
    "## Importando o Dataframe"
   ]
  },
  {
   "cell_type": "code",
   "execution_count": 4,
   "id": "aab924f0-a0ff-4560-a88a-7551aaf4a6a3",
   "metadata": {
    "execution": {
     "iopub.execute_input": "2022-04-13T14:10:01.081030Z",
     "iopub.status.busy": "2022-04-13T14:10:01.080710Z",
     "iopub.status.idle": "2022-04-13T14:10:01.091192Z",
     "shell.execute_reply": "2022-04-13T14:10:01.090175Z"
    },
    "papermill": {
     "duration": 0.015803,
     "end_time": "2022-04-13T14:10:01.092777",
     "exception": false,
     "start_time": "2022-04-13T14:10:01.076974",
     "status": "completed"
    },
    "tags": []
   },
   "outputs": [],
   "source": [
    "X_imdb_oscar = df_imdb_oscar.iloc[:, 5:7]"
   ]
  },
  {
   "cell_type": "code",
   "execution_count": 5,
   "id": "dbd108ba-9a43-486f-b96c-b196f828c8dd",
   "metadata": {
    "execution": {
     "iopub.execute_input": "2022-04-13T14:10:01.100699Z",
     "iopub.status.busy": "2022-04-13T14:10:01.100529Z",
     "iopub.status.idle": "2022-04-13T14:10:01.103626Z",
     "shell.execute_reply": "2022-04-13T14:10:01.103015Z"
    },
    "papermill": {
     "duration": 0.008482,
     "end_time": "2022-04-13T14:10:01.104885",
     "exception": false,
     "start_time": "2022-04-13T14:10:01.096403",
     "status": "completed"
    },
    "tags": []
   },
   "outputs": [],
   "source": [
    "Y_imdb_oscar_nominee = df_imdb_oscar.iloc[:, 7]"
   ]
  },
  {
   "cell_type": "code",
   "execution_count": 6,
   "id": "2ff668e4-8e4e-49c5-90f3-769278f85a37",
   "metadata": {
    "execution": {
     "iopub.execute_input": "2022-04-13T14:10:01.112662Z",
     "iopub.status.busy": "2022-04-13T14:10:01.112497Z",
     "iopub.status.idle": "2022-04-13T14:10:01.115343Z",
     "shell.execute_reply": "2022-04-13T14:10:01.114836Z"
    },
    "papermill": {
     "duration": 0.008074,
     "end_time": "2022-04-13T14:10:01.116462",
     "exception": false,
     "start_time": "2022-04-13T14:10:01.108388",
     "status": "completed"
    },
    "tags": []
   },
   "outputs": [],
   "source": [
    "Y_imdb_oscar_winner = df_imdb_oscar.iloc[:, 8]"
   ]
  },
  {
   "cell_type": "markdown",
   "id": "ab3a0547-9745-4588-b109-60cb72c2bff0",
   "metadata": {
    "papermill": {
     "duration": 0.003452,
     "end_time": "2022-04-13T14:10:01.122904",
     "exception": false,
     "start_time": "2022-04-13T14:10:01.119452",
     "status": "completed"
    },
    "tags": []
   },
   "source": [
    "### Escalonamento dos valores"
   ]
  },
  {
   "cell_type": "code",
   "execution_count": 7,
   "id": "0adab656-f108-4a9d-8866-a360e583e492",
   "metadata": {
    "execution": {
     "iopub.execute_input": "2022-04-13T14:10:01.130328Z",
     "iopub.status.busy": "2022-04-13T14:10:01.130144Z",
     "iopub.status.idle": "2022-04-13T14:10:01.148340Z",
     "shell.execute_reply": "2022-04-13T14:10:01.147740Z"
    },
    "papermill": {
     "duration": 0.023894,
     "end_time": "2022-04-13T14:10:01.149856",
     "exception": false,
     "start_time": "2022-04-13T14:10:01.125962",
     "status": "completed"
    },
    "tags": []
   },
   "outputs": [],
   "source": [
    "scaler = StandardScaler()\n",
    "X_imdb_oscar = scaler.fit_transform(X_imdb_oscar)"
   ]
  },
  {
   "cell_type": "markdown",
   "id": "1c0069d1-f10a-4c96-908c-f6df85d9d657",
   "metadata": {
    "papermill": {
     "duration": 0.003525,
     "end_time": "2022-04-13T14:10:01.157176",
     "exception": false,
     "start_time": "2022-04-13T14:10:01.153651",
     "status": "completed"
    },
    "tags": []
   },
   "source": [
    "### Tratamento de atributos categóricos"
   ]
  },
  {
   "cell_type": "code",
   "execution_count": 8,
   "id": "4da0fd94-694d-4642-8f7f-1eb02475c22f",
   "metadata": {
    "execution": {
     "iopub.execute_input": "2022-04-13T14:10:01.164591Z",
     "iopub.status.busy": "2022-04-13T14:10:01.164440Z",
     "iopub.status.idle": "2022-04-13T14:10:01.284990Z",
     "shell.execute_reply": "2022-04-13T14:10:01.284532Z"
    },
    "papermill": {
     "duration": 0.126922,
     "end_time": "2022-04-13T14:10:01.287596",
     "exception": false,
     "start_time": "2022-04-13T14:10:01.160674",
     "status": "completed"
    },
    "tags": []
   },
   "outputs": [],
   "source": [
    "label_encoder = LabelEncoder()\n",
    "Y_imdb_oscar_nominee = label_encoder.fit_transform(Y_imdb_oscar_nominee)\n",
    "Y_imdb_oscar_winner = label_encoder.fit_transform(Y_imdb_oscar_winner)"
   ]
  },
  {
   "cell_type": "code",
   "execution_count": 9,
   "id": "711929ca-2a2f-441b-a1b1-1db786532623",
   "metadata": {
    "execution": {
     "iopub.execute_input": "2022-04-13T14:10:01.302363Z",
     "iopub.status.busy": "2022-04-13T14:10:01.302234Z",
     "iopub.status.idle": "2022-04-13T14:10:01.304822Z",
     "shell.execute_reply": "2022-04-13T14:10:01.304452Z"
    },
    "papermill": {
     "duration": 0.010588,
     "end_time": "2022-04-13T14:10:01.305865",
     "exception": false,
     "start_time": "2022-04-13T14:10:01.295277",
     "status": "completed"
    },
    "tags": []
   },
   "outputs": [],
   "source": [
    "resultados_DummyClassifier = []\n",
    "resultados_NaiveBayes = []\n",
    "resultados_RegressaoLogistica = []\n",
    "resultados_KNN = []\n",
    "resultados_RandomForest = []\n",
    "resultados_MPLC = []\n",
    "resultados_SGDC = []\n",
    "resultados_SupportVector = []"
   ]
  },
  {
   "cell_type": "code",
   "execution_count": 10,
   "id": "e6617ec4-3ff8-4c69-923b-105927b11cfc",
   "metadata": {
    "execution": {
     "iopub.execute_input": "2022-04-13T14:10:01.314065Z",
     "iopub.status.busy": "2022-04-13T14:10:01.313943Z",
     "iopub.status.idle": "2022-04-16T19:06:57.809277Z",
     "shell.execute_reply": "2022-04-16T19:06:57.232387Z"
    },
    "papermill": {
     "duration": 277017.093447,
     "end_time": "2022-04-16T19:06:58.402856",
     "exception": false,
     "start_time": "2022-04-13T14:10:01.309409",
     "status": "completed"
    },
    "tags": []
   },
   "outputs": [],
   "source": [
    "for i in range(30):\n",
    "    kfold = KFold(n_splits=10, shuffle=True, random_state=i)\n",
    "\n",
    "    DummyCl = DummyClassifier(strategy='most_frequent')\n",
    "    scores = cross_val_score(DummyCl, X_imdb_oscar, Y_imdb_oscar_winner, cv = kfold)\n",
    "    resultados_DummyClassifier.append(scores.mean())\n",
    "\n",
    "    NaiveBayes= GaussianNB()\n",
    "    scores = cross_val_score(NaiveBayes, X_imdb_oscar, Y_imdb_oscar_winner, cv = kfold)\n",
    "    resultados_NaiveBayes.append(scores.mean())\n",
    "\n",
    "    RegressaoLogistica = LogisticRegression(dual= False, fit_intercept=True, penalty='l1', solver='liblinear')\n",
    "    scores = cross_val_score(RegressaoLogistica, X_imdb_oscar, Y_imdb_oscar_winner, cv = kfold)\n",
    "    resultados_RegressaoLogistica.append(scores.mean())\n",
    "\n",
    "    knn = KNeighborsClassifier(algorithm='auto', n_neighbors=20, p=2)\n",
    "    scores = cross_val_score(RegressaoLogistica, X_imdb_oscar, Y_imdb_oscar_winner, cv = kfold)\n",
    "    resultados_KNN.append(scores.mean())\n",
    "\n",
    "    RandomForest = RandomForestClassifier(criterion='gini', max_features='sqrt', min_samples_leaf=10, min_samples_split=2, n_estimators=150)\n",
    "    scores = cross_val_score(RandomForest, X_imdb_oscar, Y_imdb_oscar_winner, cv = kfold)\n",
    "    resultados_RandomForest.append(scores.mean())\n",
    "\n",
    "    MPLC = MLPClassifier(hidden_layer_sizes=(5, 2), learning_rate='invscaling', max_iter=1500, solver='adam')\n",
    "    scores = cross_val_score(MPLC, X_imdb_oscar, Y_imdb_oscar_winner, cv = kfold)\n",
    "    resultados_MPLC.append(scores.mean())\n",
    "\n",
    "    SGDC = SGDClassifier(loss = 'squared_hinge', max_iter = 3000, penalty = 'elasticnet')\n",
    "    scores = cross_val_score(SGDC, X_imdb_oscar, Y_imdb_oscar_winner, cv = kfold)\n",
    "    resultados_SGDC.append(scores.mean())\n",
    "\n",
    "    SV = SVC(kernel = 'linear')\n",
    "    scores = cross_val_score(SV, X_imdb_oscar, Y_imdb_oscar_winner, cv = kfold)\n",
    "    resultados_SupportVector.append(scores.mean())"
   ]
  },
  {
   "cell_type": "code",
   "execution_count": 11,
   "id": "de2a4c98-c63e-4e59-b423-f43e78c75255",
   "metadata": {
    "execution": {
     "iopub.execute_input": "2022-04-16T19:06:59.228740Z",
     "iopub.status.busy": "2022-04-16T19:06:59.211880Z",
     "iopub.status.idle": "2022-04-16T19:07:02.063588Z",
     "shell.execute_reply": "2022-04-16T19:07:02.062709Z"
    },
    "papermill": {
     "duration": 3.462049,
     "end_time": "2022-04-16T19:07:02.094532",
     "exception": false,
     "start_time": "2022-04-16T19:06:58.632483",
     "status": "completed"
    },
    "tags": []
   },
   "outputs": [],
   "source": [
    "resultados = pd.DataFrame({'Dummy Classifier': resultados_DummyClassifier,\n",
    "                          'Naive Bayes Classifier': resultados_NaiveBayes,\n",
    "                          'Regressao Logistica': resultados_RegressaoLogistica,\n",
    "                          'KNN':resultados_KNN,\n",
    "                          'Random Forest': resultados_RandomForest,\n",
    "                          'Multi-layer Perceptron': resultados_MPLC,\n",
    "                          'Stochastic Gradient Descent': resultados_SGDC,\n",
    "                          'Support Vector Classifier': resultados_SupportVector})"
   ]
  },
  {
   "cell_type": "code",
   "execution_count": 12,
   "id": "f064384a-c958-454c-bc61-af2a8f0306b5",
   "metadata": {
    "execution": {
     "iopub.execute_input": "2022-04-16T19:07:02.118843Z",
     "iopub.status.busy": "2022-04-16T19:07:02.118564Z",
     "iopub.status.idle": "2022-04-16T19:07:09.573027Z",
     "shell.execute_reply": "2022-04-16T19:07:09.572144Z"
    },
    "papermill": {
     "duration": 7.492731,
     "end_time": "2022-04-16T19:07:09.602817",
     "exception": false,
     "start_time": "2022-04-16T19:07:02.110086",
     "status": "completed"
    },
    "tags": []
   },
   "outputs": [
    {
     "data": {
      "text/html": [
       "<div>\n",
       "<style scoped>\n",
       "    .dataframe tbody tr th:only-of-type {\n",
       "        vertical-align: middle;\n",
       "    }\n",
       "\n",
       "    .dataframe tbody tr th {\n",
       "        vertical-align: top;\n",
       "    }\n",
       "\n",
       "    .dataframe thead th {\n",
       "        text-align: right;\n",
       "    }\n",
       "</style>\n",
       "<table border=\"1\" class=\"dataframe\">\n",
       "  <thead>\n",
       "    <tr style=\"text-align: right;\">\n",
       "      <th></th>\n",
       "      <th>Dummy Classifier</th>\n",
       "      <th>Naive Bayes Classifier</th>\n",
       "      <th>Regressao Logistica</th>\n",
       "      <th>KNN</th>\n",
       "      <th>Random Forest</th>\n",
       "      <th>Multi-layer Perceptron</th>\n",
       "      <th>Stochastic Gradient Descent</th>\n",
       "      <th>Support Vector Classifier</th>\n",
       "    </tr>\n",
       "  </thead>\n",
       "  <tbody>\n",
       "    <tr>\n",
       "      <th>count</th>\n",
       "      <td>3.000000e+01</td>\n",
       "      <td>30.000000</td>\n",
       "      <td>30.000000</td>\n",
       "      <td>30.000000</td>\n",
       "      <td>30.000000</td>\n",
       "      <td>30.000000</td>\n",
       "      <td>30.000000</td>\n",
       "      <td>3.000000e+01</td>\n",
       "    </tr>\n",
       "    <tr>\n",
       "      <th>mean</th>\n",
       "      <td>9.975424e-01</td>\n",
       "      <td>0.993938</td>\n",
       "      <td>0.997479</td>\n",
       "      <td>0.997479</td>\n",
       "      <td>0.997558</td>\n",
       "      <td>0.997529</td>\n",
       "      <td>0.997321</td>\n",
       "      <td>9.975424e-01</td>\n",
       "    </tr>\n",
       "    <tr>\n",
       "      <th>std</th>\n",
       "      <td>5.010666e-10</td>\n",
       "      <td>0.000007</td>\n",
       "      <td>0.000004</td>\n",
       "      <td>0.000004</td>\n",
       "      <td>0.000009</td>\n",
       "      <td>0.000018</td>\n",
       "      <td>0.000263</td>\n",
       "      <td>5.010666e-10</td>\n",
       "    </tr>\n",
       "    <tr>\n",
       "      <th>min</th>\n",
       "      <td>9.975424e-01</td>\n",
       "      <td>0.993921</td>\n",
       "      <td>0.997473</td>\n",
       "      <td>0.997473</td>\n",
       "      <td>0.997545</td>\n",
       "      <td>0.997484</td>\n",
       "      <td>0.996786</td>\n",
       "      <td>9.975424e-01</td>\n",
       "    </tr>\n",
       "    <tr>\n",
       "      <th>25%</th>\n",
       "      <td>9.975424e-01</td>\n",
       "      <td>0.993935</td>\n",
       "      <td>0.997477</td>\n",
       "      <td>0.997477</td>\n",
       "      <td>0.997552</td>\n",
       "      <td>0.997516</td>\n",
       "      <td>0.997149</td>\n",
       "      <td>9.975424e-01</td>\n",
       "    </tr>\n",
       "    <tr>\n",
       "      <th>50%</th>\n",
       "      <td>9.975424e-01</td>\n",
       "      <td>0.993939</td>\n",
       "      <td>0.997479</td>\n",
       "      <td>0.997479</td>\n",
       "      <td>0.997556</td>\n",
       "      <td>0.997532</td>\n",
       "      <td>0.997452</td>\n",
       "      <td>9.975424e-01</td>\n",
       "    </tr>\n",
       "    <tr>\n",
       "      <th>75%</th>\n",
       "      <td>9.975424e-01</td>\n",
       "      <td>0.993944</td>\n",
       "      <td>0.997482</td>\n",
       "      <td>0.997482</td>\n",
       "      <td>0.997562</td>\n",
       "      <td>0.997542</td>\n",
       "      <td>0.997514</td>\n",
       "      <td>9.975424e-01</td>\n",
       "    </tr>\n",
       "    <tr>\n",
       "      <th>max</th>\n",
       "      <td>9.975424e-01</td>\n",
       "      <td>0.993953</td>\n",
       "      <td>0.997486</td>\n",
       "      <td>0.997486</td>\n",
       "      <td>0.997578</td>\n",
       "      <td>0.997556</td>\n",
       "      <td>0.997551</td>\n",
       "      <td>9.975424e-01</td>\n",
       "    </tr>\n",
       "  </tbody>\n",
       "</table>\n",
       "</div>"
      ],
      "text/plain": [
       "       Dummy Classifier  Naive Bayes Classifier  Regressao Logistica  \\\n",
       "count      3.000000e+01               30.000000            30.000000   \n",
       "mean       9.975424e-01                0.993938             0.997479   \n",
       "std        5.010666e-10                0.000007             0.000004   \n",
       "min        9.975424e-01                0.993921             0.997473   \n",
       "25%        9.975424e-01                0.993935             0.997477   \n",
       "50%        9.975424e-01                0.993939             0.997479   \n",
       "75%        9.975424e-01                0.993944             0.997482   \n",
       "max        9.975424e-01                0.993953             0.997486   \n",
       "\n",
       "             KNN  Random Forest  Multi-layer Perceptron  \\\n",
       "count  30.000000      30.000000               30.000000   \n",
       "mean    0.997479       0.997558                0.997529   \n",
       "std     0.000004       0.000009                0.000018   \n",
       "min     0.997473       0.997545                0.997484   \n",
       "25%     0.997477       0.997552                0.997516   \n",
       "50%     0.997479       0.997556                0.997532   \n",
       "75%     0.997482       0.997562                0.997542   \n",
       "max     0.997486       0.997578                0.997556   \n",
       "\n",
       "       Stochastic Gradient Descent  Support Vector Classifier  \n",
       "count                    30.000000               3.000000e+01  \n",
       "mean                      0.997321               9.975424e-01  \n",
       "std                       0.000263               5.010666e-10  \n",
       "min                       0.996786               9.975424e-01  \n",
       "25%                       0.997149               9.975424e-01  \n",
       "50%                       0.997452               9.975424e-01  \n",
       "75%                       0.997514               9.975424e-01  \n",
       "max                       0.997551               9.975424e-01  "
      ]
     },
     "execution_count": 12,
     "metadata": {},
     "output_type": "execute_result"
    }
   ],
   "source": [
    "resultados.describe().round(8)"
   ]
  },
  {
   "cell_type": "code",
   "execution_count": 4,
   "id": "7ed4fbce-e8eb-4f10-ac2c-65f00341df43",
   "metadata": {
    "papermill": {
     "duration": 0.004161,
     "end_time": "2022-04-16T19:07:12.132057",
     "exception": false,
     "start_time": "2022-04-16T19:07:12.127896",
     "status": "completed"
    },
    "tags": []
   },
   "outputs": [
    {
     "data": {
      "text/html": [
       "<div>\n",
       "<style scoped>\n",
       "    .dataframe tbody tr th:only-of-type {\n",
       "        vertical-align: middle;\n",
       "    }\n",
       "\n",
       "    .dataframe tbody tr th {\n",
       "        vertical-align: top;\n",
       "    }\n",
       "\n",
       "    .dataframe thead th {\n",
       "        text-align: right;\n",
       "    }\n",
       "</style>\n",
       "<table border=\"1\" class=\"dataframe\">\n",
       "  <thead>\n",
       "    <tr style=\"text-align: right;\">\n",
       "      <th></th>\n",
       "      <th>Dummy Classifier</th>\n",
       "      <th>Naive Bayes Classifier</th>\n",
       "      <th>Regressao Logistica</th>\n",
       "      <th>KNN</th>\n",
       "      <th>Random Forest</th>\n",
       "      <th>Multi-layer Perceptron</th>\n",
       "      <th>Stochastic Gradient Descent</th>\n",
       "      <th>Support Vector Classifier</th>\n",
       "    </tr>\n",
       "  </thead>\n",
       "  <tbody>\n",
       "    <tr>\n",
       "      <th>count</th>\n",
       "      <td>30.000000</td>\n",
       "      <td>30.000000</td>\n",
       "      <td>30.000000</td>\n",
       "      <td>30.000000</td>\n",
       "      <td>30.000000</td>\n",
       "      <td>30.000000</td>\n",
       "      <td>30.000000</td>\n",
       "      <td>30.000000</td>\n",
       "    </tr>\n",
       "    <tr>\n",
       "      <th>mean</th>\n",
       "      <td>0.997542</td>\n",
       "      <td>0.993938</td>\n",
       "      <td>0.997479</td>\n",
       "      <td>0.997479</td>\n",
       "      <td>0.997558</td>\n",
       "      <td>0.997529</td>\n",
       "      <td>0.997321</td>\n",
       "      <td>0.997542</td>\n",
       "    </tr>\n",
       "    <tr>\n",
       "      <th>std</th>\n",
       "      <td>0.000000</td>\n",
       "      <td>0.000007</td>\n",
       "      <td>0.000004</td>\n",
       "      <td>0.000004</td>\n",
       "      <td>0.000009</td>\n",
       "      <td>0.000018</td>\n",
       "      <td>0.000263</td>\n",
       "      <td>0.000000</td>\n",
       "    </tr>\n",
       "    <tr>\n",
       "      <th>min</th>\n",
       "      <td>0.997542</td>\n",
       "      <td>0.993921</td>\n",
       "      <td>0.997473</td>\n",
       "      <td>0.997473</td>\n",
       "      <td>0.997545</td>\n",
       "      <td>0.997484</td>\n",
       "      <td>0.996786</td>\n",
       "      <td>0.997542</td>\n",
       "    </tr>\n",
       "    <tr>\n",
       "      <th>25%</th>\n",
       "      <td>0.997542</td>\n",
       "      <td>0.993935</td>\n",
       "      <td>0.997477</td>\n",
       "      <td>0.997477</td>\n",
       "      <td>0.997552</td>\n",
       "      <td>0.997516</td>\n",
       "      <td>0.997149</td>\n",
       "      <td>0.997542</td>\n",
       "    </tr>\n",
       "    <tr>\n",
       "      <th>50%</th>\n",
       "      <td>0.997542</td>\n",
       "      <td>0.993939</td>\n",
       "      <td>0.997479</td>\n",
       "      <td>0.997479</td>\n",
       "      <td>0.997556</td>\n",
       "      <td>0.997532</td>\n",
       "      <td>0.997452</td>\n",
       "      <td>0.997542</td>\n",
       "    </tr>\n",
       "    <tr>\n",
       "      <th>75%</th>\n",
       "      <td>0.997542</td>\n",
       "      <td>0.993944</td>\n",
       "      <td>0.997482</td>\n",
       "      <td>0.997482</td>\n",
       "      <td>0.997562</td>\n",
       "      <td>0.997542</td>\n",
       "      <td>0.997514</td>\n",
       "      <td>0.997542</td>\n",
       "    </tr>\n",
       "    <tr>\n",
       "      <th>max</th>\n",
       "      <td>0.997542</td>\n",
       "      <td>0.993953</td>\n",
       "      <td>0.997486</td>\n",
       "      <td>0.997486</td>\n",
       "      <td>0.997578</td>\n",
       "      <td>0.997556</td>\n",
       "      <td>0.997551</td>\n",
       "      <td>0.997542</td>\n",
       "    </tr>\n",
       "  </tbody>\n",
       "</table>\n",
       "</div>"
      ],
      "text/plain": [
       "       Dummy Classifier  Naive Bayes Classifier  Regressao Logistica  \\\n",
       "count         30.000000               30.000000            30.000000   \n",
       "mean           0.997542                0.993938             0.997479   \n",
       "std            0.000000                0.000007             0.000004   \n",
       "min            0.997542                0.993921             0.997473   \n",
       "25%            0.997542                0.993935             0.997477   \n",
       "50%            0.997542                0.993939             0.997479   \n",
       "75%            0.997542                0.993944             0.997482   \n",
       "max            0.997542                0.993953             0.997486   \n",
       "\n",
       "             KNN  Random Forest  Multi-layer Perceptron  \\\n",
       "count  30.000000      30.000000               30.000000   \n",
       "mean    0.997479       0.997558                0.997529   \n",
       "std     0.000004       0.000009                0.000018   \n",
       "min     0.997473       0.997545                0.997484   \n",
       "25%     0.997477       0.997552                0.997516   \n",
       "50%     0.997479       0.997556                0.997532   \n",
       "75%     0.997482       0.997562                0.997542   \n",
       "max     0.997486       0.997578                0.997556   \n",
       "\n",
       "       Stochastic Gradient Descent  Support Vector Classifier  \n",
       "count                    30.000000                  30.000000  \n",
       "mean                      0.997321                   0.997542  \n",
       "std                       0.000263                   0.000000  \n",
       "min                       0.996786                   0.997542  \n",
       "25%                       0.997149                   0.997542  \n",
       "50%                       0.997452                   0.997542  \n",
       "75%                       0.997514                   0.997542  \n",
       "max                       0.997551                   0.997542  "
      ]
     },
     "execution_count": 4,
     "metadata": {},
     "output_type": "execute_result"
    }
   ],
   "source": [
    "resultados.describe().round(8)"
   ]
  }
 ],
 "metadata": {
  "kernelspec": {
   "display_name": "Python 3 (ipykernel)",
   "language": "python",
   "name": "python3"
  },
  "language_info": {
   "codemirror_mode": {
    "name": "ipython",
    "version": 3
   },
   "file_extension": ".py",
   "mimetype": "text/x-python",
   "name": "python",
   "nbconvert_exporter": "python",
   "pygments_lexer": "ipython3",
   "version": "3.9.13"
  },
  "papermill": {
   "default_parameters": {},
   "duration": 277036.283782,
   "end_time": "2022-04-16T19:07:15.075681",
   "environment_variables": {},
   "exception": null,
   "input_path": "28-ML-OscarIMDB-Avaliacao-winner.ipynb",
   "output_path": "28-ML-OscarIMDB-Avaliacao-winner-resultado.ipynb",
   "parameters": {},
   "start_time": "2022-04-13T14:09:58.791899",
   "version": "2.3.4"
  }
 },
 "nbformat": 4,
 "nbformat_minor": 5
}
