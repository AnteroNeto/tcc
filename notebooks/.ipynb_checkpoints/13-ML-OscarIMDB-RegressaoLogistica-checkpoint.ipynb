{
 "cells": [
  {
   "cell_type": "markdown",
   "id": "113f97ec-9562-4b1e-94ff-dd1714763a97",
   "metadata": {},
   "source": [
    "# Machine learning - Regressão logística - Oscar Rotten"
   ]
  },
  {
   "cell_type": "code",
   "execution_count": 2,
   "id": "ae939f44-4082-47df-b930-65f2b16c43e0",
   "metadata": {},
   "outputs": [],
   "source": [
    "import os\n",
    "import pandas as pd\n",
    "import pickle\n",
    "\n",
    "from sklearn.preprocessing import StandardScaler\n",
    "from sklearn.preprocessing import LabelEncoder\n",
    "from sklearn.model_selection import GridSearchCV\n",
    "from sklearn.model_selection import train_test_split\n",
    "from sklearn.linear_model import LogisticRegression\n",
    "from sklearn.metrics import accuracy_score, confusion_matrix, classification_report\n",
    "from yellowbrick.classifier import ConfusionMatrix"
   ]
  },
  {
   "cell_type": "code",
   "execution_count": 3,
   "id": "50016d9a-39ba-4731-be05-f54a56871a6b",
   "metadata": {},
   "outputs": [
    {
     "data": {
      "text/plain": [
       "'/home/antero/Documentos/tcc/tratados'"
      ]
     },
     "execution_count": 3,
     "metadata": {},
     "output_type": "execute_result"
    }
   ],
   "source": [
    "os.chdir(\"../tratados\")\n",
    "os.getcwd()"
   ]
  },
  {
   "cell_type": "markdown",
   "id": "cc36d7b2-1a07-40a2-ba6b-9d3323f570fc",
   "metadata": {},
   "source": [
    "## Importando Dataframe"
   ]
  },
  {
   "cell_type": "code",
   "execution_count": 4,
   "id": "48f0d0dc-b076-47e2-aef8-87e3be182e69",
   "metadata": {},
   "outputs": [],
   "source": [
    "with open('oscar_imdb.pkl', 'rb') as f:\n",
    "    df_imdb_oscar=pickle.load(f)"
   ]
  },
  {
   "cell_type": "code",
   "execution_count": 5,
   "id": "0904b8d0-6737-43cf-8b56-c95566acea20",
   "metadata": {},
   "outputs": [
    {
     "name": "stdout",
     "output_type": "stream",
     "text": [
      "<class 'pandas.core.frame.DataFrame'>\n",
      "Int64Index: 444329 entries, 0 to 447056\n",
      "Data columns (total 9 columns):\n",
      " #   Column         Non-Null Count   Dtype  \n",
      "---  ------         --------------   -----  \n",
      " 0   titleType      444329 non-null  object \n",
      " 1   primaryTitle   444329 non-null  object \n",
      " 2   originalTitle  444329 non-null  object \n",
      " 3   startYear      444329 non-null  int64  \n",
      " 4   genres         432835 non-null  object \n",
      " 5   averageRating  444329 non-null  float64\n",
      " 6   numVotes       444329 non-null  int64  \n",
      " 7   nominee        444329 non-null  object \n",
      " 8   winner         444329 non-null  object \n",
      "dtypes: float64(1), int64(2), object(6)\n",
      "memory usage: 33.9+ MB\n"
     ]
    }
   ],
   "source": [
    "df_imdb_oscar.info()"
   ]
  },
  {
   "cell_type": "markdown",
   "id": "f8ce0c55-061c-437f-bc71-ccbac7c40f12",
   "metadata": {},
   "source": [
    "### Divisão entre previsores e classe"
   ]
  },
  {
   "cell_type": "code",
   "execution_count": 6,
   "id": "6e5d809a-6888-4026-a815-92371b3d0b5a",
   "metadata": {},
   "outputs": [],
   "source": [
    "X_imdb_oscar = df_imdb_oscar.iloc[:, 5:7]"
   ]
  },
  {
   "cell_type": "code",
   "execution_count": 7,
   "id": "8bde981f-ac21-498f-80f0-a70b9f28b118",
   "metadata": {},
   "outputs": [],
   "source": [
    "Y_imdb_oscar_nominee = df_imdb_oscar.iloc[:, 7]"
   ]
  },
  {
   "cell_type": "code",
   "execution_count": 8,
   "id": "5364b5aa-ea7f-4b8b-bf74-126d5f8930da",
   "metadata": {},
   "outputs": [],
   "source": [
    "Y_imdb_oscar_winner = df_imdb_oscar.iloc[:, 8]"
   ]
  },
  {
   "cell_type": "markdown",
   "id": "74d3fb1d-16d8-47ba-84b2-046910a1a1a6",
   "metadata": {},
   "source": [
    "### Escalonamento dos valores"
   ]
  },
  {
   "cell_type": "code",
   "execution_count": 9,
   "id": "332e966c-95f3-41e2-b12f-eb806bf0fcc1",
   "metadata": {},
   "outputs": [],
   "source": [
    "scaler = StandardScaler()\n",
    "X_imdb_oscar = scaler.fit_transform(X_imdb_oscar)"
   ]
  },
  {
   "cell_type": "markdown",
   "id": "3a4bd6f4-164d-45ab-9d71-452fb03d3f4f",
   "metadata": {},
   "source": [
    "### Tratamento de atributos categóricos"
   ]
  },
  {
   "cell_type": "code",
   "execution_count": 10,
   "id": "830606ba-45c0-4c3c-8a1b-2ce32acb1d85",
   "metadata": {},
   "outputs": [],
   "source": [
    "label_encoder = LabelEncoder()\n",
    "Y_imdb_oscar_nominee = label_encoder.fit_transform(Y_imdb_oscar_nominee)\n",
    "Y_imdb_oscar_winner = label_encoder.fit_transform(Y_imdb_oscar_winner)"
   ]
  },
  {
   "cell_type": "markdown",
   "id": "2994b711-dbdd-4d0d-88af-8e31179adeda",
   "metadata": {
    "tags": []
   },
   "source": [
    "### Regressão Logiositca Nominee"
   ]
  },
  {
   "cell_type": "markdown",
   "id": "95c1a6d5-a8d2-4f01-a407-3dfa5e91bf1f",
   "metadata": {},
   "source": [
    "### Tuning dos parâmetros com GridSearch"
   ]
  },
  {
   "cell_type": "code",
   "execution_count": 20,
   "id": "4e389f5b-4aa1-4ba3-8d53-1a05ae5d3022",
   "metadata": {},
   "outputs": [
    {
     "name": "stdout",
     "output_type": "stream",
     "text": [
      "{'dual': True, 'fit_intercept': True, 'penalty': 'l2', 'solver': 'liblinear'}\n",
      "0.9913082451877141\n"
     ]
    }
   ],
   "source": [
    "parametros = {'penalty': ['l1', 'l2', 'elasticnet', 'none'],\n",
    "              'dual': [True, False],\n",
    "              'fit_intercept': [True, False],\n",
    "              'solver':  ['newton-cg', 'lbfgs', 'liblinear', 'sag', 'saga']}\n",
    "grid_search = GridSearchCV(estimator=LogisticRegression(), param_grid=parametros)\n",
    "grid_search.fit(X_imdb_oscar, Y_imdb_oscar_nominee)\n",
    "melhores_parametros = grid_search.best_params_\n",
    "melhor_resultado = grid_search.best_score_\n",
    "print(melhores_parametros)\n",
    "print(melhor_resultado)"
   ]
  },
  {
   "cell_type": "markdown",
   "id": "e00ea3f9-4976-4a2c-9fac-d2deabf55a0a",
   "metadata": {},
   "source": [
    "#### Divisão Treinamento e Teste"
   ]
  },
  {
   "cell_type": "code",
   "execution_count": 11,
   "id": "0d4fff03-2fd5-484c-996d-0465e615d4f9",
   "metadata": {},
   "outputs": [],
   "source": [
    "X_imdb_oscar_treinamento, X_imdb_oscar_teste, Y_imdb_oscar_nominee_treinamento, Y_imdb_oscar_nominee_teste = train_test_split(X_imdb_oscar, Y_imdb_oscar_nominee,test_size = 0.25, random_state = 0)"
   ]
  },
  {
   "cell_type": "markdown",
   "id": "431e62b3-42a8-4970-9da5-2835c6be9f1d",
   "metadata": {},
   "source": [
    "#### Previsões "
   ]
  },
  {
   "cell_type": "code",
   "execution_count": 12,
   "id": "ef307ff9-7edc-4e67-979d-cf948c86f3fd",
   "metadata": {},
   "outputs": [],
   "source": [
    "logistic_imdb_oscar_nominee = LogisticRegression(dual=True, fit_intercept=True, penalty='l2', solver='liblinear')\n",
    "logistic_imdb_oscar_nominee.fit(X_imdb_oscar_treinamento,Y_imdb_oscar_nominee_treinamento);\n",
    "logistic_imdb_oscar_nominee.intercept_\n",
    "logistic_imdb_oscar_nominee.coef_\n",
    "previsoes_nominee = logistic_imdb_oscar_nominee.predict(X_imdb_oscar_teste)"
   ]
  },
  {
   "cell_type": "markdown",
   "id": "6c3e0893-e546-4b38-9522-8d986acfce0a",
   "metadata": {},
   "source": [
    "#### Acurácia"
   ]
  },
  {
   "cell_type": "code",
   "execution_count": 13,
   "id": "c4d6c878-8b48-40c0-a03e-13df9c620527",
   "metadata": {},
   "outputs": [
    {
     "data": {
      "text/plain": [
       "0.9912857953062125"
      ]
     },
     "execution_count": 13,
     "metadata": {},
     "output_type": "execute_result"
    }
   ],
   "source": [
    "accuracy_score(Y_imdb_oscar_nominee_teste, previsoes_nominee)"
   ]
  },
  {
   "cell_type": "markdown",
   "id": "d08cbebc-2a16-4c7d-bca1-94a84f20cade",
   "metadata": {},
   "source": [
    "#### Matriz de Confusão "
   ]
  },
  {
   "cell_type": "code",
   "execution_count": 14,
   "id": "887e2e3b-ee2a-4d69-809e-5162eddca27d",
   "metadata": {},
   "outputs": [
    {
     "data": {
      "text/plain": [
       "array([[110065,     55],\n",
       "       [   913,     50]])"
      ]
     },
     "execution_count": 14,
     "metadata": {},
     "output_type": "execute_result"
    }
   ],
   "source": [
    "confusion_matrix(Y_imdb_oscar_nominee_teste, previsoes_nominee)"
   ]
  },
  {
   "cell_type": "code",
   "execution_count": 17,
   "id": "bd700121-e0e9-43cc-8131-4f1a160284cb",
   "metadata": {},
   "outputs": [
    {
     "data": {
      "text/plain": [
       "0.9912857953062125"
      ]
     },
     "execution_count": 17,
     "metadata": {},
     "output_type": "execute_result"
    },
    {
     "data": {
      "image/png": "[encoded data removed]",
      "text/plain": [
       "<Figure size 576x396 with 1 Axes>"
      ]
     },
     "metadata": {},
     "output_type": "display_data"
    }
   ],
   "source": [
    "cm_nominee = ConfusionMatrix(logistic_imdb_oscar_nominee)\n",
    "cm_nominee.fit(X_imdb_oscar_treinamento,Y_imdb_oscar_nominee_treinamento)\n",
    "cm_nominee.score(X_imdb_oscar_teste, Y_imdb_oscar_nominee_teste)"
   ]
  },
  {
   "cell_type": "markdown",
   "id": "12cc1107-273f-409a-827c-748b782a9767",
   "metadata": {},
   "source": [
    "#### Claissification Report"
   ]
  },
  {
   "cell_type": "code",
   "execution_count": 16,
   "id": "664eef37-2979-48aa-afae-381d6e5e8b7a",
   "metadata": {},
   "outputs": [
    {
     "name": "stdout",
     "output_type": "stream",
     "text": [
      "              precision    recall  f1-score   support\n",
      "\n",
      "           0       0.99      1.00      1.00    110120\n",
      "           1       0.48      0.05      0.09       963\n",
      "\n",
      "    accuracy                           0.99    111083\n",
      "   macro avg       0.73      0.53      0.54    111083\n",
      "weighted avg       0.99      0.99      0.99    111083\n",
      "\n"
     ]
    }
   ],
   "source": [
    "print(classification_report(Y_imdb_oscar_nominee_teste, previsoes_nominee))"
   ]
  },
  {
   "cell_type": "markdown",
   "id": "a832dc08-b220-457e-8ba2-52c86afd4a1f",
   "metadata": {},
   "source": [
    "### Regressão Logiositca Winner"
   ]
  },
  {
   "cell_type": "markdown",
   "id": "998f7b7f-425d-4378-a6f4-51487f20d466",
   "metadata": {},
   "source": [
    "### Tuning dos parâmetros com GridSearch"
   ]
  },
  {
   "cell_type": "code",
   "execution_count": 30,
   "id": "5c5229c7-7560-494a-b8af-e2b6d510f14c",
   "metadata": {},
   "outputs": [
    {
     "name": "stdout",
     "output_type": "stream",
     "text": [
      "{'dual': False, 'fit_intercept': True, 'penalty': 'l1', 'solver': 'liblinear'}\n",
      "0.99743883515768\n"
     ]
    }
   ],
   "source": [
    "parametros = {'penalty': ['l1', 'l2', 'elasticnet', 'none'],\n",
    "              'dual': [True, False],\n",
    "              'fit_intercept': [True, False],\n",
    "              'solver':  ['newton-cg', 'lbfgs', 'liblinear', 'sag', 'saga']}\n",
    "grid_search = GridSearchCV(estimator=LogisticRegression(), param_grid=parametros)\n",
    "grid_search.fit(X_imdb_oscar, Y_imdb_oscar_winner)\n",
    "melhores_parametros = grid_search.best_params_\n",
    "melhor_resultado = grid_search.best_score_\n",
    "print(melhores_parametros)\n",
    "print(melhor_resultado)"
   ]
  },
  {
   "cell_type": "markdown",
   "id": "9c6f2ba0-5b44-426b-87b2-2a4580794eac",
   "metadata": {},
   "source": [
    "#### Divisão Treinamento e Teste"
   ]
  },
  {
   "cell_type": "code",
   "execution_count": 18,
   "id": "bc778384-72a7-4ba9-b344-db0cc41fae40",
   "metadata": {},
   "outputs": [],
   "source": [
    "X_imdb_oscar_treinamento, X_imdb_oscar_teste, Y_imdb_oscar_winner_treinamento, Y_imdb_oscar_winner_teste = train_test_split(X_imdb_oscar, Y_imdb_oscar_winner,test_size = 0.25, random_state = 0)"
   ]
  },
  {
   "cell_type": "markdown",
   "id": "c3a49306-be94-4cd2-a3ce-e7a9b0b15792",
   "metadata": {},
   "source": [
    "#### Previsões "
   ]
  },
  {
   "cell_type": "code",
   "execution_count": 19,
   "id": "a01585b1-b36e-4ff5-9c15-6ff13e769839",
   "metadata": {},
   "outputs": [],
   "source": [
    "logistic_imdb_oscar_winner = LogisticRegression(dual = False, fit_intercept=True, penalty='l1', solver='liblinear')\n",
    "logistic_imdb_oscar_winner.fit(X_imdb_oscar_treinamento,Y_imdb_oscar_winner_treinamento);\n",
    "logistic_imdb_oscar_winner.intercept_\n",
    "logistic_imdb_oscar_winner.coef_\n",
    "previsoes_winner = logistic_imdb_oscar_winner.predict(X_imdb_oscar_teste)"
   ]
  },
  {
   "cell_type": "markdown",
   "id": "33bab03c-f404-4a76-b440-5e3e0a9f9593",
   "metadata": {},
   "source": [
    "#### Acurácia"
   ]
  },
  {
   "cell_type": "code",
   "execution_count": 20,
   "id": "8853cba7-cecb-4172-93b6-d13ee087bbc1",
   "metadata": {},
   "outputs": [
    {
     "data": {
      "text/plain": [
       "0.9973623326701655"
      ]
     },
     "execution_count": 20,
     "metadata": {},
     "output_type": "execute_result"
    }
   ],
   "source": [
    "accuracy_score(Y_imdb_oscar_winner_teste, previsoes_winner)"
   ]
  },
  {
   "cell_type": "markdown",
   "id": "f3d07188-ea1b-4813-bd37-2e0aea6c0445",
   "metadata": {},
   "source": [
    "#### Matriz de Confusão"
   ]
  },
  {
   "cell_type": "code",
   "execution_count": 21,
   "id": "09d19484-cbd8-41ea-a29c-5cae1e3648f4",
   "metadata": {},
   "outputs": [
    {
     "data": {
      "text/plain": [
       "array([[110780,     17],\n",
       "       [   276,     10]])"
      ]
     },
     "execution_count": 21,
     "metadata": {},
     "output_type": "execute_result"
    }
   ],
   "source": [
    "confusion_matrix(Y_imdb_oscar_winner_teste, previsoes_winner)"
   ]
  },
  {
   "cell_type": "code",
   "execution_count": 22,
   "id": "9a5df622-5639-4f91-9811-918dadc7dc6b",
   "metadata": {},
   "outputs": [
    {
     "data": {
      "text/plain": [
       "0.9973623326701655"
      ]
     },
     "execution_count": 22,
     "metadata": {},
     "output_type": "execute_result"
    },
    {
     "data": {
      "image/png": "[encoded data removed]",
      "text/plain": [
       "<Figure size 576x396 with 1 Axes>"
      ]
     },
     "metadata": {},
     "output_type": "display_data"
    }
   ],
   "source": [
    "from yellowbrick.classifier import ConfusionMatrix\n",
    "cm_winner = ConfusionMatrix(logistic_imdb_oscar_winner)\n",
    "cm_winner.fit(X_imdb_oscar_treinamento,Y_imdb_oscar_winner_treinamento)\n",
    "cm_winner.score(X_imdb_oscar_teste, Y_imdb_oscar_winner_teste)"
   ]
  },
  {
   "cell_type": "markdown",
   "id": "3fda4b18-20d1-4394-91f1-3141040a3fac",
   "metadata": {},
   "source": [
    "#### Claissification Report"
   ]
  },
  {
   "cell_type": "code",
   "execution_count": 23,
   "id": "462da26f-4b6c-4d4b-b23e-26747b4383d5",
   "metadata": {},
   "outputs": [
    {
     "name": "stdout",
     "output_type": "stream",
     "text": [
      "              precision    recall  f1-score   support\n",
      "\n",
      "           0       1.00      1.00      1.00    110797\n",
      "           1       0.37      0.03      0.06       286\n",
      "\n",
      "    accuracy                           1.00    111083\n",
      "   macro avg       0.68      0.52      0.53    111083\n",
      "weighted avg       1.00      1.00      1.00    111083\n",
      "\n"
     ]
    }
   ],
   "source": [
    "print(classification_report(Y_imdb_oscar_winner_teste, previsoes_winner))"
   ]
  },
  {
   "cell_type": "code",
   "execution_count": null,
   "id": "f8771d89-d57b-41d7-8131-d8564a1d1d4a",
   "metadata": {},
   "outputs": [],
   "source": []
  },
  {
   "cell_type": "code",
   "execution_count": null,
   "id": "147caa90-3144-4f30-a964-44f9a936b3cd",
   "metadata": {},
   "outputs": [],
   "source": []
  }
 ],
 "metadata": {
  "kernelspec": {
   "display_name": "Python 3",
   "language": "python",
   "name": "python3"
  },
  "language_info": {
   "codemirror_mode": {
    "name": "ipython",
    "version": 3
   },
   "file_extension": ".py",
   "mimetype": "text/x-python",
   "name": "python",
   "nbconvert_exporter": "python",
   "pygments_lexer": "ipython3",
   "version": "3.9.12"
  }
 },
 "nbformat": 4,
 "nbformat_minor": 5
}
