{
 "cells": [
  {
   "cell_type": "markdown",
   "id": "6a841b2d-f797-4021-874a-7740a3a47713",
   "metadata": {},
   "source": [
    "# Unindo as bases de dados"
   ]
  },
  {
   "cell_type": "code",
   "execution_count": 36,
   "id": "668a4770-93bd-4b34-bd66-5b82d518731c",
   "metadata": {},
   "outputs": [],
   "source": [
    "import os\n",
    "import kaggle #conda install -c kaggle \n",
    "import pandas as pd\n",
    "import numpy as np\n",
    "import seaborn as sns\n",
    "import matplotlib.pyplot as plt\n",
    "import plotly.express as px\n",
    "import pickle\n",
    "\n",
    "%matplotlib inline"
   ]
  },
  {
   "cell_type": "code",
   "execution_count": 37,
   "id": "086e7a59-47cd-4787-a0cf-fb4ebd32f5ce",
   "metadata": {},
   "outputs": [
    {
     "data": {
      "text/plain": [
       "'/home/antero/Documentos/TCC/tratados'"
      ]
     },
     "execution_count": 37,
     "metadata": {},
     "output_type": "execute_result"
    }
   ],
   "source": [
    "os.chdir(\"../tratados\")\n",
    "os.getcwd()"
   ]
  },
  {
   "cell_type": "markdown",
   "id": "0cd588e8-62b1-4dbc-8a8b-f992e8ce3873",
   "metadata": {},
   "source": [
    "## Importando Dataframes"
   ]
  },
  {
   "cell_type": "code",
   "execution_count": 38,
   "id": "4fbfbd57-ef47-441a-a22e-233dab08775d",
   "metadata": {},
   "outputs": [],
   "source": [
    "with open('rotten.pkl', 'rb') as f:\n",
    "    df_rotten_tomatoes=pickle.load(f)"
   ]
  },
  {
   "cell_type": "code",
   "execution_count": 39,
   "id": "1e12ff4b-76c3-4d0c-8925-ce9e515aae49",
   "metadata": {},
   "outputs": [
    {
     "name": "stdout",
     "output_type": "stream",
     "text": [
      "<class 'pandas.core.frame.DataFrame'>\n",
      "RangeIndex: 17712 entries, 0 to 17711\n",
      "Data columns (total 11 columns):\n",
      " #   Column                            Non-Null Count  Dtype  \n",
      "---  ------                            --------------  -----  \n",
      " 0   movie_title                       17712 non-null  object \n",
      " 1   original_release_date             16546 non-null  object \n",
      " 2   tomatometer_status                17668 non-null  object \n",
      " 3   tomatometer_rating                17668 non-null  float64\n",
      " 4   tomatometer_count                 17668 non-null  float64\n",
      " 5   audience_status                   17264 non-null  object \n",
      " 6   audience_rating                   17416 non-null  float64\n",
      " 7   audience_count                    17415 non-null  float64\n",
      " 8   tomatometer_top_critics_count     17712 non-null  int64  \n",
      " 9   tomatometer_fresh_critics_count   17712 non-null  int64  \n",
      " 10  tomatometer_rotten_critics_count  17712 non-null  int64  \n",
      "dtypes: float64(4), int64(3), object(4)\n",
      "memory usage: 1.5+ MB\n"
     ]
    }
   ],
   "source": [
    "df_rotten_tomatoes.info()"
   ]
  },
  {
   "cell_type": "code",
   "execution_count": 40,
   "id": "88028685-49b2-4741-a7d5-e814eaa67ec6",
   "metadata": {},
   "outputs": [],
   "source": [
    "with open('imdb.pkl', 'rb') as f:\n",
    "    df_imdb=pickle.load(f)"
   ]
  },
  {
   "cell_type": "code",
   "execution_count": 41,
   "id": "668a880d-67cd-433b-af5b-eb5eb8869d85",
   "metadata": {},
   "outputs": [
    {
     "name": "stdout",
     "output_type": "stream",
     "text": [
      "<class 'pandas.core.frame.DataFrame'>\n",
      "Int64Index: 447057 entries, 0 to 1161023\n",
      "Data columns (total 8 columns):\n",
      " #   Column         Non-Null Count   Dtype  \n",
      "---  ------         --------------   -----  \n",
      " 0   titleType      447057 non-null  object \n",
      " 1   primaryTitle   447057 non-null  object \n",
      " 2   originalTitle  447057 non-null  object \n",
      " 3   isAdult        447057 non-null  float64\n",
      " 4   startYear      447057 non-null  int64  \n",
      " 5   genres         435537 non-null  object \n",
      " 6   averageRating  447057 non-null  float64\n",
      " 7   numVotes       447057 non-null  int64  \n",
      "dtypes: float64(2), int64(2), object(4)\n",
      "memory usage: 30.7+ MB\n"
     ]
    }
   ],
   "source": [
    "df_imdb.info()"
   ]
  },
  {
   "cell_type": "code",
   "execution_count": 42,
   "id": "51431af2-66a9-4ceb-bd7f-acef676b61fa",
   "metadata": {},
   "outputs": [],
   "source": [
    "with open('oscar.pkl', 'rb') as f:\n",
    "    df_oscars=pickle.load(f)"
   ]
  },
  {
   "cell_type": "code",
   "execution_count": 43,
   "id": "f77aaa88-796c-4e5b-b172-7b2633f2f25f",
   "metadata": {},
   "outputs": [
    {
     "name": "stdout",
     "output_type": "stream",
     "text": [
      "<class 'pandas.core.frame.DataFrame'>\n",
      "RangeIndex: 10395 entries, 0 to 10394\n",
      "Data columns (total 8 columns):\n",
      " #   Column         Non-Null Count  Dtype \n",
      "---  ------         --------------  ----- \n",
      " 0   year_film      10395 non-null  int64 \n",
      " 1   year_ceremony  10395 non-null  int64 \n",
      " 2   ceremony       10395 non-null  int64 \n",
      " 3   category       10395 non-null  object\n",
      " 4   name           10395 non-null  object\n",
      " 5   film           10091 non-null  object\n",
      " 6   winner         10395 non-null  bool  \n",
      " 7   nominee        10395 non-null  bool  \n",
      "dtypes: bool(2), int64(3), object(3)\n",
      "memory usage: 507.7+ KB\n"
     ]
    }
   ],
   "source": [
    "df_oscars.info()"
   ]
  },
  {
   "cell_type": "markdown",
   "id": "93583591-3be1-4a2a-9ef9-ec444caecdea",
   "metadata": {},
   "source": [
    "## Unindo os Dataframes"
   ]
  },
  {
   "cell_type": "code",
   "execution_count": 44,
   "id": "08d23ed3-45ce-4fd7-9cac-904a70e4b047",
   "metadata": {},
   "outputs": [],
   "source": [
    "df_imdb_oscar = df_imdb.merge(df_oscars, left_on=['primaryTitle','startYear'], right_on=['film','year_film'], how='left')"
   ]
  },
  {
   "cell_type": "code",
   "execution_count": 45,
   "id": "1f9960ea-c1a1-4020-b579-b520f756390c",
   "metadata": {},
   "outputs": [
    {
     "name": "stdout",
     "output_type": "stream",
     "text": [
      "<class 'pandas.core.frame.DataFrame'>\n",
      "Int64Index: 451883 entries, 0 to 451882\n",
      "Data columns (total 16 columns):\n",
      " #   Column         Non-Null Count   Dtype  \n",
      "---  ------         --------------   -----  \n",
      " 0   titleType      451883 non-null  object \n",
      " 1   primaryTitle   451883 non-null  object \n",
      " 2   originalTitle  451883 non-null  object \n",
      " 3   isAdult        451883 non-null  float64\n",
      " 4   startYear      451883 non-null  int64  \n",
      " 5   genres         440351 non-null  object \n",
      " 6   averageRating  451883 non-null  float64\n",
      " 7   numVotes       451883 non-null  int64  \n",
      " 8   year_film      8694 non-null    float64\n",
      " 9   year_ceremony  8694 non-null    float64\n",
      " 10  ceremony       8694 non-null    float64\n",
      " 11  category       8694 non-null    object \n",
      " 12  name           8694 non-null    object \n",
      " 13  film           8694 non-null    object \n",
      " 14  winner         8694 non-null    object \n",
      " 15  nominee        8694 non-null    object \n",
      "dtypes: float64(5), int64(2), object(9)\n",
      "memory usage: 58.6+ MB\n"
     ]
    }
   ],
   "source": [
    "df_imdb_oscar.info()"
   ]
  },
  {
   "cell_type": "code",
   "execution_count": 46,
   "id": "90525b77-32ca-4fca-98f0-cc388dbef701",
   "metadata": {},
   "outputs": [
    {
     "data": {
      "text/html": [
       "<div>\n",
       "<style scoped>\n",
       "    .dataframe tbody tr th:only-of-type {\n",
       "        vertical-align: middle;\n",
       "    }\n",
       "\n",
       "    .dataframe tbody tr th {\n",
       "        vertical-align: top;\n",
       "    }\n",
       "\n",
       "    .dataframe thead th {\n",
       "        text-align: right;\n",
       "    }\n",
       "</style>\n",
       "<table border=\"1\" class=\"dataframe\">\n",
       "  <thead>\n",
       "    <tr style=\"text-align: right;\">\n",
       "      <th></th>\n",
       "      <th>titleType</th>\n",
       "      <th>primaryTitle</th>\n",
       "      <th>originalTitle</th>\n",
       "      <th>isAdult</th>\n",
       "      <th>startYear</th>\n",
       "      <th>genres</th>\n",
       "      <th>averageRating</th>\n",
       "      <th>numVotes</th>\n",
       "      <th>year_film</th>\n",
       "      <th>year_ceremony</th>\n",
       "      <th>ceremony</th>\n",
       "      <th>category</th>\n",
       "      <th>name</th>\n",
       "      <th>film</th>\n",
       "      <th>winner</th>\n",
       "      <th>nominee</th>\n",
       "    </tr>\n",
       "  </thead>\n",
       "  <tbody>\n",
       "    <tr>\n",
       "      <th>0</th>\n",
       "      <td>short</td>\n",
       "      <td>Carmencita</td>\n",
       "      <td>Carmencita</td>\n",
       "      <td>0.0</td>\n",
       "      <td>1894</td>\n",
       "      <td>Documentary,Short</td>\n",
       "      <td>5.7</td>\n",
       "      <td>1708</td>\n",
       "      <td>NaN</td>\n",
       "      <td>NaN</td>\n",
       "      <td>NaN</td>\n",
       "      <td>NaN</td>\n",
       "      <td>NaN</td>\n",
       "      <td>NaN</td>\n",
       "      <td>NaN</td>\n",
       "      <td>NaN</td>\n",
       "    </tr>\n",
       "    <tr>\n",
       "      <th>1</th>\n",
       "      <td>short</td>\n",
       "      <td>Le clown et ses chiens</td>\n",
       "      <td>Le clown et ses chiens</td>\n",
       "      <td>0.0</td>\n",
       "      <td>1892</td>\n",
       "      <td>Animation,Short</td>\n",
       "      <td>6.1</td>\n",
       "      <td>210</td>\n",
       "      <td>NaN</td>\n",
       "      <td>NaN</td>\n",
       "      <td>NaN</td>\n",
       "      <td>NaN</td>\n",
       "      <td>NaN</td>\n",
       "      <td>NaN</td>\n",
       "      <td>NaN</td>\n",
       "      <td>NaN</td>\n",
       "    </tr>\n",
       "    <tr>\n",
       "      <th>2</th>\n",
       "      <td>short</td>\n",
       "      <td>Pauvre Pierrot</td>\n",
       "      <td>Pauvre Pierrot</td>\n",
       "      <td>0.0</td>\n",
       "      <td>1892</td>\n",
       "      <td>Animation,Comedy,Romance</td>\n",
       "      <td>6.5</td>\n",
       "      <td>1466</td>\n",
       "      <td>NaN</td>\n",
       "      <td>NaN</td>\n",
       "      <td>NaN</td>\n",
       "      <td>NaN</td>\n",
       "      <td>NaN</td>\n",
       "      <td>NaN</td>\n",
       "      <td>NaN</td>\n",
       "      <td>NaN</td>\n",
       "    </tr>\n",
       "    <tr>\n",
       "      <th>3</th>\n",
       "      <td>short</td>\n",
       "      <td>Un bon bock</td>\n",
       "      <td>Un bon bock</td>\n",
       "      <td>0.0</td>\n",
       "      <td>1892</td>\n",
       "      <td>Animation,Short</td>\n",
       "      <td>6.1</td>\n",
       "      <td>123</td>\n",
       "      <td>NaN</td>\n",
       "      <td>NaN</td>\n",
       "      <td>NaN</td>\n",
       "      <td>NaN</td>\n",
       "      <td>NaN</td>\n",
       "      <td>NaN</td>\n",
       "      <td>NaN</td>\n",
       "      <td>NaN</td>\n",
       "    </tr>\n",
       "    <tr>\n",
       "      <th>4</th>\n",
       "      <td>short</td>\n",
       "      <td>Blacksmith Scene</td>\n",
       "      <td>Blacksmith Scene</td>\n",
       "      <td>0.0</td>\n",
       "      <td>1893</td>\n",
       "      <td>Comedy,Short</td>\n",
       "      <td>6.2</td>\n",
       "      <td>2268</td>\n",
       "      <td>NaN</td>\n",
       "      <td>NaN</td>\n",
       "      <td>NaN</td>\n",
       "      <td>NaN</td>\n",
       "      <td>NaN</td>\n",
       "      <td>NaN</td>\n",
       "      <td>NaN</td>\n",
       "      <td>NaN</td>\n",
       "    </tr>\n",
       "    <tr>\n",
       "      <th>...</th>\n",
       "      <td>...</td>\n",
       "      <td>...</td>\n",
       "      <td>...</td>\n",
       "      <td>...</td>\n",
       "      <td>...</td>\n",
       "      <td>...</td>\n",
       "      <td>...</td>\n",
       "      <td>...</td>\n",
       "      <td>...</td>\n",
       "      <td>...</td>\n",
       "      <td>...</td>\n",
       "      <td>...</td>\n",
       "      <td>...</td>\n",
       "      <td>...</td>\n",
       "      <td>...</td>\n",
       "      <td>...</td>\n",
       "    </tr>\n",
       "    <tr>\n",
       "      <th>451878</th>\n",
       "      <td>movie</td>\n",
       "      <td>The Secret of China</td>\n",
       "      <td>Hong xing zhao yao Zhong guo</td>\n",
       "      <td>0.0</td>\n",
       "      <td>2019</td>\n",
       "      <td>Adventure,History,War</td>\n",
       "      <td>3.8</td>\n",
       "      <td>12</td>\n",
       "      <td>NaN</td>\n",
       "      <td>NaN</td>\n",
       "      <td>NaN</td>\n",
       "      <td>NaN</td>\n",
       "      <td>NaN</td>\n",
       "      <td>NaN</td>\n",
       "      <td>NaN</td>\n",
       "      <td>NaN</td>\n",
       "    </tr>\n",
       "    <tr>\n",
       "      <th>451879</th>\n",
       "      <td>tvMovie</td>\n",
       "      <td>Pink Taxi</td>\n",
       "      <td>Pink Taxi</td>\n",
       "      <td>0.0</td>\n",
       "      <td>2019</td>\n",
       "      <td>Comedy</td>\n",
       "      <td>9.3</td>\n",
       "      <td>15</td>\n",
       "      <td>NaN</td>\n",
       "      <td>NaN</td>\n",
       "      <td>NaN</td>\n",
       "      <td>NaN</td>\n",
       "      <td>NaN</td>\n",
       "      <td>NaN</td>\n",
       "      <td>NaN</td>\n",
       "      <td>NaN</td>\n",
       "    </tr>\n",
       "    <tr>\n",
       "      <th>451880</th>\n",
       "      <td>movie</td>\n",
       "      <td>Kuambil Lagi Hatiku</td>\n",
       "      <td>Kuambil Lagi Hatiku</td>\n",
       "      <td>0.0</td>\n",
       "      <td>2019</td>\n",
       "      <td>Drama</td>\n",
       "      <td>8.3</td>\n",
       "      <td>6</td>\n",
       "      <td>NaN</td>\n",
       "      <td>NaN</td>\n",
       "      <td>NaN</td>\n",
       "      <td>NaN</td>\n",
       "      <td>NaN</td>\n",
       "      <td>NaN</td>\n",
       "      <td>NaN</td>\n",
       "      <td>NaN</td>\n",
       "    </tr>\n",
       "    <tr>\n",
       "      <th>451881</th>\n",
       "      <td>short</td>\n",
       "      <td>My Sweet Prince</td>\n",
       "      <td>My Sweet Prince</td>\n",
       "      <td>0.0</td>\n",
       "      <td>2019</td>\n",
       "      <td>Drama,Short</td>\n",
       "      <td>7.2</td>\n",
       "      <td>38</td>\n",
       "      <td>NaN</td>\n",
       "      <td>NaN</td>\n",
       "      <td>NaN</td>\n",
       "      <td>NaN</td>\n",
       "      <td>NaN</td>\n",
       "      <td>NaN</td>\n",
       "      <td>NaN</td>\n",
       "      <td>NaN</td>\n",
       "    </tr>\n",
       "    <tr>\n",
       "      <th>451882</th>\n",
       "      <td>short</td>\n",
       "      <td>The Nun 2</td>\n",
       "      <td>The Nun 2</td>\n",
       "      <td>0.0</td>\n",
       "      <td>2019</td>\n",
       "      <td>Comedy,Horror,Mystery</td>\n",
       "      <td>6.5</td>\n",
       "      <td>90</td>\n",
       "      <td>NaN</td>\n",
       "      <td>NaN</td>\n",
       "      <td>NaN</td>\n",
       "      <td>NaN</td>\n",
       "      <td>NaN</td>\n",
       "      <td>NaN</td>\n",
       "      <td>NaN</td>\n",
       "      <td>NaN</td>\n",
       "    </tr>\n",
       "  </tbody>\n",
       "</table>\n",
       "<p>451883 rows × 16 columns</p>\n",
       "</div>"
      ],
      "text/plain": [
       "       titleType            primaryTitle                 originalTitle  \\\n",
       "0          short              Carmencita                    Carmencita   \n",
       "1          short  Le clown et ses chiens        Le clown et ses chiens   \n",
       "2          short          Pauvre Pierrot                Pauvre Pierrot   \n",
       "3          short             Un bon bock                   Un bon bock   \n",
       "4          short        Blacksmith Scene              Blacksmith Scene   \n",
       "...          ...                     ...                           ...   \n",
       "451878     movie     The Secret of China  Hong xing zhao yao Zhong guo   \n",
       "451879   tvMovie               Pink Taxi                     Pink Taxi   \n",
       "451880     movie     Kuambil Lagi Hatiku           Kuambil Lagi Hatiku   \n",
       "451881     short         My Sweet Prince               My Sweet Prince   \n",
       "451882     short               The Nun 2                     The Nun 2   \n",
       "\n",
       "        isAdult  startYear                    genres  averageRating  numVotes  \\\n",
       "0           0.0       1894         Documentary,Short            5.7      1708   \n",
       "1           0.0       1892           Animation,Short            6.1       210   \n",
       "2           0.0       1892  Animation,Comedy,Romance            6.5      1466   \n",
       "3           0.0       1892           Animation,Short            6.1       123   \n",
       "4           0.0       1893              Comedy,Short            6.2      2268   \n",
       "...         ...        ...                       ...            ...       ...   \n",
       "451878      0.0       2019     Adventure,History,War            3.8        12   \n",
       "451879      0.0       2019                    Comedy            9.3        15   \n",
       "451880      0.0       2019                     Drama            8.3         6   \n",
       "451881      0.0       2019               Drama,Short            7.2        38   \n",
       "451882      0.0       2019     Comedy,Horror,Mystery            6.5        90   \n",
       "\n",
       "        year_film  year_ceremony  ceremony category name film winner nominee  \n",
       "0             NaN            NaN       NaN      NaN  NaN  NaN    NaN     NaN  \n",
       "1             NaN            NaN       NaN      NaN  NaN  NaN    NaN     NaN  \n",
       "2             NaN            NaN       NaN      NaN  NaN  NaN    NaN     NaN  \n",
       "3             NaN            NaN       NaN      NaN  NaN  NaN    NaN     NaN  \n",
       "4             NaN            NaN       NaN      NaN  NaN  NaN    NaN     NaN  \n",
       "...           ...            ...       ...      ...  ...  ...    ...     ...  \n",
       "451878        NaN            NaN       NaN      NaN  NaN  NaN    NaN     NaN  \n",
       "451879        NaN            NaN       NaN      NaN  NaN  NaN    NaN     NaN  \n",
       "451880        NaN            NaN       NaN      NaN  NaN  NaN    NaN     NaN  \n",
       "451881        NaN            NaN       NaN      NaN  NaN  NaN    NaN     NaN  \n",
       "451882        NaN            NaN       NaN      NaN  NaN  NaN    NaN     NaN  \n",
       "\n",
       "[451883 rows x 16 columns]"
      ]
     },
     "execution_count": 46,
     "metadata": {},
     "output_type": "execute_result"
    }
   ],
   "source": [
    "df_imdb_oscar"
   ]
  },
  {
   "cell_type": "code",
   "execution_count": 47,
   "id": "b50c6b60-833b-486b-a60e-37c27c4451bd",
   "metadata": {},
   "outputs": [
    {
     "data": {
      "text/plain": [
       "NaN      443189\n",
       "False      6863\n",
       "True       1831\n",
       "Name: winner, dtype: int64"
      ]
     },
     "execution_count": 47,
     "metadata": {},
     "output_type": "execute_result"
    }
   ],
   "source": [
    "df_imdb_oscar.winner.value_counts(dropna=False)"
   ]
  },
  {
   "cell_type": "code",
   "execution_count": 48,
   "id": "df1a79ea-5820-4d6e-83e5-57c9df609f95",
   "metadata": {},
   "outputs": [],
   "source": [
    "df_imdb_oscar.loc[(df_imdb_oscar['startYear'] < 2021) & (df_imdb_oscar['winner'].isnull()),'winner']=False"
   ]
  },
  {
   "cell_type": "code",
   "execution_count": 49,
   "id": "ece38114-b1d1-453c-b4ee-73a61bdcacca",
   "metadata": {
    "tags": []
   },
   "outputs": [
    {
     "data": {
      "text/plain": [
       "False    447324\n",
       "NaN        2728\n",
       "True       1831\n",
       "Name: winner, dtype: int64"
      ]
     },
     "execution_count": 49,
     "metadata": {},
     "output_type": "execute_result"
    }
   ],
   "source": [
    "df_imdb_oscar.winner.value_counts(dropna=False)"
   ]
  },
  {
   "cell_type": "code",
   "execution_count": 50,
   "id": "8d1f7417-8e39-4816-a5e0-2f03582ad41a",
   "metadata": {},
   "outputs": [
    {
     "data": {
      "text/plain": [
       "False    447324\n",
       "NaN        2728\n",
       "True       1831\n",
       "Name: winner, dtype: int64"
      ]
     },
     "execution_count": 50,
     "metadata": {},
     "output_type": "execute_result"
    }
   ],
   "source": [
    "df_imdb_oscar.winner.value_counts(dropna=False)"
   ]
  },
  {
   "cell_type": "code",
   "execution_count": 51,
   "id": "edca8efc-d5fc-44df-bde6-1f5fcfb51a90",
   "metadata": {},
   "outputs": [],
   "source": [
    "df_imdb_oscar.loc[(df_imdb_oscar['startYear'] < 2021) & (df_imdb_oscar['nominee'].isnull()),'nominee']=False"
   ]
  },
  {
   "cell_type": "markdown",
   "id": "58efaac2-2860-429a-83c1-dc779210cd8d",
   "metadata": {},
   "source": [
    "## Tratando Valores Faltantes"
   ]
  },
  {
   "cell_type": "code",
   "execution_count": 52,
   "id": "1aab5df9-bdd6-4ba0-b242-5fe86f730a1e",
   "metadata": {},
   "outputs": [
    {
     "data": {
      "text/plain": [
       "False    447324\n",
       "NaN        2728\n",
       "True       1831\n",
       "Name: winner, dtype: int64"
      ]
     },
     "execution_count": 52,
     "metadata": {},
     "output_type": "execute_result"
    }
   ],
   "source": [
    "df_imdb_oscar.winner.value_counts(dropna=False)"
   ]
  },
  {
   "cell_type": "code",
   "execution_count": 53,
   "id": "3ffc3829-c09c-4c9d-9960-9e7ebac6842d",
   "metadata": {},
   "outputs": [],
   "source": [
    "df_imdb_oscar = df_imdb_oscar.loc[df_imdb_oscar['startYear'] < 2021]"
   ]
  },
  {
   "cell_type": "code",
   "execution_count": 54,
   "id": "5417da67-acb9-44e0-9446-4399206769e1",
   "metadata": {},
   "outputs": [
    {
     "data": {
      "text/plain": [
       "2020"
      ]
     },
     "execution_count": 54,
     "metadata": {},
     "output_type": "execute_result"
    }
   ],
   "source": [
    "df_imdb_oscar['startYear'].max()"
   ]
  },
  {
   "cell_type": "code",
   "execution_count": 55,
   "id": "70578bd0-6a8b-48ac-9617-534fbc02f0d2",
   "metadata": {},
   "outputs": [
    {
     "data": {
      "text/html": [
       "<div>\n",
       "<style scoped>\n",
       "    .dataframe tbody tr th:only-of-type {\n",
       "        vertical-align: middle;\n",
       "    }\n",
       "\n",
       "    .dataframe tbody tr th {\n",
       "        vertical-align: top;\n",
       "    }\n",
       "\n",
       "    .dataframe thead th {\n",
       "        text-align: right;\n",
       "    }\n",
       "</style>\n",
       "<table border=\"1\" class=\"dataframe\">\n",
       "  <thead>\n",
       "    <tr style=\"text-align: right;\">\n",
       "      <th></th>\n",
       "      <th>titleType</th>\n",
       "      <th>primaryTitle</th>\n",
       "      <th>originalTitle</th>\n",
       "      <th>isAdult</th>\n",
       "      <th>startYear</th>\n",
       "      <th>genres</th>\n",
       "      <th>averageRating</th>\n",
       "      <th>numVotes</th>\n",
       "      <th>year_film</th>\n",
       "      <th>year_ceremony</th>\n",
       "      <th>ceremony</th>\n",
       "      <th>category</th>\n",
       "      <th>name</th>\n",
       "      <th>film</th>\n",
       "      <th>winner</th>\n",
       "      <th>nominee</th>\n",
       "    </tr>\n",
       "  </thead>\n",
       "  <tbody>\n",
       "    <tr>\n",
       "      <th>451878</th>\n",
       "      <td>movie</td>\n",
       "      <td>The Secret of China</td>\n",
       "      <td>Hong xing zhao yao Zhong guo</td>\n",
       "      <td>0.0</td>\n",
       "      <td>2019</td>\n",
       "      <td>Adventure,History,War</td>\n",
       "      <td>3.8</td>\n",
       "      <td>12</td>\n",
       "      <td>NaN</td>\n",
       "      <td>NaN</td>\n",
       "      <td>NaN</td>\n",
       "      <td>NaN</td>\n",
       "      <td>NaN</td>\n",
       "      <td>NaN</td>\n",
       "      <td>False</td>\n",
       "      <td>False</td>\n",
       "    </tr>\n",
       "    <tr>\n",
       "      <th>451879</th>\n",
       "      <td>tvMovie</td>\n",
       "      <td>Pink Taxi</td>\n",
       "      <td>Pink Taxi</td>\n",
       "      <td>0.0</td>\n",
       "      <td>2019</td>\n",
       "      <td>Comedy</td>\n",
       "      <td>9.3</td>\n",
       "      <td>15</td>\n",
       "      <td>NaN</td>\n",
       "      <td>NaN</td>\n",
       "      <td>NaN</td>\n",
       "      <td>NaN</td>\n",
       "      <td>NaN</td>\n",
       "      <td>NaN</td>\n",
       "      <td>False</td>\n",
       "      <td>False</td>\n",
       "    </tr>\n",
       "    <tr>\n",
       "      <th>451880</th>\n",
       "      <td>movie</td>\n",
       "      <td>Kuambil Lagi Hatiku</td>\n",
       "      <td>Kuambil Lagi Hatiku</td>\n",
       "      <td>0.0</td>\n",
       "      <td>2019</td>\n",
       "      <td>Drama</td>\n",
       "      <td>8.3</td>\n",
       "      <td>6</td>\n",
       "      <td>NaN</td>\n",
       "      <td>NaN</td>\n",
       "      <td>NaN</td>\n",
       "      <td>NaN</td>\n",
       "      <td>NaN</td>\n",
       "      <td>NaN</td>\n",
       "      <td>False</td>\n",
       "      <td>False</td>\n",
       "    </tr>\n",
       "    <tr>\n",
       "      <th>451881</th>\n",
       "      <td>short</td>\n",
       "      <td>My Sweet Prince</td>\n",
       "      <td>My Sweet Prince</td>\n",
       "      <td>0.0</td>\n",
       "      <td>2019</td>\n",
       "      <td>Drama,Short</td>\n",
       "      <td>7.2</td>\n",
       "      <td>38</td>\n",
       "      <td>NaN</td>\n",
       "      <td>NaN</td>\n",
       "      <td>NaN</td>\n",
       "      <td>NaN</td>\n",
       "      <td>NaN</td>\n",
       "      <td>NaN</td>\n",
       "      <td>False</td>\n",
       "      <td>False</td>\n",
       "    </tr>\n",
       "    <tr>\n",
       "      <th>451882</th>\n",
       "      <td>short</td>\n",
       "      <td>The Nun 2</td>\n",
       "      <td>The Nun 2</td>\n",
       "      <td>0.0</td>\n",
       "      <td>2019</td>\n",
       "      <td>Comedy,Horror,Mystery</td>\n",
       "      <td>6.5</td>\n",
       "      <td>90</td>\n",
       "      <td>NaN</td>\n",
       "      <td>NaN</td>\n",
       "      <td>NaN</td>\n",
       "      <td>NaN</td>\n",
       "      <td>NaN</td>\n",
       "      <td>NaN</td>\n",
       "      <td>False</td>\n",
       "      <td>False</td>\n",
       "    </tr>\n",
       "  </tbody>\n",
       "</table>\n",
       "</div>"
      ],
      "text/plain": [
       "       titleType         primaryTitle                 originalTitle  isAdult  \\\n",
       "451878     movie  The Secret of China  Hong xing zhao yao Zhong guo      0.0   \n",
       "451879   tvMovie            Pink Taxi                     Pink Taxi      0.0   \n",
       "451880     movie  Kuambil Lagi Hatiku           Kuambil Lagi Hatiku      0.0   \n",
       "451881     short      My Sweet Prince               My Sweet Prince      0.0   \n",
       "451882     short            The Nun 2                     The Nun 2      0.0   \n",
       "\n",
       "        startYear                 genres  averageRating  numVotes  year_film  \\\n",
       "451878       2019  Adventure,History,War            3.8        12        NaN   \n",
       "451879       2019                 Comedy            9.3        15        NaN   \n",
       "451880       2019                  Drama            8.3         6        NaN   \n",
       "451881       2019            Drama,Short            7.2        38        NaN   \n",
       "451882       2019  Comedy,Horror,Mystery            6.5        90        NaN   \n",
       "\n",
       "        year_ceremony  ceremony category name film winner nominee  \n",
       "451878            NaN       NaN      NaN  NaN  NaN  False   False  \n",
       "451879            NaN       NaN      NaN  NaN  NaN  False   False  \n",
       "451880            NaN       NaN      NaN  NaN  NaN  False   False  \n",
       "451881            NaN       NaN      NaN  NaN  NaN  False   False  \n",
       "451882            NaN       NaN      NaN  NaN  NaN  False   False  "
      ]
     },
     "execution_count": 55,
     "metadata": {},
     "output_type": "execute_result"
    }
   ],
   "source": [
    "df_imdb_oscar.tail()"
   ]
  },
  {
   "cell_type": "markdown",
   "id": "a806fa96-efae-4a18-b296-c4dbdfab3296",
   "metadata": {},
   "source": [
    "### Divisão entre previsores e calsse"
   ]
  },
  {
   "cell_type": "code",
   "execution_count": 56,
   "id": "ea274d2f-0cdc-4518-9756-98e6d048293f",
   "metadata": {},
   "outputs": [],
   "source": [
    "X_imdb_oscar = df_imdb_oscar.iloc[:, 6:8]"
   ]
  },
  {
   "cell_type": "code",
   "execution_count": 57,
   "id": "b0d773e3-dca2-4ae1-a9d2-f3650d145196",
   "metadata": {},
   "outputs": [],
   "source": [
    "X_imdb_oscar = df_imdb_oscar.iloc[:, 6:8]"
   ]
  },
  {
   "cell_type": "code",
   "execution_count": 58,
   "id": "6336785d-d89a-4a0d-a81c-ba9d9d308ac9",
   "metadata": {},
   "outputs": [],
   "source": [
    "Y_imdb_oscar_winner = df_imdb_oscar.iloc[:, 14]"
   ]
  },
  {
   "cell_type": "code",
   "execution_count": 59,
   "id": "b98e2bb7-3b21-4b01-aeaf-6ab42adf3a4c",
   "metadata": {},
   "outputs": [],
   "source": [
    "Y_imdb_oscar_nominee = df_imdb_oscar.iloc[:, 15]"
   ]
  },
  {
   "cell_type": "markdown",
   "id": "ad09c974-950c-4247-8761-86ebeab26691",
   "metadata": {},
   "source": [
    "### Escalonamento dos valores"
   ]
  },
  {
   "cell_type": "code",
   "execution_count": 60,
   "id": "13b0b4e1-e617-4c75-81a2-34bb178c6c46",
   "metadata": {},
   "outputs": [],
   "source": [
    "from sklearn.preprocessing import StandardScaler\n",
    "scaler = StandardScaler()\n",
    "X_imdb_oscar = scaler.fit_transform(X_imdb_oscar)"
   ]
  },
  {
   "cell_type": "code",
   "execution_count": 61,
   "id": "d1c0d451-5c7e-433e-9844-7898a643e5d4",
   "metadata": {},
   "outputs": [
    {
     "data": {
      "text/plain": [
       "array([[-0.49998705, -0.04971163],\n",
       "       [-0.21479076, -0.08143024],\n",
       "       [ 0.07040552, -0.05483573],\n",
       "       ...,\n",
       "       [ 1.35378881, -0.08574973],\n",
       "       [ 0.56949902, -0.08507216],\n",
       "       [ 0.07040552, -0.08397112]])"
      ]
     },
     "execution_count": 61,
     "metadata": {},
     "output_type": "execute_result"
    }
   ],
   "source": [
    "X_imdb_oscar"
   ]
  },
  {
   "cell_type": "markdown",
   "id": "6d9ba800-9835-463a-a8d5-97aa7dcb3e78",
   "metadata": {},
   "source": [
    "## Tratamento de atributos categóricos"
   ]
  },
  {
   "cell_type": "markdown",
   "id": "0f477cfe-1b13-4107-8ad6-42353b96a24d",
   "metadata": {},
   "source": [
    "### LabelEncoder"
   ]
  },
  {
   "cell_type": "code",
   "execution_count": 62,
   "id": "2251fcc4-4ac9-42ad-927f-f4f474197590",
   "metadata": {},
   "outputs": [],
   "source": [
    "from sklearn.preprocessing import LabelEncoder"
   ]
  },
  {
   "cell_type": "code",
   "execution_count": 63,
   "id": "52a3c89f-c5ef-4197-8975-d8f0dde320a7",
   "metadata": {},
   "outputs": [],
   "source": [
    "label_encoder = LabelEncoder()"
   ]
  },
  {
   "cell_type": "code",
   "execution_count": 64,
   "id": "89768e34-75e7-4aa7-813a-4c0a6b003e22",
   "metadata": {},
   "outputs": [],
   "source": [
    "Y_imdb_oscar_winner = label_encoder.fit_transform(Y_imdb_oscar_winner)"
   ]
  },
  {
   "cell_type": "code",
   "execution_count": 65,
   "id": "296bd5f7-d116-42df-a819-a1444cce52ed",
   "metadata": {},
   "outputs": [
    {
     "data": {
      "text/plain": [
       "array([0, 0, 0, ..., 0, 0, 0])"
      ]
     },
     "execution_count": 65,
     "metadata": {},
     "output_type": "execute_result"
    }
   ],
   "source": [
    "Y_imdb_oscar_winner"
   ]
  },
  {
   "cell_type": "code",
   "execution_count": 69,
   "id": "88ed6c6c-0874-4676-b9e3-791ca5ff78d9",
   "metadata": {},
   "outputs": [],
   "source": [
    "Y_imdb_oscar_nominee = label_encoder.fit_transform(Y_imdb_oscar_nominee)"
   ]
  },
  {
   "cell_type": "code",
   "execution_count": 66,
   "id": "6749618a-e96c-4033-ba2f-a0df0d3b53f1",
   "metadata": {},
   "outputs": [],
   "source": [
    "from sklearn.model_selection import train_test_split"
   ]
  },
  {
   "cell_type": "code",
   "execution_count": 68,
   "id": "7365619d-1cc8-484e-9e1d-a07146eaaf94",
   "metadata": {},
   "outputs": [],
   "source": [
    "X_imdb_oscar_treinamento, X_imdb_oscar_teste, Y_imdb_oscar_winner_treinamento, Y_imdb_oscar_winner_teste = train_test_split(X_imdb_oscar, Y_imdb_oscar_winner,test_size = 0.25, random_state = 0)"
   ]
  },
  {
   "cell_type": "code",
   "execution_count": 70,
   "id": "0e8d0af9-d3eb-4001-b08d-e8ecefc87517",
   "metadata": {},
   "outputs": [],
   "source": [
    "from sklearn.naive_bayes import GaussianNB"
   ]
  },
  {
   "cell_type": "code",
   "execution_count": 71,
   "id": "34d70982-08a1-44f8-87c1-8464f570d2f2",
   "metadata": {},
   "outputs": [],
   "source": [
    "naive_imdb_oscar_winner = GaussianNB()"
   ]
  },
  {
   "cell_type": "code",
   "execution_count": 72,
   "id": "5560b5bb-d10c-48f4-a625-ea971c859ca3",
   "metadata": {},
   "outputs": [
    {
     "data": {
      "text/plain": [
       "GaussianNB()"
      ]
     },
     "execution_count": 72,
     "metadata": {},
     "output_type": "execute_result"
    }
   ],
   "source": [
    "naive_imdb_oscar_winner.fit(X_imdb_oscar_treinamento, Y_imdb_oscar_winner_treinamento)"
   ]
  },
  {
   "cell_type": "code",
   "execution_count": 76,
   "id": "15cc04a5-fa37-46b9-9a80-0528a99e4456",
   "metadata": {},
   "outputs": [],
   "source": [
    "previsoes = naive_imdb_oscar_winner.predict(X_imdb_oscar_teste)"
   ]
  },
  {
   "cell_type": "code",
   "execution_count": 77,
   "id": "5392d710-359d-4598-a6cf-1c1129f8402a",
   "metadata": {},
   "outputs": [],
   "source": [
    "from sklearn.metrics import accuracy_score, confusion_matrix, classification_report"
   ]
  },
  {
   "cell_type": "code",
   "execution_count": 78,
   "id": "7274583a-7ef6-46f3-8c05-a673abed205c",
   "metadata": {},
   "outputs": [
    {
     "data": {
      "text/plain": [
       "0.9919582505855427"
      ]
     },
     "execution_count": 78,
     "metadata": {},
     "output_type": "execute_result"
    }
   ],
   "source": [
    "accuracy_score(Y_imdb_oscar_winner_teste, previsoes)"
   ]
  },
  {
   "cell_type": "code",
   "execution_count": 79,
   "id": "3919668a-db21-4035-b0f0-3a33bdd33cc3",
   "metadata": {},
   "outputs": [
    {
     "data": {
      "text/plain": [
       "array([[111224,    575],\n",
       "       [   328,    162]])"
      ]
     },
     "execution_count": 79,
     "metadata": {},
     "output_type": "execute_result"
    }
   ],
   "source": [
    "confusion_matrix(Y_imdb_oscar_winner_teste, previsoes)"
   ]
  },
  {
   "cell_type": "code",
   "execution_count": 81,
   "id": "2726f0cd-2e82-4922-b932-8468a1af0ce2",
   "metadata": {},
   "outputs": [],
   "source": [
    "from yellowbrick.classifier import ConfusionMatrix"
   ]
  },
  {
   "cell_type": "code",
   "execution_count": 83,
   "id": "62a0c758-5346-4de1-80d7-7eb342916240",
   "metadata": {},
   "outputs": [
    {
     "data": {
      "text/plain": [
       "0.9919582505855427"
      ]
     },
     "execution_count": 83,
     "metadata": {},
     "output_type": "execute_result"
    },
    {
     "data": {
      "image/png": "[encoded data removed]",
      "text/plain": [
       "<Figure size 576x396 with 1 Axes>"
      ]
     },
     "metadata": {},
     "output_type": "display_data"
    }
   ],
   "source": [
    "cm = ConfusionMatrix(naive_imdb_oscar_winner)\n",
    "cm.fit(X_imdb_oscar_treinamento, Y_imdb_oscar_winner_treinamento)\n",
    "cm.score( X_imdb_oscar_teste, Y_imdb_oscar_winner_teste)"
   ]
  },
  {
   "cell_type": "code",
   "execution_count": 87,
   "id": "0954af5d-4e36-4c0b-8ade-dbfae1a1634c",
   "metadata": {},
   "outputs": [
    {
     "name": "stdout",
     "output_type": "stream",
     "text": [
      "              precision    recall  f1-score   support\n",
      "\n",
      "           0       1.00      0.99      1.00    111799\n",
      "           1       0.22      0.33      0.26       490\n",
      "\n",
      "    accuracy                           0.99    112289\n",
      "   macro avg       0.61      0.66      0.63    112289\n",
      "weighted avg       0.99      0.99      0.99    112289\n",
      "\n"
     ]
    }
   ],
   "source": [
    "print(classification_report(Y_imdb_oscar_winner_teste, previsoes))"
   ]
  },
  {
   "cell_type": "markdown",
   "id": "a8dca765-a119-4bb6-b1e4-bd889e71659f",
   "metadata": {},
   "source": [
    "# Árvores de decisão"
   ]
  },
  {
   "cell_type": "code",
   "execution_count": null,
   "id": "e6ecafdc-de3f-4ad4-9638-fe08a91be6d7",
   "metadata": {},
   "outputs": [],
   "source": [
    "from sklearn.tree import DecisionTreeClassifier"
   ]
  },
  {
   "cell_type": "code",
   "execution_count": null,
   "id": "8a4019f5-f4ab-43aa-8c78-69571eeb1b83",
   "metadata": {},
   "outputs": [],
   "source": []
  }
 ],
 "metadata": {
  "kernelspec": {
   "display_name": "Python 3 (ipykernel)",
   "language": "python",
   "name": "python3"
  },
  "language_info": {
   "codemirror_mode": {
    "name": "ipython",
    "version": 3
   },
   "file_extension": ".py",
   "mimetype": "text/x-python",
   "name": "python",
   "nbconvert_exporter": "python",
   "pygments_lexer": "ipython3",
   "version": "3.8.12"
  }
 },
 "nbformat": 4,
 "nbformat_minor": 5
}
