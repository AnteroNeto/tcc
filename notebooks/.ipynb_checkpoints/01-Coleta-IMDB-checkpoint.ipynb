{
 "cells": [
  {
   "cell_type": "markdown",
   "id": "d4f40a0b-2cbd-4168-a624-1b0855805c15",
   "metadata": {},
   "source": [
    "# Coleta de Dados do IMDB"
   ]
  },
  {
   "cell_type": "markdown",
   "id": "a4a3bbce-0479-433e-8d88-4710c6804610",
   "metadata": {},
   "source": [
    "## Download e descompressão dos arquivos:"
   ]
  },
  {
   "cell_type": "code",
   "execution_count": 38,
   "id": "8d06f31f-1233-4798-b459-2c31279888e4",
   "metadata": {},
   "outputs": [],
   "source": [
    "import os\n",
    "import wget\n",
    "import gzip\n",
    "import pandas as pd\n",
    "import matplotlib.pyplot as plt\n",
    "import seaborn as sns\n",
    "import pickle\n",
    "import shutil"
   ]
  },
  {
   "cell_type": "code",
   "execution_count": 2,
   "id": "b05e89f1-1f73-44b1-a5a5-d503c416ba09",
   "metadata": {},
   "outputs": [
    {
     "data": {
      "text/plain": [
       "'/home/antero/Documentos/tcc/microdados'"
      ]
     },
     "execution_count": 2,
     "metadata": {},
     "output_type": "execute_result"
    }
   ],
   "source": [
    "os.chdir(\"../microdados\")\n",
    "os.getcwd()"
   ]
  },
  {
   "cell_type": "code",
   "execution_count": 3,
   "id": "936e1c61-dd4c-4bb2-a666-67e8c8ebbb67",
   "metadata": {},
   "outputs": [
    {
     "data": {
      "text/plain": [
       "'title.basics.tsv (1).gz'"
      ]
     },
     "execution_count": 3,
     "metadata": {},
     "output_type": "execute_result"
    }
   ],
   "source": [
    "url_download_title = \"https://datasets.imdbws.com/title.basics.tsv.gz\"\n",
    "wget.download(url_download_title)"
   ]
  },
  {
   "cell_type": "code",
   "execution_count": 4,
   "id": "da0c799b-ec37-43d0-b4cd-bfbf221ee432",
   "metadata": {},
   "outputs": [
    {
     "data": {
      "text/plain": [
       "'title.ratings.tsv (1).gz'"
      ]
     },
     "execution_count": 4,
     "metadata": {},
     "output_type": "execute_result"
    }
   ],
   "source": [
    "url_download_ratings = \"https://datasets.imdbws.com/title.ratings.tsv.gz\"\n",
    "wget.download(url_download_ratings)"
   ]
  },
  {
   "cell_type": "code",
   "execution_count": 5,
   "id": "ada3f657-7783-46b8-b72e-7078a92dbfcc",
   "metadata": {},
   "outputs": [],
   "source": [
    "with gzip.open('title.basics.tsv.gz', 'rb') as f_in:\n",
    "    with open('title.basics.tsv', 'wb') as f_out:\n",
    "        shutil.copyfileobj(f_in, f_out)"
   ]
  },
  {
   "cell_type": "code",
   "execution_count": 6,
   "id": "82ca7092-c110-4ee1-a52f-97745a30fc12",
   "metadata": {},
   "outputs": [],
   "source": [
    "with gzip.open('title.ratings.tsv.gz', 'rb') as f_in:\n",
    "    with open('title.ratings.tsv', 'wb') as f_out:\n",
    "        shutil.copyfileobj(f_in, f_out)"
   ]
  },
  {
   "cell_type": "markdown",
   "id": "98274084-265a-4582-a8e4-d73aa6a1f5bd",
   "metadata": {},
   "source": [
    "## Lendo dados dos arquivos TSV e importando para DataFrame Pandas"
   ]
  },
  {
   "cell_type": "code",
   "execution_count": 12,
   "id": "f862e6bc-46e1-4ab5-88fb-5b3c2f207647",
   "metadata": {},
   "outputs": [],
   "source": [
    "df_imdb_basics = pd.read_csv('title.basics.tsv', sep='\\t', na_values='\\\\N', low_memory=False)\n",
    "df_imdb_ratings = pd.read_csv('title.ratings.tsv', sep='\\t', na_values='\\\\N', low_memory=False)"
   ]
  },
  {
   "cell_type": "markdown",
   "id": "41b8d3c1-3e73-4e8e-a7e9-7513154db640",
   "metadata": {},
   "source": [
    "### Explorando os DataFrames"
   ]
  },
  {
   "cell_type": "code",
   "execution_count": 13,
   "id": "2d52cc85-a690-4c3b-b603-f213f481d30d",
   "metadata": {},
   "outputs": [
    {
     "data": {
      "text/plain": [
       "(7979322, 9)"
      ]
     },
     "execution_count": 13,
     "metadata": {},
     "output_type": "execute_result"
    }
   ],
   "source": [
    "df_imdb_basics.shape"
   ]
  },
  {
   "cell_type": "code",
   "execution_count": 14,
   "id": "7b74ac7b-5b0e-402d-9112-f24c4ffa817c",
   "metadata": {},
   "outputs": [
    {
     "data": {
      "text/plain": [
       "(1161026, 3)"
      ]
     },
     "execution_count": 14,
     "metadata": {},
     "output_type": "execute_result"
    }
   ],
   "source": [
    "df_imdb_ratings.shape"
   ]
  },
  {
   "cell_type": "code",
   "execution_count": 15,
   "id": "09e54882-7d17-4347-ac44-938d44e7abd4",
   "metadata": {},
   "outputs": [
    {
     "name": "stdout",
     "output_type": "stream",
     "text": [
      "<class 'pandas.core.frame.DataFrame'>\n",
      "RangeIndex: 7979322 entries, 0 to 7979321\n",
      "Data columns (total 9 columns):\n",
      " #   Column          Dtype  \n",
      "---  ------          -----  \n",
      " 0   tconst          object \n",
      " 1   titleType       object \n",
      " 2   primaryTitle    object \n",
      " 3   originalTitle   object \n",
      " 4   isAdult         float64\n",
      " 5   startYear       float64\n",
      " 6   endYear         float64\n",
      " 7   runtimeMinutes  object \n",
      " 8   genres          object \n",
      "dtypes: float64(3), object(6)\n",
      "memory usage: 547.9+ MB\n"
     ]
    }
   ],
   "source": [
    "df_imdb_basics.info()"
   ]
  },
  {
   "cell_type": "code",
   "execution_count": 16,
   "id": "1889e864-b833-4072-8780-8ad6d27257c0",
   "metadata": {},
   "outputs": [
    {
     "name": "stdout",
     "output_type": "stream",
     "text": [
      "<class 'pandas.core.frame.DataFrame'>\n",
      "RangeIndex: 1161026 entries, 0 to 1161025\n",
      "Data columns (total 3 columns):\n",
      " #   Column         Non-Null Count    Dtype  \n",
      "---  ------         --------------    -----  \n",
      " 0   tconst         1161026 non-null  object \n",
      " 1   averageRating  1161026 non-null  float64\n",
      " 2   numVotes       1161026 non-null  int64  \n",
      "dtypes: float64(1), int64(1), object(1)\n",
      "memory usage: 26.6+ MB\n"
     ]
    }
   ],
   "source": [
    "df_imdb_ratings.info()"
   ]
  },
  {
   "cell_type": "code",
   "execution_count": 17,
   "id": "d1ded6ce-31de-44eb-a63c-4dcde4bd5658",
   "metadata": {},
   "outputs": [
    {
     "data": {
      "text/html": [
       "<div>\n",
       "<style scoped>\n",
       "    .dataframe tbody tr th:only-of-type {\n",
       "        vertical-align: middle;\n",
       "    }\n",
       "\n",
       "    .dataframe tbody tr th {\n",
       "        vertical-align: top;\n",
       "    }\n",
       "\n",
       "    .dataframe thead th {\n",
       "        text-align: right;\n",
       "    }\n",
       "</style>\n",
       "<table border=\"1\" class=\"dataframe\">\n",
       "  <thead>\n",
       "    <tr style=\"text-align: right;\">\n",
       "      <th></th>\n",
       "      <th>tconst</th>\n",
       "      <th>titleType</th>\n",
       "      <th>primaryTitle</th>\n",
       "      <th>originalTitle</th>\n",
       "      <th>isAdult</th>\n",
       "      <th>startYear</th>\n",
       "      <th>endYear</th>\n",
       "      <th>runtimeMinutes</th>\n",
       "      <th>genres</th>\n",
       "    </tr>\n",
       "  </thead>\n",
       "  <tbody>\n",
       "    <tr>\n",
       "      <th>0</th>\n",
       "      <td>tt0000001</td>\n",
       "      <td>short</td>\n",
       "      <td>Carmencita</td>\n",
       "      <td>Carmencita</td>\n",
       "      <td>0.0</td>\n",
       "      <td>1894.0</td>\n",
       "      <td>NaN</td>\n",
       "      <td>1</td>\n",
       "      <td>Documentary,Short</td>\n",
       "    </tr>\n",
       "    <tr>\n",
       "      <th>1</th>\n",
       "      <td>tt0000002</td>\n",
       "      <td>short</td>\n",
       "      <td>Le clown et ses chiens</td>\n",
       "      <td>Le clown et ses chiens</td>\n",
       "      <td>0.0</td>\n",
       "      <td>1892.0</td>\n",
       "      <td>NaN</td>\n",
       "      <td>5</td>\n",
       "      <td>Animation,Short</td>\n",
       "    </tr>\n",
       "    <tr>\n",
       "      <th>2</th>\n",
       "      <td>tt0000003</td>\n",
       "      <td>short</td>\n",
       "      <td>Pauvre Pierrot</td>\n",
       "      <td>Pauvre Pierrot</td>\n",
       "      <td>0.0</td>\n",
       "      <td>1892.0</td>\n",
       "      <td>NaN</td>\n",
       "      <td>4</td>\n",
       "      <td>Animation,Comedy,Romance</td>\n",
       "    </tr>\n",
       "    <tr>\n",
       "      <th>3</th>\n",
       "      <td>tt0000004</td>\n",
       "      <td>short</td>\n",
       "      <td>Un bon bock</td>\n",
       "      <td>Un bon bock</td>\n",
       "      <td>0.0</td>\n",
       "      <td>1892.0</td>\n",
       "      <td>NaN</td>\n",
       "      <td>12</td>\n",
       "      <td>Animation,Short</td>\n",
       "    </tr>\n",
       "    <tr>\n",
       "      <th>4</th>\n",
       "      <td>tt0000005</td>\n",
       "      <td>short</td>\n",
       "      <td>Blacksmith Scene</td>\n",
       "      <td>Blacksmith Scene</td>\n",
       "      <td>0.0</td>\n",
       "      <td>1893.0</td>\n",
       "      <td>NaN</td>\n",
       "      <td>1</td>\n",
       "      <td>Comedy,Short</td>\n",
       "    </tr>\n",
       "  </tbody>\n",
       "</table>\n",
       "</div>"
      ],
      "text/plain": [
       "      tconst titleType            primaryTitle           originalTitle  \\\n",
       "0  tt0000001     short              Carmencita              Carmencita   \n",
       "1  tt0000002     short  Le clown et ses chiens  Le clown et ses chiens   \n",
       "2  tt0000003     short          Pauvre Pierrot          Pauvre Pierrot   \n",
       "3  tt0000004     short             Un bon bock             Un bon bock   \n",
       "4  tt0000005     short        Blacksmith Scene        Blacksmith Scene   \n",
       "\n",
       "   isAdult  startYear  endYear runtimeMinutes                    genres  \n",
       "0      0.0     1894.0      NaN              1         Documentary,Short  \n",
       "1      0.0     1892.0      NaN              5           Animation,Short  \n",
       "2      0.0     1892.0      NaN              4  Animation,Comedy,Romance  \n",
       "3      0.0     1892.0      NaN             12           Animation,Short  \n",
       "4      0.0     1893.0      NaN              1              Comedy,Short  "
      ]
     },
     "execution_count": 17,
     "metadata": {},
     "output_type": "execute_result"
    }
   ],
   "source": [
    "df_imdb_basics.head()"
   ]
  },
  {
   "cell_type": "code",
   "execution_count": 18,
   "id": "2a52ea4e-ef62-4f12-b8a7-9dd532db7468",
   "metadata": {},
   "outputs": [
    {
     "data": {
      "text/html": [
       "<div>\n",
       "<style scoped>\n",
       "    .dataframe tbody tr th:only-of-type {\n",
       "        vertical-align: middle;\n",
       "    }\n",
       "\n",
       "    .dataframe tbody tr th {\n",
       "        vertical-align: top;\n",
       "    }\n",
       "\n",
       "    .dataframe thead th {\n",
       "        text-align: right;\n",
       "    }\n",
       "</style>\n",
       "<table border=\"1\" class=\"dataframe\">\n",
       "  <thead>\n",
       "    <tr style=\"text-align: right;\">\n",
       "      <th></th>\n",
       "      <th>tconst</th>\n",
       "      <th>averageRating</th>\n",
       "      <th>numVotes</th>\n",
       "    </tr>\n",
       "  </thead>\n",
       "  <tbody>\n",
       "    <tr>\n",
       "      <th>0</th>\n",
       "      <td>tt0000001</td>\n",
       "      <td>5.7</td>\n",
       "      <td>1708</td>\n",
       "    </tr>\n",
       "    <tr>\n",
       "      <th>1</th>\n",
       "      <td>tt0000002</td>\n",
       "      <td>6.1</td>\n",
       "      <td>210</td>\n",
       "    </tr>\n",
       "    <tr>\n",
       "      <th>2</th>\n",
       "      <td>tt0000003</td>\n",
       "      <td>6.5</td>\n",
       "      <td>1466</td>\n",
       "    </tr>\n",
       "    <tr>\n",
       "      <th>3</th>\n",
       "      <td>tt0000004</td>\n",
       "      <td>6.1</td>\n",
       "      <td>123</td>\n",
       "    </tr>\n",
       "    <tr>\n",
       "      <th>4</th>\n",
       "      <td>tt0000005</td>\n",
       "      <td>6.2</td>\n",
       "      <td>2268</td>\n",
       "    </tr>\n",
       "  </tbody>\n",
       "</table>\n",
       "</div>"
      ],
      "text/plain": [
       "      tconst  averageRating  numVotes\n",
       "0  tt0000001            5.7      1708\n",
       "1  tt0000002            6.1       210\n",
       "2  tt0000003            6.5      1466\n",
       "3  tt0000004            6.1       123\n",
       "4  tt0000005            6.2      2268"
      ]
     },
     "execution_count": 18,
     "metadata": {},
     "output_type": "execute_result"
    }
   ],
   "source": [
    "df_imdb_ratings.head()"
   ]
  },
  {
   "cell_type": "markdown",
   "id": "ed4bded6-47df-40d7-be38-a0de090e894e",
   "metadata": {},
   "source": [
    "### Unindo os DataFrames"
   ]
  },
  {
   "cell_type": "code",
   "execution_count": 19,
   "id": "3fe74df1-239c-4117-a698-a4f1dd2c7edd",
   "metadata": {},
   "outputs": [],
   "source": [
    "df_imdb = df_imdb_basics.merge(df_imdb_ratings, on='tconst', how='inner')"
   ]
  },
  {
   "cell_type": "code",
   "execution_count": 20,
   "id": "d7b258c8-3443-4c90-9da2-419fa5b438c6",
   "metadata": {},
   "outputs": [
    {
     "data": {
      "text/plain": [
       "(1161026, 11)"
      ]
     },
     "execution_count": 20,
     "metadata": {},
     "output_type": "execute_result"
    }
   ],
   "source": [
    "df_imdb.shape"
   ]
  },
  {
   "cell_type": "code",
   "execution_count": 21,
   "id": "6c7b1045-e2dc-4179-8c5d-e1f3ceb831f9",
   "metadata": {},
   "outputs": [
    {
     "name": "stdout",
     "output_type": "stream",
     "text": [
      "<class 'pandas.core.frame.DataFrame'>\n",
      "Int64Index: 1161026 entries, 0 to 1161025\n",
      "Data columns (total 11 columns):\n",
      " #   Column          Non-Null Count    Dtype  \n",
      "---  ------          --------------    -----  \n",
      " 0   tconst          1161026 non-null  object \n",
      " 1   titleType       1161026 non-null  object \n",
      " 2   primaryTitle    1161026 non-null  object \n",
      " 3   originalTitle   1161026 non-null  object \n",
      " 4   isAdult         1161026 non-null  float64\n",
      " 5   startYear       1160838 non-null  float64\n",
      " 6   endYear         31844 non-null    float64\n",
      " 7   runtimeMinutes  847069 non-null   object \n",
      " 8   genres          1138689 non-null  object \n",
      " 9   averageRating   1161026 non-null  float64\n",
      " 10  numVotes        1161026 non-null  int64  \n",
      "dtypes: float64(4), int64(1), object(6)\n",
      "memory usage: 106.3+ MB\n"
     ]
    }
   ],
   "source": [
    "df_imdb.info()"
   ]
  },
  {
   "cell_type": "code",
   "execution_count": 22,
   "id": "8ff4b623-baab-489f-8861-57d5b9ef67bf",
   "metadata": {},
   "outputs": [
    {
     "data": {
      "text/html": [
       "<div>\n",
       "<style scoped>\n",
       "    .dataframe tbody tr th:only-of-type {\n",
       "        vertical-align: middle;\n",
       "    }\n",
       "\n",
       "    .dataframe tbody tr th {\n",
       "        vertical-align: top;\n",
       "    }\n",
       "\n",
       "    .dataframe thead th {\n",
       "        text-align: right;\n",
       "    }\n",
       "</style>\n",
       "<table border=\"1\" class=\"dataframe\">\n",
       "  <thead>\n",
       "    <tr style=\"text-align: right;\">\n",
       "      <th></th>\n",
       "      <th>isAdult</th>\n",
       "      <th>startYear</th>\n",
       "      <th>endYear</th>\n",
       "      <th>averageRating</th>\n",
       "      <th>numVotes</th>\n",
       "    </tr>\n",
       "  </thead>\n",
       "  <tbody>\n",
       "    <tr>\n",
       "      <th>count</th>\n",
       "      <td>1.161026e+06</td>\n",
       "      <td>1.160838e+06</td>\n",
       "      <td>31844.000000</td>\n",
       "      <td>1.161026e+06</td>\n",
       "      <td>1.161026e+06</td>\n",
       "    </tr>\n",
       "    <tr>\n",
       "      <th>mean</th>\n",
       "      <td>2.008396e-02</td>\n",
       "      <td>2.000332e+03</td>\n",
       "      <td>2003.512279</td>\n",
       "      <td>6.902790e+00</td>\n",
       "      <td>9.532102e+02</td>\n",
       "    </tr>\n",
       "    <tr>\n",
       "      <th>std</th>\n",
       "      <td>2.650343e+00</td>\n",
       "      <td>2.133694e+01</td>\n",
       "      <td>15.831654</td>\n",
       "      <td>1.400439e+00</td>\n",
       "      <td>1.612455e+04</td>\n",
       "    </tr>\n",
       "    <tr>\n",
       "      <th>min</th>\n",
       "      <td>0.000000e+00</td>\n",
       "      <td>1.874000e+03</td>\n",
       "      <td>1933.000000</td>\n",
       "      <td>1.000000e+00</td>\n",
       "      <td>5.000000e+00</td>\n",
       "    </tr>\n",
       "    <tr>\n",
       "      <th>25%</th>\n",
       "      <td>0.000000e+00</td>\n",
       "      <td>1.993000e+03</td>\n",
       "      <td>1995.000000</td>\n",
       "      <td>6.100000e+00</td>\n",
       "      <td>9.000000e+00</td>\n",
       "    </tr>\n",
       "    <tr>\n",
       "      <th>50%</th>\n",
       "      <td>0.000000e+00</td>\n",
       "      <td>2.008000e+03</td>\n",
       "      <td>2008.000000</td>\n",
       "      <td>7.100000e+00</td>\n",
       "      <td>2.000000e+01</td>\n",
       "    </tr>\n",
       "    <tr>\n",
       "      <th>75%</th>\n",
       "      <td>0.000000e+00</td>\n",
       "      <td>2.015000e+03</td>\n",
       "      <td>2016.000000</td>\n",
       "      <td>7.900000e+00</td>\n",
       "      <td>7.900000e+01</td>\n",
       "    </tr>\n",
       "    <tr>\n",
       "      <th>max</th>\n",
       "      <td>2.020000e+03</td>\n",
       "      <td>2.021000e+03</td>\n",
       "      <td>2022.000000</td>\n",
       "      <td>1.000000e+01</td>\n",
       "      <td>2.403003e+06</td>\n",
       "    </tr>\n",
       "  </tbody>\n",
       "</table>\n",
       "</div>"
      ],
      "text/plain": [
       "            isAdult     startYear       endYear  averageRating      numVotes\n",
       "count  1.161026e+06  1.160838e+06  31844.000000   1.161026e+06  1.161026e+06\n",
       "mean   2.008396e-02  2.000332e+03   2003.512279   6.902790e+00  9.532102e+02\n",
       "std    2.650343e+00  2.133694e+01     15.831654   1.400439e+00  1.612455e+04\n",
       "min    0.000000e+00  1.874000e+03   1933.000000   1.000000e+00  5.000000e+00\n",
       "25%    0.000000e+00  1.993000e+03   1995.000000   6.100000e+00  9.000000e+00\n",
       "50%    0.000000e+00  2.008000e+03   2008.000000   7.100000e+00  2.000000e+01\n",
       "75%    0.000000e+00  2.015000e+03   2016.000000   7.900000e+00  7.900000e+01\n",
       "max    2.020000e+03  2.021000e+03   2022.000000   1.000000e+01  2.403003e+06"
      ]
     },
     "execution_count": 22,
     "metadata": {},
     "output_type": "execute_result"
    }
   ],
   "source": [
    "df_imdb.describe()"
   ]
  },
  {
   "cell_type": "code",
   "execution_count": 23,
   "id": "88640cb2-c79d-475b-bbfc-8bf378e1a251",
   "metadata": {},
   "outputs": [
    {
     "data": {
      "text/html": [
       "<div>\n",
       "<style scoped>\n",
       "    .dataframe tbody tr th:only-of-type {\n",
       "        vertical-align: middle;\n",
       "    }\n",
       "\n",
       "    .dataframe tbody tr th {\n",
       "        vertical-align: top;\n",
       "    }\n",
       "\n",
       "    .dataframe thead th {\n",
       "        text-align: right;\n",
       "    }\n",
       "</style>\n",
       "<table border=\"1\" class=\"dataframe\">\n",
       "  <thead>\n",
       "    <tr style=\"text-align: right;\">\n",
       "      <th></th>\n",
       "      <th>tconst</th>\n",
       "      <th>titleType</th>\n",
       "      <th>primaryTitle</th>\n",
       "      <th>originalTitle</th>\n",
       "      <th>isAdult</th>\n",
       "      <th>startYear</th>\n",
       "      <th>endYear</th>\n",
       "      <th>runtimeMinutes</th>\n",
       "      <th>genres</th>\n",
       "      <th>averageRating</th>\n",
       "      <th>numVotes</th>\n",
       "    </tr>\n",
       "  </thead>\n",
       "  <tbody>\n",
       "    <tr>\n",
       "      <th>0</th>\n",
       "      <td>tt0000001</td>\n",
       "      <td>short</td>\n",
       "      <td>Carmencita</td>\n",
       "      <td>Carmencita</td>\n",
       "      <td>0.0</td>\n",
       "      <td>1894.0</td>\n",
       "      <td>NaN</td>\n",
       "      <td>1</td>\n",
       "      <td>Documentary,Short</td>\n",
       "      <td>5.7</td>\n",
       "      <td>1708</td>\n",
       "    </tr>\n",
       "    <tr>\n",
       "      <th>1</th>\n",
       "      <td>tt0000002</td>\n",
       "      <td>short</td>\n",
       "      <td>Le clown et ses chiens</td>\n",
       "      <td>Le clown et ses chiens</td>\n",
       "      <td>0.0</td>\n",
       "      <td>1892.0</td>\n",
       "      <td>NaN</td>\n",
       "      <td>5</td>\n",
       "      <td>Animation,Short</td>\n",
       "      <td>6.1</td>\n",
       "      <td>210</td>\n",
       "    </tr>\n",
       "    <tr>\n",
       "      <th>2</th>\n",
       "      <td>tt0000003</td>\n",
       "      <td>short</td>\n",
       "      <td>Pauvre Pierrot</td>\n",
       "      <td>Pauvre Pierrot</td>\n",
       "      <td>0.0</td>\n",
       "      <td>1892.0</td>\n",
       "      <td>NaN</td>\n",
       "      <td>4</td>\n",
       "      <td>Animation,Comedy,Romance</td>\n",
       "      <td>6.5</td>\n",
       "      <td>1466</td>\n",
       "    </tr>\n",
       "    <tr>\n",
       "      <th>3</th>\n",
       "      <td>tt0000004</td>\n",
       "      <td>short</td>\n",
       "      <td>Un bon bock</td>\n",
       "      <td>Un bon bock</td>\n",
       "      <td>0.0</td>\n",
       "      <td>1892.0</td>\n",
       "      <td>NaN</td>\n",
       "      <td>12</td>\n",
       "      <td>Animation,Short</td>\n",
       "      <td>6.1</td>\n",
       "      <td>123</td>\n",
       "    </tr>\n",
       "    <tr>\n",
       "      <th>4</th>\n",
       "      <td>tt0000005</td>\n",
       "      <td>short</td>\n",
       "      <td>Blacksmith Scene</td>\n",
       "      <td>Blacksmith Scene</td>\n",
       "      <td>0.0</td>\n",
       "      <td>1893.0</td>\n",
       "      <td>NaN</td>\n",
       "      <td>1</td>\n",
       "      <td>Comedy,Short</td>\n",
       "      <td>6.2</td>\n",
       "      <td>2268</td>\n",
       "    </tr>\n",
       "  </tbody>\n",
       "</table>\n",
       "</div>"
      ],
      "text/plain": [
       "      tconst titleType            primaryTitle           originalTitle  \\\n",
       "0  tt0000001     short              Carmencita              Carmencita   \n",
       "1  tt0000002     short  Le clown et ses chiens  Le clown et ses chiens   \n",
       "2  tt0000003     short          Pauvre Pierrot          Pauvre Pierrot   \n",
       "3  tt0000004     short             Un bon bock             Un bon bock   \n",
       "4  tt0000005     short        Blacksmith Scene        Blacksmith Scene   \n",
       "\n",
       "   isAdult  startYear  endYear runtimeMinutes                    genres  \\\n",
       "0      0.0     1894.0      NaN              1         Documentary,Short   \n",
       "1      0.0     1892.0      NaN              5           Animation,Short   \n",
       "2      0.0     1892.0      NaN              4  Animation,Comedy,Romance   \n",
       "3      0.0     1892.0      NaN             12           Animation,Short   \n",
       "4      0.0     1893.0      NaN              1              Comedy,Short   \n",
       "\n",
       "   averageRating  numVotes  \n",
       "0            5.7      1708  \n",
       "1            6.1       210  \n",
       "2            6.5      1466  \n",
       "3            6.1       123  \n",
       "4            6.2      2268  "
      ]
     },
     "execution_count": 23,
     "metadata": {},
     "output_type": "execute_result"
    }
   ],
   "source": [
    "df_imdb.head()"
   ]
  },
  {
   "cell_type": "markdown",
   "id": "fec924d5-f353-440e-80df-3d90dc808b27",
   "metadata": {},
   "source": [
    "### Filtrando Dados"
   ]
  },
  {
   "cell_type": "markdown",
   "id": "2adff9dc-4d81-4e15-95ab-66101c300395",
   "metadata": {},
   "source": [
    "#### Filtrtando colunas desnecessárias"
   ]
  },
  {
   "cell_type": "code",
   "execution_count": 24,
   "id": "c893739a-4ffb-4cd7-b1a5-f60dbc724d24",
   "metadata": {},
   "outputs": [],
   "source": [
    "dropcols_imdb=['tconst','endYear', 'runtimeMinutes', 'isAdult']\n",
    "df_imdb.drop(columns=dropcols_imdb, inplace=True)"
   ]
  },
  {
   "cell_type": "code",
   "execution_count": 25,
   "id": "dc35cdbd-1e0d-4b25-83fa-93e12fe48025",
   "metadata": {},
   "outputs": [
    {
     "name": "stdout",
     "output_type": "stream",
     "text": [
      "<class 'pandas.core.frame.DataFrame'>\n",
      "Int64Index: 1161026 entries, 0 to 1161025\n",
      "Data columns (total 7 columns):\n",
      " #   Column         Non-Null Count    Dtype  \n",
      "---  ------         --------------    -----  \n",
      " 0   titleType      1161026 non-null  object \n",
      " 1   primaryTitle   1161026 non-null  object \n",
      " 2   originalTitle  1161026 non-null  object \n",
      " 3   startYear      1160838 non-null  float64\n",
      " 4   genres         1138689 non-null  object \n",
      " 5   averageRating  1161026 non-null  float64\n",
      " 6   numVotes       1161026 non-null  int64  \n",
      "dtypes: float64(2), int64(1), object(4)\n",
      "memory usage: 70.9+ MB\n"
     ]
    }
   ],
   "source": [
    "df_imdb.info()"
   ]
  },
  {
   "cell_type": "code",
   "execution_count": 26,
   "id": "83c1d0d5-b760-4b04-a1bf-e38c87cf5765",
   "metadata": {},
   "outputs": [
    {
     "data": {
      "text/html": [
       "<div>\n",
       "<style scoped>\n",
       "    .dataframe tbody tr th:only-of-type {\n",
       "        vertical-align: middle;\n",
       "    }\n",
       "\n",
       "    .dataframe tbody tr th {\n",
       "        vertical-align: top;\n",
       "    }\n",
       "\n",
       "    .dataframe thead th {\n",
       "        text-align: right;\n",
       "    }\n",
       "</style>\n",
       "<table border=\"1\" class=\"dataframe\">\n",
       "  <thead>\n",
       "    <tr style=\"text-align: right;\">\n",
       "      <th></th>\n",
       "      <th>startYear</th>\n",
       "      <th>averageRating</th>\n",
       "      <th>numVotes</th>\n",
       "    </tr>\n",
       "  </thead>\n",
       "  <tbody>\n",
       "    <tr>\n",
       "      <th>count</th>\n",
       "      <td>1.160838e+06</td>\n",
       "      <td>1.161026e+06</td>\n",
       "      <td>1.161026e+06</td>\n",
       "    </tr>\n",
       "    <tr>\n",
       "      <th>mean</th>\n",
       "      <td>2.000332e+03</td>\n",
       "      <td>6.902790e+00</td>\n",
       "      <td>9.532102e+02</td>\n",
       "    </tr>\n",
       "    <tr>\n",
       "      <th>std</th>\n",
       "      <td>2.133694e+01</td>\n",
       "      <td>1.400439e+00</td>\n",
       "      <td>1.612455e+04</td>\n",
       "    </tr>\n",
       "    <tr>\n",
       "      <th>min</th>\n",
       "      <td>1.874000e+03</td>\n",
       "      <td>1.000000e+00</td>\n",
       "      <td>5.000000e+00</td>\n",
       "    </tr>\n",
       "    <tr>\n",
       "      <th>25%</th>\n",
       "      <td>1.993000e+03</td>\n",
       "      <td>6.100000e+00</td>\n",
       "      <td>9.000000e+00</td>\n",
       "    </tr>\n",
       "    <tr>\n",
       "      <th>50%</th>\n",
       "      <td>2.008000e+03</td>\n",
       "      <td>7.100000e+00</td>\n",
       "      <td>2.000000e+01</td>\n",
       "    </tr>\n",
       "    <tr>\n",
       "      <th>75%</th>\n",
       "      <td>2.015000e+03</td>\n",
       "      <td>7.900000e+00</td>\n",
       "      <td>7.900000e+01</td>\n",
       "    </tr>\n",
       "    <tr>\n",
       "      <th>max</th>\n",
       "      <td>2.021000e+03</td>\n",
       "      <td>1.000000e+01</td>\n",
       "      <td>2.403003e+06</td>\n",
       "    </tr>\n",
       "  </tbody>\n",
       "</table>\n",
       "</div>"
      ],
      "text/plain": [
       "          startYear  averageRating      numVotes\n",
       "count  1.160838e+06   1.161026e+06  1.161026e+06\n",
       "mean   2.000332e+03   6.902790e+00  9.532102e+02\n",
       "std    2.133694e+01   1.400439e+00  1.612455e+04\n",
       "min    1.874000e+03   1.000000e+00  5.000000e+00\n",
       "25%    1.993000e+03   6.100000e+00  9.000000e+00\n",
       "50%    2.008000e+03   7.100000e+00  2.000000e+01\n",
       "75%    2.015000e+03   7.900000e+00  7.900000e+01\n",
       "max    2.021000e+03   1.000000e+01  2.403003e+06"
      ]
     },
     "execution_count": 26,
     "metadata": {},
     "output_type": "execute_result"
    }
   ],
   "source": [
    "df_imdb.describe()"
   ]
  },
  {
   "cell_type": "markdown",
   "id": "c71b9a6d-8ea6-4eba-94a4-7f7c9cc4aa21",
   "metadata": {},
   "source": [
    "#### Filtando linhas desnecessárias"
   ]
  },
  {
   "cell_type": "code",
   "execution_count": 27,
   "id": "2edfb1e7-156b-46e7-b0ef-41bcda18d63c",
   "metadata": {},
   "outputs": [
    {
     "data": {
      "text/plain": [
       "array(['short', 'movie', 'tvShort', 'tvSeries', 'tvMovie', 'tvEpisode',\n",
       "       'tvMiniSeries', 'tvSpecial', 'video', 'videoGame'], dtype=object)"
      ]
     },
     "execution_count": 27,
     "metadata": {},
     "output_type": "execute_result"
    }
   ],
   "source": [
    "df_imdb['titleType'].unique()"
   ]
  },
  {
   "cell_type": "code",
   "execution_count": 28,
   "id": "8fa9b97d-9b2a-4703-8ee8-fb5c8f48c99e",
   "metadata": {},
   "outputs": [],
   "source": [
    "df_imdb=df_imdb.loc[df_imdb['titleType'].isin(['movie','short','tvMovie','tvShort'])]"
   ]
  },
  {
   "cell_type": "code",
   "execution_count": 29,
   "id": "1ee3bdf0-1ba4-438a-9bb8-0b5d41bffa95",
   "metadata": {},
   "outputs": [
    {
     "data": {
      "text/plain": [
       "(447104, 7)"
      ]
     },
     "execution_count": 29,
     "metadata": {},
     "output_type": "execute_result"
    }
   ],
   "source": [
    "df_imdb.shape"
   ]
  },
  {
   "cell_type": "code",
   "execution_count": 30,
   "id": "94575f7c-7893-4d7c-ae49-82826e4734d6",
   "metadata": {},
   "outputs": [
    {
     "name": "stdout",
     "output_type": "stream",
     "text": [
      "<class 'pandas.core.frame.DataFrame'>\n",
      "Int64Index: 447104 entries, 0 to 1161023\n",
      "Data columns (total 7 columns):\n",
      " #   Column         Non-Null Count   Dtype  \n",
      "---  ------         --------------   -----  \n",
      " 0   titleType      447104 non-null  object \n",
      " 1   primaryTitle   447104 non-null  object \n",
      " 2   originalTitle  447104 non-null  object \n",
      " 3   startYear      447057 non-null  float64\n",
      " 4   genres         435583 non-null  object \n",
      " 5   averageRating  447104 non-null  float64\n",
      " 6   numVotes       447104 non-null  int64  \n",
      "dtypes: float64(2), int64(1), object(4)\n",
      "memory usage: 27.3+ MB\n"
     ]
    }
   ],
   "source": [
    "df_imdb.info()"
   ]
  },
  {
   "cell_type": "code",
   "execution_count": 31,
   "id": "f59c563a-a46d-4493-a528-b1c8f5b3602d",
   "metadata": {},
   "outputs": [
    {
     "data": {
      "text/html": [
       "<div>\n",
       "<style scoped>\n",
       "    .dataframe tbody tr th:only-of-type {\n",
       "        vertical-align: middle;\n",
       "    }\n",
       "\n",
       "    .dataframe tbody tr th {\n",
       "        vertical-align: top;\n",
       "    }\n",
       "\n",
       "    .dataframe thead th {\n",
       "        text-align: right;\n",
       "    }\n",
       "</style>\n",
       "<table border=\"1\" class=\"dataframe\">\n",
       "  <thead>\n",
       "    <tr style=\"text-align: right;\">\n",
       "      <th></th>\n",
       "      <th>titleType</th>\n",
       "      <th>primaryTitle</th>\n",
       "      <th>originalTitle</th>\n",
       "      <th>startYear</th>\n",
       "      <th>genres</th>\n",
       "      <th>averageRating</th>\n",
       "      <th>numVotes</th>\n",
       "    </tr>\n",
       "  </thead>\n",
       "  <tbody>\n",
       "    <tr>\n",
       "      <th>0</th>\n",
       "      <td>short</td>\n",
       "      <td>Carmencita</td>\n",
       "      <td>Carmencita</td>\n",
       "      <td>1894.0</td>\n",
       "      <td>Documentary,Short</td>\n",
       "      <td>5.7</td>\n",
       "      <td>1708</td>\n",
       "    </tr>\n",
       "    <tr>\n",
       "      <th>1</th>\n",
       "      <td>short</td>\n",
       "      <td>Le clown et ses chiens</td>\n",
       "      <td>Le clown et ses chiens</td>\n",
       "      <td>1892.0</td>\n",
       "      <td>Animation,Short</td>\n",
       "      <td>6.1</td>\n",
       "      <td>210</td>\n",
       "    </tr>\n",
       "    <tr>\n",
       "      <th>2</th>\n",
       "      <td>short</td>\n",
       "      <td>Pauvre Pierrot</td>\n",
       "      <td>Pauvre Pierrot</td>\n",
       "      <td>1892.0</td>\n",
       "      <td>Animation,Comedy,Romance</td>\n",
       "      <td>6.5</td>\n",
       "      <td>1466</td>\n",
       "    </tr>\n",
       "    <tr>\n",
       "      <th>3</th>\n",
       "      <td>short</td>\n",
       "      <td>Un bon bock</td>\n",
       "      <td>Un bon bock</td>\n",
       "      <td>1892.0</td>\n",
       "      <td>Animation,Short</td>\n",
       "      <td>6.1</td>\n",
       "      <td>123</td>\n",
       "    </tr>\n",
       "    <tr>\n",
       "      <th>4</th>\n",
       "      <td>short</td>\n",
       "      <td>Blacksmith Scene</td>\n",
       "      <td>Blacksmith Scene</td>\n",
       "      <td>1893.0</td>\n",
       "      <td>Comedy,Short</td>\n",
       "      <td>6.2</td>\n",
       "      <td>2268</td>\n",
       "    </tr>\n",
       "  </tbody>\n",
       "</table>\n",
       "</div>"
      ],
      "text/plain": [
       "  titleType            primaryTitle           originalTitle  startYear  \\\n",
       "0     short              Carmencita              Carmencita     1894.0   \n",
       "1     short  Le clown et ses chiens  Le clown et ses chiens     1892.0   \n",
       "2     short          Pauvre Pierrot          Pauvre Pierrot     1892.0   \n",
       "3     short             Un bon bock             Un bon bock     1892.0   \n",
       "4     short        Blacksmith Scene        Blacksmith Scene     1893.0   \n",
       "\n",
       "                     genres  averageRating  numVotes  \n",
       "0         Documentary,Short            5.7      1708  \n",
       "1           Animation,Short            6.1       210  \n",
       "2  Animation,Comedy,Romance            6.5      1466  \n",
       "3           Animation,Short            6.1       123  \n",
       "4              Comedy,Short            6.2      2268  "
      ]
     },
     "execution_count": 31,
     "metadata": {},
     "output_type": "execute_result"
    }
   ],
   "source": [
    "df_imdb.head()"
   ]
  },
  {
   "cell_type": "code",
   "execution_count": 32,
   "id": "b8b8c53c-2113-4cb7-a13b-2ffe16cfb908",
   "metadata": {},
   "outputs": [
    {
     "data": {
      "text/plain": [
       "array([1894., 1892., 1893., 1895., 1896., 1898., 1897., 1900., 1899.,\n",
       "       1901., 1902., 1903., 1904., 1912., 1907., 1905., 1906., 1908.,\n",
       "       1910., 1909., 1914., 1911., 1913., 1919., 1916., 1917., 1915.,\n",
       "       1918., 1936., 1925., 1920., 1921., 1922., 1923., 2019., 1924.,\n",
       "       1927., 1929., 2000., 1926., 1993., 1935., 2014., 1928., 2004.,\n",
       "       1942., 1930., 2011., 1931., 1932., 1939., 1937., 1950., 1933.,\n",
       "       1938., 1951., 1934., 1945., 1946., 1940., 1944., 1947., 1941.,\n",
       "       1952., 1970., 1957., 1943., 1959., 1948., 2001., 1949., 1953.,\n",
       "       2008., 1954., 1965., 1983., 1980., 1973., 1961., 1995., 1962.,\n",
       "       1958., 1955., 1956., 1977., 1960., 1964., 1967., 1963., 1969.,\n",
       "       1968., 1971., 1972., 1966., 2021., 1976., 1990., 1979., 1974.,\n",
       "       1981., 2020., 1988., 1978., 1989., 1975., 1986., 1985., 2009.,\n",
       "       1987., 2010., 2018., 1984., 1982.,   nan, 1991., 1999., 2005.,\n",
       "       1998., 1992., 2002., 1994., 1996., 2017., 1997., 2016., 2006.,\n",
       "       2003., 2007., 2013., 2015., 1891., 2012., 1888., 1890., 1889.,\n",
       "       1878., 1877., 1887., 1874., 1883., 1881., 1885.])"
      ]
     },
     "execution_count": 32,
     "metadata": {},
     "output_type": "execute_result"
    }
   ],
   "source": [
    "df_imdb.startYear.unique()"
   ]
  },
  {
   "cell_type": "code",
   "execution_count": 33,
   "id": "4de9539f-4271-4723-8121-18d96d947b72",
   "metadata": {},
   "outputs": [],
   "source": [
    "df_imdb=df_imdb.dropna(subset=['startYear'])"
   ]
  },
  {
   "cell_type": "code",
   "execution_count": 34,
   "id": "a2f1eae1-842e-44ff-9c61-00235f80381f",
   "metadata": {},
   "outputs": [],
   "source": [
    "df_imdb.startYear = df_imdb.startYear.astype(int)"
   ]
  },
  {
   "cell_type": "code",
   "execution_count": 35,
   "id": "91e2fb38-1a88-4300-9dcd-3cf0ed62b56d",
   "metadata": {},
   "outputs": [
    {
     "name": "stdout",
     "output_type": "stream",
     "text": [
      "<class 'pandas.core.frame.DataFrame'>\n",
      "Int64Index: 447057 entries, 0 to 1161023\n",
      "Data columns (total 7 columns):\n",
      " #   Column         Non-Null Count   Dtype  \n",
      "---  ------         --------------   -----  \n",
      " 0   titleType      447057 non-null  object \n",
      " 1   primaryTitle   447057 non-null  object \n",
      " 2   originalTitle  447057 non-null  object \n",
      " 3   startYear      447057 non-null  int64  \n",
      " 4   genres         435537 non-null  object \n",
      " 5   averageRating  447057 non-null  float64\n",
      " 6   numVotes       447057 non-null  int64  \n",
      "dtypes: float64(1), int64(2), object(4)\n",
      "memory usage: 27.3+ MB\n"
     ]
    }
   ],
   "source": [
    "df_imdb.info()"
   ]
  },
  {
   "cell_type": "markdown",
   "id": "fea96629-d7a4-47d0-aea0-baaa355552d8",
   "metadata": {
    "tags": []
   },
   "source": [
    "df_imdb.startYear.unique()"
   ]
  },
  {
   "cell_type": "code",
   "execution_count": 36,
   "id": "4efa02e0-f9ed-4e70-89ba-b0fb35c60c15",
   "metadata": {},
   "outputs": [
    {
     "data": {
      "text/html": [
       "<div>\n",
       "<style scoped>\n",
       "    .dataframe tbody tr th:only-of-type {\n",
       "        vertical-align: middle;\n",
       "    }\n",
       "\n",
       "    .dataframe tbody tr th {\n",
       "        vertical-align: top;\n",
       "    }\n",
       "\n",
       "    .dataframe thead th {\n",
       "        text-align: right;\n",
       "    }\n",
       "</style>\n",
       "<table border=\"1\" class=\"dataframe\">\n",
       "  <thead>\n",
       "    <tr style=\"text-align: right;\">\n",
       "      <th></th>\n",
       "      <th>startYear</th>\n",
       "      <th>averageRating</th>\n",
       "      <th>numVotes</th>\n",
       "    </tr>\n",
       "  </thead>\n",
       "  <tbody>\n",
       "    <tr>\n",
       "      <th>count</th>\n",
       "      <td>447057.000000</td>\n",
       "      <td>447057.000000</td>\n",
       "      <td>4.470570e+05</td>\n",
       "    </tr>\n",
       "    <tr>\n",
       "      <th>mean</th>\n",
       "      <td>1993.888357</td>\n",
       "      <td>6.391454</td>\n",
       "      <td>2.024896e+03</td>\n",
       "    </tr>\n",
       "    <tr>\n",
       "      <th>std</th>\n",
       "      <td>27.064741</td>\n",
       "      <td>1.407064</td>\n",
       "      <td>2.500606e+04</td>\n",
       "    </tr>\n",
       "    <tr>\n",
       "      <th>min</th>\n",
       "      <td>1874.000000</td>\n",
       "      <td>1.000000</td>\n",
       "      <td>5.000000e+00</td>\n",
       "    </tr>\n",
       "    <tr>\n",
       "      <th>25%</th>\n",
       "      <td>1981.000000</td>\n",
       "      <td>5.600000</td>\n",
       "      <td>1.000000e+01</td>\n",
       "    </tr>\n",
       "    <tr>\n",
       "      <th>50%</th>\n",
       "      <td>2005.000000</td>\n",
       "      <td>6.500000</td>\n",
       "      <td>2.600000e+01</td>\n",
       "    </tr>\n",
       "    <tr>\n",
       "      <th>75%</th>\n",
       "      <td>2014.000000</td>\n",
       "      <td>7.300000</td>\n",
       "      <td>1.260000e+02</td>\n",
       "    </tr>\n",
       "    <tr>\n",
       "      <th>max</th>\n",
       "      <td>2021.000000</td>\n",
       "      <td>10.000000</td>\n",
       "      <td>2.403003e+06</td>\n",
       "    </tr>\n",
       "  </tbody>\n",
       "</table>\n",
       "</div>"
      ],
      "text/plain": [
       "           startYear  averageRating      numVotes\n",
       "count  447057.000000  447057.000000  4.470570e+05\n",
       "mean     1993.888357       6.391454  2.024896e+03\n",
       "std        27.064741       1.407064  2.500606e+04\n",
       "min      1874.000000       1.000000  5.000000e+00\n",
       "25%      1981.000000       5.600000  1.000000e+01\n",
       "50%      2005.000000       6.500000  2.600000e+01\n",
       "75%      2014.000000       7.300000  1.260000e+02\n",
       "max      2021.000000      10.000000  2.403003e+06"
      ]
     },
     "execution_count": 36,
     "metadata": {},
     "output_type": "execute_result"
    }
   ],
   "source": [
    "df_imdb.describe()"
   ]
  },
  {
   "cell_type": "markdown",
   "id": "2ee10caa-249b-4d5d-8135-71675fa26218",
   "metadata": {},
   "source": [
    "### Tratando dados duplicados e ausentes"
   ]
  },
  {
   "cell_type": "code",
   "execution_count": 39,
   "id": "9b706d40-0bc7-4527-822e-4e29ad98c2c9",
   "metadata": {},
   "outputs": [
    {
     "data": {
      "image/png": "[encoded data removed]",
      "text/plain": [
       "<Figure size 720x432 with 1 Axes>"
      ]
     },
     "metadata": {
      "needs_background": "light"
     },
     "output_type": "display_data"
    }
   ],
   "source": [
    "plt.figure(figsize=(10, 6))\n",
    "sns.heatmap(df_imdb.isnull(), yticklabels=False, cbar=False, cmap='viridis').set(title='Gráfico 1 - Mapa de calor de dados ausentes - Dados IMDB');"
   ]
  },
  {
   "cell_type": "code",
   "execution_count": 40,
   "id": "128e962f-6b1c-4d25-8d18-115e47969d0b",
   "metadata": {},
   "outputs": [
    {
     "data": {
      "text/plain": [
       "2.58"
      ]
     },
     "execution_count": 40,
     "metadata": {},
     "output_type": "execute_result"
    }
   ],
   "source": [
    "df_imdb.genres.isna().mean().round(4) * 100"
   ]
  },
  {
   "cell_type": "code",
   "execution_count": 41,
   "id": "1b8c40f8-47a8-4cf0-b143-edada8927791",
   "metadata": {},
   "outputs": [
    {
     "data": {
      "text/plain": [
       "4"
      ]
     },
     "execution_count": 41,
     "metadata": {},
     "output_type": "execute_result"
    }
   ],
   "source": [
    "df_imdb.duplicated().sum()"
   ]
  },
  {
   "cell_type": "code",
   "execution_count": 42,
   "id": "9904c874-7625-40c6-9c7b-94c66917eed5",
   "metadata": {},
   "outputs": [
    {
     "data": {
      "text/html": [
       "<div>\n",
       "<style scoped>\n",
       "    .dataframe tbody tr th:only-of-type {\n",
       "        vertical-align: middle;\n",
       "    }\n",
       "\n",
       "    .dataframe tbody tr th {\n",
       "        vertical-align: top;\n",
       "    }\n",
       "\n",
       "    .dataframe thead th {\n",
       "        text-align: right;\n",
       "    }\n",
       "</style>\n",
       "<table border=\"1\" class=\"dataframe\">\n",
       "  <thead>\n",
       "    <tr style=\"text-align: right;\">\n",
       "      <th></th>\n",
       "      <th>titleType</th>\n",
       "      <th>primaryTitle</th>\n",
       "      <th>originalTitle</th>\n",
       "      <th>startYear</th>\n",
       "      <th>genres</th>\n",
       "      <th>averageRating</th>\n",
       "      <th>numVotes</th>\n",
       "    </tr>\n",
       "  </thead>\n",
       "  <tbody>\n",
       "    <tr>\n",
       "      <th>582697</th>\n",
       "      <td>short</td>\n",
       "      <td>Eve</td>\n",
       "      <td>Eve</td>\n",
       "      <td>2008</td>\n",
       "      <td>Drama,Short</td>\n",
       "      <td>7.8</td>\n",
       "      <td>5</td>\n",
       "    </tr>\n",
       "    <tr>\n",
       "      <th>744130</th>\n",
       "      <td>short</td>\n",
       "      <td>Gladstone's Funeral</td>\n",
       "      <td>Gladstone's Funeral</td>\n",
       "      <td>1898</td>\n",
       "      <td>Documentary,Short</td>\n",
       "      <td>5.6</td>\n",
       "      <td>5</td>\n",
       "    </tr>\n",
       "    <tr>\n",
       "      <th>764643</th>\n",
       "      <td>short</td>\n",
       "      <td>The Lord Mayor's Show</td>\n",
       "      <td>The Lord Mayor's Show</td>\n",
       "      <td>1896</td>\n",
       "      <td>Documentary,Short</td>\n",
       "      <td>6.4</td>\n",
       "      <td>5</td>\n",
       "    </tr>\n",
       "    <tr>\n",
       "      <th>770205</th>\n",
       "      <td>short</td>\n",
       "      <td>Queen Victoria's Diamond Jubilee Procession</td>\n",
       "      <td>Queen Victoria's Diamond Jubilee Procession</td>\n",
       "      <td>1897</td>\n",
       "      <td>Documentary,Short</td>\n",
       "      <td>4.7</td>\n",
       "      <td>10</td>\n",
       "    </tr>\n",
       "  </tbody>\n",
       "</table>\n",
       "</div>"
      ],
      "text/plain": [
       "       titleType                                 primaryTitle  \\\n",
       "582697     short                                          Eve   \n",
       "744130     short                          Gladstone's Funeral   \n",
       "764643     short                        The Lord Mayor's Show   \n",
       "770205     short  Queen Victoria's Diamond Jubilee Procession   \n",
       "\n",
       "                                      originalTitle  startYear  \\\n",
       "582697                                          Eve       2008   \n",
       "744130                          Gladstone's Funeral       1898   \n",
       "764643                        The Lord Mayor's Show       1896   \n",
       "770205  Queen Victoria's Diamond Jubilee Procession       1897   \n",
       "\n",
       "                   genres  averageRating  numVotes  \n",
       "582697        Drama,Short            7.8         5  \n",
       "744130  Documentary,Short            5.6         5  \n",
       "764643  Documentary,Short            6.4         5  \n",
       "770205  Documentary,Short            4.7        10  "
      ]
     },
     "execution_count": 42,
     "metadata": {},
     "output_type": "execute_result"
    }
   ],
   "source": [
    "df_imdb.loc[df_imdb.duplicated(), :]"
   ]
  },
  {
   "cell_type": "markdown",
   "id": "2bae1d33-a02a-4f5e-bd9c-9ee5fb31bb03",
   "metadata": {},
   "source": [
    "#### Salvando Variáveis em Arquivo"
   ]
  },
  {
   "cell_type": "code",
   "execution_count": null,
   "id": "7bb88022-9b0d-4dd1-b87d-cc3ff44c8dcb",
   "metadata": {},
   "outputs": [],
   "source": [
    "os.chdir(\"../tratados\")\n",
    "os.getcwd()"
   ]
  },
  {
   "cell_type": "code",
   "execution_count": null,
   "id": "7973de85-3c36-4e4e-977c-a8fd288aebb2",
   "metadata": {},
   "outputs": [],
   "source": [
    "with open('imdb.pkl', mode = 'wb') as f:\n",
    "  pickle.dump(df_imdb, f)"
   ]
  }
 ],
 "metadata": {
  "kernelspec": {
   "display_name": "Python 3 (ipykernel)",
   "language": "python",
   "name": "python3"
  },
  "language_info": {
   "codemirror_mode": {
    "name": "ipython",
    "version": 3
   },
   "file_extension": ".py",
   "mimetype": "text/x-python",
   "name": "python",
   "nbconvert_exporter": "python",
   "pygments_lexer": "ipython3",
   "version": "3.9.12"
  }
 },
 "nbformat": 4,
 "nbformat_minor": 5
}
