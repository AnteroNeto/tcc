{
 "cells": [
  {
   "cell_type": "markdown",
   "id": "860821d9-137a-4bff-bf14-10623541890a",
   "metadata": {},
   "source": [
    "# Base de Dados do Oscar"
   ]
  },
  {
   "cell_type": "markdown",
   "id": "1028165b-a2f0-4c5d-b179-b67d67d612ba",
   "metadata": {},
   "source": [
    "## Download e descompressão dos arquivos:"
   ]
  },
  {
   "cell_type": "code",
   "execution_count": 1,
   "id": "24c0483e-4f35-4bc0-b601-35ff960b59e9",
   "metadata": {},
   "outputs": [],
   "source": [
    "import os\n",
    "import kaggle #conda install -c kaggle \n",
    "import pandas as pd\n",
    "import numpy as np\n",
    "import seaborn as sns\n",
    "import matplotlib.pyplot as plt\n",
    "import plotly.express as px\n",
    "import pickle\n",
    "\n",
    "%matplotlib inline"
   ]
  },
  {
   "cell_type": "code",
   "execution_count": 2,
   "id": "0cdeb362-d787-41e4-82e7-38449240012e",
   "metadata": {},
   "outputs": [
    {
     "data": {
      "text/plain": [
       "'/home/antero/Documentos/tcc/microdados'"
      ]
     },
     "execution_count": 2,
     "metadata": {},
     "output_type": "execute_result"
    }
   ],
   "source": [
    "os.chdir(\"../microdados\")\n",
    "os.getcwd()"
   ]
  },
  {
   "cell_type": "code",
   "execution_count": 11,
   "id": "f38067dc-147d-4fc0-94db-4d5a99ce192a",
   "metadata": {},
   "outputs": [
    {
     "ename": "NameError",
     "evalue": "name 'KaggleApi' is not defined",
     "output_type": "error",
     "traceback": [
      "\u001b[0;31m---------------------------------------------------------------------------\u001b[0m",
      "\u001b[0;31mNameError\u001b[0m                                 Traceback (most recent call last)",
      "Input \u001b[0;32mIn [11]\u001b[0m, in \u001b[0;36m<module>\u001b[0;34m\u001b[0m\n\u001b[0;32m----> 1\u001b[0m api \u001b[38;5;241m=\u001b[39m \u001b[43mKaggleApi\u001b[49m()\n\u001b[1;32m      2\u001b[0m api\u001b[38;5;241m.\u001b[39mauthenticate()\n",
      "\u001b[0;31mNameError\u001b[0m: name 'KaggleApi' is not defined"
     ]
    }
   ],
   "source": [
    "api = KaggleApi()\n",
    "api.authenticate() "
   ]
  },
  {
   "cell_type": "code",
   "execution_count": null,
   "id": "e80a562b-4d06-48c2-9f66-873be4b3ba80",
   "metadata": {},
   "outputs": [],
   "source": [
    "api.dataset_list_files('unanimad/the-oscar-award').files"
   ]
  },
  {
   "cell_type": "code",
   "execution_count": 12,
   "id": "b98827bb-2401-4413-b413-7a714f89330f",
   "metadata": {},
   "outputs": [
    {
     "ename": "NameError",
     "evalue": "name 'api' is not defined",
     "output_type": "error",
     "traceback": [
      "\u001b[0;31m---------------------------------------------------------------------------\u001b[0m",
      "\u001b[0;31mNameError\u001b[0m                                 Traceback (most recent call last)",
      "Input \u001b[0;32mIn [12]\u001b[0m, in \u001b[0;36m<module>\u001b[0;34m\u001b[0m\n\u001b[0;32m----> 1\u001b[0m \u001b[43mapi\u001b[49m\u001b[38;5;241m.\u001b[39mdataset_download_files(\u001b[38;5;124m'\u001b[39m\u001b[38;5;124munanimad/the-oscar-award\u001b[39m\u001b[38;5;124m'\u001b[39m, unzip\u001b[38;5;241m=\u001b[39m\u001b[38;5;28;01mTrue\u001b[39;00m)\n",
      "\u001b[0;31mNameError\u001b[0m: name 'api' is not defined"
     ]
    }
   ],
   "source": [
    "api.dataset_download_files('unanimad/the-oscar-award', unzip=True)"
   ]
  },
  {
   "cell_type": "markdown",
   "id": "b84ed09d-efaa-40ae-98e7-7e045a4081b4",
   "metadata": {},
   "source": [
    "## Lendo dados dos arquivos csv e importando para DataFrame Pandas"
   ]
  },
  {
   "cell_type": "code",
   "execution_count": 3,
   "id": "fee03d06-194c-48b0-9ff3-4b3a74c43a15",
   "metadata": {},
   "outputs": [],
   "source": [
    "df_oscars=pd.read_csv(\"the_oscar_award.csv\")"
   ]
  },
  {
   "cell_type": "code",
   "execution_count": 4,
   "id": "f4482e68-302b-4fed-83bb-2451c68996c6",
   "metadata": {},
   "outputs": [
    {
     "data": {
      "text/plain": [
       "(10395, 7)"
      ]
     },
     "execution_count": 4,
     "metadata": {},
     "output_type": "execute_result"
    }
   ],
   "source": [
    "df_oscars.shape"
   ]
  },
  {
   "cell_type": "code",
   "execution_count": 5,
   "id": "8e9e357a-ad0f-42ce-9636-ab5803ca4f96",
   "metadata": {},
   "outputs": [
    {
     "name": "stdout",
     "output_type": "stream",
     "text": [
      "<class 'pandas.core.frame.DataFrame'>\n",
      "RangeIndex: 10395 entries, 0 to 10394\n",
      "Data columns (total 7 columns):\n",
      " #   Column         Non-Null Count  Dtype \n",
      "---  ------         --------------  ----- \n",
      " 0   year_film      10395 non-null  int64 \n",
      " 1   year_ceremony  10395 non-null  int64 \n",
      " 2   ceremony       10395 non-null  int64 \n",
      " 3   category       10395 non-null  object\n",
      " 4   name           10395 non-null  object\n",
      " 5   film           10091 non-null  object\n",
      " 6   winner         10395 non-null  bool  \n",
      "dtypes: bool(1), int64(3), object(3)\n",
      "memory usage: 497.5+ KB\n"
     ]
    }
   ],
   "source": [
    "df_oscars.info()"
   ]
  },
  {
   "cell_type": "code",
   "execution_count": 6,
   "id": "d32ce629-59e0-40b8-bdec-f7730c43dfc6",
   "metadata": {},
   "outputs": [
    {
     "data": {
      "text/html": [
       "<div>\n",
       "<style scoped>\n",
       "    .dataframe tbody tr th:only-of-type {\n",
       "        vertical-align: middle;\n",
       "    }\n",
       "\n",
       "    .dataframe tbody tr th {\n",
       "        vertical-align: top;\n",
       "    }\n",
       "\n",
       "    .dataframe thead th {\n",
       "        text-align: right;\n",
       "    }\n",
       "</style>\n",
       "<table border=\"1\" class=\"dataframe\">\n",
       "  <thead>\n",
       "    <tr style=\"text-align: right;\">\n",
       "      <th></th>\n",
       "      <th>year_film</th>\n",
       "      <th>year_ceremony</th>\n",
       "      <th>ceremony</th>\n",
       "      <th>category</th>\n",
       "      <th>name</th>\n",
       "      <th>film</th>\n",
       "      <th>winner</th>\n",
       "    </tr>\n",
       "  </thead>\n",
       "  <tbody>\n",
       "    <tr>\n",
       "      <th>0</th>\n",
       "      <td>1927</td>\n",
       "      <td>1928</td>\n",
       "      <td>1</td>\n",
       "      <td>ACTOR</td>\n",
       "      <td>Richard Barthelmess</td>\n",
       "      <td>The Noose</td>\n",
       "      <td>False</td>\n",
       "    </tr>\n",
       "    <tr>\n",
       "      <th>1</th>\n",
       "      <td>1927</td>\n",
       "      <td>1928</td>\n",
       "      <td>1</td>\n",
       "      <td>ACTOR</td>\n",
       "      <td>Emil Jannings</td>\n",
       "      <td>The Last Command</td>\n",
       "      <td>True</td>\n",
       "    </tr>\n",
       "    <tr>\n",
       "      <th>2</th>\n",
       "      <td>1927</td>\n",
       "      <td>1928</td>\n",
       "      <td>1</td>\n",
       "      <td>ACTRESS</td>\n",
       "      <td>Louise Dresser</td>\n",
       "      <td>A Ship Comes In</td>\n",
       "      <td>False</td>\n",
       "    </tr>\n",
       "    <tr>\n",
       "      <th>3</th>\n",
       "      <td>1927</td>\n",
       "      <td>1928</td>\n",
       "      <td>1</td>\n",
       "      <td>ACTRESS</td>\n",
       "      <td>Janet Gaynor</td>\n",
       "      <td>7th Heaven</td>\n",
       "      <td>True</td>\n",
       "    </tr>\n",
       "    <tr>\n",
       "      <th>4</th>\n",
       "      <td>1927</td>\n",
       "      <td>1928</td>\n",
       "      <td>1</td>\n",
       "      <td>ACTRESS</td>\n",
       "      <td>Gloria Swanson</td>\n",
       "      <td>Sadie Thompson</td>\n",
       "      <td>False</td>\n",
       "    </tr>\n",
       "  </tbody>\n",
       "</table>\n",
       "</div>"
      ],
      "text/plain": [
       "   year_film  year_ceremony  ceremony category                 name  \\\n",
       "0       1927           1928         1    ACTOR  Richard Barthelmess   \n",
       "1       1927           1928         1    ACTOR        Emil Jannings   \n",
       "2       1927           1928         1  ACTRESS       Louise Dresser   \n",
       "3       1927           1928         1  ACTRESS         Janet Gaynor   \n",
       "4       1927           1928         1  ACTRESS       Gloria Swanson   \n",
       "\n",
       "               film  winner  \n",
       "0         The Noose   False  \n",
       "1  The Last Command    True  \n",
       "2   A Ship Comes In   False  \n",
       "3        7th Heaven    True  \n",
       "4    Sadie Thompson   False  "
      ]
     },
     "execution_count": 6,
     "metadata": {},
     "output_type": "execute_result"
    }
   ],
   "source": [
    "df_oscars.head()"
   ]
  },
  {
   "cell_type": "code",
   "execution_count": 7,
   "id": "632815a2-cd8f-4512-868a-44c29bb60c65",
   "metadata": {},
   "outputs": [
    {
     "data": {
      "image/png": "[encoded data removed]",
      "text/plain": [
       "<Figure size 720x432 with 1 Axes>"
      ]
     },
     "metadata": {
      "needs_background": "light"
     },
     "output_type": "display_data"
    }
   ],
   "source": [
    "plt.figure(figsize=(10, 6))\n",
    "sns.heatmap(df_oscars.isnull(), yticklabels=False, cbar=False, cmap='viridis').set(title='Gráfico 3 - Mapa de calor de dados ausentes - Dados Oscar');"
   ]
  },
  {
   "cell_type": "code",
   "execution_count": 8,
   "id": "dbd1ad4e-8adb-40e3-97a1-b0afd8a65bfe",
   "metadata": {},
   "outputs": [
    {
     "data": {
      "text/plain": [
       "2.92"
      ]
     },
     "execution_count": 8,
     "metadata": {},
     "output_type": "execute_result"
    }
   ],
   "source": [
    "df_oscars.film.isna().mean().round(4) * 100"
   ]
  },
  {
   "cell_type": "code",
   "execution_count": 9,
   "id": "815c2158-3adc-4dfa-ac8a-06d028106823",
   "metadata": {},
   "outputs": [
    {
     "data": {
      "text/plain": [
       "False    8038\n",
       "True     2357\n",
       "Name: winner, dtype: int64"
      ]
     },
     "execution_count": 9,
     "metadata": {},
     "output_type": "execute_result"
    }
   ],
   "source": [
    "df_oscars.winner.value_counts()"
   ]
  },
  {
   "cell_type": "code",
   "execution_count": 10,
   "id": "6ad5fd45-a841-421e-b65c-d4252a9856ec",
   "metadata": {},
   "outputs": [
    {
     "data": {
      "image/png": "[encoded data removed]",
      "text/plain": [
       "<Figure size 432x288 with 1 Axes>"
      ]
     },
     "metadata": {
      "needs_background": "light"
     },
     "output_type": "display_data"
    }
   ],
   "source": [
    "sns.countplot(x = df_oscars['winner']);"
   ]
  },
  {
   "cell_type": "code",
   "execution_count": 28,
   "id": "e4901192-5166-443e-9537-58a0b69227db",
   "metadata": {},
   "outputs": [
    {
     "data": {
      "text/plain": [
       "True    10395\n",
       "Name: nominee, dtype: int64"
      ]
     },
     "execution_count": 28,
     "metadata": {},
     "output_type": "execute_result"
    }
   ],
   "source": [
    "df_oscars.nominee.value_counts()"
   ]
  },
  {
   "cell_type": "code",
   "execution_count": 29,
   "id": "13e6355c-3257-4505-9591-cb9f46a248bb",
   "metadata": {},
   "outputs": [
    {
     "data": {
      "text/plain": [
       "False    8038\n",
       "True     2357\n",
       "Name: winner, dtype: int64"
      ]
     },
     "execution_count": 29,
     "metadata": {},
     "output_type": "execute_result"
    }
   ],
   "source": [
    "df_oscars.winner.value_counts()"
   ]
  },
  {
   "cell_type": "code",
   "execution_count": 52,
   "id": "1785fce5-3b40-4723-b60a-2849d001307f",
   "metadata": {},
   "outputs": [
    {
     "data": {
      "text/plain": [
       "False    4302\n",
       "True     1274\n",
       "Name: winner, dtype: int64"
      ]
     },
     "execution_count": 52,
     "metadata": {},
     "output_type": "execute_result"
    }
   ],
   "source": [
    "du = df_oscars.drop_duplicates(subset=['film','winner'])\n",
    "du.winner.value_counts()"
   ]
  },
  {
   "cell_type": "code",
   "execution_count": 57,
   "id": "1a330fa4-88d1-48dc-9ee9-f6e1d08c0299",
   "metadata": {},
   "outputs": [
    {
     "data": {
      "text/plain": [
       "True    1274\n",
       "Name: winner, dtype: int64"
      ]
     },
     "execution_count": 57,
     "metadata": {},
     "output_type": "execute_result"
    }
   ],
   "source": [
    "winner = df_oscars.drop_duplicates(subset=['film','winner'])\n",
    "df_winner=winner[winner.winner.isin([True])]\n",
    "df_winner.winner.value_counts()"
   ]
  },
  {
   "cell_type": "code",
   "execution_count": 61,
   "id": "4e4786d9-75d8-4c45-9063-ff8521ea5eb6",
   "metadata": {},
   "outputs": [
    {
     "data": {
      "text/plain": [
       "True    4834\n",
       "Name: nominee, dtype: int64"
      ]
     },
     "execution_count": 61,
     "metadata": {},
     "output_type": "execute_result"
    }
   ],
   "source": [
    "nominee = df_oscars.drop_duplicates(subset=['film','nominee'])\n",
    "nominee.nominee.value_counts()"
   ]
  },
  {
   "cell_type": "markdown",
   "id": "7ec64d83-31f0-493b-8518-9e7527472dee",
   "metadata": {},
   "source": [
    "#### Salvando Variáveis em Arquivo"
   ]
  },
  {
   "cell_type": "code",
   "execution_count": 18,
   "id": "dc7dbe01-73a8-4e67-8cf4-ed12b864069f",
   "metadata": {},
   "outputs": [
    {
     "data": {
      "text/html": [
       "<div>\n",
       "<style scoped>\n",
       "    .dataframe tbody tr th:only-of-type {\n",
       "        vertical-align: middle;\n",
       "    }\n",
       "\n",
       "    .dataframe tbody tr th {\n",
       "        vertical-align: top;\n",
       "    }\n",
       "\n",
       "    .dataframe thead th {\n",
       "        text-align: right;\n",
       "    }\n",
       "</style>\n",
       "<table border=\"1\" class=\"dataframe\">\n",
       "  <thead>\n",
       "    <tr style=\"text-align: right;\">\n",
       "      <th></th>\n",
       "      <th>year_film</th>\n",
       "      <th>year_ceremony</th>\n",
       "      <th>ceremony</th>\n",
       "      <th>category</th>\n",
       "      <th>name</th>\n",
       "      <th>film</th>\n",
       "      <th>winner</th>\n",
       "      <th>nominee</th>\n",
       "    </tr>\n",
       "  </thead>\n",
       "  <tbody>\n",
       "    <tr>\n",
       "      <th>6220</th>\n",
       "      <td>1983</td>\n",
       "      <td>1984</td>\n",
       "      <td>56</td>\n",
       "      <td>MUSIC (Original Song)</td>\n",
       "      <td>Music by Michel Legrand; Lyric by Alan Bergman...</td>\n",
       "      <td>Yentl</td>\n",
       "      <td>False</td>\n",
       "      <td>True</td>\n",
       "    </tr>\n",
       "    <tr>\n",
       "      <th>7068</th>\n",
       "      <td>1991</td>\n",
       "      <td>1992</td>\n",
       "      <td>64</td>\n",
       "      <td>MUSIC (Original Song)</td>\n",
       "      <td>Music by Alan Menken; Lyric by Howard Ashman</td>\n",
       "      <td>Beauty and the Beast</td>\n",
       "      <td>False</td>\n",
       "      <td>True</td>\n",
       "    </tr>\n",
       "    <tr>\n",
       "      <th>7395</th>\n",
       "      <td>1994</td>\n",
       "      <td>1995</td>\n",
       "      <td>67</td>\n",
       "      <td>MUSIC (Original Song)</td>\n",
       "      <td>Music by Elton John; Lyric by Tim Rice</td>\n",
       "      <td>The Lion King</td>\n",
       "      <td>False</td>\n",
       "      <td>True</td>\n",
       "    </tr>\n",
       "    <tr>\n",
       "      <th>8864</th>\n",
       "      <td>2007</td>\n",
       "      <td>2008</td>\n",
       "      <td>80</td>\n",
       "      <td>MUSIC (Original Song)</td>\n",
       "      <td>Music by Alan Menken; Lyric by Stephen Schwartz</td>\n",
       "      <td>Enchanted</td>\n",
       "      <td>False</td>\n",
       "      <td>True</td>\n",
       "    </tr>\n",
       "    <tr>\n",
       "      <th>8865</th>\n",
       "      <td>2007</td>\n",
       "      <td>2008</td>\n",
       "      <td>80</td>\n",
       "      <td>MUSIC (Original Song)</td>\n",
       "      <td>Music by Alan Menken; Lyric by Stephen Schwartz</td>\n",
       "      <td>Enchanted</td>\n",
       "      <td>False</td>\n",
       "      <td>True</td>\n",
       "    </tr>\n",
       "    <tr>\n",
       "      <th>9091</th>\n",
       "      <td>2009</td>\n",
       "      <td>2010</td>\n",
       "      <td>82</td>\n",
       "      <td>MUSIC (Original Song)</td>\n",
       "      <td>Music and Lyric by Randy Newman</td>\n",
       "      <td>The Princess and the Frog</td>\n",
       "      <td>False</td>\n",
       "      <td>True</td>\n",
       "    </tr>\n",
       "  </tbody>\n",
       "</table>\n",
       "</div>"
      ],
      "text/plain": [
       "      year_film  year_ceremony  ceremony               category  \\\n",
       "6220       1983           1984        56  MUSIC (Original Song)   \n",
       "7068       1991           1992        64  MUSIC (Original Song)   \n",
       "7395       1994           1995        67  MUSIC (Original Song)   \n",
       "8864       2007           2008        80  MUSIC (Original Song)   \n",
       "8865       2007           2008        80  MUSIC (Original Song)   \n",
       "9091       2009           2010        82  MUSIC (Original Song)   \n",
       "\n",
       "                                                   name  \\\n",
       "6220  Music by Michel Legrand; Lyric by Alan Bergman...   \n",
       "7068       Music by Alan Menken; Lyric by Howard Ashman   \n",
       "7395             Music by Elton John; Lyric by Tim Rice   \n",
       "8864    Music by Alan Menken; Lyric by Stephen Schwartz   \n",
       "8865    Music by Alan Menken; Lyric by Stephen Schwartz   \n",
       "9091                    Music and Lyric by Randy Newman   \n",
       "\n",
       "                           film  winner  nominee  \n",
       "6220                      Yentl   False     True  \n",
       "7068       Beauty and the Beast   False     True  \n",
       "7395              The Lion King   False     True  \n",
       "8864                  Enchanted   False     True  \n",
       "8865                  Enchanted   False     True  \n",
       "9091  The Princess and the Frog   False     True  "
      ]
     },
     "execution_count": 19,
     "metadata": {},
     "output_type": "execute_result"
    }
   ],
   "source": [
    "\n",
    "df_oscars.loc[df_oscars.duplicated(), :]\n"
   ]
  },
  {
   "cell_type": "code",
   "execution_count": 18,
   "id": "290d11b1-9604-4eb8-83de-8de01ee725d6",
   "metadata": {},
   "outputs": [
    {
     "data": {
      "image/png": "[encoded data removed]",
      "text/plain": [
       "<Figure size 432x288 with 1 Axes>"
      ]
     },
     "metadata": {
      "needs_background": "light"
     },
     "output_type": "display_data"
    }
   ],
   "source": [
    "sns.countplot(x = df_oscars['nominee']);"
   ]
  },
  {
   "cell_type": "code",
   "execution_count": 19,
   "id": "8f43ca82-894e-4561-af38-db50728f8667",
   "metadata": {},
   "outputs": [
    {
     "data": {
      "text/plain": [
       "'/home/antero/Documentos/TCC/tratados'"
      ]
     },
     "execution_count": 19,
     "metadata": {},
     "output_type": "execute_result"
    }
   ],
   "source": [
    "os.chdir(\"../tratados\")\n",
    "os.getcwd()"
   ]
  },
  {
   "cell_type": "code",
   "execution_count": 20,
   "id": "aa32d195-8466-4a73-a924-347b34501147",
   "metadata": {},
   "outputs": [],
   "source": [
    " with open('oscar.pkl', mode = 'wb') as f:\n",
    "  pickle.dump(df_oscars, f)"
   ]
  },
  {
   "cell_type": "code",
   "execution_count": null,
   "id": "4a8412ed-c7dd-42b9-8447-d40cc09b679e",
   "metadata": {},
   "outputs": [],
   "source": []
  }
 ],
 "metadata": {
  "kernelspec": {
   "display_name": "Python 3 (ipykernel)",
   "language": "python",
   "name": "python3"
  },
  "language_info": {
   "codemirror_mode": {
    "name": "ipython",
    "version": 3
   },
   "file_extension": ".py",
   "mimetype": "text/x-python",
   "name": "python",
   "nbconvert_exporter": "python",
   "pygments_lexer": "ipython3",
   "version": "3.9.10"
  }
 },
 "nbformat": 4,
 "nbformat_minor": 5
}
