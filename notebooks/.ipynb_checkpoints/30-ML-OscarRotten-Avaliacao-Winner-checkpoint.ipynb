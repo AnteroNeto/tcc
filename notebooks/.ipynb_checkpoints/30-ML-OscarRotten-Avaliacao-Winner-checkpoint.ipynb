{
 "cells": [
  {
   "cell_type": "markdown",
   "id": "b6699e76-52b2-4ec6-83a8-d13903e6f14c",
   "metadata": {
    "papermill": {
     "duration": 0.004994,
     "end_time": "2022-04-13T14:12:01.922155",
     "exception": false,
     "start_time": "2022-04-13T14:12:01.917161",
     "status": "completed"
    },
    "tags": []
   },
   "source": [
    "# Avaliação dos Resultados - Oscar IMDB"
   ]
  },
  {
   "cell_type": "code",
   "execution_count": 2,
   "id": "bf307ff9-9af5-461a-bf0f-dee5447d89aa",
   "metadata": {
    "papermill": {
     "duration": 1.015173,
     "end_time": "2022-04-13T14:12:02.941576",
     "exception": false,
     "start_time": "2022-04-13T14:12:01.926403",
     "status": "completed"
    },
    "tags": []
   },
   "outputs": [],
   "source": [
    "import os\n",
    "import pandas as pd\n",
    "import pickle\n",
    "\n",
    "\n",
    "from sklearn.preprocessing import StandardScaler\n",
    "from sklearn.preprocessing import LabelEncoder\n",
    "from sklearn.model_selection import cross_val_score, KFold\n",
    "from sklearn.dummy import DummyClassifier\n",
    "from sklearn.naive_bayes import GaussianNB\n",
    "from sklearn.linear_model import LogisticRegression\n",
    "from sklearn.neighbors import KNeighborsClassifier\n",
    "from sklearn.ensemble import RandomForestClassifier\n",
    "from sklearn.neural_network import MLPClassifier\n",
    "from sklearn.linear_model import SGDClassifier\n",
    "from sklearn.svm import SVC"
   ]
  },
  {
   "cell_type": "code",
   "execution_count": 3,
   "id": "bfce66fb-9098-434a-8792-2a729eec1f98",
   "metadata": {
    "papermill": {
     "duration": 0.020302,
     "end_time": "2022-04-13T14:12:02.967558",
     "exception": false,
     "start_time": "2022-04-13T14:12:02.947256",
     "status": "completed"
    },
    "tags": []
   },
   "outputs": [
    {
     "data": {
      "text/plain": [
       "'/home/antero/Documentos/tcc/tratados'"
      ]
     },
     "execution_count": 3,
     "metadata": {},
     "output_type": "execute_result"
    }
   ],
   "source": [
    "os.chdir(\"../tratados\")\n",
    "os.getcwd()"
   ]
  },
  {
   "cell_type": "code",
   "execution_count": 4,
   "id": "e857a951-c805-4e33-8cd1-2bffdc823c0b",
   "metadata": {
    "papermill": {
     "duration": 0.022167,
     "end_time": "2022-04-13T14:12:02.994801",
     "exception": false,
     "start_time": "2022-04-13T14:12:02.972634",
     "status": "completed"
    },
    "tags": []
   },
   "outputs": [],
   "source": [
    "with open('oscar_rotten.pkl', 'rb') as f:\n",
    "    df_rotten_tomatoes_oscars=pickle.load(f)"
   ]
  },
  {
   "cell_type": "markdown",
   "id": "f9bf5421-6ff0-40a1-ae77-4764833f6fa8",
   "metadata": {
    "papermill": {
     "duration": 0.004575,
     "end_time": "2022-04-13T14:12:03.004444",
     "exception": false,
     "start_time": "2022-04-13T14:12:02.999869",
     "status": "completed"
    },
    "tags": []
   },
   "source": [
    "## Importando o Dataframe"
   ]
  },
  {
   "cell_type": "code",
   "execution_count": 5,
   "id": "dbd108ba-9a43-486f-b96c-b196f828c8dd",
   "metadata": {
    "papermill": {
     "duration": 0.011619,
     "end_time": "2022-04-13T14:12:03.029503",
     "exception": false,
     "start_time": "2022-04-13T14:12:03.017884",
     "status": "completed"
    },
    "tags": []
   },
   "outputs": [],
   "source": [
    "X_rotten_oscars = df_rotten_tomatoes_oscars.iloc[:, [7,8,10,11,12,13,14]]"
   ]
  },
  {
   "cell_type": "code",
   "execution_count": 6,
   "id": "2ff668e4-8e4e-49c5-90f3-769278f85a37",
   "metadata": {
    "papermill": {
     "duration": 0.011809,
     "end_time": "2022-04-13T14:12:03.045927",
     "exception": false,
     "start_time": "2022-04-13T14:12:03.034118",
     "status": "completed"
    },
    "tags": []
   },
   "outputs": [],
   "source": [
    "Y_rotten_tomatoes_nominee = df_rotten_tomatoes_oscars.iloc[:, 17]"
   ]
  },
  {
   "cell_type": "code",
   "execution_count": 7,
   "id": "f6c67aab-55f5-4647-ae2a-f3a78b3275fb",
   "metadata": {
    "papermill": {
     "duration": 0.01164,
     "end_time": "2022-04-13T14:12:03.062239",
     "exception": false,
     "start_time": "2022-04-13T14:12:03.050599",
     "status": "completed"
    },
    "tags": []
   },
   "outputs": [],
   "source": [
    "Y_rotten_tomatoes_winner = df_rotten_tomatoes_oscars.iloc[:, 16]"
   ]
  },
  {
   "cell_type": "markdown",
   "id": "d0f755c1-210a-4a39-b9ab-12c5beb0cf03",
   "metadata": {
    "papermill": {
     "duration": 0.004691,
     "end_time": "2022-04-13T14:12:03.071816",
     "exception": false,
     "start_time": "2022-04-13T14:12:03.067125",
     "status": "completed"
    },
    "tags": []
   },
   "source": [
    "### Escalonamento dos valores"
   ]
  },
  {
   "cell_type": "code",
   "execution_count": 8,
   "id": "4ef0de29-e24a-4ebd-af91-c8122cb5ffa9",
   "metadata": {
    "papermill": {
     "duration": 0.025978,
     "end_time": "2022-04-13T14:12:03.102392",
     "exception": false,
     "start_time": "2022-04-13T14:12:03.076414",
     "status": "completed"
    },
    "tags": []
   },
   "outputs": [],
   "source": [
    "label_encoder = LabelEncoder()\n",
    "scaler = StandardScaler()"
   ]
  },
  {
   "cell_type": "markdown",
   "id": "e8b5daea-ddef-4218-b82e-b1319836ea69",
   "metadata": {
    "papermill": {
     "duration": 0.00446,
     "end_time": "2022-04-13T14:12:03.111556",
     "exception": false,
     "start_time": "2022-04-13T14:12:03.107096",
     "status": "completed"
    },
    "tags": []
   },
   "source": [
    "### Tratamento de atributos categóricos"
   ]
  },
  {
   "cell_type": "code",
   "execution_count": 8,
   "id": "0d2f43c6-fee5-4a6e-b245-2a4740e178f9",
   "metadata": {
    "execution": {
     "iopub.execute_input": "2022-04-13T14:12:03.134483Z",
     "iopub.status.busy": "2022-04-13T14:12:03.134273Z",
     "iopub.status.idle": "2022-04-13T14:12:03.149276Z",
     "shell.execute_reply": "2022-04-13T14:12:03.148651Z"
    },
    "papermill": {
     "duration": 0.023355,
     "end_time": "2022-04-13T14:12:03.151881",
     "exception": false,
     "start_time": "2022-04-13T14:12:03.128526",
     "status": "completed"
    },
    "tags": []
   },
   "outputs": [],
   "source": [
    "X_rotten_oscars = scaler.fit_transform(X_rotten_oscars)\n",
    "Y_rotten_tomatoes_nominee = label_encoder.fit_transform(Y_rotten_tomatoes_nominee)\n",
    "Y_rotten_tomatoes_winner = label_encoder.fit_transform(Y_rotten_tomatoes_winner)"
   ]
  },
  {
   "cell_type": "code",
   "execution_count": 9,
   "id": "711929ca-2a2f-441b-a1b1-1db786532623",
   "metadata": {
    "execution": {
     "iopub.execute_input": "2022-04-13T14:12:03.172554Z",
     "iopub.status.busy": "2022-04-13T14:12:03.172179Z",
     "iopub.status.idle": "2022-04-13T14:12:03.175598Z",
     "shell.execute_reply": "2022-04-13T14:12:03.175137Z"
    },
    "papermill": {
     "duration": 0.011873,
     "end_time": "2022-04-13T14:12:03.178215",
     "exception": false,
     "start_time": "2022-04-13T14:12:03.166342",
     "status": "completed"
    },
    "tags": []
   },
   "outputs": [],
   "source": [
    "resultados_DummyClassifier = []\n",
    "resultados_NaiveBayes = []\n",
    "resultados_RegressaoLogistica = []\n",
    "resultados_KNN = []\n",
    "resultados_RandomForest = []\n",
    "resultados_MPLC = []\n",
    "resultados_SGDC = []\n",
    "resultados_SupportVector = []"
   ]
  },
  {
   "cell_type": "code",
   "execution_count": 10,
   "id": "e6617ec4-3ff8-4c69-923b-105927b11cfc",
   "metadata": {
    "execution": {
     "iopub.execute_input": "2022-04-13T14:12:03.189152Z",
     "iopub.status.busy": "2022-04-13T14:12:03.188927Z",
     "iopub.status.idle": "2022-04-13T16:13:30.586630Z",
     "shell.execute_reply": "2022-04-13T16:13:30.586109Z"
    },
    "papermill": {
     "duration": 7287.406243,
     "end_time": "2022-04-13T16:13:30.589459",
     "exception": false,
     "start_time": "2022-04-13T14:12:03.183216",
     "status": "completed"
    },
    "tags": []
   },
   "outputs": [],
   "source": [
    "for i in range(30):\n",
    "    kfold = KFold(n_splits=10, shuffle=True, random_state=i)\n",
    "\n",
    "    DummyCl = DummyClassifier(strategy = 'most_frequent')\n",
    "    scores = cross_val_score(DummyCl, X_rotten_oscars, Y_rotten_tomatoes_winner, cv = kfold)\n",
    "    resultados_DummyClassifier.append(scores.mean())\n",
    "\n",
    "    NaiveBayes= GaussianNB()\n",
    "    scores = cross_val_score(NaiveBayes, X_rotten_oscars, Y_rotten_tomatoes_winner, cv = kfold)\n",
    "    resultados_NaiveBayes.append(scores.mean())\n",
    "\n",
    "    RegressaoLogistica = LogisticRegression(dual = False, fit_intercept=True, penalty='l1', solver='liblinear')\n",
    "    scores = cross_val_score(RegressaoLogistica, X_rotten_oscars, Y_rotten_tomatoes_winner, cv = kfold)\n",
    "    resultados_RegressaoLogistica.append(scores.mean())\n",
    "\n",
    "    knn = KNeighborsClassifier(algorithm = 'auto', n_neighbors = 20, p = 2)\n",
    "    scores = cross_val_score(RegressaoLogistica, X_rotten_oscars, Y_rotten_tomatoes_winner, cv = kfold)\n",
    "    resultados_KNN.append(scores.mean())\n",
    "\n",
    "    RandomForest = RandomForestClassifier(criterion='entropy', max_features='auto', min_samples_leaf=5, min_samples_split=2, n_estimators=40)\n",
    "    scores = cross_val_score(RandomForest, X_rotten_oscars, Y_rotten_tomatoes_winner, cv = kfold)\n",
    "    resultados_RandomForest.append(scores.mean())\n",
    "\n",
    "    MPLC = MLPClassifier(hidden_layer_sizes=(5, 2), learning_rate='invscaling', max_iter=2000, solver='adam')\n",
    "    scores = cross_val_score(MPLC, X_rotten_oscars, Y_rotten_tomatoes_winner, cv = kfold)\n",
    "    resultados_MPLC.append(scores.mean())\n",
    "\n",
    "    SGDC = SGDClassifier(loss = 'hinge', max_iter = 1000, penalty = 'elasticnet')\n",
    "    scores = cross_val_score(SGDC, X_rotten_oscars, Y_rotten_tomatoes_winner, cv = kfold)\n",
    "    resultados_SGDC.append(scores.mean())\n",
    "\n",
    "    SV = SVC(kernel = 'poly')\n",
    "    scores = cross_val_score(SV, X_rotten_oscars, Y_rotten_tomatoes_winner, cv = kfold)\n",
    "    resultados_SupportVector.append(scores.mean())"
   ]
  },
  {
   "cell_type": "code",
   "execution_count": 11,
   "id": "de2a4c98-c63e-4e59-b423-f43e78c75255",
   "metadata": {
    "execution": {
     "iopub.execute_input": "2022-04-13T16:13:30.604261Z",
     "iopub.status.busy": "2022-04-13T16:13:30.604069Z",
     "iopub.status.idle": "2022-04-13T16:13:30.607719Z",
     "shell.execute_reply": "2022-04-13T16:13:30.607220Z"
    },
    "papermill": {
     "duration": 0.011096,
     "end_time": "2022-04-13T16:13:30.609084",
     "exception": false,
     "start_time": "2022-04-13T16:13:30.597988",
     "status": "completed"
    },
    "tags": []
   },
   "outputs": [],
   "source": [
    "resultados = pd.DataFrame({'Dummy Classifier': resultados_DummyClassifier,\n",
    "                          'Naive Bayes Classifier': resultados_NaiveBayes,\n",
    "                          'Regressao Logistica': resultados_RegressaoLogistica,\n",
    "                          'KNN':resultados_KNN,\n",
    "                          'Random Forest': resultados_RandomForest,\n",
    "                          'Multi-layer Perceptron': resultados_MPLC,\n",
    "                          'Stochastic Gradient Descent': resultados_SGDC,\n",
    "                          'Support Vector Classifier': resultados_SupportVector})"
   ]
  },
  {
   "cell_type": "code",
   "execution_count": 12,
   "id": "f064384a-c958-454c-bc61-af2a8f0306b5",
   "metadata": {
    "execution": {
     "iopub.execute_input": "2022-04-13T16:13:30.968943Z",
     "iopub.status.busy": "2022-04-13T16:13:30.968581Z",
     "iopub.status.idle": "2022-04-13T16:13:30.996599Z",
     "shell.execute_reply": "2022-04-13T16:13:30.996103Z"
    },
    "papermill": {
     "duration": 0.386013,
     "end_time": "2022-04-13T16:13:30.999516",
     "exception": false,
     "start_time": "2022-04-13T16:13:30.613503",
     "status": "completed"
    },
    "tags": []
   },
   "outputs": [
    {
     "data": {
      "text/html": [
       "<div>\n",
       "<style scoped>\n",
       "    .dataframe tbody tr th:only-of-type {\n",
       "        vertical-align: middle;\n",
       "    }\n",
       "\n",
       "    .dataframe tbody tr th {\n",
       "        vertical-align: top;\n",
       "    }\n",
       "\n",
       "    .dataframe thead th {\n",
       "        text-align: right;\n",
       "    }\n",
       "</style>\n",
       "<table border=\"1\" class=\"dataframe\">\n",
       "  <thead>\n",
       "    <tr style=\"text-align: right;\">\n",
       "      <th></th>\n",
       "      <th>Dummy Classifier</th>\n",
       "      <th>Naive Bayes Classifier</th>\n",
       "      <th>Regressao Logistica</th>\n",
       "      <th>KNN</th>\n",
       "      <th>Random Forest</th>\n",
       "      <th>Multi-layer Perceptron</th>\n",
       "      <th>Stochastic Gradient Descent</th>\n",
       "      <th>Support Vector Classifier</th>\n",
       "    </tr>\n",
       "  </thead>\n",
       "  <tbody>\n",
       "    <tr>\n",
       "      <th>count</th>\n",
       "      <td>3.000000e+01</td>\n",
       "      <td>30.000000</td>\n",
       "      <td>30.000000</td>\n",
       "      <td>30.000000</td>\n",
       "      <td>30.000000</td>\n",
       "      <td>30.000000</td>\n",
       "      <td>30.000000</td>\n",
       "      <td>30.000000</td>\n",
       "    </tr>\n",
       "    <tr>\n",
       "      <th>mean</th>\n",
       "      <td>8.609652e-01</td>\n",
       "      <td>0.837840</td>\n",
       "      <td>0.864154</td>\n",
       "      <td>0.864152</td>\n",
       "      <td>0.872114</td>\n",
       "      <td>0.868526</td>\n",
       "      <td>0.861588</td>\n",
       "      <td>0.866701</td>\n",
       "    </tr>\n",
       "    <tr>\n",
       "      <th>std</th>\n",
       "      <td>3.856961e-16</td>\n",
       "      <td>0.000246</td>\n",
       "      <td>0.000149</td>\n",
       "      <td>0.000149</td>\n",
       "      <td>0.000861</td>\n",
       "      <td>0.001027</td>\n",
       "      <td>0.000724</td>\n",
       "      <td>0.000217</td>\n",
       "    </tr>\n",
       "    <tr>\n",
       "      <th>min</th>\n",
       "      <td>8.609652e-01</td>\n",
       "      <td>0.837385</td>\n",
       "      <td>0.863836</td>\n",
       "      <td>0.863836</td>\n",
       "      <td>0.870617</td>\n",
       "      <td>0.865791</td>\n",
       "      <td>0.859988</td>\n",
       "      <td>0.866341</td>\n",
       "    </tr>\n",
       "    <tr>\n",
       "      <th>25%</th>\n",
       "      <td>8.609652e-01</td>\n",
       "      <td>0.837645</td>\n",
       "      <td>0.864020</td>\n",
       "      <td>0.864020</td>\n",
       "      <td>0.871457</td>\n",
       "      <td>0.867883</td>\n",
       "      <td>0.861118</td>\n",
       "      <td>0.866539</td>\n",
       "    </tr>\n",
       "    <tr>\n",
       "      <th>50%</th>\n",
       "      <td>8.609652e-01</td>\n",
       "      <td>0.837813</td>\n",
       "      <td>0.864172</td>\n",
       "      <td>0.864142</td>\n",
       "      <td>0.872022</td>\n",
       "      <td>0.868723</td>\n",
       "      <td>0.861729</td>\n",
       "      <td>0.866707</td>\n",
       "    </tr>\n",
       "    <tr>\n",
       "      <th>75%</th>\n",
       "      <td>8.609652e-01</td>\n",
       "      <td>0.838042</td>\n",
       "      <td>0.864264</td>\n",
       "      <td>0.864264</td>\n",
       "      <td>0.872847</td>\n",
       "      <td>0.869288</td>\n",
       "      <td>0.861988</td>\n",
       "      <td>0.866891</td>\n",
       "    </tr>\n",
       "    <tr>\n",
       "      <th>max</th>\n",
       "      <td>8.609652e-01</td>\n",
       "      <td>0.838424</td>\n",
       "      <td>0.864447</td>\n",
       "      <td>0.864447</td>\n",
       "      <td>0.874221</td>\n",
       "      <td>0.870067</td>\n",
       "      <td>0.862798</td>\n",
       "      <td>0.867074</td>\n",
       "    </tr>\n",
       "  </tbody>\n",
       "</table>\n",
       "</div>"
      ],
      "text/plain": [
       "       Dummy Classifier  Naive Bayes Classifier  Regressao Logistica  \\\n",
       "count      3.000000e+01               30.000000            30.000000   \n",
       "mean       8.609652e-01                0.837840             0.864154   \n",
       "std        3.856961e-16                0.000246             0.000149   \n",
       "min        8.609652e-01                0.837385             0.863836   \n",
       "25%        8.609652e-01                0.837645             0.864020   \n",
       "50%        8.609652e-01                0.837813             0.864172   \n",
       "75%        8.609652e-01                0.838042             0.864264   \n",
       "max        8.609652e-01                0.838424             0.864447   \n",
       "\n",
       "             KNN  Random Forest  Multi-layer Perceptron  \\\n",
       "count  30.000000      30.000000               30.000000   \n",
       "mean    0.864152       0.872114                0.868526   \n",
       "std     0.000149       0.000861                0.001027   \n",
       "min     0.863836       0.870617                0.865791   \n",
       "25%     0.864020       0.871457                0.867883   \n",
       "50%     0.864142       0.872022                0.868723   \n",
       "75%     0.864264       0.872847                0.869288   \n",
       "max     0.864447       0.874221                0.870067   \n",
       "\n",
       "       Stochastic Gradient Descent  Support Vector Classifier  \n",
       "count                    30.000000                  30.000000  \n",
       "mean                      0.861588                   0.866701  \n",
       "std                       0.000724                   0.000217  \n",
       "min                       0.859988                   0.866341  \n",
       "25%                       0.861118                   0.866539  \n",
       "50%                       0.861729                   0.866707  \n",
       "75%                       0.861988                   0.866891  \n",
       "max                       0.862798                   0.867074  "
      ]
     },
     "execution_count": 12,
     "metadata": {},
     "output_type": "execute_result"
    }
   ],
   "source": [
    "resultados.describe()"
   ]
  },
  {
   "cell_type": "code",
   "execution_count": 4,
   "id": "7ed4fbce-e8eb-4f10-ac2c-65f00341df43",
   "metadata": {
    "papermill": {
     "duration": 0.004013,
     "end_time": "2022-04-13T16:13:31.089582",
     "exception": false,
     "start_time": "2022-04-13T16:13:31.085569",
     "status": "completed"
    },
    "tags": []
   },
   "outputs": [
    {
     "data": {
      "text/html": [
       "<div>\n",
       "<style scoped>\n",
       "    .dataframe tbody tr th:only-of-type {\n",
       "        vertical-align: middle;\n",
       "    }\n",
       "\n",
       "    .dataframe tbody tr th {\n",
       "        vertical-align: top;\n",
       "    }\n",
       "\n",
       "    .dataframe thead th {\n",
       "        text-align: right;\n",
       "    }\n",
       "</style>\n",
       "<table border=\"1\" class=\"dataframe\">\n",
       "  <thead>\n",
       "    <tr style=\"text-align: right;\">\n",
       "      <th></th>\n",
       "      <th>Dummy Classifier</th>\n",
       "      <th>Naive Bayes Classifier</th>\n",
       "      <th>Regressao Logistica</th>\n",
       "      <th>KNN</th>\n",
       "      <th>Random Forest</th>\n",
       "      <th>Multi-layer Perceptron</th>\n",
       "      <th>Stochastic Gradient Descent</th>\n",
       "      <th>Support Vector Classifier</th>\n",
       "    </tr>\n",
       "  </thead>\n",
       "  <tbody>\n",
       "    <tr>\n",
       "      <th>count</th>\n",
       "      <td>30.000000</td>\n",
       "      <td>30.000000</td>\n",
       "      <td>30.000000</td>\n",
       "      <td>30.000000</td>\n",
       "      <td>30.000000</td>\n",
       "      <td>30.000000</td>\n",
       "      <td>30.000000</td>\n",
       "      <td>30.000000</td>\n",
       "    </tr>\n",
       "    <tr>\n",
       "      <th>mean</th>\n",
       "      <td>0.860965</td>\n",
       "      <td>0.837840</td>\n",
       "      <td>0.864154</td>\n",
       "      <td>0.864152</td>\n",
       "      <td>0.872114</td>\n",
       "      <td>0.868526</td>\n",
       "      <td>0.861588</td>\n",
       "      <td>0.866701</td>\n",
       "    </tr>\n",
       "    <tr>\n",
       "      <th>std</th>\n",
       "      <td>0.000000</td>\n",
       "      <td>0.000246</td>\n",
       "      <td>0.000149</td>\n",
       "      <td>0.000149</td>\n",
       "      <td>0.000861</td>\n",
       "      <td>0.001027</td>\n",
       "      <td>0.000724</td>\n",
       "      <td>0.000217</td>\n",
       "    </tr>\n",
       "    <tr>\n",
       "      <th>min</th>\n",
       "      <td>0.860965</td>\n",
       "      <td>0.837385</td>\n",
       "      <td>0.863836</td>\n",
       "      <td>0.863836</td>\n",
       "      <td>0.870617</td>\n",
       "      <td>0.865791</td>\n",
       "      <td>0.859988</td>\n",
       "      <td>0.866341</td>\n",
       "    </tr>\n",
       "    <tr>\n",
       "      <th>25%</th>\n",
       "      <td>0.860965</td>\n",
       "      <td>0.837645</td>\n",
       "      <td>0.864020</td>\n",
       "      <td>0.864020</td>\n",
       "      <td>0.871457</td>\n",
       "      <td>0.867883</td>\n",
       "      <td>0.861118</td>\n",
       "      <td>0.866539</td>\n",
       "    </tr>\n",
       "    <tr>\n",
       "      <th>50%</th>\n",
       "      <td>0.860965</td>\n",
       "      <td>0.837813</td>\n",
       "      <td>0.864172</td>\n",
       "      <td>0.864142</td>\n",
       "      <td>0.872022</td>\n",
       "      <td>0.868723</td>\n",
       "      <td>0.861729</td>\n",
       "      <td>0.866707</td>\n",
       "    </tr>\n",
       "    <tr>\n",
       "      <th>75%</th>\n",
       "      <td>0.860965</td>\n",
       "      <td>0.838042</td>\n",
       "      <td>0.864264</td>\n",
       "      <td>0.864264</td>\n",
       "      <td>0.872847</td>\n",
       "      <td>0.869288</td>\n",
       "      <td>0.861988</td>\n",
       "      <td>0.866891</td>\n",
       "    </tr>\n",
       "    <tr>\n",
       "      <th>max</th>\n",
       "      <td>0.860965</td>\n",
       "      <td>0.838424</td>\n",
       "      <td>0.864447</td>\n",
       "      <td>0.864447</td>\n",
       "      <td>0.874221</td>\n",
       "      <td>0.870067</td>\n",
       "      <td>0.862798</td>\n",
       "      <td>0.867074</td>\n",
       "    </tr>\n",
       "  </tbody>\n",
       "</table>\n",
       "</div>"
      ],
      "text/plain": [
       "       Dummy Classifier  Naive Bayes Classifier  Regressao Logistica  \\\n",
       "count         30.000000               30.000000            30.000000   \n",
       "mean           0.860965                0.837840             0.864154   \n",
       "std            0.000000                0.000246             0.000149   \n",
       "min            0.860965                0.837385             0.863836   \n",
       "25%            0.860965                0.837645             0.864020   \n",
       "50%            0.860965                0.837813             0.864172   \n",
       "75%            0.860965                0.838042             0.864264   \n",
       "max            0.860965                0.838424             0.864447   \n",
       "\n",
       "             KNN  Random Forest  Multi-layer Perceptron  \\\n",
       "count  30.000000      30.000000               30.000000   \n",
       "mean    0.864152       0.872114                0.868526   \n",
       "std     0.000149       0.000861                0.001027   \n",
       "min     0.863836       0.870617                0.865791   \n",
       "25%     0.864020       0.871457                0.867883   \n",
       "50%     0.864142       0.872022                0.868723   \n",
       "75%     0.864264       0.872847                0.869288   \n",
       "max     0.864447       0.874221                0.870067   \n",
       "\n",
       "       Stochastic Gradient Descent  Support Vector Classifier  \n",
       "count                    30.000000                  30.000000  \n",
       "mean                      0.861588                   0.866701  \n",
       "std                       0.000724                   0.000217  \n",
       "min                       0.859988                   0.866341  \n",
       "25%                       0.861118                   0.866539  \n",
       "50%                       0.861729                   0.866707  \n",
       "75%                       0.861988                   0.866891  \n",
       "max                       0.862798                   0.867074  "
      ]
     },
     "execution_count": 4,
     "metadata": {},
     "output_type": "execute_result"
    }
   ],
   "source": [
    "resultados.describe().round(8)"
   ]
  }
 ],
 "metadata": {
  "kernelspec": {
   "display_name": "Python 3 (ipykernel)",
   "language": "python",
   "name": "python3"
  },
  "language_info": {
   "codemirror_mode": {
    "name": "ipython",
    "version": 3
   },
   "file_extension": ".py",
   "mimetype": "text/x-python",
   "name": "python",
   "nbconvert_exporter": "python",
   "pygments_lexer": "ipython3",
   "version": "3.9.13"
  },
  "papermill": {
   "default_parameters": {},
   "duration": 7291.177709,
   "end_time": "2022-04-13T16:13:31.617097",
   "environment_variables": {},
   "exception": null,
   "input_path": "30-ML-OscarRotten-Avaliacao-winner.ipynb",
   "output_path": "30-ML-OscarRotten-Avaliacao-winner-result.ipynb",
   "parameters": {},
   "start_time": "2022-04-13T14:12:00.439388",
   "version": "2.3.4"
  }
 },
 "nbformat": 4,
 "nbformat_minor": 5
}
