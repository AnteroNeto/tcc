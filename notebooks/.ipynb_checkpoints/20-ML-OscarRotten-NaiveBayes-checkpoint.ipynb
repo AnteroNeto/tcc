{
 "cells": [
  {
   "cell_type": "markdown",
   "id": "bbe13452-a5a0-4661-a32c-3bbe5053eab2",
   "metadata": {},
   "source": [
    "# Machine learning - Naive Bayes - Oscar Rotten"
   ]
  },
  {
   "cell_type": "code",
   "execution_count": 1,
   "id": "354883d3-d1cf-4b63-a8a4-fed95ff8ceee",
   "metadata": {},
   "outputs": [],
   "source": [
    "import os\n",
    "import pandas as pd\n",
    "import pickle\n",
    "\n",
    "from sklearn.preprocessing import StandardScaler\n",
    "from sklearn.preprocessing import LabelEncoder\n",
    "\n",
    "\n",
    "from sklearn.model_selection import train_test_split\n",
    "from sklearn.naive_bayes import GaussianNB\n",
    "from sklearn.metrics import accuracy_score, confusion_matrix, classification_report\n",
    "from yellowbrick.classifier import ConfusionMatrix"
   ]
  },
  {
   "cell_type": "code",
   "execution_count": 2,
   "id": "1177aa7f-927b-489d-9289-1c91cb981f13",
   "metadata": {},
   "outputs": [
    {
     "data": {
      "text/plain": [
       "'/home/antero/Documentos/tcc/tratados'"
      ]
     },
     "execution_count": 2,
     "metadata": {},
     "output_type": "execute_result"
    }
   ],
   "source": [
    "os.chdir(\"../tratados\")\n",
    "os.getcwd()"
   ]
  },
  {
   "cell_type": "markdown",
   "id": "343b542a-e709-451f-9f63-3acecf008552",
   "metadata": {},
   "source": [
    "## Importando Dataframe"
   ]
  },
  {
   "cell_type": "code",
   "execution_count": 3,
   "id": "e6a634c9-846c-4f81-ab29-01f9537b24f8",
   "metadata": {},
   "outputs": [],
   "source": [
    "with open('oscar_rotten.pkl', 'rb') as f:\n",
    "    df_rotten_tomatoes_oscars=pickle.load(f)"
   ]
  },
  {
   "cell_type": "code",
   "execution_count": 4,
   "id": "b8fd5f51-562c-45e8-9516-994d5335ae2b",
   "metadata": {},
   "outputs": [
    {
     "name": "stdout",
     "output_type": "stream",
     "text": [
      "<class 'pandas.core.frame.DataFrame'>\n",
      "Int64Index: 16370 entries, 0 to 16369\n",
      "Data columns (total 18 columns):\n",
      " #   Column                            Non-Null Count  Dtype  \n",
      "---  ------                            --------------  -----  \n",
      " 0   movie_title                       16370 non-null  object \n",
      " 1   content_rating                    16370 non-null  object \n",
      " 2   genres                            16363 non-null  object \n",
      " 3   directors                         16219 non-null  object \n",
      " 4   original_release_date             16370 non-null  object \n",
      " 5   production_company                16061 non-null  object \n",
      " 6   tomatometer_status                16370 non-null  object \n",
      " 7   tomatometer_rating                16370 non-null  float64\n",
      " 8   tomatometer_count                 16370 non-null  float64\n",
      " 9   audience_status                   16219 non-null  object \n",
      " 10  audience_rating                   16370 non-null  float64\n",
      " 11  audience_count                    16370 non-null  float64\n",
      " 12  tomatometer_top_critics_count     16370 non-null  int64  \n",
      " 13  tomatometer_fresh_critics_count   16370 non-null  int64  \n",
      " 14  tomatometer_rotten_critics_count  16370 non-null  int64  \n",
      " 15  year                              16370 non-null  int64  \n",
      " 16  nominee                           16370 non-null  object \n",
      " 17  winner                            16370 non-null  object \n",
      "dtypes: float64(4), int64(4), object(10)\n",
      "memory usage: 2.4+ MB\n"
     ]
    }
   ],
   "source": [
    "df_rotten_tomatoes_oscars.info()"
   ]
  },
  {
   "cell_type": "markdown",
   "id": "14b962e6-7f58-42d2-aef2-15e947fd94ac",
   "metadata": {},
   "source": [
    "### Divisão entre previsores e classe"
   ]
  },
  {
   "cell_type": "code",
   "execution_count": 5,
   "id": "50751e91-9747-42ea-a4a9-e3cdbb0f0424",
   "metadata": {},
   "outputs": [],
   "source": [
    "X_rotten_oscars = df_rotten_tomatoes_oscars.iloc[:, [7,8,10,11,12,13,14]]"
   ]
  },
  {
   "cell_type": "code",
   "execution_count": 6,
   "id": "776ae3ba-e782-45b2-a24e-39d40dcfb48a",
   "metadata": {},
   "outputs": [],
   "source": [
    "Y_rotten_tomatoes_nominee = df_rotten_tomatoes_oscars.iloc[:, 16]"
   ]
  },
  {
   "cell_type": "code",
   "execution_count": 7,
   "id": "13199cd0-88ae-414d-b69d-61a78287c4dd",
   "metadata": {},
   "outputs": [],
   "source": [
    "Y_rotten_tomatoes_winner = df_rotten_tomatoes_oscars.iloc[:, 17]"
   ]
  },
  {
   "cell_type": "markdown",
   "id": "c4afaf70-5369-4e61-b549-4c4773bc77f3",
   "metadata": {},
   "source": [
    "### Escalonamento dos valores"
   ]
  },
  {
   "cell_type": "code",
   "execution_count": 8,
   "id": "e8a2b731-b1d4-4a94-bf95-76da7ff5e810",
   "metadata": {},
   "outputs": [],
   "source": [
    "scaler = StandardScaler()\n",
    "X_rotten_oscars = scaler.fit_transform(X_rotten_oscars)"
   ]
  },
  {
   "cell_type": "markdown",
   "id": "bf6ac4ce-a1f4-4234-b638-c3da66fc709b",
   "metadata": {},
   "source": [
    "### Tratamento de atributos categóricos"
   ]
  },
  {
   "cell_type": "code",
   "execution_count": 9,
   "id": "2381c8ab-bf5c-49d2-beeb-c2c189946cc1",
   "metadata": {},
   "outputs": [],
   "source": [
    "label_encoder = LabelEncoder()\n",
    "Y_rotten_tomatoes_nominee = label_encoder.fit_transform(Y_rotten_tomatoes_nominee)\n",
    "Y_rotten_tomatoes_winner = label_encoder.fit_transform(Y_rotten_tomatoes_winner)"
   ]
  },
  {
   "cell_type": "markdown",
   "id": "1234d2bb-4f31-4ac0-b357-75193ceebed4",
   "metadata": {},
   "source": [
    "### Naive Bayes Nominee"
   ]
  },
  {
   "cell_type": "markdown",
   "id": "fe6dfde7-6de9-4a66-9012-0ad00341bc4c",
   "metadata": {},
   "source": [
    "#### Divisão Treinamento e Teste"
   ]
  },
  {
   "cell_type": "code",
   "execution_count": 26,
   "id": "95403641-38d0-4610-964f-410ced57abf6",
   "metadata": {},
   "outputs": [],
   "source": [
    "X_rotten_oscars_treinamento, X_rotten_oscars_teste, Y_rotten_oscars_nominee_treinamento, Y_rotten_oscars_nominee_teste = train_test_split(X_rotten_oscars, Y_rotten_tomatoes_nominee,test_size = 0.25, random_state = 0)"
   ]
  },
  {
   "cell_type": "markdown",
   "id": "18098653-ec71-4f2d-b99e-10fa5e6b8f7b",
   "metadata": {},
   "source": [
    "#### Previsões "
   ]
  },
  {
   "cell_type": "code",
   "execution_count": 12,
   "id": "8f18a05c-9aff-456b-971f-2c68755bdbf2",
   "metadata": {},
   "outputs": [],
   "source": [
    "naive_rotten_nominee = GaussianNB()\n",
    "naive_rotten_nominee.fit(X_rotten_oscars_treinamento, Y_rotten_oscars_nominee_treinamento);\n",
    "previsoes_rotten_nominee = naive_rotten_nominee.predict(X_rotten_oscars_teste)"
   ]
  },
  {
   "cell_type": "markdown",
   "id": "7328f266-a144-4cd2-9ae9-6f5ca1df5c32",
   "metadata": {},
   "source": [
    "#### Acurácia"
   ]
  },
  {
   "cell_type": "code",
   "execution_count": 14,
   "id": "4391f2f3-f164-4436-8971-2395fd98ee5c",
   "metadata": {},
   "outputs": [
    {
     "data": {
      "text/plain": [
       "0.8262887857317371"
      ]
     },
     "execution_count": 14,
     "metadata": {},
     "output_type": "execute_result"
    }
   ],
   "source": [
    "accuracy_score(Y_rotten_oscars_nominee_teste, previsoes_rotten_nominee)"
   ]
  },
  {
   "cell_type": "markdown",
   "id": "fc9efac6-26ea-4a9a-8079-c7ecf0387490",
   "metadata": {},
   "source": [
    "#### Matriz de Confusão "
   ]
  },
  {
   "cell_type": "code",
   "execution_count": 15,
   "id": "899104ac-ede2-4c77-922d-0b9b96ecfdb7",
   "metadata": {},
   "outputs": [
    {
     "data": {
      "text/plain": [
       "array([[3240,  279],\n",
       "       [ 432,  142]])"
      ]
     },
     "execution_count": 15,
     "metadata": {},
     "output_type": "execute_result"
    }
   ],
   "source": [
    "confusion_matrix(Y_rotten_oscars_nominee_teste, previsoes_rotten_nominee)"
   ]
  },
  {
   "cell_type": "code",
   "execution_count": 29,
   "id": "228950a1-339f-4fcf-b16c-ee6ce6bf2fac",
   "metadata": {},
   "outputs": [
    {
     "data": {
      "text/plain": [
       "0.8262887857317371"
      ]
     },
     "execution_count": 29,
     "metadata": {},
     "output_type": "execute_result"
    },
    {
     "data": {
      "image/png": "[encoded data removed]",
      "text/plain": [
       "<Figure size 432x288 with 1 Axes>"
      ]
     },
     "metadata": {
      "needs_background": "light"
     },
     "output_type": "display_data"
    }
   ],
   "source": [
    "cm_rotten_nominee = ConfusionMatrix(naive_rotten_nominee)\n",
    "cm_rotten_nominee.fit(X_rotten_oscars_treinamento, Y_rotten_oscars_nominee_treinamento)\n",
    "cm_rotten_nominee.score(X_rotten_oscars_teste, Y_rotten_oscars_nominee_teste)"
   ]
  },
  {
   "cell_type": "markdown",
   "id": "44d26d53-94da-405a-afe3-cf03a4e2ddd4",
   "metadata": {},
   "source": [
    "#### Claissification Report"
   ]
  },
  {
   "cell_type": "code",
   "execution_count": 24,
   "id": "da3fbdd8-cb3f-4b82-8724-7d9bee2a7ea1",
   "metadata": {},
   "outputs": [
    {
     "name": "stdout",
     "output_type": "stream",
     "text": [
      "              precision    recall  f1-score   support\n",
      "\n",
      "           0       0.88      0.92      0.90      3519\n",
      "           1       0.34      0.25      0.29       574\n",
      "\n",
      "    accuracy                           0.83      4093\n",
      "   macro avg       0.61      0.58      0.59      4093\n",
      "weighted avg       0.81      0.83      0.81      4093\n",
      "\n"
     ]
    }
   ],
   "source": [
    "print(classification_report(Y_rotten_oscars_nominee_teste, previsoes_rotten_nominee))"
   ]
  },
  {
   "cell_type": "markdown",
   "id": "03208376-0df8-4d97-bf1e-c802256cfbcd",
   "metadata": {},
   "source": [
    "### Naive Bayes Winner"
   ]
  },
  {
   "cell_type": "markdown",
   "id": "f5de2016-d569-416a-a1cc-e0a8872a681d",
   "metadata": {},
   "source": [
    "#### Divisão Treinamento e Teste"
   ]
  },
  {
   "cell_type": "code",
   "execution_count": null,
   "id": "affc65a2-0849-417b-8b89-194052ef3831",
   "metadata": {},
   "outputs": [],
   "source": [
    "X_rotten_oscars_treinamento, X_rotten_oscars_teste, Y_rotten_oscars_winner_treinamento, Y_rotten_oscars_winner_teste = train_test_split(X_rotten_oscars, Y_rotten_tomatoes_winner,test_size = 0.25, random_state = 0)"
   ]
  },
  {
   "cell_type": "markdown",
   "id": "4031731b-ef55-4811-82cd-09373b28ff6f",
   "metadata": {},
   "source": [
    "#### Previsões "
   ]
  },
  {
   "cell_type": "code",
   "execution_count": 18,
   "id": "2272e94a-39de-4d1f-bda9-52019aabb28b",
   "metadata": {},
   "outputs": [],
   "source": [
    "naive_rotten_winner = GaussianNB()\n",
    "naive_rotten_winner.fit(X_rotten_oscars_treinamento, Y_rotten_oscars_winner_treinamento);\n",
    "previsoes_rotten_winner = naive_rotten_winner.predict(X_rotten_oscars_teste)"
   ]
  },
  {
   "cell_type": "markdown",
   "id": "83090a6a-1ab1-4ff2-a2e6-419ea18a6930",
   "metadata": {},
   "source": [
    "#### Acurácia"
   ]
  },
  {
   "cell_type": "code",
   "execution_count": 20,
   "id": "d8ab7ff9-44e6-41f1-9407-87c85ad5a9c4",
   "metadata": {},
   "outputs": [
    {
     "data": {
      "text/plain": [
       "0.9022721720009773"
      ]
     },
     "execution_count": 20,
     "metadata": {},
     "output_type": "execute_result"
    }
   ],
   "source": [
    "accuracy_score(Y_rotten_oscars_winner_teste, previsoes_rotten_winner)"
   ]
  },
  {
   "cell_type": "markdown",
   "id": "8de1443c-b27e-45cf-a7e0-25cfd66cb726",
   "metadata": {},
   "source": [
    "#### Matriz de Confusão"
   ]
  },
  {
   "cell_type": "code",
   "execution_count": 21,
   "id": "2e683d93-ac46-4c08-9888-b8282199d809",
   "metadata": {},
   "outputs": [
    {
     "data": {
      "text/plain": [
       "array([[3646,  233],\n",
       "       [ 167,   47]])"
      ]
     },
     "execution_count": 21,
     "metadata": {},
     "output_type": "execute_result"
    }
   ],
   "source": [
    "confusion_matrix(Y_rotten_oscars_winner_teste, previsoes_rotten_winner)"
   ]
  },
  {
   "cell_type": "code",
   "execution_count": 22,
   "id": "de4550e4-3dc3-4d37-8529-ceef5c1bea55",
   "metadata": {},
   "outputs": [
    {
     "data": {
      "text/plain": [
       "0.9022721720009773"
      ]
     },
     "execution_count": 22,
     "metadata": {},
     "output_type": "execute_result"
    },
    {
     "data": {
      "image/png": "[encoded data removed]",
      "text/plain": [
       "<Figure size 432x288 with 1 Axes>"
      ]
     },
     "metadata": {
      "needs_background": "light"
     },
     "output_type": "display_data"
    }
   ],
   "source": [
    "cm_rotten_winner = ConfusionMatrix(naive_rotten_winner)\n",
    "cm_rotten_winner.fit(X_rotten_oscars_treinamento, Y_rotten_oscars_winner_treinamento)\n",
    "cm_rotten_winner.score(X_rotten_oscars_teste, Y_rotten_oscars_winner_teste)"
   ]
  },
  {
   "cell_type": "markdown",
   "id": "0127012d-5cd6-4eec-95b7-cac5a8dd497d",
   "metadata": {},
   "source": [
    "#### Claissification Report"
   ]
  },
  {
   "cell_type": "code",
   "execution_count": 23,
   "id": "60fc5940-58b0-48d9-b277-56acb732d392",
   "metadata": {},
   "outputs": [
    {
     "name": "stdout",
     "output_type": "stream",
     "text": [
      "              precision    recall  f1-score   support\n",
      "\n",
      "           0       0.96      0.94      0.95      3879\n",
      "           1       0.17      0.22      0.19       214\n",
      "\n",
      "    accuracy                           0.90      4093\n",
      "   macro avg       0.56      0.58      0.57      4093\n",
      "weighted avg       0.91      0.90      0.91      4093\n",
      "\n"
     ]
    }
   ],
   "source": [
    "print(classification_report(Y_rotten_oscars_winner_teste, previsoes_rotten_winner))"
   ]
  }
 ],
 "metadata": {
  "kernelspec": {
   "display_name": "Python 3 (ipykernel)",
   "language": "python",
   "name": "python3"
  },
  "language_info": {
   "codemirror_mode": {
    "name": "ipython",
    "version": 3
   },
   "file_extension": ".py",
   "mimetype": "text/x-python",
   "name": "python",
   "nbconvert_exporter": "python",
   "pygments_lexer": "ipython3",
   "version": "3.9.12"
  }
 },
 "nbformat": 4,
 "nbformat_minor": 5
}
