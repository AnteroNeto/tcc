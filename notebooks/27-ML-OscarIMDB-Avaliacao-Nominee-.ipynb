{
 "cells": [
  {
   "cell_type": "markdown",
   "id": "b6699e76-52b2-4ec6-83a8-d13903e6f14c",
   "metadata": {
    "papermill": {
     "duration": 0.007038,
     "end_time": "2022-04-13T14:08:40.287390",
     "exception": false,
     "start_time": "2022-04-13T14:08:40.280352",
     "status": "completed"
    },
    "tags": []
   },
   "source": [
    "# Avaliação dos Resultados - Oscar IMDB"
   ]
  },
  {
   "cell_type": "code",
   "execution_count": 1,
   "id": "bf307ff9-9af5-461a-bf0f-dee5447d89aa",
   "metadata": {
    "papermill": {
     "duration": 11.725865,
     "end_time": "2022-04-13T14:08:52.019164",
     "exception": false,
     "start_time": "2022-04-13T14:08:40.293299",
     "status": "completed"
    },
    "tags": []
   },
   "outputs": [],
   "source": [
    "import os\n",
    "import pandas as pd\n",
    "import pickle\n",
    "\n",
    "\n",
    "from sklearn.preprocessing import StandardScaler\n",
    "from sklearn.preprocessing import LabelEncoder\n",
    "from sklearn.model_selection import cross_val_score, KFold\n",
    "from sklearn.dummy import DummyClassifier\n",
    "from sklearn.naive_bayes import GaussianNB\n",
    "from sklearn.linear_model import LogisticRegression\n",
    "from sklearn.neighbors import KNeighborsClassifier\n",
    "from sklearn.ensemble import RandomForestClassifier\n",
    "from sklearn.neural_network import MLPClassifier\n",
    "from sklearn.linear_model import SGDClassifier\n",
    "from sklearn.svm import SVC"
   ]
  },
  {
   "cell_type": "code",
   "execution_count": 3,
   "id": "bfce66fb-9098-434a-8792-2a729eec1f98",
   "metadata": {
    "papermill": {
     "duration": 0.021674,
     "end_time": "2022-04-13T14:08:52.047023",
     "exception": false,
     "start_time": "2022-04-13T14:08:52.025349",
     "status": "completed"
    },
    "tags": []
   },
   "outputs": [
    {
     "data": {
      "text/plain": [
       "'/home/antero/Documentos/tcc/tratados'"
      ]
     },
     "execution_count": 3,
     "metadata": {},
     "output_type": "execute_result"
    }
   ],
   "source": [
    "os.chdir(\"../tratados\")\n",
    "os.getcwd()"
   ]
  },
  {
   "cell_type": "code",
   "execution_count": 3,
   "id": "e857a951-c805-4e33-8cd1-2bffdc823c0b",
   "metadata": {
    "execution": {
     "iopub.execute_input": "2022-04-13T14:08:52.389780Z",
     "iopub.status.busy": "2022-04-13T14:08:52.389474Z",
     "iopub.status.idle": "2022-04-13T14:08:54.227133Z",
     "shell.execute_reply": "2022-04-13T14:08:54.226512Z"
    },
    "papermill": {
     "duration": 2.175689,
     "end_time": "2022-04-13T14:08:54.229375",
     "exception": false,
     "start_time": "2022-04-13T14:08:52.053686",
     "status": "completed"
    },
    "tags": []
   },
   "outputs": [],
   "source": [
    "with open('oscar_imdb.pkl', 'rb') as f:\n",
    "    df_imdb_oscar=pickle.load(f)"
   ]
  },
  {
   "cell_type": "markdown",
   "id": "f9bf5421-6ff0-40a1-ae77-4764833f6fa8",
   "metadata": {
    "papermill": {
     "duration": 0.020495,
     "end_time": "2022-04-13T14:08:54.256537",
     "exception": false,
     "start_time": "2022-04-13T14:08:54.236042",
     "status": "completed"
    },
    "tags": []
   },
   "source": [
    "## Importando o Dataframe"
   ]
  },
  {
   "cell_type": "code",
   "execution_count": 4,
   "id": "aab924f0-a0ff-4560-a88a-7551aaf4a6a3",
   "metadata": {
    "execution": {
     "iopub.execute_input": "2022-04-13T14:08:54.278067Z",
     "iopub.status.busy": "2022-04-13T14:08:54.277785Z",
     "iopub.status.idle": "2022-04-13T14:08:54.287134Z",
     "shell.execute_reply": "2022-04-13T14:08:54.286288Z"
    },
    "papermill": {
     "duration": 0.017403,
     "end_time": "2022-04-13T14:08:54.288481",
     "exception": false,
     "start_time": "2022-04-13T14:08:54.271078",
     "status": "completed"
    },
    "tags": []
   },
   "outputs": [],
   "source": [
    "X_imdb_oscar = df_imdb_oscar.iloc[:, 5:7]"
   ]
  },
  {
   "cell_type": "code",
   "execution_count": 5,
   "id": "dbd108ba-9a43-486f-b96c-b196f828c8dd",
   "metadata": {
    "execution": {
     "iopub.execute_input": "2022-04-13T14:08:54.295912Z",
     "iopub.status.busy": "2022-04-13T14:08:54.295768Z",
     "iopub.status.idle": "2022-04-13T14:08:54.298647Z",
     "shell.execute_reply": "2022-04-13T14:08:54.297999Z"
    },
    "papermill": {
     "duration": 0.008079,
     "end_time": "2022-04-13T14:08:54.299992",
     "exception": false,
     "start_time": "2022-04-13T14:08:54.291913",
     "status": "completed"
    },
    "tags": []
   },
   "outputs": [],
   "source": [
    "Y_imdb_oscar_nominee = df_imdb_oscar.iloc[:, 7]"
   ]
  },
  {
   "cell_type": "code",
   "execution_count": 6,
   "id": "2ff668e4-8e4e-49c5-90f3-769278f85a37",
   "metadata": {
    "execution": {
     "iopub.execute_input": "2022-04-13T14:08:54.308023Z",
     "iopub.status.busy": "2022-04-13T14:08:54.307723Z",
     "iopub.status.idle": "2022-04-13T14:08:54.311889Z",
     "shell.execute_reply": "2022-04-13T14:08:54.311061Z"
    },
    "papermill": {
     "duration": 0.009818,
     "end_time": "2022-04-13T14:08:54.313218",
     "exception": false,
     "start_time": "2022-04-13T14:08:54.303400",
     "status": "completed"
    },
    "tags": []
   },
   "outputs": [],
   "source": [
    "Y_imdb_oscar_winner = df_imdb_oscar.iloc[:, 8]"
   ]
  },
  {
   "cell_type": "markdown",
   "id": "d65a0db7-5ec4-4121-8626-7f587212e317",
   "metadata": {
    "papermill": {
     "duration": 0.006587,
     "end_time": "2022-04-13T14:08:54.337036",
     "exception": false,
     "start_time": "2022-04-13T14:08:54.330449",
     "status": "completed"
    },
    "tags": []
   },
   "source": [
    "### Escalonamento dos valores"
   ]
  },
  {
   "cell_type": "code",
   "execution_count": 7,
   "id": "0adab656-f108-4a9d-8866-a360e583e492",
   "metadata": {
    "execution": {
     "iopub.execute_input": "2022-04-13T14:08:54.349304Z",
     "iopub.status.busy": "2022-04-13T14:08:54.349035Z",
     "iopub.status.idle": "2022-04-13T14:08:54.368790Z",
     "shell.execute_reply": "2022-04-13T14:08:54.368131Z"
    },
    "papermill": {
     "duration": 0.026309,
     "end_time": "2022-04-13T14:08:54.371094",
     "exception": false,
     "start_time": "2022-04-13T14:08:54.344785",
     "status": "completed"
    },
    "tags": []
   },
   "outputs": [],
   "source": [
    "scaler = StandardScaler()\n",
    "X_imdb_oscar = scaler.fit_transform(X_imdb_oscar)"
   ]
  },
  {
   "cell_type": "markdown",
   "id": "4a2f5c6c-3efe-49df-bd01-2b3d82e0a26b",
   "metadata": {
    "papermill": {
     "duration": 0.006407,
     "end_time": "2022-04-13T14:08:54.385258",
     "exception": false,
     "start_time": "2022-04-13T14:08:54.378851",
     "status": "completed"
    },
    "tags": []
   },
   "source": [
    "### Tratamento de atributos categóricos"
   ]
  },
  {
   "cell_type": "code",
   "execution_count": 8,
   "id": "4da0fd94-694d-4642-8f7f-1eb02475c22f",
   "metadata": {
    "execution": {
     "iopub.execute_input": "2022-04-13T14:08:54.391775Z",
     "iopub.status.busy": "2022-04-13T14:08:54.391634Z",
     "iopub.status.idle": "2022-04-13T14:08:54.519944Z",
     "shell.execute_reply": "2022-04-13T14:08:54.519304Z"
    },
    "papermill": {
     "duration": 0.13421,
     "end_time": "2022-04-13T14:08:54.522443",
     "exception": false,
     "start_time": "2022-04-13T14:08:54.388233",
     "status": "completed"
    },
    "tags": []
   },
   "outputs": [],
   "source": [
    "label_encoder = LabelEncoder()\n",
    "Y_imdb_oscar_nominee = label_encoder.fit_transform(Y_imdb_oscar_nominee)\n",
    "Y_imdb_oscar_winner = label_encoder.fit_transform(Y_imdb_oscar_winner)"
   ]
  },
  {
   "cell_type": "code",
   "execution_count": 9,
   "id": "711929ca-2a2f-441b-a1b1-1db786532623",
   "metadata": {
    "execution": {
     "iopub.execute_input": "2022-04-13T14:08:54.535573Z",
     "iopub.status.busy": "2022-04-13T14:08:54.535446Z",
     "iopub.status.idle": "2022-04-13T14:08:54.538940Z",
     "shell.execute_reply": "2022-04-13T14:08:54.538189Z"
    },
    "papermill": {
     "duration": 0.009786,
     "end_time": "2022-04-13T14:08:54.540140",
     "exception": false,
     "start_time": "2022-04-13T14:08:54.530354",
     "status": "completed"
    },
    "tags": []
   },
   "outputs": [],
   "source": [
    "resultados_DummyClassifier = []\n",
    "resultados_NaiveBayes = []\n",
    "resultados_RegressaoLogistica = []\n",
    "resultados_KNN = []\n",
    "resultados_RandomForest = []\n",
    "resultados_MPLC = []\n",
    "resultados_SGDC = []\n",
    "resultados_SupportVector = []"
   ]
  },
  {
   "cell_type": "code",
   "execution_count": 10,
   "id": "e6617ec4-3ff8-4c69-923b-105927b11cfc",
   "metadata": {
    "execution": {
     "iopub.execute_input": "2022-04-13T14:08:54.547555Z",
     "iopub.status.busy": "2022-04-13T14:08:54.547275Z",
     "iopub.status.idle": "2022-04-17T18:55:07.444639Z",
     "shell.execute_reply": "2022-04-17T18:55:06.623871Z"
    },
    "papermill": {
     "duration": 362773.392309,
     "end_time": "2022-04-17T18:55:07.935415",
     "exception": false,
     "start_time": "2022-04-13T14:08:54.543106",
     "status": "completed"
    },
    "tags": []
   },
   "outputs": [],
   "source": [
    "for i in range(30):\n",
    "    kfold = KFold(n_splits=10, shuffle=True, random_state=i)\n",
    "\n",
    "    DummyCl = DummyClassifier(strategy='most_frequent')\n",
    "    scores = cross_val_score(DummyCl, X_imdb_oscar, Y_imdb_oscar_nominee, cv = kfold)\n",
    "    resultados_DummyClassifier.append(scores.mean())\n",
    "\n",
    "    NaiveBayes= GaussianNB()\n",
    "    scores = cross_val_score(NaiveBayes, X_imdb_oscar, Y_imdb_oscar_nominee, cv = kfold)\n",
    "    resultados_NaiveBayes.append(scores.mean())\n",
    "\n",
    "    RegressaoLogistica = LogisticRegression(dual=True, fit_intercept=True, penalty='l2', solver='liblinear')\n",
    "    scores = cross_val_score(RegressaoLogistica, X_imdb_oscar, Y_imdb_oscar_nominee, cv = kfold)\n",
    "    resultados_RegressaoLogistica.append(scores.mean())\n",
    "\n",
    "    knn = KNeighborsClassifier(algorithm='auto', n_neighbors=10, p=1)\n",
    "    scores = cross_val_score(RegressaoLogistica, X_imdb_oscar, Y_imdb_oscar_nominee, cv = kfold)\n",
    "    resultados_KNN.append(scores.mean())\n",
    "\n",
    "    RandomForest = RandomForestClassifier(criterion='entropy', max_features='auto', min_samples_leaf=10, min_samples_split=5, n_estimators=150)\n",
    "    scores = cross_val_score(RandomForest, X_imdb_oscar, Y_imdb_oscar_nominee, cv = kfold)\n",
    "    resultados_RandomForest.append(scores.mean())\n",
    "\n",
    "    MPLC = MLPClassifier(hidden_layer_sizes=(5, 2), learning_rate='adaptive', max_iter=2000, solver='sgd')\n",
    "    scores = cross_val_score(MPLC, X_imdb_oscar, Y_imdb_oscar_nominee, cv = kfold)\n",
    "    resultados_MPLC.append(scores.mean())\n",
    "\n",
    "    SGDC = SGDClassifier(loss='hinge', max_iter=3000, penalty='l1')\n",
    "    scores = cross_val_score(SGDC, X_imdb_oscar, Y_imdb_oscar_nominee, cv = kfold)\n",
    "    resultados_SGDC.append(scores.mean())\n",
    "\n",
    "    SV = SVC(kernel='linear')\n",
    "    scores = cross_val_score(SV, X_imdb_oscar, Y_imdb_oscar_nominee, cv = kfold)\n",
    "    resultados_SupportVector.append(scores.mean())"
   ]
  },
  {
   "cell_type": "code",
   "execution_count": 11,
   "id": "de2a4c98-c63e-4e59-b423-f43e78c75255",
   "metadata": {
    "execution": {
     "iopub.execute_input": "2022-04-17T18:55:08.976261Z",
     "iopub.status.busy": "2022-04-17T18:55:08.970070Z",
     "iopub.status.idle": "2022-04-17T18:55:11.762206Z",
     "shell.execute_reply": "2022-04-17T18:55:11.752041Z"
    },
    "papermill": {
     "duration": 3.616726,
     "end_time": "2022-04-17T18:55:11.764707",
     "exception": false,
     "start_time": "2022-04-17T18:55:08.147981",
     "status": "completed"
    },
    "tags": []
   },
   "outputs": [],
   "source": [
    "resultados = pd.DataFrame({'Dummy Classifier': resultados_DummyClassifier,\n",
    "                          'Naive Bayes Classifier': resultados_NaiveBayes,\n",
    "                          'Regressao Logistica': resultados_RegressaoLogistica,\n",
    "                          'KNN':resultados_KNN,\n",
    "                          'Random Forest': resultados_RandomForest,\n",
    "                          'Multi-layer Perceptron': resultados_MPLC,\n",
    "                          'Stochastic Gradient Descent': resultados_SGDC,\n",
    "                          'Support Vector Classifier': resultados_SupportVector})"
   ]
  },
  {
   "cell_type": "code",
   "execution_count": 8,
   "id": "f064384a-c958-454c-bc61-af2a8f0306b5",
   "metadata": {
    "papermill": {
     "duration": 8.181204,
     "end_time": "2022-04-17T18:55:19.962313",
     "exception": false,
     "start_time": "2022-04-17T18:55:11.781109",
     "status": "completed"
    },
    "tags": []
   },
   "outputs": [
    {
     "data": {
      "text/html": [
       "<div>\n",
       "<style scoped>\n",
       "    .dataframe tbody tr th:only-of-type {\n",
       "        vertical-align: middle;\n",
       "    }\n",
       "\n",
       "    .dataframe tbody tr th {\n",
       "        vertical-align: top;\n",
       "    }\n",
       "\n",
       "    .dataframe thead th {\n",
       "        text-align: right;\n",
       "    }\n",
       "</style>\n",
       "<table border=\"1\" class=\"dataframe\">\n",
       "  <thead>\n",
       "    <tr style=\"text-align: right;\">\n",
       "      <th></th>\n",
       "      <th>Dummy Classifier</th>\n",
       "      <th>Naive Bayes Classifier</th>\n",
       "      <th>Regressao Logistica</th>\n",
       "      <th>KNN</th>\n",
       "      <th>Random Forest</th>\n",
       "      <th>Multi-layer Perceptron</th>\n",
       "      <th>Stochastic Gradient Descent</th>\n",
       "      <th>Support Vector Classifier</th>\n",
       "    </tr>\n",
       "  </thead>\n",
       "  <tbody>\n",
       "    <tr>\n",
       "      <th>count</th>\n",
       "      <td>3.000000e+01</td>\n",
       "      <td>30.000000</td>\n",
       "      <td>30.000000</td>\n",
       "      <td>30.000000</td>\n",
       "      <td>30.000000</td>\n",
       "      <td>30.000000</td>\n",
       "      <td>30.000000</td>\n",
       "      <td>3.000000e+01</td>\n",
       "    </tr>\n",
       "    <tr>\n",
       "      <th>mean</th>\n",
       "      <td>9.912902e-01</td>\n",
       "      <td>0.988532</td>\n",
       "      <td>0.991421</td>\n",
       "      <td>0.991421</td>\n",
       "      <td>0.991601</td>\n",
       "      <td>0.991357</td>\n",
       "      <td>0.991294</td>\n",
       "      <td>9.912902e-01</td>\n",
       "    </tr>\n",
       "    <tr>\n",
       "      <th>std</th>\n",
       "      <td>5.844300e-10</td>\n",
       "      <td>0.000007</td>\n",
       "      <td>0.000007</td>\n",
       "      <td>0.000012</td>\n",
       "      <td>0.000022</td>\n",
       "      <td>0.000043</td>\n",
       "      <td>0.000043</td>\n",
       "      <td>5.844300e-10</td>\n",
       "    </tr>\n",
       "    <tr>\n",
       "      <th>min</th>\n",
       "      <td>9.912902e-01</td>\n",
       "      <td>0.988520</td>\n",
       "      <td>0.991403</td>\n",
       "      <td>0.991401</td>\n",
       "      <td>0.991536</td>\n",
       "      <td>0.991265</td>\n",
       "      <td>0.991216</td>\n",
       "      <td>9.912902e-01</td>\n",
       "    </tr>\n",
       "    <tr>\n",
       "      <th>25%</th>\n",
       "      <td>9.912902e-01</td>\n",
       "      <td>0.988527</td>\n",
       "      <td>0.991417</td>\n",
       "      <td>0.991414</td>\n",
       "      <td>0.991594</td>\n",
       "      <td>0.991329</td>\n",
       "      <td>0.991253</td>\n",
       "      <td>9.912902e-01</td>\n",
       "    </tr>\n",
       "    <tr>\n",
       "      <th>50%</th>\n",
       "      <td>9.912902e-01</td>\n",
       "      <td>0.988531</td>\n",
       "      <td>0.991422</td>\n",
       "      <td>0.991423</td>\n",
       "      <td>0.991604</td>\n",
       "      <td>0.991356</td>\n",
       "      <td>0.991309</td>\n",
       "      <td>9.912902e-01</td>\n",
       "    </tr>\n",
       "    <tr>\n",
       "      <th>75%</th>\n",
       "      <td>9.912902e-01</td>\n",
       "      <td>0.988537</td>\n",
       "      <td>0.991425</td>\n",
       "      <td>0.991425</td>\n",
       "      <td>0.991614</td>\n",
       "      <td>0.991382</td>\n",
       "      <td>0.991326</td>\n",
       "      <td>9.912902e-01</td>\n",
       "    </tr>\n",
       "    <tr>\n",
       "      <th>max</th>\n",
       "      <td>9.912902e-01</td>\n",
       "      <td>0.988545</td>\n",
       "      <td>0.991434</td>\n",
       "      <td>0.991459</td>\n",
       "      <td>0.991635</td>\n",
       "      <td>0.991441</td>\n",
       "      <td>0.991358</td>\n",
       "      <td>9.912902e-01</td>\n",
       "    </tr>\n",
       "  </tbody>\n",
       "</table>\n",
       "</div>"
      ],
      "text/plain": [
       "       Dummy Classifier  Naive Bayes Classifier  Regressao Logistica  \\\n",
       "count      3.000000e+01               30.000000            30.000000   \n",
       "mean       9.912902e-01                0.988532             0.991421   \n",
       "std        5.844300e-10                0.000007             0.000007   \n",
       "min        9.912902e-01                0.988520             0.991403   \n",
       "25%        9.912902e-01                0.988527             0.991417   \n",
       "50%        9.912902e-01                0.988531             0.991422   \n",
       "75%        9.912902e-01                0.988537             0.991425   \n",
       "max        9.912902e-01                0.988545             0.991434   \n",
       "\n",
       "             KNN  Random Forest  Multi-layer Perceptron  \\\n",
       "count  30.000000      30.000000               30.000000   \n",
       "mean    0.991421       0.991601                0.991357   \n",
       "std     0.000012       0.000022                0.000043   \n",
       "min     0.991401       0.991536                0.991265   \n",
       "25%     0.991414       0.991594                0.991329   \n",
       "50%     0.991423       0.991604                0.991356   \n",
       "75%     0.991425       0.991614                0.991382   \n",
       "max     0.991459       0.991635                0.991441   \n",
       "\n",
       "       Stochastic Gradient Descent  Support Vector Classifier  \n",
       "count                    30.000000               3.000000e+01  \n",
       "mean                      0.991294               9.912902e-01  \n",
       "std                       0.000043               5.844300e-10  \n",
       "min                       0.991216               9.912902e-01  \n",
       "25%                       0.991253               9.912902e-01  \n",
       "50%                       0.991309               9.912902e-01  \n",
       "75%                       0.991326               9.912902e-01  \n",
       "max                       0.991358               9.912902e-01  "
      ]
     },
     "execution_count": 8,
     "metadata": {},
     "output_type": "execute_result"
    }
   ],
   "source": [
    "resultados.describe()"
   ]
  },
  {
   "cell_type": "code",
   "execution_count": 22,
   "id": "fdd5be2f-a6e0-4567-98e7-77d9cbe26444",
   "metadata": {
    "papermill": {
     "duration": 0.003287,
     "end_time": "2022-04-17T18:55:22.418490",
     "exception": false,
     "start_time": "2022-04-17T18:55:22.415203",
     "status": "completed"
    },
    "tags": []
   },
   "outputs": [
    {
     "data": {
      "text/html": [
       "<div>\n",
       "<style scoped>\n",
       "    .dataframe tbody tr th:only-of-type {\n",
       "        vertical-align: middle;\n",
       "    }\n",
       "\n",
       "    .dataframe tbody tr th {\n",
       "        vertical-align: top;\n",
       "    }\n",
       "\n",
       "    .dataframe thead th {\n",
       "        text-align: right;\n",
       "    }\n",
       "</style>\n",
       "<table border=\"1\" class=\"dataframe\">\n",
       "  <thead>\n",
       "    <tr style=\"text-align: right;\">\n",
       "      <th></th>\n",
       "      <th>Dummy Classifier</th>\n",
       "      <th>Naive Bayes Classifier</th>\n",
       "      <th>Regressao Logistica</th>\n",
       "      <th>KNN</th>\n",
       "      <th>Random Forest</th>\n",
       "      <th>Multi-layer Perceptron</th>\n",
       "      <th>Stochastic Gradient Descent</th>\n",
       "      <th>Support Vector Classifier</th>\n",
       "    </tr>\n",
       "  </thead>\n",
       "  <tbody>\n",
       "    <tr>\n",
       "      <th>count</th>\n",
       "      <td>30.00000</td>\n",
       "      <td>30.000000</td>\n",
       "      <td>30.000000</td>\n",
       "      <td>30.000000</td>\n",
       "      <td>30.000000</td>\n",
       "      <td>30.000000</td>\n",
       "      <td>30.000000</td>\n",
       "      <td>30.00000</td>\n",
       "    </tr>\n",
       "    <tr>\n",
       "      <th>mean</th>\n",
       "      <td>0.99129</td>\n",
       "      <td>0.988532</td>\n",
       "      <td>0.991421</td>\n",
       "      <td>0.991421</td>\n",
       "      <td>0.991601</td>\n",
       "      <td>0.991357</td>\n",
       "      <td>0.991294</td>\n",
       "      <td>0.99129</td>\n",
       "    </tr>\n",
       "    <tr>\n",
       "      <th>std</th>\n",
       "      <td>0.00000</td>\n",
       "      <td>0.000007</td>\n",
       "      <td>0.000007</td>\n",
       "      <td>0.000012</td>\n",
       "      <td>0.000022</td>\n",
       "      <td>0.000043</td>\n",
       "      <td>0.000043</td>\n",
       "      <td>0.00000</td>\n",
       "    </tr>\n",
       "    <tr>\n",
       "      <th>min</th>\n",
       "      <td>0.99129</td>\n",
       "      <td>0.988520</td>\n",
       "      <td>0.991403</td>\n",
       "      <td>0.991401</td>\n",
       "      <td>0.991536</td>\n",
       "      <td>0.991265</td>\n",
       "      <td>0.991216</td>\n",
       "      <td>0.99129</td>\n",
       "    </tr>\n",
       "    <tr>\n",
       "      <th>25%</th>\n",
       "      <td>0.99129</td>\n",
       "      <td>0.988527</td>\n",
       "      <td>0.991417</td>\n",
       "      <td>0.991414</td>\n",
       "      <td>0.991594</td>\n",
       "      <td>0.991329</td>\n",
       "      <td>0.991253</td>\n",
       "      <td>0.99129</td>\n",
       "    </tr>\n",
       "    <tr>\n",
       "      <th>50%</th>\n",
       "      <td>0.99129</td>\n",
       "      <td>0.988531</td>\n",
       "      <td>0.991422</td>\n",
       "      <td>0.991423</td>\n",
       "      <td>0.991604</td>\n",
       "      <td>0.991356</td>\n",
       "      <td>0.991309</td>\n",
       "      <td>0.99129</td>\n",
       "    </tr>\n",
       "    <tr>\n",
       "      <th>75%</th>\n",
       "      <td>0.99129</td>\n",
       "      <td>0.988537</td>\n",
       "      <td>0.991425</td>\n",
       "      <td>0.991425</td>\n",
       "      <td>0.991614</td>\n",
       "      <td>0.991382</td>\n",
       "      <td>0.991326</td>\n",
       "      <td>0.99129</td>\n",
       "    </tr>\n",
       "    <tr>\n",
       "      <th>max</th>\n",
       "      <td>0.99129</td>\n",
       "      <td>0.988545</td>\n",
       "      <td>0.991434</td>\n",
       "      <td>0.991459</td>\n",
       "      <td>0.991635</td>\n",
       "      <td>0.991441</td>\n",
       "      <td>0.991358</td>\n",
       "      <td>0.99129</td>\n",
       "    </tr>\n",
       "  </tbody>\n",
       "</table>\n",
       "</div>"
      ],
      "text/plain": [
       "       Dummy Classifier  Naive Bayes Classifier  Regressao Logistica  \\\n",
       "count          30.00000               30.000000            30.000000   \n",
       "mean            0.99129                0.988532             0.991421   \n",
       "std             0.00000                0.000007             0.000007   \n",
       "min             0.99129                0.988520             0.991403   \n",
       "25%             0.99129                0.988527             0.991417   \n",
       "50%             0.99129                0.988531             0.991422   \n",
       "75%             0.99129                0.988537             0.991425   \n",
       "max             0.99129                0.988545             0.991434   \n",
       "\n",
       "             KNN  Random Forest  Multi-layer Perceptron  \\\n",
       "count  30.000000      30.000000               30.000000   \n",
       "mean    0.991421       0.991601                0.991357   \n",
       "std     0.000012       0.000022                0.000043   \n",
       "min     0.991401       0.991536                0.991265   \n",
       "25%     0.991414       0.991594                0.991329   \n",
       "50%     0.991423       0.991604                0.991356   \n",
       "75%     0.991425       0.991614                0.991382   \n",
       "max     0.991459       0.991635                0.991441   \n",
       "\n",
       "       Stochastic Gradient Descent  Support Vector Classifier  \n",
       "count                    30.000000                   30.00000  \n",
       "mean                      0.991294                    0.99129  \n",
       "std                       0.000043                    0.00000  \n",
       "min                       0.991216                    0.99129  \n",
       "25%                       0.991253                    0.99129  \n",
       "50%                       0.991309                    0.99129  \n",
       "75%                       0.991326                    0.99129  \n",
       "max                       0.991358                    0.99129  "
      ]
     },
     "execution_count": 22,
     "metadata": {},
     "output_type": "execute_result"
    }
   ],
   "source": [
    "resultados.describe().round(8)"
   ]
  }
 ],
 "metadata": {
  "kernelspec": {
   "display_name": "Python 3 (ipykernel)",
   "language": "python",
   "name": "python3"
  },
  "language_info": {
   "codemirror_mode": {
    "name": "ipython",
    "version": 3
   },
   "file_extension": ".py",
   "mimetype": "text/x-python",
   "name": "python",
   "nbconvert_exporter": "python",
   "pygments_lexer": "ipython3",
   "version": "3.9.13"
  },
  "papermill": {
   "default_parameters": {},
   "duration": 362805.947901,
   "end_time": "2022-04-17T18:55:25.282215",
   "environment_variables": {},
   "exception": null,
   "input_path": "27-ML-OscarIMDB-Avaliacao-nominee.ipynb",
   "output_path": "27-ML-OscarIMDB-Avaliacao-nominee-result.ipynb",
   "parameters": {},
   "start_time": "2022-04-13T14:08:39.334314",
   "version": "2.3.4"
  }
 },
 "nbformat": 4,
 "nbformat_minor": 5
}
