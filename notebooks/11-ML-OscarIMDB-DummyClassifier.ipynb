{
 "cells": [
  {
   "cell_type": "markdown",
   "id": "37007d3c-fb4b-46bf-8e05-f285fca9ee52",
   "metadata": {},
   "source": [
    "# Machine learning - Dummy Classifier - Oscar IMDB"
   ]
  },
  {
   "cell_type": "code",
   "execution_count": 16,
   "id": "86a217a9-f645-4d94-8b80-e38c686308c1",
   "metadata": {},
   "outputs": [],
   "source": [
    "import os\n",
    "import pandas as pd\n",
    "import pickle\n",
    "\n",
    "\n",
    "from sklearn.preprocessing import StandardScaler\n",
    "from sklearn.preprocessing import LabelEncoder\n",
    "from sklearn.model_selection import GridSearchCV\n",
    "from sklearn.model_selection import train_test_split\n",
    "from sklearn.dummy import DummyClassifier\n",
    "from sklearn.metrics import accuracy_score, confusion_matrix, classification_report\n",
    "from yellowbrick.classifier import ConfusionMatrix\n",
    "from yellowbrick.classifier import ClassificationReport\n"
   ]
  },
  {
   "cell_type": "code",
   "execution_count": 17,
   "id": "9e7517ba-f851-49c0-bb46-baa7f7082d8f",
   "metadata": {},
   "outputs": [
    {
     "data": {
      "text/plain": [
       "'/home/antero/Documentos/tcc/tratados'"
      ]
     },
     "execution_count": 17,
     "metadata": {},
     "output_type": "execute_result"
    }
   ],
   "source": [
    "os.chdir(\"../tratados\")\n",
    "os.getcwd()"
   ]
  },
  {
   "cell_type": "markdown",
   "id": "a93deb5e-bc67-4358-ae21-d5195f0968f4",
   "metadata": {},
   "source": [
    "## Importando o Dataframe"
   ]
  },
  {
   "cell_type": "code",
   "execution_count": 18,
   "id": "4fd2bf93-8fee-44c5-8ac8-39c349ef6d48",
   "metadata": {},
   "outputs": [],
   "source": [
    "with open('oscar_imdb.pkl', 'rb') as f:\n",
    "    df_imdb_oscar=pickle.load(f)"
   ]
  },
  {
   "cell_type": "code",
   "execution_count": 19,
   "id": "acd2c950-e044-4725-b9ca-4f99c6a9b606",
   "metadata": {},
   "outputs": [
    {
     "name": "stdout",
     "output_type": "stream",
     "text": [
      "<class 'pandas.core.frame.DataFrame'>\n",
      "Int64Index: 444329 entries, 0 to 447056\n",
      "Data columns (total 9 columns):\n",
      " #   Column         Non-Null Count   Dtype  \n",
      "---  ------         --------------   -----  \n",
      " 0   titleType      444329 non-null  object \n",
      " 1   primaryTitle   444329 non-null  object \n",
      " 2   originalTitle  444329 non-null  object \n",
      " 3   startYear      444329 non-null  int64  \n",
      " 4   genres         432835 non-null  object \n",
      " 5   averageRating  444329 non-null  float64\n",
      " 6   numVotes       444329 non-null  int64  \n",
      " 7   nominee        444329 non-null  object \n",
      " 8   winner         444329 non-null  object \n",
      "dtypes: float64(1), int64(2), object(6)\n",
      "memory usage: 33.9+ MB\n"
     ]
    }
   ],
   "source": [
    "df_imdb_oscar.info()"
   ]
  },
  {
   "cell_type": "markdown",
   "id": "e147c2a2-723c-49e4-bedb-1b15232c23f0",
   "metadata": {},
   "source": [
    "### Divisão entre previsores e classe"
   ]
  },
  {
   "cell_type": "code",
   "execution_count": 20,
   "id": "d78d8983-1bf9-4009-babc-018484802622",
   "metadata": {},
   "outputs": [],
   "source": [
    "X_imdb_oscar = df_imdb_oscar.iloc[:, 5:7]"
   ]
  },
  {
   "cell_type": "code",
   "execution_count": 21,
   "id": "003e83b9-0b96-4e0d-a363-0b4d43ad0d33",
   "metadata": {},
   "outputs": [],
   "source": [
    "Y_imdb_oscar_nominee = df_imdb_oscar.iloc[:, 7]"
   ]
  },
  {
   "cell_type": "code",
   "execution_count": 22,
   "id": "38e10b73-d2db-4ad4-86d8-0ec6248ab4b1",
   "metadata": {},
   "outputs": [],
   "source": [
    "Y_imdb_oscar_winner = df_imdb_oscar.iloc[:, 8]"
   ]
  },
  {
   "cell_type": "markdown",
   "id": "0e18174d-2f57-46b0-9cba-6dbe5c49482e",
   "metadata": {},
   "source": [
    "### Escalonamento dos valores"
   ]
  },
  {
   "cell_type": "code",
   "execution_count": 23,
   "id": "bd3f5003-7a58-42fa-ac1d-e70d95626f94",
   "metadata": {},
   "outputs": [],
   "source": [
    "scaler = StandardScaler()\n",
    "X_imdb_oscar = scaler.fit_transform(X_imdb_oscar)"
   ]
  },
  {
   "cell_type": "markdown",
   "id": "3d4af8b8-7c32-47b9-ab43-bdff226afea7",
   "metadata": {},
   "source": [
    "### Tratamento de atributos categóricos"
   ]
  },
  {
   "cell_type": "code",
   "execution_count": 24,
   "id": "2d4f296b-d5ec-4c64-b327-4ac90cd913a0",
   "metadata": {},
   "outputs": [],
   "source": [
    "label_encoder = LabelEncoder()\n",
    "Y_imdb_oscar_nominee = label_encoder.fit_transform(Y_imdb_oscar_nominee)\n",
    "Y_imdb_oscar_winner = label_encoder.fit_transform(Y_imdb_oscar_winner)"
   ]
  },
  {
   "cell_type": "markdown",
   "id": "e772de45-2c7b-4865-97b2-d8e1752aa505",
   "metadata": {},
   "source": [
    "### Tuning dos parâmetros com GridSearch"
   ]
  },
  {
   "cell_type": "code",
   "execution_count": 25,
   "id": "4d5a7040-c7c2-4c64-9f75-b0edda25079a",
   "metadata": {},
   "outputs": [
    {
     "name": "stdout",
     "output_type": "stream",
     "text": [
      "{'strategy': 'most_frequent'}\n",
      "0.9912902376390503\n"
     ]
    }
   ],
   "source": [
    "parametros = {'strategy': ['most_frequent', 'prior', 'stratified', 'uniform', 'constant']}\n",
    "grid_search = GridSearchCV(estimator=DummyClassifier(), param_grid=parametros)\n",
    "grid_search.fit(X_imdb_oscar, Y_imdb_oscar_nominee)\n",
    "melhores_parametros = grid_search.best_params_\n",
    "melhor_resultado = grid_search.best_score_\n",
    "print(melhores_parametros)\n",
    "print(melhor_resultado)"
   ]
  },
  {
   "cell_type": "markdown",
   "id": "b566dd66-edf5-4fca-9235-05e00f2f12f9",
   "metadata": {},
   "source": [
    "### Dummy Classifier Nominee"
   ]
  },
  {
   "cell_type": "markdown",
   "id": "f4464acf-3f76-4704-9ef9-1f1b876aa69a",
   "metadata": {},
   "source": [
    "#### Divisão Treinamento e Teste"
   ]
  },
  {
   "cell_type": "code",
   "execution_count": 26,
   "id": "ff42eea3-c0d9-49ca-b153-d81bf95b1de0",
   "metadata": {},
   "outputs": [],
   "source": [
    "X_imdb_oscar_treinamento, X_imdb_oscar_teste, Y_imdb_oscar_nominee_treinamento, Y_imdb_oscar_nominee_teste = train_test_split(X_imdb_oscar, Y_imdb_oscar_nominee,test_size = 0.25)"
   ]
  },
  {
   "cell_type": "markdown",
   "id": "bafc7d35-c7db-4e16-b0e1-ac9f1cd6b623",
   "metadata": {},
   "source": [
    "#### Previsões "
   ]
  },
  {
   "cell_type": "code",
   "execution_count": 27,
   "id": "f88e124d-36b0-4317-882e-426b8a731e99",
   "metadata": {},
   "outputs": [],
   "source": [
    "dc_imdb_oscar_nominee = DummyClassifier(strategy='most_frequent')\n",
    "dc_imdb_oscar_nominee.fit(X_imdb_oscar_treinamento,Y_imdb_oscar_nominee_treinamento);\n",
    "previsoes_nominee = dc_imdb_oscar_nominee.predict(X_imdb_oscar_teste)"
   ]
  },
  {
   "cell_type": "markdown",
   "id": "434ae47f-9e87-49ab-b6f3-0006f57e5d9a",
   "metadata": {},
   "source": [
    "#### Acurácia"
   ]
  },
  {
   "cell_type": "code",
   "execution_count": 28,
   "id": "a605e17d-fb26-4427-b30a-6fa501b5dd70",
   "metadata": {},
   "outputs": [
    {
     "data": {
      "text/plain": [
       "0.9913758180819747"
      ]
     },
     "execution_count": 28,
     "metadata": {},
     "output_type": "execute_result"
    }
   ],
   "source": [
    "accuracy_score(Y_imdb_oscar_nominee_teste, previsoes_nominee)"
   ]
  },
  {
   "cell_type": "markdown",
   "id": "3849ba9b-9f3a-4ac9-9eb6-41069b160116",
   "metadata": {},
   "source": [
    "#### Matriz de Confusão "
   ]
  },
  {
   "cell_type": "code",
   "execution_count": 29,
   "id": "e9675e71-d88c-4fca-a1a8-ae9b2587b9d7",
   "metadata": {},
   "outputs": [
    {
     "data": {
      "text/plain": [
       "array([[110125,      0],\n",
       "       [   958,      0]])"
      ]
     },
     "execution_count": 29,
     "metadata": {},
     "output_type": "execute_result"
    }
   ],
   "source": [
    "confusion_matrix(Y_imdb_oscar_nominee_teste, previsoes_nominee)"
   ]
  },
  {
   "cell_type": "code",
   "execution_count": 30,
   "id": "f406793b-da15-43c3-b21d-b41d0366bead",
   "metadata": {},
   "outputs": [
    {
     "data": {
      "image/png": "[encoded data removed]",
      "text/plain": [
       "<Figure size 576x396 with 1 Axes>"
      ]
     },
     "metadata": {},
     "output_type": "display_data"
    },
    {
     "data": {
      "text/plain": [
       "<AxesSubplot:title={'center':'DummyClassifier Confusion Matrix'}, xlabel='Predicted Class', ylabel='True Class'>"
      ]
     },
     "execution_count": 30,
     "metadata": {},
     "output_type": "execute_result"
    }
   ],
   "source": [
    "cm_nominee = ConfusionMatrix(dc_imdb_oscar_nominee)\n",
    "cm_nominee.fit(X_imdb_oscar_treinamento,Y_imdb_oscar_nominee_treinamento)\n",
    "cm_nominee.score(X_imdb_oscar_teste, Y_imdb_oscar_nominee_teste)\n",
    "cm_nominee.show()"
   ]
  },
  {
   "cell_type": "markdown",
   "id": "7a5f325a-02c0-41eb-84c2-183e9a1c80a4",
   "metadata": {},
   "source": [
    "#### Classification Report"
   ]
  },
  {
   "cell_type": "code",
   "execution_count": 31,
   "id": "a2661a8b-e4b6-4c0a-b54c-4b993c69eabc",
   "metadata": {},
   "outputs": [
    {
     "name": "stdout",
     "output_type": "stream",
     "text": [
      "              precision    recall  f1-score   support\n",
      "\n",
      "           0       0.99      1.00      1.00    110125\n",
      "           1       0.00      0.00      0.00       958\n",
      "\n",
      "    accuracy                           0.99    111083\n",
      "   macro avg       0.50      0.50      0.50    111083\n",
      "weighted avg       0.98      0.99      0.99    111083\n",
      "\n"
     ]
    }
   ],
   "source": [
    "print(classification_report(Y_imdb_oscar_nominee_teste, previsoes_nominee))"
   ]
  },
  {
   "cell_type": "markdown",
   "id": "a6de3351-b076-43d4-aba2-fa568d46cb22",
   "metadata": {},
   "source": [
    "### Dummy Classifier Winner"
   ]
  },
  {
   "cell_type": "markdown",
   "id": "36b27b75-50c7-4a59-9b98-660f416699d9",
   "metadata": {},
   "source": [
    "### Tuning dos parâmetros com GridSearch"
   ]
  },
  {
   "cell_type": "code",
   "execution_count": 32,
   "id": "2a59b947-4a49-48bb-8252-b9d60fad4627",
   "metadata": {},
   "outputs": [
    {
     "name": "stdout",
     "output_type": "stream",
     "text": [
      "{'strategy': 'most_frequent'}\n",
      "0.9912902376390503\n"
     ]
    }
   ],
   "source": [
    "parametros = {'strategy': ['most_frequent', 'prior', 'stratified', 'uniform', 'constant']}\n",
    "grid_search = GridSearchCV(estimator=DummyClassifier(), param_grid=parametros)\n",
    "grid_search.fit(X_imdb_oscar, Y_imdb_oscar_nominee)\n",
    "melhores_parametros = grid_search.best_params_\n",
    "melhor_resultado = grid_search.best_score_\n",
    "print(melhores_parametros)\n",
    "print(melhor_resultado)"
   ]
  },
  {
   "cell_type": "markdown",
   "id": "d046ce47-3795-4785-9e52-23e2f5cfb3ab",
   "metadata": {},
   "source": [
    "#### Divisão Treinamento e Teste"
   ]
  },
  {
   "cell_type": "code",
   "execution_count": 33,
   "id": "1d22728c-0019-4aca-b551-4d52bb3abb3f",
   "metadata": {},
   "outputs": [],
   "source": [
    "X_imdb_oscar_treinamento, X_imdb_oscar_teste, Y_imdb_oscar_winner_treinamento, Y_imdb_oscar_winner_teste = train_test_split(X_imdb_oscar, Y_imdb_oscar_winner,test_size = 0.25, random_state = 0)"
   ]
  },
  {
   "cell_type": "markdown",
   "id": "df441485-0c2f-4ecc-a88d-ccd75189c18d",
   "metadata": {},
   "source": [
    "#### Previsões "
   ]
  },
  {
   "cell_type": "code",
   "execution_count": 34,
   "id": "2ed7dedb-1ce2-484a-a8e0-665bcebbd631",
   "metadata": {},
   "outputs": [],
   "source": [
    "dc_imdb_oscar_winner = DummyClassifier(strategy='most_frequent')\n",
    "dc_imdb_oscar_winner.fit(X_imdb_oscar_treinamento,Y_imdb_oscar_winner_treinamento);\n",
    "previsoes_winner = dc_imdb_oscar_winner.predict(X_imdb_oscar_teste)"
   ]
  },
  {
   "cell_type": "markdown",
   "id": "becc6eda-28e1-40f1-8229-0ebd7d342193",
   "metadata": {},
   "source": [
    "#### Acurácia"
   ]
  },
  {
   "cell_type": "code",
   "execution_count": 36,
   "id": "04bcad2c-9bbc-4ef5-b034-01a18cb60d64",
   "metadata": {},
   "outputs": [
    {
     "data": {
      "text/plain": [
       "0.9974253486131991"
      ]
     },
     "execution_count": 36,
     "metadata": {},
     "output_type": "execute_result"
    }
   ],
   "source": [
    "accuracy_score(Y_imdb_oscar_winner_teste, previsoes_winner)"
   ]
  },
  {
   "cell_type": "markdown",
   "id": "0e62e7f2-522a-4d13-b0db-41557e304934",
   "metadata": {},
   "source": [
    "#### Matriz de Confusão "
   ]
  },
  {
   "cell_type": "code",
   "execution_count": 37,
   "id": "b20a8d93-96de-4005-933e-0af4ad29a251",
   "metadata": {},
   "outputs": [
    {
     "data": {
      "text/plain": [
       "array([[110797,      0],\n",
       "       [   286,      0]])"
      ]
     },
     "execution_count": 37,
     "metadata": {},
     "output_type": "execute_result"
    }
   ],
   "source": [
    "confusion_matrix(Y_imdb_oscar_winner_teste, previsoes_winner)"
   ]
  },
  {
   "cell_type": "code",
   "execution_count": 38,
   "id": "fed0c7c0-564f-4a9e-89e3-cda896c1da1f",
   "metadata": {},
   "outputs": [
    {
     "data": {
      "image/png": "[encoded data removed]",
      "text/plain": [
       "<Figure size 576x396 with 1 Axes>"
      ]
     },
     "metadata": {},
     "output_type": "display_data"
    },
    {
     "data": {
      "text/plain": [
       "<AxesSubplot:title={'center':'DummyClassifier Confusion Matrix'}, xlabel='Predicted Class', ylabel='True Class'>"
      ]
     },
     "execution_count": 38,
     "metadata": {},
     "output_type": "execute_result"
    }
   ],
   "source": [
    "cm_winner = ConfusionMatrix(dc_imdb_oscar_winner)\n",
    "cm_winner.fit(X_imdb_oscar_treinamento,Y_imdb_oscar_winner_treinamento)\n",
    "cm_winner.score(X_imdb_oscar_teste, Y_imdb_oscar_winner_teste)\n",
    "cm_winner.show()"
   ]
  },
  {
   "cell_type": "markdown",
   "id": "67cc665c-e8db-4ae0-be3e-ac3327465ce7",
   "metadata": {},
   "source": [
    "#### Claissification Report"
   ]
  },
  {
   "cell_type": "code",
   "execution_count": 39,
   "id": "82254407-515a-4757-b653-3ade98fef8b6",
   "metadata": {},
   "outputs": [
    {
     "name": "stdout",
     "output_type": "stream",
     "text": [
      "              precision    recall  f1-score   support\n",
      "\n",
      "           0       1.00      1.00      1.00    110797\n",
      "           1       0.00      0.00      0.00       286\n",
      "\n",
      "    accuracy                           1.00    111083\n",
      "   macro avg       0.50      0.50      0.50    111083\n",
      "weighted avg       0.99      1.00      1.00    111083\n",
      "\n"
     ]
    }
   ],
   "source": [
    "print(classification_report(Y_imdb_oscar_winner_teste, previsoes_winner))"
   ]
  },
  {
   "cell_type": "code",
   "execution_count": null,
   "id": "2a39acbd-a03a-443c-95c2-9f9ddcb95e98",
   "metadata": {},
   "outputs": [],
   "source": []
  }
 ],
 "metadata": {
  "kernelspec": {
   "display_name": "Python 3 (ipykernel)",
   "language": "python",
   "name": "python3"
  },
  "language_info": {
   "codemirror_mode": {
    "name": "ipython",
    "version": 3
   },
   "file_extension": ".py",
   "mimetype": "text/x-python",
   "name": "python",
   "nbconvert_exporter": "python",
   "pygments_lexer": "ipython3",
   "version": "3.9.12"
  }
 },
 "nbformat": 4,
 "nbformat_minor": 5
}
