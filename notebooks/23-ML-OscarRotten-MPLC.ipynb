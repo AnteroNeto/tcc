{
 "cells": [
  {
   "cell_type": "markdown",
   "id": "087d36bd-15d6-48e4-9423-b83b88585eee",
   "metadata": {},
   "source": [
    "# Machine learning - Multi-layer Perceptron Classifier - Oscar Rotten Tomatoes"
   ]
  },
  {
   "cell_type": "code",
   "execution_count": 16,
   "id": "648cc1c9-4df7-4990-83b2-4ff58ebb957c",
   "metadata": {},
   "outputs": [],
   "source": [
    "import os\n",
    "import pandas as pd\n",
    "import pickle\n",
    "\n",
    "from sklearn.preprocessing import StandardScaler\n",
    "from sklearn.preprocessing import LabelEncoder\n",
    "from sklearn.model_selection import train_test_split\n",
    "from sklearn.model_selection import GridSearchCV\n",
    "from sklearn.neural_network import MLPClassifier\n",
    "from sklearn.metrics import accuracy_score, confusion_matrix, classification_report\n",
    "from yellowbrick.classifier import ConfusionMatrix"
   ]
  },
  {
   "cell_type": "code",
   "execution_count": 17,
   "id": "d43de3db-6d4e-43bf-af6d-ae315bb366c1",
   "metadata": {},
   "outputs": [
    {
     "data": {
      "text/plain": [
       "'/home/antero/Documentos/tcc/tratados'"
      ]
     },
     "execution_count": 17,
     "metadata": {},
     "output_type": "execute_result"
    }
   ],
   "source": [
    "os.chdir(\"../tratados\")\n",
    "os.getcwd()"
   ]
  },
  {
   "cell_type": "markdown",
   "id": "d33a4782-2db2-40e3-8799-3d13bc81f13f",
   "metadata": {},
   "source": [
    "## Importando o Dataframe"
   ]
  },
  {
   "cell_type": "code",
   "execution_count": 18,
   "id": "d2e8770e-7389-438a-9ce7-e2dc10ff57c0",
   "metadata": {},
   "outputs": [],
   "source": [
    "with open('oscar_rotten.pkl', 'rb') as f:\n",
    "    df_rotten_tomatoes_oscars=pickle.load(f)"
   ]
  },
  {
   "cell_type": "code",
   "execution_count": 19,
   "id": "84c8e281-3c88-43d2-9819-1961324457ca",
   "metadata": {},
   "outputs": [
    {
     "name": "stdout",
     "output_type": "stream",
     "text": [
      "<class 'pandas.core.frame.DataFrame'>\n",
      "Int64Index: 16370 entries, 0 to 16369\n",
      "Data columns (total 18 columns):\n",
      " #   Column                            Non-Null Count  Dtype  \n",
      "---  ------                            --------------  -----  \n",
      " 0   movie_title                       16370 non-null  object \n",
      " 1   content_rating                    16370 non-null  object \n",
      " 2   genres                            16363 non-null  object \n",
      " 3   directors                         16219 non-null  object \n",
      " 4   original_release_date             16370 non-null  object \n",
      " 5   production_company                16061 non-null  object \n",
      " 6   tomatometer_status                16370 non-null  object \n",
      " 7   tomatometer_rating                16370 non-null  float64\n",
      " 8   tomatometer_count                 16370 non-null  float64\n",
      " 9   audience_status                   16219 non-null  object \n",
      " 10  audience_rating                   16370 non-null  float64\n",
      " 11  audience_count                    16370 non-null  float64\n",
      " 12  tomatometer_top_critics_count     16370 non-null  int64  \n",
      " 13  tomatometer_fresh_critics_count   16370 non-null  int64  \n",
      " 14  tomatometer_rotten_critics_count  16370 non-null  int64  \n",
      " 15  year                              16370 non-null  int64  \n",
      " 16  nominee                           16370 non-null  object \n",
      " 17  winner                            16370 non-null  object \n",
      "dtypes: float64(4), int64(4), object(10)\n",
      "memory usage: 2.4+ MB\n"
     ]
    }
   ],
   "source": [
    "df_rotten_tomatoes_oscars.info()"
   ]
  },
  {
   "cell_type": "markdown",
   "id": "82a83e77-aa51-4f29-bd18-a52347b62f8a",
   "metadata": {},
   "source": [
    "### Divisão entre previsores e classe"
   ]
  },
  {
   "cell_type": "code",
   "execution_count": 20,
   "id": "cd9031a1-fd87-4d21-9ae0-d410ff012363",
   "metadata": {},
   "outputs": [],
   "source": [
    "X_rotten_oscars = df_rotten_tomatoes_oscars.iloc[:, [7,8,10,11,12,13,14]]"
   ]
  },
  {
   "cell_type": "code",
   "execution_count": 21,
   "id": "24bb4e13-9337-4261-b22d-20ef63a6d6cf",
   "metadata": {},
   "outputs": [],
   "source": [
    "Y_rotten_tomatoes_nominee = df_rotten_tomatoes_oscars.iloc[:, 16]"
   ]
  },
  {
   "cell_type": "code",
   "execution_count": 22,
   "id": "8d698a2d-6f80-4a28-b9c8-82695a838ab1",
   "metadata": {},
   "outputs": [],
   "source": [
    "Y_rotten_tomatoes_winner = df_rotten_tomatoes_oscars.iloc[:, 17]"
   ]
  },
  {
   "cell_type": "markdown",
   "id": "eebc6af8-968d-4367-b9b1-19f38258de03",
   "metadata": {},
   "source": [
    "### Escalonamento dos valores"
   ]
  },
  {
   "cell_type": "code",
   "execution_count": 23,
   "id": "c35b2b58-679b-4fe9-bef5-831c6b99755d",
   "metadata": {},
   "outputs": [],
   "source": [
    "label_encoder = LabelEncoder()\n",
    "scaler = StandardScaler()"
   ]
  },
  {
   "cell_type": "markdown",
   "id": "365f9b8f-219e-4f71-a788-16e7b511285f",
   "metadata": {},
   "source": [
    "### Tratamento de atributos categóricos"
   ]
  },
  {
   "cell_type": "code",
   "execution_count": 24,
   "id": "ffdccef6-4e9a-4c32-860e-e04680709f84",
   "metadata": {},
   "outputs": [],
   "source": [
    "X_rotten_oscars = scaler.fit_transform(X_rotten_oscars)\n",
    "Y_rotten_tomatoes_nominee = label_encoder.fit_transform(Y_rotten_tomatoes_nominee)\n",
    "Y_rotten_tomatoes_winner = label_encoder.fit_transform(Y_rotten_tomatoes_winner)"
   ]
  },
  {
   "cell_type": "markdown",
   "id": "71db7549-28c2-4480-aff5-0719e7805565",
   "metadata": {},
   "source": [
    "### Multi-layer Perceptron Classifier Nominee"
   ]
  },
  {
   "cell_type": "markdown",
   "id": "bc7a5d66-ff81-4a33-a6f8-63a01b056815",
   "metadata": {},
   "source": [
    "### Tuning dos parâmetros com GridSearch"
   ]
  },
  {
   "cell_type": "code",
   "execution_count": 20,
   "id": "3c03c23a-7b3b-47b8-8384-4b5686912259",
   "metadata": {},
   "outputs": [
    {
     "name": "stdout",
     "output_type": "stream",
     "text": [
      "{'hidden_layer_sizes': (10, 4), 'learning_rate': 'adaptive', 'max_iter': 1000, 'solver': 'lbfgs'}\n",
      "0.8739767868051315\n"
     ]
    }
   ],
   "source": [
    "parametros = {'solver': ['lbfgs', 'sgd', 'adam'],\n",
    "              'learning_rate': ['constant', 'invscaling', 'adaptive'],\n",
    "              'max_iter': [1000, 1500, 2000],\n",
    "              'hidden_layer_sizes': [(5,2), (10, 4)]}\n",
    "grid_search = GridSearchCV(estimator=MLPClassifier(), param_grid=parametros)\n",
    "grid_search.fit(X_rotten_oscars, Y_rotten_tomatoes_nominee)\n",
    "melhores_parametros = grid_search.best_params_\n",
    "melhor_resultado = grid_search.best_score_\n",
    "print(melhores_parametros)\n",
    "print(melhor_resultado)"
   ]
  },
  {
   "cell_type": "markdown",
   "id": "57de0561-f62c-42ab-b0ed-5ad1011cf728",
   "metadata": {},
   "source": [
    "#### Divisão Treinamento e Teste"
   ]
  },
  {
   "cell_type": "code",
   "execution_count": 10,
   "id": "80e2818e-1b65-422f-8b15-7f53d61a05ea",
   "metadata": {},
   "outputs": [],
   "source": [
    "X_rotten_oscars_treinamento, X_rotten_oscars_teste, Y_rotten_oscars_nominee_treinamento, Y_rotten_oscars_nominee_teste = train_test_split(X_rotten_oscars, Y_rotten_tomatoes_nominee,test_size = 0.25, random_state = 0)"
   ]
  },
  {
   "cell_type": "markdown",
   "id": "ffdded9a-c3a9-4278-a477-73459e64afaf",
   "metadata": {},
   "source": [
    "#### Previsões"
   ]
  },
  {
   "cell_type": "code",
   "execution_count": 11,
   "id": "66a4de62-f9d3-40ef-8542-6d3f48213564",
   "metadata": {},
   "outputs": [],
   "source": [
    "MLPC_nominee = MLPClassifier(hidden_layer_sizes=(10, 4), learning_rate='adaptive', max_iter=1000, solver='lbfgs')\n",
    "MLPC_nominee.fit(X_rotten_oscars_treinamento,Y_rotten_oscars_nominee_treinamento);\n",
    "previsoes_rotten_nominee = MLPC_nominee.predict(X_rotten_oscars_teste)"
   ]
  },
  {
   "cell_type": "markdown",
   "id": "ee53f04b-8901-4031-af1e-93fd93db748e",
   "metadata": {},
   "source": [
    "#### Acurácia"
   ]
  },
  {
   "cell_type": "code",
   "execution_count": 12,
   "id": "076e180d-6168-4543-87f9-c36ae6622296",
   "metadata": {},
   "outputs": [
    {
     "data": {
      "text/plain": [
       "0.8697776691913022"
      ]
     },
     "execution_count": 12,
     "metadata": {},
     "output_type": "execute_result"
    }
   ],
   "source": [
    "accuracy_score(Y_rotten_oscars_nominee_teste, previsoes_rotten_nominee)"
   ]
  },
  {
   "cell_type": "markdown",
   "id": "96c2201e-8159-4de1-a932-ab6bbd9171b7",
   "metadata": {},
   "source": [
    "#### Matriz de Confusão "
   ]
  },
  {
   "cell_type": "code",
   "execution_count": 13,
   "id": "48c7b25d-2f84-4ba1-a4e9-58baf585c5fc",
   "metadata": {},
   "outputs": [
    {
     "data": {
      "text/plain": [
       "array([[3440,   79],\n",
       "       [ 454,  120]])"
      ]
     },
     "execution_count": 13,
     "metadata": {},
     "output_type": "execute_result"
    }
   ],
   "source": [
    "confusion_matrix(Y_rotten_oscars_nominee_teste, previsoes_rotten_nominee)"
   ]
  },
  {
   "cell_type": "code",
   "execution_count": 14,
   "id": "93887573-cd68-4db4-8e16-94d30d159472",
   "metadata": {},
   "outputs": [
    {
     "data": {
      "image/png": "[encoded data removed]",
      "text/plain": [
       "<Figure size 576x396 with 1 Axes>"
      ]
     },
     "metadata": {},
     "output_type": "display_data"
    },
    {
     "data": {
      "text/plain": [
       "<AxesSubplot:title={'center':'MLPClassifier Confusion Matrix'}, xlabel='Predicted Class', ylabel='True Class'>"
      ]
     },
     "execution_count": 14,
     "metadata": {},
     "output_type": "execute_result"
    }
   ],
   "source": [
    "cm_nominee = ConfusionMatrix(MLPC_nominee)\n",
    "cm_nominee.fit(X_rotten_oscars_treinamento, Y_rotten_oscars_nominee_treinamento)\n",
    "cm_nominee.score(X_rotten_oscars_teste, Y_rotten_oscars_nominee_teste)\n",
    "cm_nominee.show()"
   ]
  },
  {
   "cell_type": "markdown",
   "id": "e5f7006e-37b5-443f-87cd-1b84f4ec3472",
   "metadata": {},
   "source": [
    "#### Claissification Report"
   ]
  },
  {
   "cell_type": "code",
   "execution_count": 15,
   "id": "f67519cf-7080-4192-93ff-996174ad172b",
   "metadata": {},
   "outputs": [
    {
     "name": "stdout",
     "output_type": "stream",
     "text": [
      "              precision    recall  f1-score   support\n",
      "\n",
      "           0       0.88      0.98      0.93      3519\n",
      "           1       0.60      0.21      0.31       574\n",
      "\n",
      "    accuracy                           0.87      4093\n",
      "   macro avg       0.74      0.59      0.62      4093\n",
      "weighted avg       0.84      0.87      0.84      4093\n",
      "\n"
     ]
    }
   ],
   "source": [
    "print(classification_report(Y_rotten_oscars_nominee_teste, previsoes_rotten_nominee))"
   ]
  },
  {
   "cell_type": "markdown",
   "id": "5eecbe2b-ba15-4d2e-a087-891c6e215fdb",
   "metadata": {},
   "source": [
    "### Multi-layer Perceptron Classifier Winner"
   ]
  },
  {
   "cell_type": "markdown",
   "id": "becbd7d4-4b17-4891-a39b-9217e7b91d24",
   "metadata": {},
   "source": [
    "### Tuning dos parâmetros com GridSearch"
   ]
  },
  {
   "cell_type": "code",
   "execution_count": 11,
   "id": "68b4e6a9-4fd4-4b23-8ce4-62aa507fcf1b",
   "metadata": {},
   "outputs": [
    {
     "name": "stdout",
     "output_type": "stream",
     "text": [
      "{'hidden_layer_sizes': (5, 2), 'learning_rate': 'invscaling', 'max_iter': 2000, 'solver': 'adam'}\n",
      "0.9501527183872938\n"
     ]
    }
   ],
   "source": [
    "parametros = {'solver': ['lbfgs', 'sgd', 'adam'],\n",
    "              'learning_rate': ['constant', 'invscaling', 'adaptive'],\n",
    "              'max_iter': [1000, 1500, 2000],\n",
    "              'hidden_layer_sizes': [(5,2), (10, 4)]}\n",
    "grid_search = GridSearchCV(estimator=MLPClassifier(), param_grid=parametros)\n",
    "grid_search.fit(X_rotten_oscars, Y_rotten_tomatoes_winner)\n",
    "melhores_parametros = grid_search.best_params_\n",
    "melhor_resultado = grid_search.best_score_\n",
    "print(melhores_parametros)\n",
    "print(melhor_resultado)"
   ]
  },
  {
   "cell_type": "markdown",
   "id": "643fa9ec-ff4c-4c44-a65d-f09d34d10bd4",
   "metadata": {},
   "source": [
    "#### Divisão Treinamento e Teste"
   ]
  },
  {
   "cell_type": "code",
   "execution_count": 25,
   "id": "ccf9d8e7-6268-4750-8995-7f73cf6867c0",
   "metadata": {},
   "outputs": [],
   "source": [
    "X_rotten_oscars_treinamento, X_rotten_oscars_teste, Y_rotten_oscars_winner_treinamento, Y_rotten_oscars_winner_teste = train_test_split(X_rotten_oscars, Y_rotten_tomatoes_winner,test_size = 0.25, random_state = 0)"
   ]
  },
  {
   "cell_type": "markdown",
   "id": "0d815d69-d675-4598-90f9-96cfce3d61e2",
   "metadata": {},
   "source": [
    "#### Previsões"
   ]
  },
  {
   "cell_type": "code",
   "execution_count": 26,
   "id": "0b456009-ab3a-4c68-95b6-61e65cd63348",
   "metadata": {},
   "outputs": [],
   "source": [
    "MLPC_winner = MLPClassifier(hidden_layer_sizes=(5, 2), learning_rate='invscaling', max_iter=2000, solver='adam')\n",
    "MLPC_winner.fit(X_rotten_oscars_treinamento,Y_rotten_oscars_winner_treinamento);\n",
    "previsoes_rotten_winner = MLPC_winner.predict(X_rotten_oscars_teste)"
   ]
  },
  {
   "cell_type": "markdown",
   "id": "ce49fb4c-038a-438c-925d-364ffec7a9a5",
   "metadata": {},
   "source": [
    "#### Acurácia"
   ]
  },
  {
   "cell_type": "code",
   "execution_count": 27,
   "id": "3baaeda4-0e58-4a50-836d-9b303d5b3f0b",
   "metadata": {},
   "outputs": [
    {
     "data": {
      "text/plain": [
       "0.9477156120205228"
      ]
     },
     "execution_count": 27,
     "metadata": {},
     "output_type": "execute_result"
    }
   ],
   "source": [
    "accuracy_score(Y_rotten_oscars_winner_teste, previsoes_rotten_winner)"
   ]
  },
  {
   "cell_type": "markdown",
   "id": "0f0e8844-04c7-454d-9149-94abffb18465",
   "metadata": {},
   "source": [
    "#### Matriz de Confusão "
   ]
  },
  {
   "cell_type": "code",
   "execution_count": 28,
   "id": "2b78c765-9279-4584-a237-40bb1f814d4e",
   "metadata": {},
   "outputs": [
    {
     "data": {
      "text/plain": [
       "array([[3878,    1],\n",
       "       [ 213,    1]])"
      ]
     },
     "execution_count": 28,
     "metadata": {},
     "output_type": "execute_result"
    }
   ],
   "source": [
    "confusion_matrix(Y_rotten_oscars_winner_teste, previsoes_rotten_winner)"
   ]
  },
  {
   "cell_type": "code",
   "execution_count": 29,
   "id": "775e1b34-a4cd-444f-9598-4443c0f96339",
   "metadata": {},
   "outputs": [
    {
     "data": {
      "image/png": "[encoded data removed]",
      "text/plain": [
       "<Figure size 576x396 with 1 Axes>"
      ]
     },
     "metadata": {},
     "output_type": "display_data"
    },
    {
     "data": {
      "text/plain": [
       "<AxesSubplot:title={'center':'MLPClassifier Confusion Matrix'}, xlabel='Predicted Class', ylabel='True Class'>"
      ]
     },
     "execution_count": 29,
     "metadata": {},
     "output_type": "execute_result"
    }
   ],
   "source": [
    "cm_winner = ConfusionMatrix(MLPC_winner)\n",
    "cm_winner.fit(X_rotten_oscars_treinamento, Y_rotten_oscars_winner_treinamento)\n",
    "cm_winner.score(X_rotten_oscars_teste, Y_rotten_oscars_winner_teste)\n",
    "cm_winner.show()"
   ]
  },
  {
   "cell_type": "markdown",
   "id": "6e27e451-9c5a-4101-83f2-87cc1f9d015a",
   "metadata": {},
   "source": [
    "#### Claissification Report"
   ]
  },
  {
   "cell_type": "code",
   "execution_count": 30,
   "id": "18513722-f46b-4bb8-b79e-77d693f3e25b",
   "metadata": {},
   "outputs": [
    {
     "name": "stdout",
     "output_type": "stream",
     "text": [
      "              precision    recall  f1-score   support\n",
      "\n",
      "           0       0.95      1.00      0.97      3879\n",
      "           1       0.50      0.00      0.01       214\n",
      "\n",
      "    accuracy                           0.95      4093\n",
      "   macro avg       0.72      0.50      0.49      4093\n",
      "weighted avg       0.92      0.95      0.92      4093\n",
      "\n"
     ]
    }
   ],
   "source": [
    "print(classification_report(Y_rotten_oscars_winner_teste, previsoes_rotten_winner))"
   ]
  },
  {
   "cell_type": "code",
   "execution_count": null,
   "id": "36c06b7f-cbf6-4135-86a0-b9a1e516d8c1",
   "metadata": {},
   "outputs": [],
   "source": []
  }
 ],
 "metadata": {
  "kernelspec": {
   "display_name": "Python 3 (ipykernel)",
   "language": "python",
   "name": "python3"
  },
  "language_info": {
   "codemirror_mode": {
    "name": "ipython",
    "version": 3
   },
   "file_extension": ".py",
   "mimetype": "text/x-python",
   "name": "python",
   "nbconvert_exporter": "python",
   "pygments_lexer": "ipython3",
   "version": "3.9.12"
  }
 },
 "nbformat": 4,
 "nbformat_minor": 5
}
