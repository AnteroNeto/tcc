{
 "cells": [
  {
   "cell_type": "markdown",
   "id": "1778f2bd-4fb6-4f14-8d1a-c7e7443f6cb2",
   "metadata": {},
   "source": [
    "# Machine learning - Support Vector Classifier - Oscar Rotten"
   ]
  },
  {
   "cell_type": "code",
   "execution_count": 1,
   "id": "684931be-fd91-4765-b41d-89d340fd541a",
   "metadata": {},
   "outputs": [],
   "source": [
    "import os\n",
    "import pandas as pd\n",
    "import pickle\n",
    "\n",
    "\n",
    "from sklearn.preprocessing import StandardScaler\n",
    "from sklearn.preprocessing import LabelEncoder\n",
    "from sklearn.model_selection import GridSearchCV\n",
    "from sklearn.model_selection import train_test_split\n",
    "from sklearn.svm import SVC\n",
    "from sklearn.metrics import accuracy_score, confusion_matrix, classification_report\n",
    "from yellowbrick.classifier import ConfusionMatrix"
   ]
  },
  {
   "cell_type": "code",
   "execution_count": 2,
   "id": "915eddb2-4093-4b42-b004-71f0e35ebcf0",
   "metadata": {},
   "outputs": [
    {
     "data": {
      "text/plain": [
       "'/home/antero/Documentos/tcc/tratados'"
      ]
     },
     "execution_count": 2,
     "metadata": {},
     "output_type": "execute_result"
    }
   ],
   "source": [
    "os.chdir(\"../tratados\")\n",
    "os.getcwd()"
   ]
  },
  {
   "cell_type": "markdown",
   "id": "a7b25275-a90c-4257-a1c0-90bbe2f717e8",
   "metadata": {},
   "source": [
    "## Importando o Dataframe"
   ]
  },
  {
   "cell_type": "code",
   "execution_count": 3,
   "id": "0802bf82-b0c6-4cfb-8b97-ca6de2f6bde0",
   "metadata": {},
   "outputs": [],
   "source": [
    "with open('oscar_rotten.pkl', 'rb') as f:\n",
    "    df_rotten_tomatoes_oscars=pickle.load(f)"
   ]
  },
  {
   "cell_type": "code",
   "execution_count": 4,
   "id": "cedc7783-636d-486f-a9e7-ded313518ff4",
   "metadata": {},
   "outputs": [
    {
     "name": "stdout",
     "output_type": "stream",
     "text": [
      "<class 'pandas.core.frame.DataFrame'>\n",
      "Int64Index: 16370 entries, 0 to 16369\n",
      "Data columns (total 18 columns):\n",
      " #   Column                            Non-Null Count  Dtype  \n",
      "---  ------                            --------------  -----  \n",
      " 0   movie_title                       16370 non-null  object \n",
      " 1   content_rating                    16370 non-null  object \n",
      " 2   genres                            16363 non-null  object \n",
      " 3   directors                         16219 non-null  object \n",
      " 4   original_release_date             16370 non-null  object \n",
      " 5   production_company                16061 non-null  object \n",
      " 6   tomatometer_status                16370 non-null  object \n",
      " 7   tomatometer_rating                16370 non-null  float64\n",
      " 8   tomatometer_count                 16370 non-null  float64\n",
      " 9   audience_status                   16219 non-null  object \n",
      " 10  audience_rating                   16370 non-null  float64\n",
      " 11  audience_count                    16370 non-null  float64\n",
      " 12  tomatometer_top_critics_count     16370 non-null  int64  \n",
      " 13  tomatometer_fresh_critics_count   16370 non-null  int64  \n",
      " 14  tomatometer_rotten_critics_count  16370 non-null  int64  \n",
      " 15  year                              16370 non-null  int64  \n",
      " 16  nominee                           16370 non-null  object \n",
      " 17  winner                            16370 non-null  object \n",
      "dtypes: float64(4), int64(4), object(10)\n",
      "memory usage: 2.4+ MB\n"
     ]
    }
   ],
   "source": [
    "df_rotten_tomatoes_oscars.info()"
   ]
  },
  {
   "cell_type": "markdown",
   "id": "cee886e3-5e2f-4bdc-84bb-2a3145b4080c",
   "metadata": {},
   "source": [
    "### Divisão entre previsores e classe"
   ]
  },
  {
   "cell_type": "code",
   "execution_count": 5,
   "id": "5cb1b698-a957-4f65-8a7e-d76842105e08",
   "metadata": {},
   "outputs": [],
   "source": [
    "X_rotten_oscars = df_rotten_tomatoes_oscars.iloc[:, [7,8,10,11,12,13,14]]"
   ]
  },
  {
   "cell_type": "code",
   "execution_count": 6,
   "id": "eb581011-e348-403a-b489-00dcca02a49e",
   "metadata": {},
   "outputs": [],
   "source": [
    "Y_rotten_tomatoes_winner = df_rotten_tomatoes_oscars.iloc[:, 16]"
   ]
  },
  {
   "cell_type": "code",
   "execution_count": 7,
   "id": "bfb58d30-3ad6-48e4-b49c-1a5079a92128",
   "metadata": {},
   "outputs": [],
   "source": [
    "Y_rotten_tomatoes_nominee = df_rotten_tomatoes_oscars.iloc[:, 17]"
   ]
  },
  {
   "cell_type": "markdown",
   "id": "1ffe3a00-8aea-47bf-b472-6ce4a2922e54",
   "metadata": {},
   "source": [
    "### Escalonamento dos valores"
   ]
  },
  {
   "cell_type": "code",
   "execution_count": 8,
   "id": "2edf9c98-a89a-4b26-b347-c89aa7edfcb7",
   "metadata": {},
   "outputs": [],
   "source": [
    "label_encoder = LabelEncoder()\n",
    "scaler = StandardScaler()"
   ]
  },
  {
   "cell_type": "markdown",
   "id": "a0e830b0-41ff-4725-91f5-c689bcc6cab8",
   "metadata": {},
   "source": [
    "### Tratamento de atributos categóricos"
   ]
  },
  {
   "cell_type": "code",
   "execution_count": 9,
   "id": "d5b49b73-6877-4ae9-8d4d-0d09786e52b6",
   "metadata": {},
   "outputs": [],
   "source": [
    "X_rotten_oscars = scaler.fit_transform(X_rotten_oscars)\n",
    "Y_rotten_tomatoes_nominee = label_encoder.fit_transform(Y_rotten_tomatoes_nominee)\n",
    "Y_rotten_tomatoes_winner = label_encoder.fit_transform(Y_rotten_tomatoes_winner)"
   ]
  },
  {
   "cell_type": "markdown",
   "id": "94f8c2d7-6174-4b87-a013-3644af3f74d0",
   "metadata": {},
   "source": [
    "### SVC Nominee"
   ]
  },
  {
   "cell_type": "markdown",
   "id": "198d1453-52b9-4b7d-a098-107358eb5408",
   "metadata": {},
   "source": [
    "### Tuning dos parâmetros com GridSearch"
   ]
  },
  {
   "cell_type": "code",
   "execution_count": 20,
   "id": "7f0ba61c-4471-4625-b53f-4115c7337bf2",
   "metadata": {},
   "outputs": [
    {
     "name": "stdout",
     "output_type": "stream",
     "text": [
      "{'kernel': 'linear'}\n",
      "0.949725106902871\n"
     ]
    }
   ],
   "source": [
    "parametros = {\"kernel\": ['linear', 'poly', 'rbf']}\n",
    "grid_search = GridSearchCV(estimator=SVC(), param_grid=parametros)\n",
    "grid_search.fit(X_rotten_oscars, Y_rotten_tomatoes_nominee)\n",
    "melhores_parametros = grid_search.best_params_\n",
    "melhor_resultado = grid_search.best_score_\n",
    "print(melhores_parametros)\n",
    "print(melhor_resultado)"
   ]
  },
  {
   "cell_type": "markdown",
   "id": "e1abce2e-c72d-4a3e-8c73-7400744296fe",
   "metadata": {},
   "source": [
    "#### Divisão Treinamento e Teste"
   ]
  },
  {
   "cell_type": "code",
   "execution_count": 10,
   "id": "954cfdef-305f-4034-a154-0c68ba4beb92",
   "metadata": {},
   "outputs": [],
   "source": [
    "X_rotten_oscars_treinamento, X_rotten_oscars_teste, Y_rotten_oscars_nominee_treinamento, Y_rotten_oscars_nominee_teste = train_test_split(X_rotten_oscars, Y_rotten_tomatoes_nominee,test_size = 0.25, random_state = 0)"
   ]
  },
  {
   "cell_type": "markdown",
   "id": "7b46ee60-d8d8-4d06-a422-22a1f7198ba1",
   "metadata": {},
   "source": [
    "#### Previsões"
   ]
  },
  {
   "cell_type": "code",
   "execution_count": 11,
   "id": "8b2a5484-5e55-466d-a266-cfb3bd4b4330",
   "metadata": {},
   "outputs": [],
   "source": [
    "svc_rotten_oscar_nominee = SVC(kernel='linear', random_state=0)\n",
    "svc_rotten_oscar_nominee.fit(X_rotten_oscars_treinamento,Y_rotten_oscars_nominee_treinamento)\n",
    "previsoes_rotten_nominee = svc_rotten_oscar_nominee.predict(X_rotten_oscars_teste)"
   ]
  },
  {
   "cell_type": "markdown",
   "id": "7b0feaf8-0c86-4e6b-8038-5498c07440dd",
   "metadata": {},
   "source": [
    "#### Acurácia"
   ]
  },
  {
   "cell_type": "code",
   "execution_count": 12,
   "id": "115b02e3-7223-4052-a0f7-b06af51df3dc",
   "metadata": {},
   "outputs": [
    {
     "data": {
      "text/plain": [
       "0.9477156120205228"
      ]
     },
     "execution_count": 12,
     "metadata": {},
     "output_type": "execute_result"
    }
   ],
   "source": [
    "accuracy_score(Y_rotten_oscars_nominee_teste, previsoes_rotten_nominee)"
   ]
  },
  {
   "cell_type": "markdown",
   "id": "5c49b422-5d47-4d69-889b-8cfa1b51738b",
   "metadata": {},
   "source": [
    "#### Matriz de Confusão "
   ]
  },
  {
   "cell_type": "code",
   "execution_count": 13,
   "id": "fac7d5cd-76e1-41e6-8608-25852f674924",
   "metadata": {},
   "outputs": [
    {
     "data": {
      "text/plain": [
       "array([[3879,    0],\n",
       "       [ 214,    0]])"
      ]
     },
     "execution_count": 13,
     "metadata": {},
     "output_type": "execute_result"
    }
   ],
   "source": [
    "confusion_matrix(Y_rotten_oscars_nominee_teste, previsoes_rotten_nominee)"
   ]
  },
  {
   "cell_type": "code",
   "execution_count": 17,
   "id": "340b4c1e-8c4f-4f0f-961f-9acb6bf98e44",
   "metadata": {},
   "outputs": [
    {
     "data": {
      "image/png": "[encoded data removed]",
      "text/plain": [
       "<Figure size 576x396 with 1 Axes>"
      ]
     },
     "metadata": {},
     "output_type": "display_data"
    },
    {
     "data": {
      "text/plain": [
       "<AxesSubplot:title={'center':'SVC Confusion Matrix'}, xlabel='Predicted Class', ylabel='True Class'>"
      ]
     },
     "execution_count": 17,
     "metadata": {},
     "output_type": "execute_result"
    }
   ],
   "source": [
    "cm_nominee = ConfusionMatrix(svc_rotten_oscar_nominee)\n",
    "cm_nominee.fit(X_rotten_oscars_treinamento, Y_rotten_oscars_nominee_treinamento)\n",
    "cm_nominee.score(X_rotten_oscars_teste, Y_rotten_oscars_nominee_teste)\n",
    "cm_nominee.show()"
   ]
  },
  {
   "cell_type": "markdown",
   "id": "1cbe6eff-c923-4efe-b3f0-ec848c2f29cb",
   "metadata": {},
   "source": [
    "#### Claissification Report"
   ]
  },
  {
   "cell_type": "code",
   "execution_count": 38,
   "id": "1417d0b8-ccc0-4b4b-b58c-6ed2cdae1e39",
   "metadata": {},
   "outputs": [
    {
     "name": "stdout",
     "output_type": "stream",
     "text": [
      "              precision    recall  f1-score   support\n",
      "\n",
      "           0       0.95      1.00      0.97      3879\n",
      "           1       0.38      0.01      0.03       214\n",
      "\n",
      "    accuracy                           0.95      4093\n",
      "   macro avg       0.66      0.51      0.50      4093\n",
      "weighted avg       0.92      0.95      0.92      4093\n",
      "\n"
     ]
    }
   ],
   "source": [
    "print(classification_report(Y_rotten_oscars_nominee_teste, previsoes_rotten_nominee))"
   ]
  },
  {
   "cell_type": "markdown",
   "id": "2ec4c2b8-772d-4ec3-845a-e346d1e4bb6e",
   "metadata": {},
   "source": [
    "### Regressão logística Winner"
   ]
  },
  {
   "cell_type": "markdown",
   "id": "37325bb2-a864-47aa-a133-41c2e2c321ea",
   "metadata": {},
   "source": [
    "### Tuning dos parâmetros com GridSearch"
   ]
  },
  {
   "cell_type": "code",
   "execution_count": 31,
   "id": "21bcb857-de9a-4269-9f1d-e2e05b8d255d",
   "metadata": {},
   "outputs": [
    {
     "name": "stdout",
     "output_type": "stream",
     "text": [
      "{'kernel': 'poly'}\n",
      "0.8665241295051924\n"
     ]
    }
   ],
   "source": [
    "parametros = {\"kernel\": ['linear', 'poly', 'rbf', 'sigmoid', 'precomputed']}\n",
    "grid_search = GridSearchCV(estimator=SVC(), param_grid=parametros)\n",
    "grid_search.fit(X_rotten_oscars, Y_rotten_tomatoes_winner)\n",
    "melhores_parametros = grid_search.best_params_\n",
    "melhor_resultado = grid_search.best_score_\n",
    "print(melhores_parametros)\n",
    "print(melhor_resultado)"
   ]
  },
  {
   "cell_type": "markdown",
   "id": "18c598fb-7e1e-4fde-b308-30c9877fba26",
   "metadata": {},
   "source": [
    "#### Divisão Treinamento e Teste"
   ]
  },
  {
   "cell_type": "code",
   "execution_count": 13,
   "id": "0d83ba7a-33c7-497c-b6cb-eb6b222cf5c5",
   "metadata": {},
   "outputs": [],
   "source": [
    "X_rotten_oscars_treinamento, X_rotten_oscars_teste, Y_rotten_oscars_winner_treinamento, Y_rotten_oscars_winner_teste = train_test_split(X_rotten_oscars, Y_rotten_tomatoes_winner,test_size = 0.25, random_state = 0)"
   ]
  },
  {
   "cell_type": "markdown",
   "id": "865dcaad-c873-45b9-aa07-21adf0b4cbca",
   "metadata": {},
   "source": [
    "#### Previsões "
   ]
  },
  {
   "cell_type": "code",
   "execution_count": 14,
   "id": "e654285e-a263-46b4-8467-fe835e05adc3",
   "metadata": {},
   "outputs": [],
   "source": [
    "svc_rotten_oscar_winner = SVC(kernel = 'poly')\n",
    "svc_rotten_oscar_winner.fit(X_rotten_oscars_treinamento,Y_rotten_oscars_winner_treinamento);\n",
    "previsoes_rotten_winner = svc_rotten_oscar_winner.predict(X_rotten_oscars_teste)"
   ]
  },
  {
   "cell_type": "markdown",
   "id": "b96386e2-e659-4418-9997-aa018964dbec",
   "metadata": {},
   "source": [
    "#### Acurácia"
   ]
  },
  {
   "cell_type": "code",
   "execution_count": 15,
   "id": "7307cb22-0753-465f-8321-a501440c76fb",
   "metadata": {},
   "outputs": [
    {
     "data": {
      "text/plain": [
       "0.8626924016613731"
      ]
     },
     "execution_count": 15,
     "metadata": {},
     "output_type": "execute_result"
    }
   ],
   "source": [
    "accuracy_score(Y_rotten_oscars_winner_teste, previsoes_rotten_winner)"
   ]
  },
  {
   "cell_type": "markdown",
   "id": "38d3aa3d-19d6-4f94-ad3f-3b7dd7693c02",
   "metadata": {},
   "source": [
    "#### Matriz de Confusão"
   ]
  },
  {
   "cell_type": "code",
   "execution_count": 16,
   "id": "55cc7cc3-03b6-426b-bec0-70eb0f97362e",
   "metadata": {},
   "outputs": [
    {
     "data": {
      "text/plain": [
       "array([[3498,   21],\n",
       "       [ 541,   33]])"
      ]
     },
     "execution_count": 16,
     "metadata": {},
     "output_type": "execute_result"
    }
   ],
   "source": [
    "confusion_matrix(Y_rotten_oscars_winner_teste, previsoes_rotten_winner)"
   ]
  },
  {
   "cell_type": "code",
   "execution_count": 17,
   "id": "f1857fc8-37f1-49f3-b1ec-a8d9add05c70",
   "metadata": {},
   "outputs": [
    {
     "data": {
      "image/png": "[encoded data removed]",
      "text/plain": [
       "<Figure size 576x396 with 1 Axes>"
      ]
     },
     "metadata": {},
     "output_type": "display_data"
    },
    {
     "data": {
      "text/plain": [
       "<AxesSubplot:title={'center':'SVC Confusion Matrix'}, xlabel='Predicted Class', ylabel='True Class'>"
      ]
     },
     "execution_count": 17,
     "metadata": {},
     "output_type": "execute_result"
    }
   ],
   "source": [
    "cm_winner = ConfusionMatrix(svc_rotten_oscar_winner)\n",
    "cm_winner.fit(X_rotten_oscars_treinamento, Y_rotten_oscars_winner_treinamento)\n",
    "cm_winner.score(X_rotten_oscars_teste, Y_rotten_oscars_winner_teste)\n",
    "cm_winner.show()"
   ]
  },
  {
   "cell_type": "markdown",
   "id": "05e1fb7c-d06f-43d8-8c2e-89f1bb932a00",
   "metadata": {},
   "source": [
    "#### Claissification Report"
   ]
  },
  {
   "cell_type": "code",
   "execution_count": 18,
   "id": "9441dcc3-42f0-40a1-890f-4b7eb908fdb7",
   "metadata": {},
   "outputs": [
    {
     "name": "stdout",
     "output_type": "stream",
     "text": [
      "              precision    recall  f1-score   support\n",
      "\n",
      "           0       0.87      0.99      0.93      3519\n",
      "           1       0.61      0.06      0.11       574\n",
      "\n",
      "    accuracy                           0.86      4093\n",
      "   macro avg       0.74      0.53      0.52      4093\n",
      "weighted avg       0.83      0.86      0.81      4093\n",
      "\n"
     ]
    }
   ],
   "source": [
    "print(classification_report(Y_rotten_oscars_winner_teste, previsoes_rotten_winner))"
   ]
  },
  {
   "cell_type": "code",
   "execution_count": null,
   "id": "59154651-e75b-42c2-a599-81c0feaf6b0d",
   "metadata": {},
   "outputs": [],
   "source": []
  }
 ],
 "metadata": {
  "kernelspec": {
   "display_name": "Python 3 (ipykernel)",
   "language": "python",
   "name": "python3"
  },
  "language_info": {
   "codemirror_mode": {
    "name": "ipython",
    "version": 3
   },
   "file_extension": ".py",
   "mimetype": "text/x-python",
   "name": "python",
   "nbconvert_exporter": "python",
   "pygments_lexer": "ipython3",
   "version": "3.9.12"
  }
 },
 "nbformat": 4,
 "nbformat_minor": 5
}
