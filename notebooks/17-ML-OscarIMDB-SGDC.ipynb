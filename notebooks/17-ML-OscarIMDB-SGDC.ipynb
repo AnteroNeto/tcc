{
 "cells": [
  {
   "cell_type": "markdown",
   "id": "d0d9b891-c27e-4faf-8ce2-8358406569b6",
   "metadata": {},
   "source": [
    "# Machine learning - Stochastic Gradient Descent - Oscar IMDB"
   ]
  },
  {
   "cell_type": "code",
   "execution_count": 1,
   "id": "4e103d4a-d668-42fa-b0dd-0fd27bd4c152",
   "metadata": {},
   "outputs": [],
   "source": [
    "import os\n",
    "import pandas as pd\n",
    "import pickle\n",
    "\n",
    "from sklearn.preprocessing import StandardScaler\n",
    "from sklearn.preprocessing import LabelEncoder\n",
    "from sklearn.model_selection import train_test_split\n",
    "from sklearn.model_selection import GridSearchCV\n",
    "from sklearn.linear_model import SGDClassifier\n",
    "from sklearn.metrics import accuracy_score, confusion_matrix, classification_report\n",
    "from yellowbrick.classifier import ConfusionMatrix"
   ]
  },
  {
   "cell_type": "code",
   "execution_count": 2,
   "id": "37b92ecd-e1bc-4954-8381-f082f9339294",
   "metadata": {},
   "outputs": [
    {
     "data": {
      "text/plain": [
       "'/home/antero/Documentos/tcc/tratados'"
      ]
     },
     "execution_count": 2,
     "metadata": {},
     "output_type": "execute_result"
    }
   ],
   "source": [
    "os.chdir(\"../tratados\")\n",
    "os.getcwd()"
   ]
  },
  {
   "cell_type": "markdown",
   "id": "3be9559b-059c-4b5c-8cf5-c67a1b2f2e67",
   "metadata": {},
   "source": [
    "## Importando o Dataframe"
   ]
  },
  {
   "cell_type": "code",
   "execution_count": 3,
   "id": "38bbcee0-948a-4f18-9a12-46e41a4c6f32",
   "metadata": {},
   "outputs": [],
   "source": [
    "with open('oscar_imdb.pkl', 'rb') as f:\n",
    "    df_imdb_oscar=pickle.load(f)"
   ]
  },
  {
   "cell_type": "code",
   "execution_count": 4,
   "id": "6dac718c-4fe4-44c3-a8c4-56d2dfe56e43",
   "metadata": {},
   "outputs": [
    {
     "name": "stdout",
     "output_type": "stream",
     "text": [
      "<class 'pandas.core.frame.DataFrame'>\n",
      "Int64Index: 444329 entries, 0 to 447056\n",
      "Data columns (total 9 columns):\n",
      " #   Column         Non-Null Count   Dtype  \n",
      "---  ------         --------------   -----  \n",
      " 0   titleType      444329 non-null  object \n",
      " 1   primaryTitle   444329 non-null  object \n",
      " 2   originalTitle  444329 non-null  object \n",
      " 3   startYear      444329 non-null  int64  \n",
      " 4   genres         432835 non-null  object \n",
      " 5   averageRating  444329 non-null  float64\n",
      " 6   numVotes       444329 non-null  int64  \n",
      " 7   nominee        444329 non-null  object \n",
      " 8   winner         444329 non-null  object \n",
      "dtypes: float64(1), int64(2), object(6)\n",
      "memory usage: 33.9+ MB\n"
     ]
    }
   ],
   "source": [
    "df_imdb_oscar.info()"
   ]
  },
  {
   "cell_type": "markdown",
   "id": "331b5a8f-291e-4e74-9f04-5f60d2eb6ecb",
   "metadata": {},
   "source": [
    "### Divisão entre previsores e calsse"
   ]
  },
  {
   "cell_type": "code",
   "execution_count": 5,
   "id": "903aadd4-ae15-4c12-94e0-6234368a2efa",
   "metadata": {},
   "outputs": [],
   "source": [
    "X_imdb_oscar = df_imdb_oscar.iloc[:, 5:7]"
   ]
  },
  {
   "cell_type": "code",
   "execution_count": 6,
   "id": "d2dd02ba-ada5-4c8e-b609-b172435778cd",
   "metadata": {},
   "outputs": [],
   "source": [
    "Y_imdb_oscar_nominee = df_imdb_oscar.iloc[:, 7]"
   ]
  },
  {
   "cell_type": "code",
   "execution_count": 7,
   "id": "ec976729-dc21-4a89-ba03-12d7009dca93",
   "metadata": {},
   "outputs": [],
   "source": [
    "Y_imdb_oscar_winner = df_imdb_oscar.iloc[:, 8]"
   ]
  },
  {
   "cell_type": "markdown",
   "id": "b80d5bac-5990-496b-a5de-117c86a6e740",
   "metadata": {},
   "source": [
    "### Escalonamento dos valores"
   ]
  },
  {
   "cell_type": "code",
   "execution_count": 8,
   "id": "2257052b-9ff4-4393-8c25-ae016c15d44a",
   "metadata": {},
   "outputs": [],
   "source": [
    "scaler = StandardScaler()\n",
    "X_imdb_oscar = scaler.fit_transform(X_imdb_oscar)"
   ]
  },
  {
   "cell_type": "markdown",
   "id": "d2322832-cb71-4739-8147-f028a2ec2a57",
   "metadata": {},
   "source": [
    "### Tratamento de atributos categóricos"
   ]
  },
  {
   "cell_type": "code",
   "execution_count": 9,
   "id": "6488462a-59af-46f7-99dd-0b2fbe8929bc",
   "metadata": {},
   "outputs": [],
   "source": [
    "label_encoder = LabelEncoder()\n",
    "Y_imdb_oscar_nominee = label_encoder.fit_transform(Y_imdb_oscar_nominee)\n",
    "Y_imdb_oscar_winner = label_encoder.fit_transform(Y_imdb_oscar_winner)"
   ]
  },
  {
   "cell_type": "markdown",
   "id": "31acf47f-0ada-432e-b2d6-0e201c06617e",
   "metadata": {},
   "source": [
    "### Stochastic Gradient Descent Nominee"
   ]
  },
  {
   "cell_type": "markdown",
   "id": "08a74f17-bb30-4074-aedc-9ac486836e6e",
   "metadata": {},
   "source": [
    "### Tuning dos parâmetros com GridSearch"
   ]
  },
  {
   "cell_type": "code",
   "execution_count": 28,
   "id": "50a523b6-335d-4db9-b8ff-998605ae6066",
   "metadata": {},
   "outputs": [
    {
     "name": "stdout",
     "output_type": "stream",
     "text": [
      "{'loss': 'modified_huber', 'max_iter': 1000, 'penalty': 'l1'}\n",
      "0.9916390811122247\n"
     ]
    }
   ],
   "source": [
    "parametros = {'loss': ['hinge', 'log', 'modified_huber', 'squared_hinge', 'perceptron'],\n",
    "              'max_iter': [1000, 2000, 3000],\n",
    "              'penalty': ['l2', 'l1', 'elasticnet']\n",
    "              }\n",
    "grid_search = GridSearchCV(estimator=SGDClassifier(), param_grid=parametros, n_jobs=8)\n",
    "grid_search.fit(X_imdb_oscar, Y_imdb_oscar_nominee)\n",
    "melhores_parametros = grid_search.best_params_\n",
    "melhor_resultado = grid_search.best_score_\n",
    "print(melhores_parametros)\n",
    "print(melhor_resultado)"
   ]
  },
  {
   "cell_type": "markdown",
   "id": "c3095a94-9e1e-431d-842b-70fdda3175d6",
   "metadata": {},
   "source": [
    "#### Divisão entre previsores e classe"
   ]
  },
  {
   "cell_type": "code",
   "execution_count": 10,
   "id": "6e90eed1-803e-467d-b4a9-20bce095449b",
   "metadata": {},
   "outputs": [],
   "source": [
    "X_imdb_oscar_treinamento, X_imdb_oscar_teste, Y_imdb_oscar_nominee_treinamento, Y_imdb_oscar_nominee_teste = train_test_split(X_imdb_oscar, Y_imdb_oscar_nominee,test_size = 0.25, random_state = 0)"
   ]
  },
  {
   "cell_type": "markdown",
   "id": "1fd2961d-947d-4e13-829e-d492cc746856",
   "metadata": {},
   "source": [
    "#### Previsões "
   ]
  },
  {
   "cell_type": "code",
   "execution_count": 15,
   "id": "68800732-d557-4634-9d9b-13bf265a497e",
   "metadata": {},
   "outputs": [],
   "source": [
    "SGDC_nominee = SGDClassifier(loss='hinge', max_iter=3000, penalty='l1')\n",
    "SGDC_nominee.fit(X_imdb_oscar_treinamento, Y_imdb_oscar_nominee_treinamento);\n",
    "previsoes_nominee=SGDC_nominee.predict(X_imdb_oscar_teste)"
   ]
  },
  {
   "cell_type": "markdown",
   "id": "694c60d7-9923-4462-a67b-042bf3762bbd",
   "metadata": {},
   "source": [
    "#### Acurácia"
   ]
  },
  {
   "cell_type": "code",
   "execution_count": 16,
   "id": "05083e30-c3a5-4005-b537-a8b5d9b7de1a",
   "metadata": {},
   "outputs": [
    {
     "data": {
      "text/plain": [
       "0.9911507611425691"
      ]
     },
     "execution_count": 16,
     "metadata": {},
     "output_type": "execute_result"
    }
   ],
   "source": [
    "accuracy_score(Y_imdb_oscar_nominee_teste, previsoes_nominee)"
   ]
  },
  {
   "cell_type": "markdown",
   "id": "4089fbf1-1cc3-4b80-b99f-0501944c4c98",
   "metadata": {},
   "source": [
    "#### Matriz de Confusão "
   ]
  },
  {
   "cell_type": "code",
   "execution_count": 17,
   "id": "ab9dd462-f863-48a4-9f3d-b44b4619369b",
   "metadata": {},
   "outputs": [
    {
     "data": {
      "text/plain": [
       "array([[110023,     97],\n",
       "       [   886,     77]])"
      ]
     },
     "execution_count": 17,
     "metadata": {},
     "output_type": "execute_result"
    }
   ],
   "source": [
    "confusion_matrix(Y_imdb_oscar_nominee_teste, previsoes_nominee)"
   ]
  },
  {
   "cell_type": "code",
   "execution_count": 18,
   "id": "afd4e5c1-902a-4e4e-911a-c180dc162628",
   "metadata": {},
   "outputs": [
    {
     "data": {
      "image/png": "[encoded data removed]",
      "text/plain": [
       "<Figure size 576x396 with 1 Axes>"
      ]
     },
     "metadata": {},
     "output_type": "display_data"
    },
    {
     "data": {
      "text/plain": [
       "<AxesSubplot:title={'center':'SGDClassifier Confusion Matrix'}, xlabel='Predicted Class', ylabel='True Class'>"
      ]
     },
     "execution_count": 18,
     "metadata": {},
     "output_type": "execute_result"
    }
   ],
   "source": [
    "cm_nominee = ConfusionMatrix(SGDC_nominee)\n",
    "cm_nominee.fit(X_imdb_oscar_treinamento, Y_imdb_oscar_nominee_treinamento)\n",
    "cm_nominee.score( X_imdb_oscar_teste, Y_imdb_oscar_nominee_teste)\n",
    "cm_nominee.show()"
   ]
  },
  {
   "cell_type": "markdown",
   "id": "b017bc86-5c3c-4fa4-b96c-9002de9b2109",
   "metadata": {},
   "source": [
    "#### Claissification Report"
   ]
  },
  {
   "cell_type": "code",
   "execution_count": 19,
   "id": "3510ad37-d113-4afd-8015-ee83a90c8503",
   "metadata": {},
   "outputs": [
    {
     "name": "stdout",
     "output_type": "stream",
     "text": [
      "              precision    recall  f1-score   support\n",
      "\n",
      "           0       0.99      1.00      1.00    110120\n",
      "           1       0.44      0.08      0.14       963\n",
      "\n",
      "    accuracy                           0.99    111083\n",
      "   macro avg       0.72      0.54      0.57    111083\n",
      "weighted avg       0.99      0.99      0.99    111083\n",
      "\n"
     ]
    }
   ],
   "source": [
    "print(classification_report(Y_imdb_oscar_nominee_teste, previsoes_nominee))"
   ]
  },
  {
   "cell_type": "markdown",
   "id": "342cfe3c-6154-4f4a-8c79-fa04d79d0be3",
   "metadata": {},
   "source": [
    "### Stochastic Gradient Descent Winner"
   ]
  },
  {
   "cell_type": "markdown",
   "id": "20e0e550-dcb0-4a5b-a4a1-48133547f47c",
   "metadata": {},
   "source": [
    "### Tuning dos parâmetros com GridSearch"
   ]
  },
  {
   "cell_type": "code",
   "execution_count": null,
   "id": "3e2b9f03-c69d-4b8d-ba7b-1a3c14fd6656",
   "metadata": {},
   "outputs": [
    {
     "name": "stdout",
     "output_type": "stream",
     "text": [
      "{'loss': 'squared_hinge', 'max_iter': 3000, 'penalty': 'elasticnet'}\n",
      "0.9976098803411834\n"
     ]
    }
   ],
   "source": [
    "parametros = {'loss': ['hinge', 'log', 'modified_huber', 'squared_hinge', 'perceptron'],\n",
    "              'max_iter': [1000, 2000, 3000],\n",
    "              'penalty': ['l2', 'l1', 'elasticnet']\n",
    "              }\n",
    "grid_search = GridSearchCV(estimator=SGDClassifier(), param_grid=parametros, n_jobs=8)\n",
    "grid_search.fit(X_imdb_oscar, Y_imdb_oscar_winner)\n",
    "melhores_parametros = grid_search.best_params_\n",
    "melhor_resultado = grid_search.best_score_\n",
    "print(melhores_parametros)\n",
    "print(melhor_resultado)"
   ]
  },
  {
   "cell_type": "markdown",
   "id": "2af63f13-7870-4751-94df-48f3c61d383b",
   "metadata": {},
   "source": [
    "#### Divisão Treinamento e Teste"
   ]
  },
  {
   "cell_type": "code",
   "execution_count": 50,
   "id": "9eb0aacd-a9e1-4697-beee-a5e3b7d71571",
   "metadata": {},
   "outputs": [],
   "source": [
    "X_imdb_oscar_treinamento, X_imdb_oscar_teste, Y_imdb_oscar_winner_treinamento, Y_imdb_oscar_winner_teste = train_test_split(X_imdb_oscar, Y_imdb_oscar_winner,test_size = 0.25)"
   ]
  },
  {
   "cell_type": "markdown",
   "id": "1c9e72d1-ee8a-4332-ae18-13a8f3fb25dd",
   "metadata": {},
   "source": [
    "#### Previsões "
   ]
  },
  {
   "cell_type": "code",
   "execution_count": 51,
   "id": "2b458b92-12af-4bc1-b29b-0df154ea1110",
   "metadata": {},
   "outputs": [],
   "source": [
    "SGDC_winner = SGDClassifier(loss = 'squared_hinge', max_iter = 3000, penalty = 'elasticnet')\n",
    "SGDC_winner.fit(X_imdb_oscar_treinamento, Y_imdb_oscar_winner_treinamento);\n",
    "previsoes_winner=SGDC_winner.predict(X_imdb_oscar_teste)"
   ]
  },
  {
   "cell_type": "markdown",
   "id": "69644c7a-b5d8-446a-bd86-130703f0b548",
   "metadata": {},
   "source": [
    "#### Acurácia"
   ]
  },
  {
   "cell_type": "code",
   "execution_count": 52,
   "id": "585b3bc6-98ba-4b19-9812-036415bb0a82",
   "metadata": {},
   "outputs": [
    {
     "data": {
      "text/plain": [
       "0.9977134214956384"
      ]
     },
     "execution_count": 52,
     "metadata": {},
     "output_type": "execute_result"
    }
   ],
   "source": [
    "accuracy_score(Y_imdb_oscar_winner_teste, previsoes_winner)"
   ]
  },
  {
   "cell_type": "markdown",
   "id": "de23c09d-9e7b-4e71-9b52-74d477b41257",
   "metadata": {},
   "source": [
    "#### Matriz de Confusão "
   ]
  },
  {
   "cell_type": "code",
   "execution_count": 53,
   "id": "1a622be7-a1ea-4ab9-a8ef-76772a02c2f8",
   "metadata": {},
   "outputs": [
    {
     "data": {
      "text/plain": [
       "array([[110822,      2],\n",
       "       [   252,      7]])"
      ]
     },
     "execution_count": 53,
     "metadata": {},
     "output_type": "execute_result"
    }
   ],
   "source": [
    "confusion_matrix(Y_imdb_oscar_winner_teste, previsoes_winner)"
   ]
  },
  {
   "cell_type": "code",
   "execution_count": 54,
   "id": "75bbfbf0-495f-420c-9131-e16ecdfaa8db",
   "metadata": {},
   "outputs": [
    {
     "data": {
      "image/png": "[encoded data removed]",
      "text/plain": [
       "<Figure size 576x396 with 1 Axes>"
      ]
     },
     "metadata": {},
     "output_type": "display_data"
    },
    {
     "data": {
      "text/plain": [
       "<AxesSubplot:title={'center':'SGDClassifier Confusion Matrix'}, xlabel='Predicted Class', ylabel='True Class'>"
      ]
     },
     "execution_count": 54,
     "metadata": {},
     "output_type": "execute_result"
    }
   ],
   "source": [
    "cm_winner = ConfusionMatrix(SGDC_winner)\n",
    "cm_winner.fit(X_imdb_oscar_treinamento, Y_imdb_oscar_winner_treinamento)\n",
    "cm_winner.score( X_imdb_oscar_teste, Y_imdb_oscar_winner_teste)\n",
    "cm_winner.show()"
   ]
  },
  {
   "cell_type": "code",
   "execution_count": 55,
   "id": "fae8791a-5c4e-4580-adf3-368df5b21273",
   "metadata": {},
   "outputs": [
    {
     "name": "stdout",
     "output_type": "stream",
     "text": [
      "              precision    recall  f1-score   support\n",
      "\n",
      "           0       1.00      1.00      1.00    110824\n",
      "           1       0.78      0.03      0.05       259\n",
      "\n",
      "    accuracy                           1.00    111083\n",
      "   macro avg       0.89      0.51      0.53    111083\n",
      "weighted avg       1.00      1.00      1.00    111083\n",
      "\n"
     ]
    }
   ],
   "source": [
    "print(classification_report(Y_imdb_oscar_winner_teste, previsoes_winner))"
   ]
  },
  {
   "cell_type": "code",
   "execution_count": null,
   "id": "dcb2f7e7-1e33-436b-8df1-48b6e3910439",
   "metadata": {},
   "outputs": [],
   "source": []
  }
 ],
 "metadata": {
  "kernelspec": {
   "display_name": "Python 3 (ipykernel)",
   "language": "python",
   "name": "python3"
  },
  "language_info": {
   "codemirror_mode": {
    "name": "ipython",
    "version": 3
   },
   "file_extension": ".py",
   "mimetype": "text/x-python",
   "name": "python",
   "nbconvert_exporter": "python",
   "pygments_lexer": "ipython3",
   "version": "3.9.12"
  }
 },
 "nbformat": 4,
 "nbformat_minor": 5
}
