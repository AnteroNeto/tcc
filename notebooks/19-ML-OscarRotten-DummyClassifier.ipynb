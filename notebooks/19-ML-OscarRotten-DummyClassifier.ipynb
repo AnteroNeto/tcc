{
 "cells": [
  {
   "cell_type": "markdown",
   "id": "cd880569-ff47-470a-8c75-e0cbe21a8157",
   "metadata": {},
   "source": [
    "# Machine learning - Dummy Classifier - Oscar Rotten Toamatoes"
   ]
  },
  {
   "cell_type": "code",
   "execution_count": 1,
   "id": "86a217a9-f645-4d94-8b80-e38c686308c1",
   "metadata": {},
   "outputs": [],
   "source": [
    "import os\n",
    "import pandas as pd\n",
    "import pickle\n",
    "\n",
    "\n",
    "from sklearn.preprocessing import StandardScaler\n",
    "from sklearn.preprocessing import LabelEncoder\n",
    "from sklearn.model_selection import GridSearchCV\n",
    "from sklearn.model_selection import train_test_split\n",
    "from sklearn.dummy import DummyClassifier\n",
    "from sklearn.metrics import accuracy_score, confusion_matrix, classification_report\n",
    "from yellowbrick.classifier import ConfusionMatrix"
   ]
  },
  {
   "cell_type": "code",
   "execution_count": 2,
   "id": "3dc779c4-71bb-4cc5-9455-68f72935a9e5",
   "metadata": {},
   "outputs": [
    {
     "data": {
      "text/plain": [
       "'/home/antero/Documentos/tcc/tratados'"
      ]
     },
     "execution_count": 2,
     "metadata": {},
     "output_type": "execute_result"
    }
   ],
   "source": [
    "os.chdir(\"../tratados\")\n",
    "os.getcwd()"
   ]
  },
  {
   "cell_type": "markdown",
   "id": "f41a505b-f55d-4a71-abe9-083afbee87d1",
   "metadata": {},
   "source": [
    "## Importando o Dataframe"
   ]
  },
  {
   "cell_type": "code",
   "execution_count": 3,
   "id": "9e9c8bf1-1e52-4e0e-a204-69a4a34709f5",
   "metadata": {},
   "outputs": [],
   "source": [
    "with open('oscar_rotten.pkl', 'rb') as f:\n",
    "    df_rotten_tomatoes_oscars=pickle.load(f)"
   ]
  },
  {
   "cell_type": "code",
   "execution_count": 4,
   "id": "7eb5cbe7-bd18-47c4-bfd0-38f79d045ba3",
   "metadata": {},
   "outputs": [
    {
     "name": "stdout",
     "output_type": "stream",
     "text": [
      "<class 'pandas.core.frame.DataFrame'>\n",
      "Int64Index: 16370 entries, 0 to 16369\n",
      "Data columns (total 18 columns):\n",
      " #   Column                            Non-Null Count  Dtype  \n",
      "---  ------                            --------------  -----  \n",
      " 0   movie_title                       16370 non-null  object \n",
      " 1   content_rating                    16370 non-null  object \n",
      " 2   genres                            16363 non-null  object \n",
      " 3   directors                         16219 non-null  object \n",
      " 4   original_release_date             16370 non-null  object \n",
      " 5   production_company                16061 non-null  object \n",
      " 6   tomatometer_status                16370 non-null  object \n",
      " 7   tomatometer_rating                16370 non-null  float64\n",
      " 8   tomatometer_count                 16370 non-null  float64\n",
      " 9   audience_status                   16219 non-null  object \n",
      " 10  audience_rating                   16370 non-null  float64\n",
      " 11  audience_count                    16370 non-null  float64\n",
      " 12  tomatometer_top_critics_count     16370 non-null  int64  \n",
      " 13  tomatometer_fresh_critics_count   16370 non-null  int64  \n",
      " 14  tomatometer_rotten_critics_count  16370 non-null  int64  \n",
      " 15  year                              16370 non-null  int64  \n",
      " 16  nominee                           16370 non-null  object \n",
      " 17  winner                            16370 non-null  object \n",
      "dtypes: float64(4), int64(4), object(10)\n",
      "memory usage: 2.4+ MB\n"
     ]
    }
   ],
   "source": [
    "df_rotten_tomatoes_oscars.info()"
   ]
  },
  {
   "cell_type": "markdown",
   "id": "1ad95bd4-163b-4a3e-b157-857712ce9cd2",
   "metadata": {},
   "source": [
    "### Divisão entre previsores e classe"
   ]
  },
  {
   "cell_type": "code",
   "execution_count": 5,
   "id": "19722ad2-40ba-4a3c-907c-2951edd9c016",
   "metadata": {},
   "outputs": [],
   "source": [
    "X_rotten_oscars = df_rotten_tomatoes_oscars.iloc[:, [7,8,10,11,12,13,14]]"
   ]
  },
  {
   "cell_type": "code",
   "execution_count": 6,
   "id": "1b4be856-6da6-4221-92ff-b93a1ee72b3c",
   "metadata": {},
   "outputs": [],
   "source": [
    "Y_rotten_tomatoes_nominee = df_rotten_tomatoes_oscars.iloc[:, 17]"
   ]
  },
  {
   "cell_type": "code",
   "execution_count": 7,
   "id": "91ae9662-25ca-40c7-a9d6-b2058c210179",
   "metadata": {},
   "outputs": [],
   "source": [
    "Y_rotten_tomatoes_winner = df_rotten_tomatoes_oscars.iloc[:, 16]"
   ]
  },
  {
   "cell_type": "markdown",
   "id": "7d2c5254-5c72-4b77-b18a-e8aa63ed65e5",
   "metadata": {},
   "source": [
    "### Escalonamento dos valores"
   ]
  },
  {
   "cell_type": "code",
   "execution_count": 8,
   "id": "3b83b00d-734a-4891-b661-00e740b772f5",
   "metadata": {},
   "outputs": [],
   "source": [
    "label_encoder = LabelEncoder()\n",
    "scaler = StandardScaler()"
   ]
  },
  {
   "cell_type": "markdown",
   "id": "2354f96d-6881-4631-9b00-40dd7f72a76a",
   "metadata": {},
   "source": [
    "### Tratamento de atributos categóricos"
   ]
  },
  {
   "cell_type": "code",
   "execution_count": 9,
   "id": "eaccaa7a-54e7-4025-9ba9-4796739b0058",
   "metadata": {},
   "outputs": [],
   "source": [
    "X_rotten_oscars = scaler.fit_transform(X_rotten_oscars)\n",
    "Y_rotten_tomatoes_nominee = label_encoder.fit_transform(Y_rotten_tomatoes_nominee)\n",
    "Y_rotten_tomatoes_winner = label_encoder.fit_transform(Y_rotten_tomatoes_winner)"
   ]
  },
  {
   "cell_type": "markdown",
   "id": "52f300ed-e818-4a1f-bc32-c7ff9b26977b",
   "metadata": {},
   "source": [
    "### Dummy Classifier  Nominee"
   ]
  },
  {
   "cell_type": "markdown",
   "id": "fccc53cc-f4f6-4e99-8c60-68369aef260f",
   "metadata": {},
   "source": [
    "### Tuning dos parâmetros com GridSearch"
   ]
  },
  {
   "cell_type": "code",
   "execution_count": 27,
   "id": "538b7eb9-dcd3-4f73-89af-9ac3d9b58ae1",
   "metadata": {},
   "outputs": [
    {
     "name": "stdout",
     "output_type": "stream",
     "text": [
      "{'strategy': 'most_frequent'}\n",
      "0.949725106902871\n"
     ]
    }
   ],
   "source": [
    "parametros = {'strategy': ['most_frequent', 'prior', 'stratified', 'uniform', 'constant']}\n",
    "grid_search = GridSearchCV(estimator=DummyClassifier(), param_grid=parametros)\n",
    "grid_search.fit(X_rotten_oscars, Y_rotten_tomatoes_nominee)\n",
    "melhores_parametros = grid_search.best_params_\n",
    "melhor_resultado = grid_search.best_score_\n",
    "print(melhores_parametros)\n",
    "print(melhor_resultado)"
   ]
  },
  {
   "cell_type": "markdown",
   "id": "1e7bb049-69fa-4cb9-b293-042285f1cfb3",
   "metadata": {},
   "source": [
    "#### Divisão Treinamento e Teste"
   ]
  },
  {
   "cell_type": "code",
   "execution_count": 11,
   "id": "d51898d0-603b-43f1-ad9c-b8d63876f89d",
   "metadata": {},
   "outputs": [],
   "source": [
    "X_rotten_oscars_treinamento, X_rotten_oscars_teste, Y_rotten_oscars_nominee_treinamento, Y_rotten_oscars_nominee_teste = train_test_split(X_rotten_oscars, Y_rotten_tomatoes_nominee,test_size = 0.25)"
   ]
  },
  {
   "cell_type": "markdown",
   "id": "45f496fa-6649-469c-a6d4-3570c853e5c4",
   "metadata": {},
   "source": [
    "#### Previsões "
   ]
  },
  {
   "cell_type": "code",
   "execution_count": 12,
   "id": "d3120009-ea67-4d65-9936-74174273b7c9",
   "metadata": {},
   "outputs": [],
   "source": [
    "dc_oscars_nominee = DummyClassifier(strategy = 'most_frequent')\n",
    "dc_oscars_nominee.fit(X_rotten_oscars_treinamento,Y_rotten_oscars_nominee_treinamento);\n",
    "previsoes_rotten_nominee = dc_oscars_nominee.predict(X_rotten_oscars_teste)"
   ]
  },
  {
   "cell_type": "markdown",
   "id": "a8e7ffa9-24ef-4167-ac09-d4cdc42f49fb",
   "metadata": {},
   "source": [
    "#### Acurácia"
   ]
  },
  {
   "cell_type": "code",
   "execution_count": 13,
   "id": "77464c00-e106-493b-9af1-0dd153bd71ce",
   "metadata": {},
   "outputs": [
    {
     "data": {
      "text/plain": [
       "0.9516247251404838"
      ]
     },
     "execution_count": 13,
     "metadata": {},
     "output_type": "execute_result"
    }
   ],
   "source": [
    "accuracy_score(Y_rotten_oscars_nominee_teste, previsoes_rotten_nominee)"
   ]
  },
  {
   "cell_type": "markdown",
   "id": "5a73b008-4f3f-489e-b36c-2c824ea4788e",
   "metadata": {},
   "source": [
    "#### Matriz de Confusão "
   ]
  },
  {
   "cell_type": "code",
   "execution_count": 14,
   "id": "82302a38-6a0b-4cff-9901-582023f07d91",
   "metadata": {},
   "outputs": [
    {
     "data": {
      "text/plain": [
       "array([[3895,    0],\n",
       "       [ 198,    0]])"
      ]
     },
     "execution_count": 14,
     "metadata": {},
     "output_type": "execute_result"
    }
   ],
   "source": [
    "confusion_matrix(Y_rotten_oscars_nominee_teste, previsoes_rotten_nominee)"
   ]
  },
  {
   "cell_type": "code",
   "execution_count": 15,
   "id": "6fb86188-b452-4e4e-a1a0-10e98a4f8284",
   "metadata": {},
   "outputs": [
    {
     "data": {
      "image/png": "[encoded data removed]",
      "text/plain": [
       "<Figure size 576x396 with 1 Axes>"
      ]
     },
     "metadata": {},
     "output_type": "display_data"
    },
    {
     "data": {
      "text/plain": [
       "<AxesSubplot:title={'center':'DummyClassifier Confusion Matrix'}, xlabel='Predicted Class', ylabel='True Class'>"
      ]
     },
     "execution_count": 15,
     "metadata": {},
     "output_type": "execute_result"
    }
   ],
   "source": [
    "cm_nominee = ConfusionMatrix(dc_oscars_nominee)\n",
    "cm_nominee.fit(X_rotten_oscars_treinamento, Y_rotten_oscars_nominee_treinamento)\n",
    "cm_nominee.score(X_rotten_oscars_teste, Y_rotten_oscars_nominee_teste)\n",
    "cm_nominee.show()"
   ]
  },
  {
   "cell_type": "markdown",
   "id": "679e8808-fa75-4083-ab60-57a06361635f",
   "metadata": {},
   "source": [
    "#### Claissification Report"
   ]
  },
  {
   "cell_type": "code",
   "execution_count": 16,
   "id": "5ac72891-8dce-45df-bdb7-bc9c1212cd43",
   "metadata": {},
   "outputs": [
    {
     "name": "stdout",
     "output_type": "stream",
     "text": [
      "              precision    recall  f1-score   support\n",
      "\n",
      "           0       0.95      1.00      0.98      3895\n",
      "           1       0.00      0.00      0.00       198\n",
      "\n",
      "    accuracy                           0.95      4093\n",
      "   macro avg       0.48      0.50      0.49      4093\n",
      "weighted avg       0.91      0.95      0.93      4093\n",
      "\n"
     ]
    }
   ],
   "source": [
    "print(classification_report(Y_rotten_oscars_nominee_teste, previsoes_rotten_nominee))"
   ]
  },
  {
   "cell_type": "markdown",
   "id": "19140e81-6c68-48e8-be37-da51cd5d7cb6",
   "metadata": {},
   "source": [
    "### Dummy Classifier Winner"
   ]
  },
  {
   "cell_type": "markdown",
   "id": "890215c8-16bf-4754-9bb3-6d11e708dea0",
   "metadata": {},
   "source": [
    "### Tuning dos parâmetros com GridSearch"
   ]
  },
  {
   "cell_type": "code",
   "execution_count": 17,
   "id": "0f2dfd15-347b-455b-bdad-b22adaff6a8e",
   "metadata": {},
   "outputs": [
    {
     "name": "stdout",
     "output_type": "stream",
     "text": [
      "{'strategy': 'most_frequent'}\n",
      "0.860965180207697\n"
     ]
    }
   ],
   "source": [
    "parametros = {'strategy': ['most_frequent', 'prior', 'stratified', 'uniform', 'constant']}\n",
    "grid_search = GridSearchCV(estimator=DummyClassifier(), param_grid=parametros)\n",
    "grid_search.fit(X_rotten_oscars, Y_rotten_tomatoes_winner)\n",
    "melhores_parametros = grid_search.best_params_\n",
    "melhor_resultado = grid_search.best_score_\n",
    "print(melhores_parametros)\n",
    "print(melhor_resultado)"
   ]
  },
  {
   "cell_type": "markdown",
   "id": "acc403ef-1fe2-4498-be2d-a31dda8753c0",
   "metadata": {},
   "source": [
    "#### Divisão Treinamento e Teste"
   ]
  },
  {
   "cell_type": "code",
   "execution_count": 18,
   "id": "aa35ed86-b853-4a60-b09a-82c515d3e865",
   "metadata": {},
   "outputs": [],
   "source": [
    "X_rotten_oscars_treinamento, X_rotten_oscars_teste, Y_rotten_oscars_winner_treinamento, Y_rotten_oscars_winner_teste = train_test_split(X_rotten_oscars, Y_rotten_tomatoes_winner,test_size = 0.25, random_state = 0)"
   ]
  },
  {
   "cell_type": "markdown",
   "id": "7d4fe456-fc14-4feb-aa12-4533b88abe26",
   "metadata": {},
   "source": [
    "#### Previsões "
   ]
  },
  {
   "cell_type": "code",
   "execution_count": 19,
   "id": "71bcad68-cb7f-47a0-b3e6-6b585c2a0105",
   "metadata": {},
   "outputs": [],
   "source": [
    "dc_oscars_winner = DummyClassifier(strategy = 'most_frequent')\n",
    "dc_oscars_winner.fit(X_rotten_oscars_treinamento,Y_rotten_oscars_winner_treinamento);\n",
    "previsoes_rotten_winner = dc_oscars_winner.predict(X_rotten_oscars_teste)"
   ]
  },
  {
   "cell_type": "markdown",
   "id": "cf3e67bc-296d-41f9-92d4-fb0d260ee30f",
   "metadata": {},
   "source": [
    "#### Acurácia"
   ]
  },
  {
   "cell_type": "code",
   "execution_count": 20,
   "id": "8bc68d00-3b58-4e0f-b767-6c8b81b25c9c",
   "metadata": {},
   "outputs": [
    {
     "data": {
      "text/plain": [
       "0.8597605668214023"
      ]
     },
     "execution_count": 20,
     "metadata": {},
     "output_type": "execute_result"
    }
   ],
   "source": [
    "accuracy_score(Y_rotten_oscars_winner_teste, previsoes_rotten_winner)"
   ]
  },
  {
   "cell_type": "markdown",
   "id": "5b36571e-2428-4fd6-8300-b990525a1103",
   "metadata": {},
   "source": [
    "#### Matriz de Confusão "
   ]
  },
  {
   "cell_type": "code",
   "execution_count": 21,
   "id": "f2a25d56-f1a4-422e-b286-a2f88a0d555e",
   "metadata": {},
   "outputs": [
    {
     "data": {
      "text/plain": [
       "array([[3895,    0],\n",
       "       [ 198,    0]])"
      ]
     },
     "execution_count": 21,
     "metadata": {},
     "output_type": "execute_result"
    }
   ],
   "source": [
    "confusion_matrix(Y_rotten_oscars_nominee_teste, previsoes_rotten_nominee)"
   ]
  },
  {
   "cell_type": "code",
   "execution_count": 22,
   "id": "1b71a399-a199-4dd0-8bfb-7d37459e7ccc",
   "metadata": {},
   "outputs": [
    {
     "data": {
      "image/png": "[encoded data removed]",
      "text/plain": [
       "<Figure size 576x396 with 1 Axes>"
      ]
     },
     "metadata": {},
     "output_type": "display_data"
    },
    {
     "data": {
      "text/plain": [
       "<AxesSubplot:title={'center':'DummyClassifier Confusion Matrix'}, xlabel='Predicted Class', ylabel='True Class'>"
      ]
     },
     "execution_count": 22,
     "metadata": {},
     "output_type": "execute_result"
    }
   ],
   "source": [
    "cm_winner = ConfusionMatrix(dc_oscars_winner)\n",
    "cm_winner.fit(X_rotten_oscars_treinamento, Y_rotten_oscars_winner_treinamento)\n",
    "cm_winner.score(X_rotten_oscars_teste, Y_rotten_oscars_winner_teste)\n",
    "cm_winner.show()"
   ]
  },
  {
   "cell_type": "markdown",
   "id": "685c002b-d7c1-4777-8370-9394ec47db87",
   "metadata": {},
   "source": [
    "#### Claissification Report"
   ]
  },
  {
   "cell_type": "code",
   "execution_count": 23,
   "id": "b4c7a113-056a-44b8-ba34-5cf635e0c428",
   "metadata": {},
   "outputs": [
    {
     "name": "stdout",
     "output_type": "stream",
     "text": [
      "              precision    recall  f1-score   support\n",
      "\n",
      "           0       0.86      1.00      0.92      3519\n",
      "           1       0.00      0.00      0.00       574\n",
      "\n",
      "    accuracy                           0.86      4093\n",
      "   macro avg       0.43      0.50      0.46      4093\n",
      "weighted avg       0.74      0.86      0.79      4093\n",
      "\n"
     ]
    }
   ],
   "source": [
    "print(classification_report(Y_rotten_oscars_winner_teste, previsoes_rotten_winner))"
   ]
  },
  {
   "cell_type": "code",
   "execution_count": null,
   "id": "3e1eef10-a392-4094-ba5f-1123f60aaf09",
   "metadata": {},
   "outputs": [],
   "source": []
  }
 ],
 "metadata": {
  "kernelspec": {
   "display_name": "Python 3 (ipykernel)",
   "language": "python",
   "name": "python3"
  },
  "language_info": {
   "codemirror_mode": {
    "name": "ipython",
    "version": 3
   },
   "file_extension": ".py",
   "mimetype": "text/x-python",
   "name": "python",
   "nbconvert_exporter": "python",
   "pygments_lexer": "ipython3",
   "version": "3.9.12"
  }
 },
 "nbformat": 4,
 "nbformat_minor": 5
}
