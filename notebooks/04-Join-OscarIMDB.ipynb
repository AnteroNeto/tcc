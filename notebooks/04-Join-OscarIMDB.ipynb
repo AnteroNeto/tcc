{
 "cells": [
  {
   "cell_type": "markdown",
   "id": "6a841b2d-f797-4021-874a-7740a3a47713",
   "metadata": {},
   "source": [
    "# Unindo as bases de dados - Oscar e IMDB"
   ]
  },
  {
   "cell_type": "code",
   "execution_count": 9,
   "id": "668a4770-93bd-4b34-bd66-5b82d518731c",
   "metadata": {},
   "outputs": [],
   "source": [
    "import os\n",
    "import pandas as pd\n",
    "import matplotlib.pyplot as plt\n",
    "import pickle\n",
    "\n",
    "%matplotlib inline"
   ]
  },
  {
   "cell_type": "code",
   "execution_count": 10,
   "id": "086e7a59-47cd-4787-a0cf-fb4ebd32f5ce",
   "metadata": {},
   "outputs": [
    {
     "data": {
      "text/plain": [
       "'/home/antero/Documentos/tcc/tratados'"
      ]
     },
     "execution_count": 10,
     "metadata": {},
     "output_type": "execute_result"
    }
   ],
   "source": [
    "os.chdir(\"../tratados\")\n",
    "os.getcwd()"
   ]
  },
  {
   "cell_type": "markdown",
   "id": "0cd588e8-62b1-4dbc-8a8b-f992e8ce3873",
   "metadata": {},
   "source": [
    "## Importando Dataframes"
   ]
  },
  {
   "cell_type": "code",
   "execution_count": 11,
   "id": "88028685-49b2-4741-a7d5-e814eaa67ec6",
   "metadata": {},
   "outputs": [],
   "source": [
    "with open('imdb.pkl', 'rb') as f:\n",
    "    df_imdb=pickle.load(f)"
   ]
  },
  {
   "cell_type": "code",
   "execution_count": 12,
   "id": "668a880d-67cd-433b-af5b-eb5eb8869d85",
   "metadata": {},
   "outputs": [
    {
     "name": "stdout",
     "output_type": "stream",
     "text": [
      "<class 'pandas.core.frame.DataFrame'>\n",
      "Int64Index: 447057 entries, 0 to 1161023\n",
      "Data columns (total 7 columns):\n",
      " #   Column         Non-Null Count   Dtype  \n",
      "---  ------         --------------   -----  \n",
      " 0   titleType      447057 non-null  object \n",
      " 1   primaryTitle   447057 non-null  object \n",
      " 2   originalTitle  447057 non-null  object \n",
      " 3   startYear      447057 non-null  int64  \n",
      " 4   genres         435537 non-null  object \n",
      " 5   averageRating  447057 non-null  float64\n",
      " 6   numVotes       447057 non-null  int64  \n",
      "dtypes: float64(1), int64(2), object(4)\n",
      "memory usage: 27.3+ MB\n"
     ]
    }
   ],
   "source": [
    "df_imdb.info()"
   ]
  },
  {
   "cell_type": "code",
   "execution_count": 13,
   "id": "13ba5ac0-4d15-4e3e-9dbc-8464b1219410",
   "metadata": {},
   "outputs": [],
   "source": [
    "with open('oscar.pkl', 'rb') as f:\n",
    "    df_oscars=pickle.load(f)"
   ]
  },
  {
   "cell_type": "code",
   "execution_count": 14,
   "id": "5eafbd70-4377-442d-ba58-98d56168f514",
   "metadata": {},
   "outputs": [
    {
     "name": "stdout",
     "output_type": "stream",
     "text": [
      "<class 'pandas.core.frame.DataFrame'>\n",
      "RangeIndex: 10395 entries, 0 to 10394\n",
      "Data columns (total 8 columns):\n",
      " #   Column         Non-Null Count  Dtype \n",
      "---  ------         --------------  ----- \n",
      " 0   year_film      10395 non-null  int64 \n",
      " 1   year_ceremony  10395 non-null  int64 \n",
      " 2   ceremony       10395 non-null  int64 \n",
      " 3   category       10395 non-null  object\n",
      " 4   name           10395 non-null  object\n",
      " 5   film           10091 non-null  object\n",
      " 6   winner         10395 non-null  bool  \n",
      " 7   nominee        10395 non-null  bool  \n",
      "dtypes: bool(2), int64(3), object(3)\n",
      "memory usage: 507.7+ KB\n"
     ]
    }
   ],
   "source": [
    "df_oscars.info()"
   ]
  },
  {
   "cell_type": "markdown",
   "id": "c5e78672-1668-444e-a4ec-b7f2b86944d7",
   "metadata": {},
   "source": [
    "## Tratando Strings nas colunas da Junção"
   ]
  },
  {
   "cell_type": "code",
   "execution_count": 15,
   "id": "eb91b090-9c14-48c7-b8ba-90184277169c",
   "metadata": {},
   "outputs": [],
   "source": [
    "df_imdb.primaryTitle=df_imdb.primaryTitle.str.lower()"
   ]
  },
  {
   "cell_type": "code",
   "execution_count": 16,
   "id": "2f857337-7378-4845-ada7-85a1953526e7",
   "metadata": {},
   "outputs": [],
   "source": [
    "df_imdb.primaryTitle=df_imdb.primaryTitle.str.replace('&', 'and')"
   ]
  },
  {
   "cell_type": "code",
   "execution_count": 17,
   "id": "20681478-e058-4c25-baee-2023c6a49a42",
   "metadata": {},
   "outputs": [],
   "source": [
    "df_oscars.film=df_oscars.film.str.lower()"
   ]
  },
  {
   "cell_type": "code",
   "execution_count": 18,
   "id": "ce4341fe-43d6-49d5-8000-98d30eee8ce1",
   "metadata": {},
   "outputs": [],
   "source": [
    "df_oscars.film=df_oscars.film.str.replace('&', 'and')"
   ]
  },
  {
   "cell_type": "markdown",
   "id": "a85b0bd9-36f3-4b96-ad33-2f1e653ad309",
   "metadata": {},
   "source": [
    "### Filtrando filmes indicados e vencedores do Oscar"
   ]
  },
  {
   "cell_type": "code",
   "execution_count": 19,
   "id": "b33fffb6-06ed-464f-87e9-8040987585eb",
   "metadata": {},
   "outputs": [],
   "source": [
    "drop_cols=['year_ceremony', 'ceremony', 'category', 'name', 'winner']\n",
    "df_nominee=df_oscars.drop(columns=drop_cols)"
   ]
  },
  {
   "cell_type": "code",
   "execution_count": 20,
   "id": "80659b40-d65a-4f88-8c41-66d63ab2dd3b",
   "metadata": {},
   "outputs": [
    {
     "data": {
      "text/plain": [
       "True    4833\n",
       "Name: nominee, dtype: int64"
      ]
     },
     "execution_count": 20,
     "metadata": {},
     "output_type": "execute_result"
    }
   ],
   "source": [
    "df_nominee = df_nominee.drop_duplicates(subset=['film','nominee'])\n",
    "df_nominee.nominee.value_counts()"
   ]
  },
  {
   "cell_type": "code",
   "execution_count": 21,
   "id": "8fb38a25-8aa1-43bf-a25c-6f285293e405",
   "metadata": {},
   "outputs": [
    {
     "name": "stdout",
     "output_type": "stream",
     "text": [
      "<class 'pandas.core.frame.DataFrame'>\n",
      "Int64Index: 4833 entries, 0 to 10386\n",
      "Data columns (total 3 columns):\n",
      " #   Column     Non-Null Count  Dtype \n",
      "---  ------     --------------  ----- \n",
      " 0   year_film  4833 non-null   int64 \n",
      " 1   film       4832 non-null   object\n",
      " 2   nominee    4833 non-null   bool  \n",
      "dtypes: bool(1), int64(1), object(1)\n",
      "memory usage: 118.0+ KB\n"
     ]
    }
   ],
   "source": [
    "df_nominee.info()"
   ]
  },
  {
   "cell_type": "code",
   "execution_count": 22,
   "id": "74f5ae4f-8314-420a-8c7a-1ec80d209dd0",
   "metadata": {},
   "outputs": [],
   "source": [
    "drop_cols=['year_ceremony', 'ceremony', 'category', 'name', 'nominee']\n",
    "df_winner=df_oscars.drop(columns=drop_cols)"
   ]
  },
  {
   "cell_type": "code",
   "execution_count": 23,
   "id": "e074592c-8b5f-4fab-a1f2-a78f922a764b",
   "metadata": {},
   "outputs": [
    {
     "data": {
      "text/plain": [
       "True    1274\n",
       "Name: winner, dtype: int64"
      ]
     },
     "execution_count": 23,
     "metadata": {},
     "output_type": "execute_result"
    }
   ],
   "source": [
    "df_winner = df_winner.drop_duplicates(subset=['film','winner'])\n",
    "df_winner=df_winner[df_winner.winner.isin([True])]\n",
    "df_winner.winner.value_counts()"
   ]
  },
  {
   "cell_type": "markdown",
   "id": "e45af149-f4a1-437e-bdf8-3dad9ce7b20c",
   "metadata": {},
   "source": [
    "## Unindo os Dataframes"
   ]
  },
  {
   "cell_type": "code",
   "execution_count": 24,
   "id": "9a24075d-4869-4654-b577-aff9073dfc74",
   "metadata": {},
   "outputs": [],
   "source": [
    "df_imdb_oscar_nominee = df_imdb.merge(df_nominee, left_on=['primaryTitle','startYear'], right_on=['film','year_film'], how='left')"
   ]
  },
  {
   "cell_type": "code",
   "execution_count": 25,
   "id": "69cebc2d-db87-402a-b325-6023107d4a75",
   "metadata": {},
   "outputs": [
    {
     "name": "stdout",
     "output_type": "stream",
     "text": [
      "<class 'pandas.core.frame.DataFrame'>\n",
      "Int64Index: 447057 entries, 0 to 447056\n",
      "Data columns (total 10 columns):\n",
      " #   Column         Non-Null Count   Dtype  \n",
      "---  ------         --------------   -----  \n",
      " 0   titleType      447057 non-null  object \n",
      " 1   primaryTitle   447057 non-null  object \n",
      " 2   originalTitle  447057 non-null  object \n",
      " 3   startYear      447057 non-null  int64  \n",
      " 4   genres         435537 non-null  object \n",
      " 5   averageRating  447057 non-null  float64\n",
      " 6   numVotes       447057 non-null  int64  \n",
      " 7   year_film      3870 non-null    float64\n",
      " 8   film           3870 non-null    object \n",
      " 9   nominee        3870 non-null    object \n",
      "dtypes: float64(2), int64(2), object(6)\n",
      "memory usage: 37.5+ MB\n"
     ]
    }
   ],
   "source": [
    "df_imdb_oscar_nominee.info()"
   ]
  },
  {
   "cell_type": "code",
   "execution_count": 26,
   "id": "4a642bbc-7842-4471-865e-9c89d61e7133",
   "metadata": {},
   "outputs": [],
   "source": [
    "df_imdb_oscar = df_imdb_oscar_nominee.merge(df_winner, left_on=['primaryTitle','startYear'], right_on=['film','year_film'], how='left')"
   ]
  },
  {
   "cell_type": "code",
   "execution_count": 27,
   "id": "b56222a2-43df-4d6f-8900-3b899438f405",
   "metadata": {},
   "outputs": [
    {
     "name": "stdout",
     "output_type": "stream",
     "text": [
      "<class 'pandas.core.frame.DataFrame'>\n",
      "Int64Index: 447057 entries, 0 to 447056\n",
      "Data columns (total 13 columns):\n",
      " #   Column         Non-Null Count   Dtype  \n",
      "---  ------         --------------   -----  \n",
      " 0   titleType      447057 non-null  object \n",
      " 1   primaryTitle   447057 non-null  object \n",
      " 2   originalTitle  447057 non-null  object \n",
      " 3   startYear      447057 non-null  int64  \n",
      " 4   genres         435537 non-null  object \n",
      " 5   averageRating  447057 non-null  float64\n",
      " 6   numVotes       447057 non-null  int64  \n",
      " 7   year_film_x    3870 non-null    float64\n",
      " 8   film_x         3870 non-null    object \n",
      " 9   nominee        3870 non-null    object \n",
      " 10  year_film_y    1092 non-null    float64\n",
      " 11  film_y         1092 non-null    object \n",
      " 12  winner         1092 non-null    object \n",
      "dtypes: float64(3), int64(2), object(8)\n",
      "memory usage: 47.8+ MB\n"
     ]
    }
   ],
   "source": [
    "df_imdb_oscar.info()"
   ]
  },
  {
   "cell_type": "code",
   "execution_count": 28,
   "id": "1462bfa8-4de3-41df-9258-4dd381395c3e",
   "metadata": {},
   "outputs": [
    {
     "data": {
      "text/plain": [
       "NaN     443187\n",
       "True      3870\n",
       "Name: nominee, dtype: int64"
      ]
     },
     "execution_count": 28,
     "metadata": {},
     "output_type": "execute_result"
    }
   ],
   "source": [
    "df_imdb_oscar.nominee.value_counts(dropna=False)"
   ]
  },
  {
   "cell_type": "code",
   "execution_count": 29,
   "id": "545ddfc0-cdda-48d5-a08f-4550e46dd96b",
   "metadata": {},
   "outputs": [
    {
     "data": {
      "text/plain": [
       "NaN     445965\n",
       "True      1092\n",
       "Name: winner, dtype: int64"
      ]
     },
     "execution_count": 29,
     "metadata": {},
     "output_type": "execute_result"
    }
   ],
   "source": [
    "df_imdb_oscar.winner.value_counts(dropna=False)"
   ]
  },
  {
   "cell_type": "markdown",
   "id": "bfa99a45-88fc-4fdb-b7c9-a1527632781a",
   "metadata": {},
   "source": [
    "### Percentual de União Nominee"
   ]
  },
  {
   "cell_type": "code",
   "execution_count": 1,
   "id": "9930fcc7-ec9a-4a42-bded-977d79d013f2",
   "metadata": {},
   "outputs": [
    {
     "data": {
      "text/plain": [
       "80.07448789571696"
      ]
     },
     "execution_count": 1,
     "metadata": {},
     "output_type": "execute_result"
    }
   ],
   "source": [
    "3870/4833*100"
   ]
  },
  {
   "cell_type": "markdown",
   "id": "ff510c4e-48bf-49d9-a423-6df07da1a3d3",
   "metadata": {},
   "source": [
    "### Percentual de União Winner"
   ]
  },
  {
   "cell_type": "code",
   "execution_count": 3,
   "id": "dd7eb9f5-c84e-454c-a75c-70f8f111db67",
   "metadata": {},
   "outputs": [
    {
     "data": {
      "text/plain": [
       "85.71428571428571"
      ]
     },
     "execution_count": 3,
     "metadata": {},
     "output_type": "execute_result"
    }
   ],
   "source": [
    "1092/1274*100"
   ]
  },
  {
   "cell_type": "markdown",
   "id": "1787ca81-c8c1-458b-aa92-842181932730",
   "metadata": {},
   "source": [
    "### Filtrando Colunas Desnecessárias"
   ]
  },
  {
   "cell_type": "code",
   "execution_count": 82,
   "id": "ece38114-b1d1-453c-b4ee-73a61bdcacca",
   "metadata": {
    "tags": []
   },
   "outputs": [],
   "source": [
    "drop_cols=['year_film_x','year_film_y','film_x','film_y' ]\n",
    "df_imdb_oscar=df_imdb_oscar.drop(columns=drop_cols)"
   ]
  },
  {
   "cell_type": "code",
   "execution_count": 83,
   "id": "4937d483-c5e7-48da-9b86-00ce8ebc0588",
   "metadata": {},
   "outputs": [
    {
     "name": "stdout",
     "output_type": "stream",
     "text": [
      "<class 'pandas.core.frame.DataFrame'>\n",
      "Int64Index: 447057 entries, 0 to 447056\n",
      "Data columns (total 9 columns):\n",
      " #   Column         Non-Null Count   Dtype  \n",
      "---  ------         --------------   -----  \n",
      " 0   titleType      447057 non-null  object \n",
      " 1   primaryTitle   447057 non-null  object \n",
      " 2   originalTitle  447057 non-null  object \n",
      " 3   startYear      447057 non-null  int64  \n",
      " 4   genres         435537 non-null  object \n",
      " 5   averageRating  447057 non-null  float64\n",
      " 6   numVotes       447057 non-null  int64  \n",
      " 7   nominee        3870 non-null    object \n",
      " 8   winner         1092 non-null    object \n",
      "dtypes: float64(1), int64(2), object(6)\n",
      "memory usage: 34.1+ MB\n"
     ]
    }
   ],
   "source": [
    "df_imdb_oscar.info()"
   ]
  },
  {
   "cell_type": "markdown",
   "id": "58efaac2-2860-429a-83c1-dc779210cd8d",
   "metadata": {},
   "source": [
    "## Tratando Valores Faltantes"
   ]
  },
  {
   "cell_type": "code",
   "execution_count": 84,
   "id": "de38564a-e658-4c0e-bf10-23b30b3c7c4d",
   "metadata": {},
   "outputs": [],
   "source": [
    "df_imdb_oscar=df_imdb_oscar.loc[df_imdb_oscar['startYear'] < 2021]"
   ]
  },
  {
   "cell_type": "code",
   "execution_count": 85,
   "id": "54643a15-6022-4810-b7a8-8980f0970d4d",
   "metadata": {},
   "outputs": [],
   "source": [
    "df_imdb_oscar.loc[(df_imdb_oscar['winner'].isnull()),'winner']=False"
   ]
  },
  {
   "cell_type": "code",
   "execution_count": 86,
   "id": "d2bd7bbb-6cb9-4054-939a-68a707c843f8",
   "metadata": {},
   "outputs": [],
   "source": [
    "df_imdb_oscar.loc[(df_imdb_oscar['nominee'].isnull()),'nominee']=False"
   ]
  },
  {
   "cell_type": "code",
   "execution_count": 91,
   "id": "8647936c-da2e-4c0d-9b90-c3172f574a61",
   "metadata": {},
   "outputs": [
    {
     "name": "stdout",
     "output_type": "stream",
     "text": [
      "<class 'pandas.core.frame.DataFrame'>\n",
      "Int64Index: 444329 entries, 0 to 447056\n",
      "Data columns (total 9 columns):\n",
      " #   Column         Non-Null Count   Dtype  \n",
      "---  ------         --------------   -----  \n",
      " 0   titleType      444329 non-null  object \n",
      " 1   primaryTitle   444329 non-null  object \n",
      " 2   originalTitle  444329 non-null  object \n",
      " 3   startYear      444329 non-null  int64  \n",
      " 4   genres         432835 non-null  object \n",
      " 5   averageRating  444329 non-null  float64\n",
      " 6   numVotes       444329 non-null  int64  \n",
      " 7   nominee        444329 non-null  object \n",
      " 8   winner         444329 non-null  object \n",
      "dtypes: float64(1), int64(2), object(6)\n",
      "memory usage: 33.9+ MB\n"
     ]
    }
   ],
   "source": [
    "df_imdb_oscar.info()"
   ]
  },
  {
   "cell_type": "code",
   "execution_count": 87,
   "id": "70578bd0-6a8b-48ac-9617-534fbc02f0d2",
   "metadata": {},
   "outputs": [
    {
     "data": {
      "text/plain": [
       "False    443237\n",
       "True       1092\n",
       "Name: winner, dtype: int64"
      ]
     },
     "execution_count": 87,
     "metadata": {},
     "output_type": "execute_result"
    }
   ],
   "source": [
    "df_imdb_oscar.winner.value_counts(dropna=False)"
   ]
  },
  {
   "cell_type": "code",
   "execution_count": 88,
   "id": "0b7cdd55-ba8b-433a-b0fd-5a443da408ce",
   "metadata": {},
   "outputs": [
    {
     "data": {
      "text/plain": [
       "False    440459\n",
       "True       3870\n",
       "Name: nominee, dtype: int64"
      ]
     },
     "execution_count": 88,
     "metadata": {},
     "output_type": "execute_result"
    }
   ],
   "source": [
    "df_imdb_oscar.nominee.value_counts(dropna=False)"
   ]
  },
  {
   "cell_type": "markdown",
   "id": "5cce693a-81c3-42cf-9950-d779765e8816",
   "metadata": {},
   "source": [
    "### Mapa de Calor"
   ]
  },
  {
   "cell_type": "code",
   "execution_count": 89,
   "id": "7365619d-1cc8-484e-9e1d-a07146eaaf94",
   "metadata": {},
   "outputs": [
    {
     "data": {
      "image/png": "[encoded data removed]",
      "text/plain": [
       "<Figure size 720x432 with 1 Axes>"
      ]
     },
     "metadata": {
      "needs_background": "light"
     },
     "output_type": "display_data"
    }
   ],
   "source": [
    "plt.figure(figsize=(10, 6))\n",
    "sns.heatmap(df_imdb_oscar.isnull(), yticklabels=False, cbar=False, cmap='viridis').set(title='Gráfico 4 - Mapa de calor de dados ausentes - Junção IMDB e Oscar');"
   ]
  },
  {
   "cell_type": "code",
   "execution_count": 90,
   "id": "9c04f707-2146-4026-ad52-b1e3484d038e",
   "metadata": {},
   "outputs": [],
   "source": [
    " with open('oscar_imdb.pkl', mode = 'wb') as f:\n",
    "  pickle.dump(df_imdb_oscar, f)"
   ]
  }
 ],
 "metadata": {
  "kernelspec": {
   "display_name": "Python 3",
   "language": "python",
   "name": "python3"
  },
  "language_info": {
   "codemirror_mode": {
    "name": "ipython",
    "version": 3
   },
   "file_extension": ".py",
   "mimetype": "text/x-python",
   "name": "python",
   "nbconvert_exporter": "python",
   "pygments_lexer": "ipython3",
   "version": "3.9.12"
  }
 },
 "nbformat": 4,
 "nbformat_minor": 5
}
