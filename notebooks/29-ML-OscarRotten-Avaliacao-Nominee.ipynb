{
 "cells": [
  {
   "cell_type": "markdown",
   "id": "b6699e76-52b2-4ec6-83a8-d13903e6f14c",
   "metadata": {
    "papermill": {
     "duration": 0.008146,
     "end_time": "2022-04-13T14:11:12.454527",
     "exception": false,
     "start_time": "2022-04-13T14:11:12.446381",
     "status": "completed"
    },
    "tags": []
   },
   "source": [
    "# Avaliação dos Resultados - Oscar IMDB"
   ]
  },
  {
   "cell_type": "code",
   "execution_count": 1,
   "id": "bf307ff9-9af5-461a-bf0f-dee5447d89aa",
   "metadata": {
    "papermill": {
     "duration": 0.989552,
     "end_time": "2022-04-13T14:11:13.448306",
     "exception": false,
     "start_time": "2022-04-13T14:11:12.458754",
     "status": "completed"
    },
    "tags": []
   },
   "outputs": [],
   "source": [
    "import os\n",
    "import pandas as pd\n",
    "import pickle\n",
    "\n",
    "\n",
    "from sklearn.preprocessing import StandardScaler\n",
    "from sklearn.preprocessing import LabelEncoder\n",
    "from sklearn.model_selection import cross_val_score, KFold\n",
    "from sklearn.dummy import DummyClassifier\n",
    "from sklearn.naive_bayes import GaussianNB\n",
    "from sklearn.linear_model import LogisticRegression\n",
    "from sklearn.neighbors import KNeighborsClassifier\n",
    "from sklearn.ensemble import RandomForestClassifier\n",
    "from sklearn.neural_network import MLPClassifier\n",
    "from sklearn.linear_model import SGDClassifier\n",
    "from sklearn.svm import SVC"
   ]
  },
  {
   "cell_type": "code",
   "execution_count": 2,
   "id": "bfce66fb-9098-434a-8792-2a729eec1f98",
   "metadata": {
    "papermill": {
     "duration": 0.019976,
     "end_time": "2022-04-13T14:11:13.475573",
     "exception": false,
     "start_time": "2022-04-13T14:11:13.455597",
     "status": "completed"
    },
    "tags": []
   },
   "outputs": [
    {
     "data": {
      "text/plain": [
       "'/home/antero/Documentos/wrk/tratados'"
      ]
     },
     "execution_count": 2,
     "metadata": {},
     "output_type": "execute_result"
    }
   ],
   "source": [
    "os.chdir(\"../tratados\")\n",
    "os.getcwd()"
   ]
  },
  {
   "cell_type": "code",
   "execution_count": 3,
   "id": "e857a951-c805-4e33-8cd1-2bffdc823c0b",
   "metadata": {
    "execution": {
     "iopub.execute_input": "2022-04-13T14:11:13.485862Z",
     "iopub.status.busy": "2022-04-13T14:11:13.485517Z",
     "iopub.status.idle": "2022-04-13T14:11:14.363331Z",
     "shell.execute_reply": "2022-04-13T14:11:14.362802Z"
    },
    "papermill": {
     "duration": 0.885966,
     "end_time": "2022-04-13T14:11:14.365817",
     "exception": false,
     "start_time": "2022-04-13T14:11:13.479851",
     "status": "completed"
    },
    "tags": []
   },
   "outputs": [],
   "source": [
    "with open('oscar_rotten.pkl', 'rb') as f:\n",
    "    df_rotten_tomatoes_oscars=pickle.load(f)"
   ]
  },
  {
   "cell_type": "markdown",
   "id": "f9bf5421-6ff0-40a1-ae77-4764833f6fa8",
   "metadata": {
    "papermill": {
     "duration": 0.003335,
     "end_time": "2022-04-13T14:11:14.376687",
     "exception": false,
     "start_time": "2022-04-13T14:11:14.373352",
     "status": "completed"
    },
    "tags": []
   },
   "source": [
    "## Importando o Dataframe"
   ]
  },
  {
   "cell_type": "code",
   "execution_count": 4,
   "id": "dbd108ba-9a43-486f-b96c-b196f828c8dd",
   "metadata": {
    "execution": {
     "iopub.execute_input": "2022-04-13T14:11:14.391407Z",
     "iopub.status.busy": "2022-04-13T14:11:14.391068Z",
     "iopub.status.idle": "2022-04-13T14:11:14.397727Z",
     "shell.execute_reply": "2022-04-13T14:11:14.396786Z"
    },
    "papermill": {
     "duration": 0.012824,
     "end_time": "2022-04-13T14:11:14.399342",
     "exception": false,
     "start_time": "2022-04-13T14:11:14.386518",
     "status": "completed"
    },
    "tags": []
   },
   "outputs": [],
   "source": [
    "X_rotten_oscars = df_rotten_tomatoes_oscars.iloc[:, [7,8,10,11,12,13,14]]"
   ]
  },
  {
   "cell_type": "code",
   "execution_count": 5,
   "id": "2ff668e4-8e4e-49c5-90f3-769278f85a37",
   "metadata": {
    "execution": {
     "iopub.execute_input": "2022-04-13T14:11:14.415212Z",
     "iopub.status.busy": "2022-04-13T14:11:14.414947Z",
     "iopub.status.idle": "2022-04-13T14:11:14.418753Z",
     "shell.execute_reply": "2022-04-13T14:11:14.418058Z"
    },
    "papermill": {
     "duration": 0.014253,
     "end_time": "2022-04-13T14:11:14.419937",
     "exception": false,
     "start_time": "2022-04-13T14:11:14.405684",
     "status": "completed"
    },
    "tags": []
   },
   "outputs": [],
   "source": [
    "Y_rotten_tomatoes_nominee = df_rotten_tomatoes_oscars.iloc[:, 17]"
   ]
  },
  {
   "cell_type": "code",
   "execution_count": 6,
   "id": "f6c67aab-55f5-4647-ae2a-f3a78b3275fb",
   "metadata": {
    "execution": {
     "iopub.execute_input": "2022-04-13T14:11:14.429211Z",
     "iopub.status.busy": "2022-04-13T14:11:14.428972Z",
     "iopub.status.idle": "2022-04-13T14:11:14.432624Z",
     "shell.execute_reply": "2022-04-13T14:11:14.431947Z"
    },
    "papermill": {
     "duration": 0.009929,
     "end_time": "2022-04-13T14:11:14.433790",
     "exception": false,
     "start_time": "2022-04-13T14:11:14.423861",
     "status": "completed"
    },
    "tags": []
   },
   "outputs": [],
   "source": [
    "Y_rotten_tomatoes_winner = df_rotten_tomatoes_oscars.iloc[:, 16]"
   ]
  },
  {
   "cell_type": "markdown",
   "id": "4625206d-7942-4770-a138-d50c2890778b",
   "metadata": {
    "papermill": {
     "duration": 0.003247,
     "end_time": "2022-04-13T14:11:14.440397",
     "exception": false,
     "start_time": "2022-04-13T14:11:14.437150",
     "status": "completed"
    },
    "tags": []
   },
   "source": [
    "### Escalonamento dos valores"
   ]
  },
  {
   "cell_type": "code",
   "execution_count": 7,
   "id": "4ef0de29-e24a-4ebd-af91-c8122cb5ffa9",
   "metadata": {
    "execution": {
     "iopub.execute_input": "2022-04-13T14:11:14.449886Z",
     "iopub.status.busy": "2022-04-13T14:11:14.449631Z",
     "iopub.status.idle": "2022-04-13T14:11:14.453104Z",
     "shell.execute_reply": "2022-04-13T14:11:14.452435Z"
    },
    "papermill": {
     "duration": 0.009808,
     "end_time": "2022-04-13T14:11:14.454197",
     "exception": false,
     "start_time": "2022-04-13T14:11:14.444389",
     "status": "completed"
    },
    "tags": []
   },
   "outputs": [],
   "source": [
    "label_encoder = LabelEncoder()\n",
    "scaler = StandardScaler()"
   ]
  },
  {
   "cell_type": "markdown",
   "id": "faebc3e3-ae40-4286-963d-73f6bd4c92c0",
   "metadata": {
    "papermill": {
     "duration": 0.004081,
     "end_time": "2022-04-13T14:11:14.461719",
     "exception": false,
     "start_time": "2022-04-13T14:11:14.457638",
     "status": "completed"
    },
    "tags": []
   },
   "source": [
    "### Tratamento de atributos categóricos"
   ]
  },
  {
   "cell_type": "code",
   "execution_count": 8,
   "id": "0d2f43c6-fee5-4a6e-b245-2a4740e178f9",
   "metadata": {
    "execution": {
     "iopub.execute_input": "2022-04-13T14:11:14.471253Z",
     "iopub.status.busy": "2022-04-13T14:11:14.470910Z",
     "iopub.status.idle": "2022-04-13T14:11:14.486748Z",
     "shell.execute_reply": "2022-04-13T14:11:14.486195Z"
    },
    "papermill": {
     "duration": 0.023365,
     "end_time": "2022-04-13T14:11:14.489019",
     "exception": false,
     "start_time": "2022-04-13T14:11:14.465654",
     "status": "completed"
    },
    "tags": []
   },
   "outputs": [],
   "source": [
    "X_rotten_oscars = scaler.fit_transform(X_rotten_oscars)\n",
    "Y_rotten_tomatoes_nominee = label_encoder.fit_transform(Y_rotten_tomatoes_nominee)\n",
    "Y_rotten_tomatoes_winner = label_encoder.fit_transform(Y_rotten_tomatoes_winner)"
   ]
  },
  {
   "cell_type": "code",
   "execution_count": 9,
   "id": "711929ca-2a2f-441b-a1b1-1db786532623",
   "metadata": {
    "execution": {
     "iopub.execute_input": "2022-04-13T14:11:14.538172Z",
     "iopub.status.busy": "2022-04-13T14:11:14.537845Z",
     "iopub.status.idle": "2022-04-13T14:11:14.542942Z",
     "shell.execute_reply": "2022-04-13T14:11:14.542174Z"
    },
    "papermill": {
     "duration": 0.014828,
     "end_time": "2022-04-13T14:11:14.544147",
     "exception": false,
     "start_time": "2022-04-13T14:11:14.529319",
     "status": "completed"
    },
    "tags": []
   },
   "outputs": [],
   "source": [
    "resultados_DummyClassifier = []\n",
    "resultados_NaiveBayes = []\n",
    "resultados_RegressaoLogistica = []\n",
    "resultados_KNN = []\n",
    "resultados_RandomForest = []\n",
    "resultados_MPLC = []\n",
    "resultados_SGDC = []\n",
    "resultados_SupportVector = []"
   ]
  },
  {
   "cell_type": "code",
   "execution_count": 10,
   "id": "e6617ec4-3ff8-4c69-923b-105927b11cfc",
   "metadata": {
    "execution": {
     "iopub.execute_input": "2022-04-13T14:11:14.559508Z",
     "iopub.status.busy": "2022-04-13T14:11:14.559178Z",
     "iopub.status.idle": "2022-04-13T15:38:20.125996Z",
     "shell.execute_reply": "2022-04-13T15:38:20.125501Z"
    },
    "papermill": {
     "duration": 5225.575593,
     "end_time": "2022-04-13T15:38:20.127839",
     "exception": false,
     "start_time": "2022-04-13T14:11:14.552246",
     "status": "completed"
    },
    "tags": []
   },
   "outputs": [],
   "source": [
    "for i in range(30):\n",
    "    kfold = KFold(n_splits=10, shuffle=True, random_state=i)\n",
    "\n",
    "    DummyCl = DummyClassifier(strategy = 'most_frequent')\n",
    "    scores = cross_val_score(DummyCl, X_rotten_oscars, Y_rotten_tomatoes_nominee, cv = kfold)\n",
    "    resultados_DummyClassifier.append(scores.mean())\n",
    "\n",
    "    NaiveBayes= GaussianNB()\n",
    "    scores = cross_val_score(NaiveBayes, X_rotten_oscars, Y_rotten_tomatoes_nominee, cv = kfold)\n",
    "    resultados_NaiveBayes.append(scores.mean())\n",
    "\n",
    "    RegressaoLogistica = LogisticRegression(dual=True, fit_intercept=True, penalty='l2', solver='liblinear')\n",
    "    scores = cross_val_score(RegressaoLogistica, X_rotten_oscars, Y_rotten_tomatoes_nominee, cv = kfold)\n",
    "    resultados_RegressaoLogistica.append(scores.mean())\n",
    "\n",
    "    knn = KNeighborsClassifier(algorithm = 'auto', n_neighbors = 20, p = 1)\n",
    "    scores = cross_val_score(RegressaoLogistica, X_rotten_oscars, Y_rotten_tomatoes_nominee, cv = kfold)\n",
    "    resultados_KNN.append(scores.mean())\n",
    "\n",
    "    RandomForest = RandomForestClassifier(criterion='gini', max_features='sqrt', min_samples_leaf=10, min_samples_split=2, n_estimators=100)\n",
    "    scores = cross_val_score(RandomForest, X_rotten_oscars, Y_rotten_tomatoes_nominee, cv = kfold)\n",
    "    resultados_RandomForest.append(scores.mean())\n",
    "\n",
    "    MPLC = MLPClassifier(hidden_layer_sizes=(10, 4), learning_rate='adaptive', max_iter=1000, solver='lbfgs')\n",
    "    scores = cross_val_score(MPLC, X_rotten_oscars, Y_rotten_tomatoes_nominee, cv = kfold)\n",
    "    resultados_MPLC.append(scores.mean())\n",
    "\n",
    "    SGDC = SGDClassifier(loss = 'log', max_iter = 3000, penalty = 'elasticnet')\n",
    "    scores = cross_val_score(SGDC, X_rotten_oscars, Y_rotten_tomatoes_nominee, cv = kfold)\n",
    "    resultados_SGDC.append(scores.mean())\n",
    "\n",
    "    SV = SVC(kernel = 'linear')\n",
    "    scores = cross_val_score(SV, X_rotten_oscars, Y_rotten_tomatoes_nominee, cv = kfold)\n",
    "    resultados_SupportVector.append(scores.mean())"
   ]
  },
  {
   "cell_type": "code",
   "execution_count": 11,
   "id": "de2a4c98-c63e-4e59-b423-f43e78c75255",
   "metadata": {
    "execution": {
     "iopub.execute_input": "2022-04-13T15:38:20.139129Z",
     "iopub.status.busy": "2022-04-13T15:38:20.138906Z",
     "iopub.status.idle": "2022-04-13T15:38:20.143042Z",
     "shell.execute_reply": "2022-04-13T15:38:20.142488Z"
    },
    "papermill": {
     "duration": 0.011606,
     "end_time": "2022-04-13T15:38:20.144496",
     "exception": false,
     "start_time": "2022-04-13T15:38:20.132890",
     "status": "completed"
    },
    "tags": []
   },
   "outputs": [],
   "source": [
    "resultados = pd.DataFrame({'Dummy Classifier': resultados_DummyClassifier,\n",
    "                          'Naive Bayes Classifier': resultados_NaiveBayes,\n",
    "                          'Regressao Logistica': resultados_RegressaoLogistica,\n",
    "                          'KNN':resultados_KNN,\n",
    "                          'Random Forest': resultados_RandomForest,\n",
    "                          'Multi-layer Perceptron': resultados_MPLC,\n",
    "                          'Stochastic Gradient Descent': resultados_SGDC,\n",
    "                          'Support Vector Classifier': resultados_SupportVector})"
   ]
  },
  {
   "cell_type": "code",
   "execution_count": 12,
   "id": "f064384a-c958-454c-bc61-af2a8f0306b5",
   "metadata": {
    "execution": {
     "iopub.execute_input": "2022-04-13T15:38:20.500945Z",
     "iopub.status.busy": "2022-04-13T15:38:20.500715Z",
     "iopub.status.idle": "2022-04-13T15:38:20.565250Z",
     "shell.execute_reply": "2022-04-13T15:38:20.564728Z"
    },
    "papermill": {
     "duration": 0.417302,
     "end_time": "2022-04-13T15:38:20.566775",
     "exception": false,
     "start_time": "2022-04-13T15:38:20.149473",
     "status": "completed"
    },
    "tags": []
   },
   "outputs": [
    {
     "data": {
      "text/html": [
       "<div>\n",
       "<style scoped>\n",
       "    .dataframe tbody tr th:only-of-type {\n",
       "        vertical-align: middle;\n",
       "    }\n",
       "\n",
       "    .dataframe tbody tr th {\n",
       "        vertical-align: top;\n",
       "    }\n",
       "\n",
       "    .dataframe thead th {\n",
       "        text-align: right;\n",
       "    }\n",
       "</style>\n",
       "<table border=\"1\" class=\"dataframe\">\n",
       "  <thead>\n",
       "    <tr style=\"text-align: right;\">\n",
       "      <th></th>\n",
       "      <th>Dummy Classifier</th>\n",
       "      <th>Naive Bayes Classifier</th>\n",
       "      <th>Regressao Logistica</th>\n",
       "      <th>KNN</th>\n",
       "      <th>Random Forest</th>\n",
       "      <th>Multi-layer Perceptron</th>\n",
       "      <th>Stochastic Gradient Descent</th>\n",
       "      <th>Support Vector Classifier</th>\n",
       "    </tr>\n",
       "  </thead>\n",
       "  <tbody>\n",
       "    <tr>\n",
       "      <th>count</th>\n",
       "      <td>3.000000e+01</td>\n",
       "      <td>30.000000</td>\n",
       "      <td>30.000000</td>\n",
       "      <td>30.000000</td>\n",
       "      <td>30.000000</td>\n",
       "      <td>30.000000</td>\n",
       "      <td>30.000000</td>\n",
       "      <td>3.000000e+01</td>\n",
       "    </tr>\n",
       "    <tr>\n",
       "      <th>mean</th>\n",
       "      <td>9.497251e-01</td>\n",
       "      <td>0.910782</td>\n",
       "      <td>0.949181</td>\n",
       "      <td>0.949181</td>\n",
       "      <td>0.950450</td>\n",
       "      <td>0.949988</td>\n",
       "      <td>0.948536</td>\n",
       "      <td>9.497251e-01</td>\n",
       "    </tr>\n",
       "    <tr>\n",
       "      <th>std</th>\n",
       "      <td>1.596934e-16</td>\n",
       "      <td>0.000227</td>\n",
       "      <td>0.000129</td>\n",
       "      <td>0.000175</td>\n",
       "      <td>0.000246</td>\n",
       "      <td>0.000472</td>\n",
       "      <td>0.000680</td>\n",
       "      <td>1.596934e-16</td>\n",
       "    </tr>\n",
       "    <tr>\n",
       "      <th>min</th>\n",
       "      <td>9.497251e-01</td>\n",
       "      <td>0.910324</td>\n",
       "      <td>0.948931</td>\n",
       "      <td>0.948809</td>\n",
       "      <td>0.949969</td>\n",
       "      <td>0.949114</td>\n",
       "      <td>0.947159</td>\n",
       "      <td>9.497251e-01</td>\n",
       "    </tr>\n",
       "    <tr>\n",
       "      <th>25%</th>\n",
       "      <td>9.497251e-01</td>\n",
       "      <td>0.910629</td>\n",
       "      <td>0.949114</td>\n",
       "      <td>0.949068</td>\n",
       "      <td>0.950244</td>\n",
       "      <td>0.949664</td>\n",
       "      <td>0.948030</td>\n",
       "      <td>9.497251e-01</td>\n",
       "    </tr>\n",
       "    <tr>\n",
       "      <th>50%</th>\n",
       "      <td>9.497251e-01</td>\n",
       "      <td>0.910812</td>\n",
       "      <td>0.949175</td>\n",
       "      <td>0.949175</td>\n",
       "      <td>0.950519</td>\n",
       "      <td>0.950153</td>\n",
       "      <td>0.948595</td>\n",
       "      <td>9.497251e-01</td>\n",
       "    </tr>\n",
       "    <tr>\n",
       "      <th>75%</th>\n",
       "      <td>9.497251e-01</td>\n",
       "      <td>0.910919</td>\n",
       "      <td>0.949236</td>\n",
       "      <td>0.949328</td>\n",
       "      <td>0.950580</td>\n",
       "      <td>0.950275</td>\n",
       "      <td>0.949114</td>\n",
       "      <td>9.497251e-01</td>\n",
       "    </tr>\n",
       "    <tr>\n",
       "      <th>max</th>\n",
       "      <td>9.497251e-01</td>\n",
       "      <td>0.911362</td>\n",
       "      <td>0.949481</td>\n",
       "      <td>0.949542</td>\n",
       "      <td>0.951008</td>\n",
       "      <td>0.950886</td>\n",
       "      <td>0.949725</td>\n",
       "      <td>9.497251e-01</td>\n",
       "    </tr>\n",
       "  </tbody>\n",
       "</table>\n",
       "</div>"
      ],
      "text/plain": [
       "       Dummy Classifier  Naive Bayes Classifier  Regressao Logistica  \\\n",
       "count      3.000000e+01               30.000000            30.000000   \n",
       "mean       9.497251e-01                0.910782             0.949181   \n",
       "std        1.596934e-16                0.000227             0.000129   \n",
       "min        9.497251e-01                0.910324             0.948931   \n",
       "25%        9.497251e-01                0.910629             0.949114   \n",
       "50%        9.497251e-01                0.910812             0.949175   \n",
       "75%        9.497251e-01                0.910919             0.949236   \n",
       "max        9.497251e-01                0.911362             0.949481   \n",
       "\n",
       "             KNN  Random Forest  Multi-layer Perceptron  \\\n",
       "count  30.000000      30.000000               30.000000   \n",
       "mean    0.949181       0.950450                0.949988   \n",
       "std     0.000175       0.000246                0.000472   \n",
       "min     0.948809       0.949969                0.949114   \n",
       "25%     0.949068       0.950244                0.949664   \n",
       "50%     0.949175       0.950519                0.950153   \n",
       "75%     0.949328       0.950580                0.950275   \n",
       "max     0.949542       0.951008                0.950886   \n",
       "\n",
       "       Stochastic Gradient Descent  Support Vector Classifier  \n",
       "count                    30.000000               3.000000e+01  \n",
       "mean                      0.948536               9.497251e-01  \n",
       "std                       0.000680               1.596934e-16  \n",
       "min                       0.947159               9.497251e-01  \n",
       "25%                       0.948030               9.497251e-01  \n",
       "50%                       0.948595               9.497251e-01  \n",
       "75%                       0.949114               9.497251e-01  \n",
       "max                       0.949725               9.497251e-01  "
      ]
     },
     "execution_count": 12,
     "metadata": {},
     "output_type": "execute_result"
    }
   ],
   "source": [
    "resultados.describe()"
   ]
  },
  {
   "cell_type": "code",
   "execution_count": 8,
   "id": "7ed4fbce-e8eb-4f10-ac2c-65f00341df43",
   "metadata": {
    "papermill": {
     "duration": 0.00549,
     "end_time": "2022-04-13T15:38:20.626661",
     "exception": false,
     "start_time": "2022-04-13T15:38:20.621171",
     "status": "completed"
    },
    "tags": []
   },
   "outputs": [
    {
     "data": {
      "text/html": [
       "<div>\n",
       "<style scoped>\n",
       "    .dataframe tbody tr th:only-of-type {\n",
       "        vertical-align: middle;\n",
       "    }\n",
       "\n",
       "    .dataframe tbody tr th {\n",
       "        vertical-align: top;\n",
       "    }\n",
       "\n",
       "    .dataframe thead th {\n",
       "        text-align: right;\n",
       "    }\n",
       "</style>\n",
       "<table border=\"1\" class=\"dataframe\">\n",
       "  <thead>\n",
       "    <tr style=\"text-align: right;\">\n",
       "      <th></th>\n",
       "      <th>Dummy Classifier</th>\n",
       "      <th>Naive Bayes Classifier</th>\n",
       "      <th>Regressao Logistica</th>\n",
       "      <th>KNN</th>\n",
       "      <th>Random Forest</th>\n",
       "      <th>Multi-layer Perceptron</th>\n",
       "      <th>Stochastic Gradient Descent</th>\n",
       "      <th>Support Vector Classifier</th>\n",
       "    </tr>\n",
       "  </thead>\n",
       "  <tbody>\n",
       "    <tr>\n",
       "      <th>count</th>\n",
       "      <td>30.000000</td>\n",
       "      <td>30.000000</td>\n",
       "      <td>30.000000</td>\n",
       "      <td>30.000000</td>\n",
       "      <td>30.000000</td>\n",
       "      <td>30.000000</td>\n",
       "      <td>30.000000</td>\n",
       "      <td>30.000000</td>\n",
       "    </tr>\n",
       "    <tr>\n",
       "      <th>mean</th>\n",
       "      <td>0.949725</td>\n",
       "      <td>0.910782</td>\n",
       "      <td>0.949181</td>\n",
       "      <td>0.949181</td>\n",
       "      <td>0.950450</td>\n",
       "      <td>0.949988</td>\n",
       "      <td>0.948536</td>\n",
       "      <td>0.949725</td>\n",
       "    </tr>\n",
       "    <tr>\n",
       "      <th>std</th>\n",
       "      <td>0.000000</td>\n",
       "      <td>0.000227</td>\n",
       "      <td>0.000129</td>\n",
       "      <td>0.000175</td>\n",
       "      <td>0.000246</td>\n",
       "      <td>0.000472</td>\n",
       "      <td>0.000680</td>\n",
       "      <td>0.000000</td>\n",
       "    </tr>\n",
       "    <tr>\n",
       "      <th>min</th>\n",
       "      <td>0.949725</td>\n",
       "      <td>0.910324</td>\n",
       "      <td>0.948931</td>\n",
       "      <td>0.948809</td>\n",
       "      <td>0.949969</td>\n",
       "      <td>0.949114</td>\n",
       "      <td>0.947159</td>\n",
       "      <td>0.949725</td>\n",
       "    </tr>\n",
       "    <tr>\n",
       "      <th>25%</th>\n",
       "      <td>0.949725</td>\n",
       "      <td>0.910629</td>\n",
       "      <td>0.949114</td>\n",
       "      <td>0.949068</td>\n",
       "      <td>0.950244</td>\n",
       "      <td>0.949664</td>\n",
       "      <td>0.948030</td>\n",
       "      <td>0.949725</td>\n",
       "    </tr>\n",
       "    <tr>\n",
       "      <th>50%</th>\n",
       "      <td>0.949725</td>\n",
       "      <td>0.910812</td>\n",
       "      <td>0.949175</td>\n",
       "      <td>0.949175</td>\n",
       "      <td>0.950519</td>\n",
       "      <td>0.950153</td>\n",
       "      <td>0.948595</td>\n",
       "      <td>0.949725</td>\n",
       "    </tr>\n",
       "    <tr>\n",
       "      <th>75%</th>\n",
       "      <td>0.949725</td>\n",
       "      <td>0.910919</td>\n",
       "      <td>0.949236</td>\n",
       "      <td>0.949328</td>\n",
       "      <td>0.950580</td>\n",
       "      <td>0.950275</td>\n",
       "      <td>0.949114</td>\n",
       "      <td>0.949725</td>\n",
       "    </tr>\n",
       "    <tr>\n",
       "      <th>max</th>\n",
       "      <td>0.949725</td>\n",
       "      <td>0.911362</td>\n",
       "      <td>0.949481</td>\n",
       "      <td>0.949542</td>\n",
       "      <td>0.951008</td>\n",
       "      <td>0.950886</td>\n",
       "      <td>0.949725</td>\n",
       "      <td>0.949725</td>\n",
       "    </tr>\n",
       "  </tbody>\n",
       "</table>\n",
       "</div>"
      ],
      "text/plain": [
       "       Dummy Classifier  Naive Bayes Classifier  Regressao Logistica  \\\n",
       "count         30.000000               30.000000            30.000000   \n",
       "mean           0.949725                0.910782             0.949181   \n",
       "std            0.000000                0.000227             0.000129   \n",
       "min            0.949725                0.910324             0.948931   \n",
       "25%            0.949725                0.910629             0.949114   \n",
       "50%            0.949725                0.910812             0.949175   \n",
       "75%            0.949725                0.910919             0.949236   \n",
       "max            0.949725                0.911362             0.949481   \n",
       "\n",
       "             KNN  Random Forest  Multi-layer Perceptron  \\\n",
       "count  30.000000      30.000000               30.000000   \n",
       "mean    0.949181       0.950450                0.949988   \n",
       "std     0.000175       0.000246                0.000472   \n",
       "min     0.948809       0.949969                0.949114   \n",
       "25%     0.949068       0.950244                0.949664   \n",
       "50%     0.949175       0.950519                0.950153   \n",
       "75%     0.949328       0.950580                0.950275   \n",
       "max     0.949542       0.951008                0.950886   \n",
       "\n",
       "       Stochastic Gradient Descent  Support Vector Classifier  \n",
       "count                    30.000000                  30.000000  \n",
       "mean                      0.948536                   0.949725  \n",
       "std                       0.000680                   0.000000  \n",
       "min                       0.947159                   0.949725  \n",
       "25%                       0.948030                   0.949725  \n",
       "50%                       0.948595                   0.949725  \n",
       "75%                       0.949114                   0.949725  \n",
       "max                       0.949725                   0.949725  "
      ]
     },
     "execution_count": 8,
     "metadata": {},
     "output_type": "execute_result"
    }
   ],
   "source": [
    "resultados.describe().round(8)"
   ]
  }
 ],
 "metadata": {
  "kernelspec": {
   "display_name": "Python 3 (ipykernel)",
   "language": "python",
   "name": "python3"
  },
  "language_info": {
   "codemirror_mode": {
    "name": "ipython",
    "version": 3
   },
   "file_extension": ".py",
   "mimetype": "text/x-python",
   "name": "python",
   "nbconvert_exporter": "python",
   "pygments_lexer": "ipython3",
   "version": "3.9.13"
  },
  "papermill": {
   "default_parameters": {},
   "duration": 5229.902567,
   "end_time": "2022-04-13T15:38:21.161443",
   "environment_variables": {},
   "exception": null,
   "input_path": "29-ML-OscarRotten-Avaliacao-nominee.ipynb",
   "output_path": "29-ML-OscarRotten-Avaliacao-nominee-Result.ipynb",
   "parameters": {},
   "start_time": "2022-04-13T14:11:11.258876",
   "version": "2.3.4"
  }
 },
 "nbformat": 4,
 "nbformat_minor": 5
}
